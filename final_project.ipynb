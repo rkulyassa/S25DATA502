{
 "cells": [
  {
   "cell_type": "code",
   "execution_count": 382,
   "id": "cf814bb0",
   "metadata": {},
   "outputs": [
    {
     "name": "stderr",
     "output_type": "stream",
     "text": [
      "/var/folders/tf/fjr15z694p74r16n20sdq3l80000gn/T/ipykernel_8279/3171205340.py:7: DtypeWarning:\n",
      "\n",
      "Columns (6) have mixed types. Specify dtype option on import or set low_memory=False.\n",
      "\n"
     ]
    },
    {
     "data": {
      "text/html": [
       "<div>\n",
       "<style scoped>\n",
       "    .dataframe tbody tr th:only-of-type {\n",
       "        vertical-align: middle;\n",
       "    }\n",
       "\n",
       "    .dataframe tbody tr th {\n",
       "        vertical-align: top;\n",
       "    }\n",
       "\n",
       "    .dataframe thead th {\n",
       "        text-align: right;\n",
       "    }\n",
       "</style>\n",
       "<table border=\"1\" class=\"dataframe\">\n",
       "  <thead>\n",
       "    <tr style=\"text-align: right;\">\n",
       "      <th></th>\n",
       "      <th>Unnamed: 0</th>\n",
       "      <th>ride_id</th>\n",
       "      <th>rideable_type</th>\n",
       "      <th>started_at</th>\n",
       "      <th>ended_at</th>\n",
       "      <th>start_station_name</th>\n",
       "      <th>start_station_id</th>\n",
       "      <th>end_station_name</th>\n",
       "      <th>end_station_id</th>\n",
       "      <th>start_lat</th>\n",
       "      <th>start_lng</th>\n",
       "      <th>end_lat</th>\n",
       "      <th>end_lng</th>\n",
       "      <th>member_casual</th>\n",
       "    </tr>\n",
       "  </thead>\n",
       "  <tbody>\n",
       "    <tr>\n",
       "      <th>0</th>\n",
       "      <td>12536574</td>\n",
       "      <td>6A1558E5EB8E9B3B</td>\n",
       "      <td>classic_bike</td>\n",
       "      <td>2023-06-25 06:44:47</td>\n",
       "      <td>2023-06-25 07:02:43</td>\n",
       "      <td>Walton Ave &amp; E 168 St</td>\n",
       "      <td>8179.03</td>\n",
       "      <td>Icahn Stadium</td>\n",
       "      <td>7514.01</td>\n",
       "      <td>40.836655</td>\n",
       "      <td>-73.918324</td>\n",
       "      <td>40.793460</td>\n",
       "      <td>-73.923890</td>\n",
       "      <td>member</td>\n",
       "    </tr>\n",
       "    <tr>\n",
       "      <th>1</th>\n",
       "      <td>20766033</td>\n",
       "      <td>F5DAABF8EAD39B32</td>\n",
       "      <td>classic_bike</td>\n",
       "      <td>2023-08-15 18:05:37</td>\n",
       "      <td>2023-08-15 18:12:06</td>\n",
       "      <td>Grand Army Plaza &amp; Central Park S</td>\n",
       "      <td>6839.10</td>\n",
       "      <td>2 Ave &amp; E 72 St</td>\n",
       "      <td>6925.09</td>\n",
       "      <td>40.764004</td>\n",
       "      <td>-73.973974</td>\n",
       "      <td>40.768762</td>\n",
       "      <td>-73.958408</td>\n",
       "      <td>member</td>\n",
       "    </tr>\n",
       "    <tr>\n",
       "      <th>2</th>\n",
       "      <td>17246346</td>\n",
       "      <td>CC4D3C1C193EBCDD</td>\n",
       "      <td>classic_bike</td>\n",
       "      <td>2023-07-05 15:00:28</td>\n",
       "      <td>2023-07-05 15:06:34</td>\n",
       "      <td>Knickerbocker Ave &amp; Thames St</td>\n",
       "      <td>5018.06</td>\n",
       "      <td>Melrose St &amp; Broadway</td>\n",
       "      <td>4801.04</td>\n",
       "      <td>40.705446</td>\n",
       "      <td>-73.929975</td>\n",
       "      <td>40.697481</td>\n",
       "      <td>-73.935877</td>\n",
       "      <td>casual</td>\n",
       "    </tr>\n",
       "    <tr>\n",
       "      <th>3</th>\n",
       "      <td>3860641</td>\n",
       "      <td>541D7A53817AF238</td>\n",
       "      <td>classic_bike</td>\n",
       "      <td>2023-03-05 11:29:02</td>\n",
       "      <td>2023-03-05 11:36:36</td>\n",
       "      <td>DeKalb Ave &amp; Vanderbilt Ave</td>\n",
       "      <td>4461.04</td>\n",
       "      <td>Pacific St &amp; Classon Ave</td>\n",
       "      <td>4148.07</td>\n",
       "      <td>40.689425</td>\n",
       "      <td>-73.968898</td>\n",
       "      <td>40.679194</td>\n",
       "      <td>-73.958790</td>\n",
       "      <td>member</td>\n",
       "    </tr>\n",
       "    <tr>\n",
       "      <th>4</th>\n",
       "      <td>27285265</td>\n",
       "      <td>EACA2B802BFED979</td>\n",
       "      <td>classic_bike</td>\n",
       "      <td>2023-10-17 15:02:23</td>\n",
       "      <td>2023-10-17 15:06:40</td>\n",
       "      <td>Liberty St &amp; Broadway</td>\n",
       "      <td>5105.01</td>\n",
       "      <td>West Thames St</td>\n",
       "      <td>5114.06</td>\n",
       "      <td>40.708164</td>\n",
       "      <td>-74.010369</td>\n",
       "      <td>40.708347</td>\n",
       "      <td>-74.017134</td>\n",
       "      <td>member</td>\n",
       "    </tr>\n",
       "  </tbody>\n",
       "</table>\n",
       "</div>"
      ],
      "text/plain": [
       "   Unnamed: 0           ride_id rideable_type          started_at  \\\n",
       "0    12536574  6A1558E5EB8E9B3B  classic_bike 2023-06-25 06:44:47   \n",
       "1    20766033  F5DAABF8EAD39B32  classic_bike 2023-08-15 18:05:37   \n",
       "2    17246346  CC4D3C1C193EBCDD  classic_bike 2023-07-05 15:00:28   \n",
       "3     3860641  541D7A53817AF238  classic_bike 2023-03-05 11:29:02   \n",
       "4    27285265  EACA2B802BFED979  classic_bike 2023-10-17 15:02:23   \n",
       "\n",
       "             ended_at                 start_station_name start_station_id  \\\n",
       "0 2023-06-25 07:02:43              Walton Ave & E 168 St          8179.03   \n",
       "1 2023-08-15 18:12:06  Grand Army Plaza & Central Park S          6839.10   \n",
       "2 2023-07-05 15:06:34      Knickerbocker Ave & Thames St          5018.06   \n",
       "3 2023-03-05 11:36:36        DeKalb Ave & Vanderbilt Ave          4461.04   \n",
       "4 2023-10-17 15:06:40              Liberty St & Broadway          5105.01   \n",
       "\n",
       "           end_station_name end_station_id  start_lat  start_lng    end_lat  \\\n",
       "0             Icahn Stadium        7514.01  40.836655 -73.918324  40.793460   \n",
       "1           2 Ave & E 72 St        6925.09  40.764004 -73.973974  40.768762   \n",
       "2     Melrose St & Broadway        4801.04  40.705446 -73.929975  40.697481   \n",
       "3  Pacific St & Classon Ave        4148.07  40.689425 -73.968898  40.679194   \n",
       "4            West Thames St        5114.06  40.708164 -74.010369  40.708347   \n",
       "\n",
       "     end_lng member_casual  \n",
       "0 -73.923890        member  \n",
       "1 -73.958408        member  \n",
       "2 -73.935877        casual  \n",
       "3 -73.958790        member  \n",
       "4 -74.017134        member  "
      ]
     },
     "metadata": {},
     "output_type": "display_data"
    },
    {
     "data": {
      "text/plain": [
       "Unnamed: 0                     int64\n",
       "ride_id                       object\n",
       "rideable_type                 object\n",
       "started_at            datetime64[ns]\n",
       "ended_at              datetime64[ns]\n",
       "start_station_name            object\n",
       "start_station_id              object\n",
       "end_station_name              object\n",
       "end_station_id                object\n",
       "start_lat                    float64\n",
       "start_lng                    float64\n",
       "end_lat                      float64\n",
       "end_lng                      float64\n",
       "member_casual                 object\n",
       "dtype: object"
      ]
     },
     "metadata": {},
     "output_type": "display_data"
    }
   ],
   "source": [
    "import pandas as pd\n",
    "import plotly.express as px\n",
    "from great_tables import (\n",
    "    GT, md, google_font, style, loc\n",
    ")\n",
    "\n",
    "df = pd.read_csv(\n",
    "    'data/sample_citibike_2023.csv',\n",
    "    parse_dates=[\"started_at\", \"ended_at\"]\n",
    ")\n",
    "\n",
    "display(df.head())\n",
    "display(df.dtypes)\n",
    "\n",
    "\n",
    "# Remove docked bike entries\n",
    "df = df[df[\"rideable_type\"] != \"docked_bike\"]\n",
    "\n",
    "# Format membership status values\n",
    "df[\"member_casual\"] = df[\"member_casual\"].replace({\n",
    "    \"member\": \"Member\",\n",
    "    \"casual\": \"Casual\"\n",
    "})\n",
    "\n",
    "# Format bike type values\n",
    "df[\"rideable_type\"] = df[\"rideable_type\"].replace({\n",
    "    \"classic_bike\": \"Classic Bike\",\n",
    "    \"electric_bike\": \"Electric Bike\"\n",
    "})"
   ]
  },
  {
   "cell_type": "code",
   "execution_count": 383,
   "id": "698ba21b",
   "metadata": {},
   "outputs": [
    {
     "data": {
      "text/plain": [
       "rideable_type\n",
       "Classic Bike     897184\n",
       "Electric Bike    100879\n",
       "Name: count, dtype: int64"
      ]
     },
     "execution_count": 383,
     "metadata": {},
     "output_type": "execute_result"
    }
   ],
   "source": [
    "df[\"rideable_type\"].value_counts()"
   ]
  },
  {
   "cell_type": "code",
   "execution_count": 384,
   "id": "4475eec1",
   "metadata": {},
   "outputs": [
    {
     "data": {
      "text/html": [
       "<div>\n",
       "<style scoped>\n",
       "    .dataframe tbody tr th:only-of-type {\n",
       "        vertical-align: middle;\n",
       "    }\n",
       "\n",
       "    .dataframe tbody tr th {\n",
       "        vertical-align: top;\n",
       "    }\n",
       "\n",
       "    .dataframe thead th {\n",
       "        text-align: right;\n",
       "    }\n",
       "</style>\n",
       "<table border=\"1\" class=\"dataframe\">\n",
       "  <thead>\n",
       "    <tr style=\"text-align: right;\">\n",
       "      <th></th>\n",
       "      <th>month_num</th>\n",
       "      <th>Month</th>\n",
       "      <th>Membership Status</th>\n",
       "      <th>Ride Count</th>\n",
       "    </tr>\n",
       "  </thead>\n",
       "  <tbody>\n",
       "    <tr>\n",
       "      <th>0</th>\n",
       "      <td>1</td>\n",
       "      <td>Jan</td>\n",
       "      <td>Casual</td>\n",
       "      <td>6576</td>\n",
       "    </tr>\n",
       "    <tr>\n",
       "      <th>1</th>\n",
       "      <td>1</td>\n",
       "      <td>Jan</td>\n",
       "      <td>Member</td>\n",
       "      <td>44459</td>\n",
       "    </tr>\n",
       "    <tr>\n",
       "      <th>2</th>\n",
       "      <td>2</td>\n",
       "      <td>Feb</td>\n",
       "      <td>Casual</td>\n",
       "      <td>5557</td>\n",
       "    </tr>\n",
       "    <tr>\n",
       "      <th>3</th>\n",
       "      <td>2</td>\n",
       "      <td>Feb</td>\n",
       "      <td>Member</td>\n",
       "      <td>42537</td>\n",
       "    </tr>\n",
       "    <tr>\n",
       "      <th>4</th>\n",
       "      <td>3</td>\n",
       "      <td>Mar</td>\n",
       "      <td>Casual</td>\n",
       "      <td>7878</td>\n",
       "    </tr>\n",
       "    <tr>\n",
       "      <th>5</th>\n",
       "      <td>3</td>\n",
       "      <td>Mar</td>\n",
       "      <td>Member</td>\n",
       "      <td>52685</td>\n",
       "    </tr>\n",
       "    <tr>\n",
       "      <th>6</th>\n",
       "      <td>4</td>\n",
       "      <td>Apr</td>\n",
       "      <td>Casual</td>\n",
       "      <td>14269</td>\n",
       "    </tr>\n",
       "    <tr>\n",
       "      <th>7</th>\n",
       "      <td>4</td>\n",
       "      <td>Apr</td>\n",
       "      <td>Member</td>\n",
       "      <td>64116</td>\n",
       "    </tr>\n",
       "    <tr>\n",
       "      <th>8</th>\n",
       "      <td>5</td>\n",
       "      <td>May</td>\n",
       "      <td>Casual</td>\n",
       "      <td>18592</td>\n",
       "    </tr>\n",
       "    <tr>\n",
       "      <th>9</th>\n",
       "      <td>5</td>\n",
       "      <td>May</td>\n",
       "      <td>Member</td>\n",
       "      <td>79845</td>\n",
       "    </tr>\n",
       "    <tr>\n",
       "      <th>10</th>\n",
       "      <td>6</td>\n",
       "      <td>Jun</td>\n",
       "      <td>Casual</td>\n",
       "      <td>19167</td>\n",
       "    </tr>\n",
       "    <tr>\n",
       "      <th>11</th>\n",
       "      <td>6</td>\n",
       "      <td>Jun</td>\n",
       "      <td>Member</td>\n",
       "      <td>78767</td>\n",
       "    </tr>\n",
       "    <tr>\n",
       "      <th>12</th>\n",
       "      <td>7</td>\n",
       "      <td>Jul</td>\n",
       "      <td>Casual</td>\n",
       "      <td>23463</td>\n",
       "    </tr>\n",
       "    <tr>\n",
       "      <th>13</th>\n",
       "      <td>7</td>\n",
       "      <td>Jul</td>\n",
       "      <td>Member</td>\n",
       "      <td>80486</td>\n",
       "    </tr>\n",
       "    <tr>\n",
       "      <th>14</th>\n",
       "      <td>8</td>\n",
       "      <td>Aug</td>\n",
       "      <td>Casual</td>\n",
       "      <td>25161</td>\n",
       "    </tr>\n",
       "    <tr>\n",
       "      <th>15</th>\n",
       "      <td>8</td>\n",
       "      <td>Aug</td>\n",
       "      <td>Member</td>\n",
       "      <td>88020</td>\n",
       "    </tr>\n",
       "    <tr>\n",
       "      <th>16</th>\n",
       "      <td>9</td>\n",
       "      <td>Sep</td>\n",
       "      <td>Casual</td>\n",
       "      <td>20369</td>\n",
       "    </tr>\n",
       "    <tr>\n",
       "      <th>17</th>\n",
       "      <td>9</td>\n",
       "      <td>Sep</td>\n",
       "      <td>Member</td>\n",
       "      <td>78132</td>\n",
       "    </tr>\n",
       "    <tr>\n",
       "      <th>18</th>\n",
       "      <td>10</td>\n",
       "      <td>Oct</td>\n",
       "      <td>Casual</td>\n",
       "      <td>19968</td>\n",
       "    </tr>\n",
       "    <tr>\n",
       "      <th>19</th>\n",
       "      <td>10</td>\n",
       "      <td>Oct</td>\n",
       "      <td>Member</td>\n",
       "      <td>85375</td>\n",
       "    </tr>\n",
       "    <tr>\n",
       "      <th>20</th>\n",
       "      <td>11</td>\n",
       "      <td>Nov</td>\n",
       "      <td>Casual</td>\n",
       "      <td>13035</td>\n",
       "    </tr>\n",
       "    <tr>\n",
       "      <th>21</th>\n",
       "      <td>11</td>\n",
       "      <td>Nov</td>\n",
       "      <td>Member</td>\n",
       "      <td>66768</td>\n",
       "    </tr>\n",
       "    <tr>\n",
       "      <th>22</th>\n",
       "      <td>12</td>\n",
       "      <td>Dec</td>\n",
       "      <td>Casual</td>\n",
       "      <td>9456</td>\n",
       "    </tr>\n",
       "    <tr>\n",
       "      <th>23</th>\n",
       "      <td>12</td>\n",
       "      <td>Dec</td>\n",
       "      <td>Member</td>\n",
       "      <td>53382</td>\n",
       "    </tr>\n",
       "  </tbody>\n",
       "</table>\n",
       "</div>"
      ],
      "text/plain": [
       "    month_num Month Membership Status  Ride Count\n",
       "0           1   Jan            Casual        6576\n",
       "1           1   Jan            Member       44459\n",
       "2           2   Feb            Casual        5557\n",
       "3           2   Feb            Member       42537\n",
       "4           3   Mar            Casual        7878\n",
       "5           3   Mar            Member       52685\n",
       "6           4   Apr            Casual       14269\n",
       "7           4   Apr            Member       64116\n",
       "8           5   May            Casual       18592\n",
       "9           5   May            Member       79845\n",
       "10          6   Jun            Casual       19167\n",
       "11          6   Jun            Member       78767\n",
       "12          7   Jul            Casual       23463\n",
       "13          7   Jul            Member       80486\n",
       "14          8   Aug            Casual       25161\n",
       "15          8   Aug            Member       88020\n",
       "16          9   Sep            Casual       20369\n",
       "17          9   Sep            Member       78132\n",
       "18         10   Oct            Casual       19968\n",
       "19         10   Oct            Member       85375\n",
       "20         11   Nov            Casual       13035\n",
       "21         11   Nov            Member       66768\n",
       "22         12   Dec            Casual        9456\n",
       "23         12   Dec            Member       53382"
      ]
     },
     "execution_count": 384,
     "metadata": {},
     "output_type": "execute_result"
    }
   ],
   "source": [
    "df[\"month_num\"] = df[\"started_at\"].dt.month\n",
    "df[\"Month\"] = df[\"started_at\"].dt.strftime(\"%b\")\n",
    "\n",
    "df_monthly_counts = (\n",
    "    df.\n",
    "    groupby([\"month_num\", \"Month\", \"member_casual\"])\n",
    "    .agg(\n",
    "        ride_count=(\"ride_id\", \"count\")\n",
    "    )\n",
    "    .reset_index()\n",
    "    .rename(\n",
    "        columns={\n",
    "            \"ride_count\": \"Ride Count\",\n",
    "            \"member_casual\": \"Membership Status\"\n",
    "        }\n",
    "    )\n",
    ")\n",
    "df_monthly_counts"
   ]
  },
  {
   "cell_type": "code",
   "execution_count": null,
   "id": "14df72ef",
   "metadata": {},
   "outputs": [
    {
     "data": {
      "application/vnd.plotly.v1+json": {
       "config": {
        "plotlyServerURL": "https://plot.ly"
       },
       "data": [
        {
         "hovertemplate": "Membership Status=Casual<br>Month=%{x}<br>Ride Count=%{y}<extra></extra>",
         "legendgroup": "Casual",
         "line": {
          "color": "#d4d4d4",
          "dash": "solid",
          "width": 4
         },
         "marker": {
          "size": 8,
          "symbol": "circle"
         },
         "mode": "lines+markers",
         "name": "Casual",
         "orientation": "v",
         "showlegend": true,
         "type": "scatter",
         "x": [
          "Jan",
          "Feb",
          "Mar",
          "Apr",
          "May",
          "Jun",
          "Jul",
          "Aug",
          "Sep",
          "Oct",
          "Nov",
          "Dec"
         ],
         "xaxis": "x",
         "y": {
          "bdata": "sBm1FcYevTegSN9Kp1tJYpFPAE7rMvAk",
          "dtype": "i2"
         },
         "yaxis": "y"
        },
        {
         "hovertemplate": "Membership Status=Member<br>Month=%{x}<br>Ride Count=%{y}<extra></extra>",
         "legendgroup": "Member",
         "line": {
          "color": "#0072ce",
          "dash": "solid",
          "width": 4
         },
         "marker": {
          "size": 8,
          "symbol": "circle"
         },
         "mode": "lines+markers",
         "name": "Member",
         "orientation": "v",
         "showlegend": true,
         "type": "scatter",
         "x": [
          "Jan",
          "Feb",
          "Mar",
          "Apr",
          "May",
          "Jun",
          "Jul",
          "Aug",
          "Sep",
          "Oct",
          "Nov",
          "Dec"
         ],
         "xaxis": "x",
         "y": {
          "bdata": "q60AACmmAADNzQAAdPoAAOU3AQCvMwEAZjoBANRXAQA0MQEAf00BANAEAQCG0AAA",
          "dtype": "i4"
         },
         "yaxis": "y"
        }
       ],
       "layout": {
        "font": {
         "color": "#0a0a0a",
         "family": "Sora",
         "size": 12
        },
        "height": 500,
        "legend": {
         "title": {
          "text": "Membership Status"
         },
         "tracegroupgap": 0
        },
        "margin": {
         "t": 200
        },
        "template": {
         "data": {
          "bar": [
           {
            "error_x": {
             "color": "#2a3f5f"
            },
            "error_y": {
             "color": "#2a3f5f"
            },
            "marker": {
             "line": {
              "color": "white",
              "width": 0.5
             },
             "pattern": {
              "fillmode": "overlay",
              "size": 10,
              "solidity": 0.2
             }
            },
            "type": "bar"
           }
          ],
          "barpolar": [
           {
            "marker": {
             "line": {
              "color": "white",
              "width": 0.5
             },
             "pattern": {
              "fillmode": "overlay",
              "size": 10,
              "solidity": 0.2
             }
            },
            "type": "barpolar"
           }
          ],
          "carpet": [
           {
            "aaxis": {
             "endlinecolor": "#2a3f5f",
             "gridcolor": "#C8D4E3",
             "linecolor": "#C8D4E3",
             "minorgridcolor": "#C8D4E3",
             "startlinecolor": "#2a3f5f"
            },
            "baxis": {
             "endlinecolor": "#2a3f5f",
             "gridcolor": "#C8D4E3",
             "linecolor": "#C8D4E3",
             "minorgridcolor": "#C8D4E3",
             "startlinecolor": "#2a3f5f"
            },
            "type": "carpet"
           }
          ],
          "choropleth": [
           {
            "colorbar": {
             "outlinewidth": 0,
             "ticks": ""
            },
            "type": "choropleth"
           }
          ],
          "contour": [
           {
            "colorbar": {
             "outlinewidth": 0,
             "ticks": ""
            },
            "colorscale": [
             [
              0,
              "#0d0887"
             ],
             [
              0.1111111111111111,
              "#46039f"
             ],
             [
              0.2222222222222222,
              "#7201a8"
             ],
             [
              0.3333333333333333,
              "#9c179e"
             ],
             [
              0.4444444444444444,
              "#bd3786"
             ],
             [
              0.5555555555555556,
              "#d8576b"
             ],
             [
              0.6666666666666666,
              "#ed7953"
             ],
             [
              0.7777777777777778,
              "#fb9f3a"
             ],
             [
              0.8888888888888888,
              "#fdca26"
             ],
             [
              1,
              "#f0f921"
             ]
            ],
            "type": "contour"
           }
          ],
          "contourcarpet": [
           {
            "colorbar": {
             "outlinewidth": 0,
             "ticks": ""
            },
            "type": "contourcarpet"
           }
          ],
          "heatmap": [
           {
            "colorbar": {
             "outlinewidth": 0,
             "ticks": ""
            },
            "colorscale": [
             [
              0,
              "#0d0887"
             ],
             [
              0.1111111111111111,
              "#46039f"
             ],
             [
              0.2222222222222222,
              "#7201a8"
             ],
             [
              0.3333333333333333,
              "#9c179e"
             ],
             [
              0.4444444444444444,
              "#bd3786"
             ],
             [
              0.5555555555555556,
              "#d8576b"
             ],
             [
              0.6666666666666666,
              "#ed7953"
             ],
             [
              0.7777777777777778,
              "#fb9f3a"
             ],
             [
              0.8888888888888888,
              "#fdca26"
             ],
             [
              1,
              "#f0f921"
             ]
            ],
            "type": "heatmap"
           }
          ],
          "histogram": [
           {
            "marker": {
             "pattern": {
              "fillmode": "overlay",
              "size": 10,
              "solidity": 0.2
             }
            },
            "type": "histogram"
           }
          ],
          "histogram2d": [
           {
            "colorbar": {
             "outlinewidth": 0,
             "ticks": ""
            },
            "colorscale": [
             [
              0,
              "#0d0887"
             ],
             [
              0.1111111111111111,
              "#46039f"
             ],
             [
              0.2222222222222222,
              "#7201a8"
             ],
             [
              0.3333333333333333,
              "#9c179e"
             ],
             [
              0.4444444444444444,
              "#bd3786"
             ],
             [
              0.5555555555555556,
              "#d8576b"
             ],
             [
              0.6666666666666666,
              "#ed7953"
             ],
             [
              0.7777777777777778,
              "#fb9f3a"
             ],
             [
              0.8888888888888888,
              "#fdca26"
             ],
             [
              1,
              "#f0f921"
             ]
            ],
            "type": "histogram2d"
           }
          ],
          "histogram2dcontour": [
           {
            "colorbar": {
             "outlinewidth": 0,
             "ticks": ""
            },
            "colorscale": [
             [
              0,
              "#0d0887"
             ],
             [
              0.1111111111111111,
              "#46039f"
             ],
             [
              0.2222222222222222,
              "#7201a8"
             ],
             [
              0.3333333333333333,
              "#9c179e"
             ],
             [
              0.4444444444444444,
              "#bd3786"
             ],
             [
              0.5555555555555556,
              "#d8576b"
             ],
             [
              0.6666666666666666,
              "#ed7953"
             ],
             [
              0.7777777777777778,
              "#fb9f3a"
             ],
             [
              0.8888888888888888,
              "#fdca26"
             ],
             [
              1,
              "#f0f921"
             ]
            ],
            "type": "histogram2dcontour"
           }
          ],
          "mesh3d": [
           {
            "colorbar": {
             "outlinewidth": 0,
             "ticks": ""
            },
            "type": "mesh3d"
           }
          ],
          "parcoords": [
           {
            "line": {
             "colorbar": {
              "outlinewidth": 0,
              "ticks": ""
             }
            },
            "type": "parcoords"
           }
          ],
          "pie": [
           {
            "automargin": true,
            "type": "pie"
           }
          ],
          "scatter": [
           {
            "fillpattern": {
             "fillmode": "overlay",
             "size": 10,
             "solidity": 0.2
            },
            "type": "scatter"
           }
          ],
          "scatter3d": [
           {
            "line": {
             "colorbar": {
              "outlinewidth": 0,
              "ticks": ""
             }
            },
            "marker": {
             "colorbar": {
              "outlinewidth": 0,
              "ticks": ""
             }
            },
            "type": "scatter3d"
           }
          ],
          "scattercarpet": [
           {
            "marker": {
             "colorbar": {
              "outlinewidth": 0,
              "ticks": ""
             }
            },
            "type": "scattercarpet"
           }
          ],
          "scattergeo": [
           {
            "marker": {
             "colorbar": {
              "outlinewidth": 0,
              "ticks": ""
             }
            },
            "type": "scattergeo"
           }
          ],
          "scattergl": [
           {
            "marker": {
             "colorbar": {
              "outlinewidth": 0,
              "ticks": ""
             }
            },
            "type": "scattergl"
           }
          ],
          "scattermap": [
           {
            "marker": {
             "colorbar": {
              "outlinewidth": 0,
              "ticks": ""
             }
            },
            "type": "scattermap"
           }
          ],
          "scattermapbox": [
           {
            "marker": {
             "colorbar": {
              "outlinewidth": 0,
              "ticks": ""
             }
            },
            "type": "scattermapbox"
           }
          ],
          "scatterpolar": [
           {
            "marker": {
             "colorbar": {
              "outlinewidth": 0,
              "ticks": ""
             }
            },
            "type": "scatterpolar"
           }
          ],
          "scatterpolargl": [
           {
            "marker": {
             "colorbar": {
              "outlinewidth": 0,
              "ticks": ""
             }
            },
            "type": "scatterpolargl"
           }
          ],
          "scatterternary": [
           {
            "marker": {
             "colorbar": {
              "outlinewidth": 0,
              "ticks": ""
             }
            },
            "type": "scatterternary"
           }
          ],
          "surface": [
           {
            "colorbar": {
             "outlinewidth": 0,
             "ticks": ""
            },
            "colorscale": [
             [
              0,
              "#0d0887"
             ],
             [
              0.1111111111111111,
              "#46039f"
             ],
             [
              0.2222222222222222,
              "#7201a8"
             ],
             [
              0.3333333333333333,
              "#9c179e"
             ],
             [
              0.4444444444444444,
              "#bd3786"
             ],
             [
              0.5555555555555556,
              "#d8576b"
             ],
             [
              0.6666666666666666,
              "#ed7953"
             ],
             [
              0.7777777777777778,
              "#fb9f3a"
             ],
             [
              0.8888888888888888,
              "#fdca26"
             ],
             [
              1,
              "#f0f921"
             ]
            ],
            "type": "surface"
           }
          ],
          "table": [
           {
            "cells": {
             "fill": {
              "color": "#EBF0F8"
             },
             "line": {
              "color": "white"
             }
            },
            "header": {
             "fill": {
              "color": "#C8D4E3"
             },
             "line": {
              "color": "white"
             }
            },
            "type": "table"
           }
          ]
         },
         "layout": {
          "annotationdefaults": {
           "arrowcolor": "#2a3f5f",
           "arrowhead": 0,
           "arrowwidth": 1
          },
          "autotypenumbers": "strict",
          "coloraxis": {
           "colorbar": {
            "outlinewidth": 0,
            "ticks": ""
           }
          },
          "colorscale": {
           "diverging": [
            [
             0,
             "#8e0152"
            ],
            [
             0.1,
             "#c51b7d"
            ],
            [
             0.2,
             "#de77ae"
            ],
            [
             0.3,
             "#f1b6da"
            ],
            [
             0.4,
             "#fde0ef"
            ],
            [
             0.5,
             "#f7f7f7"
            ],
            [
             0.6,
             "#e6f5d0"
            ],
            [
             0.7,
             "#b8e186"
            ],
            [
             0.8,
             "#7fbc41"
            ],
            [
             0.9,
             "#4d9221"
            ],
            [
             1,
             "#276419"
            ]
           ],
           "sequential": [
            [
             0,
             "#0d0887"
            ],
            [
             0.1111111111111111,
             "#46039f"
            ],
            [
             0.2222222222222222,
             "#7201a8"
            ],
            [
             0.3333333333333333,
             "#9c179e"
            ],
            [
             0.4444444444444444,
             "#bd3786"
            ],
            [
             0.5555555555555556,
             "#d8576b"
            ],
            [
             0.6666666666666666,
             "#ed7953"
            ],
            [
             0.7777777777777778,
             "#fb9f3a"
            ],
            [
             0.8888888888888888,
             "#fdca26"
            ],
            [
             1,
             "#f0f921"
            ]
           ],
           "sequentialminus": [
            [
             0,
             "#0d0887"
            ],
            [
             0.1111111111111111,
             "#46039f"
            ],
            [
             0.2222222222222222,
             "#7201a8"
            ],
            [
             0.3333333333333333,
             "#9c179e"
            ],
            [
             0.4444444444444444,
             "#bd3786"
            ],
            [
             0.5555555555555556,
             "#d8576b"
            ],
            [
             0.6666666666666666,
             "#ed7953"
            ],
            [
             0.7777777777777778,
             "#fb9f3a"
            ],
            [
             0.8888888888888888,
             "#fdca26"
            ],
            [
             1,
             "#f0f921"
            ]
           ]
          },
          "colorway": [
           "#636efa",
           "#EF553B",
           "#00cc96",
           "#ab63fa",
           "#FFA15A",
           "#19d3f3",
           "#FF6692",
           "#B6E880",
           "#FF97FF",
           "#FECB52"
          ],
          "font": {
           "color": "#2a3f5f"
          },
          "geo": {
           "bgcolor": "white",
           "lakecolor": "white",
           "landcolor": "white",
           "showlakes": true,
           "showland": true,
           "subunitcolor": "#C8D4E3"
          },
          "hoverlabel": {
           "align": "left"
          },
          "hovermode": "closest",
          "mapbox": {
           "style": "light"
          },
          "paper_bgcolor": "white",
          "plot_bgcolor": "white",
          "polar": {
           "angularaxis": {
            "gridcolor": "#EBF0F8",
            "linecolor": "#EBF0F8",
            "ticks": ""
           },
           "bgcolor": "white",
           "radialaxis": {
            "gridcolor": "#EBF0F8",
            "linecolor": "#EBF0F8",
            "ticks": ""
           }
          },
          "scene": {
           "xaxis": {
            "backgroundcolor": "white",
            "gridcolor": "#DFE8F3",
            "gridwidth": 2,
            "linecolor": "#EBF0F8",
            "showbackground": true,
            "ticks": "",
            "zerolinecolor": "#EBF0F8"
           },
           "yaxis": {
            "backgroundcolor": "white",
            "gridcolor": "#DFE8F3",
            "gridwidth": 2,
            "linecolor": "#EBF0F8",
            "showbackground": true,
            "ticks": "",
            "zerolinecolor": "#EBF0F8"
           },
           "zaxis": {
            "backgroundcolor": "white",
            "gridcolor": "#DFE8F3",
            "gridwidth": 2,
            "linecolor": "#EBF0F8",
            "showbackground": true,
            "ticks": "",
            "zerolinecolor": "#EBF0F8"
           }
          },
          "shapedefaults": {
           "line": {
            "color": "#2a3f5f"
           }
          },
          "ternary": {
           "aaxis": {
            "gridcolor": "#DFE8F3",
            "linecolor": "#A2B1C6",
            "ticks": ""
           },
           "baxis": {
            "gridcolor": "#DFE8F3",
            "linecolor": "#A2B1C6",
            "ticks": ""
           },
           "bgcolor": "white",
           "caxis": {
            "gridcolor": "#DFE8F3",
            "linecolor": "#A2B1C6",
            "ticks": ""
           }
          },
          "title": {
           "x": 0.05
          },
          "xaxis": {
           "automargin": true,
           "gridcolor": "#EBF0F8",
           "linecolor": "#EBF0F8",
           "ticks": "",
           "title": {
            "standoff": 15
           },
           "zerolinecolor": "#EBF0F8",
           "zerolinewidth": 2
          },
          "yaxis": {
           "automargin": true,
           "gridcolor": "#EBF0F8",
           "linecolor": "#EBF0F8",
           "ticks": "",
           "title": {
            "standoff": 15
           },
           "zerolinecolor": "#EBF0F8",
           "zerolinewidth": 2
          }
         }
        },
        "title": {
         "font": {
          "family": "Lora",
          "size": 24
         },
         "subtitle": {
          "text": "Monthly ride counts peaked at 113K in August, with Members consistently<br>riding more than Casual users due to routine commuting."
         },
         "text": "<b><span style='color:#0072ce;'>Citi Bike</span> usage throughout 2023</b>"
        },
        "width": 700,
        "xaxis": {
         "anchor": "y",
         "domain": [
          0,
          1
         ],
         "title": {
          "text": "Month"
         }
        },
        "yaxis": {
         "anchor": "x",
         "domain": [
          0,
          1
         ],
         "title": {
          "text": "Ride Count"
         }
        }
       }
      }
     },
     "metadata": {},
     "output_type": "display_data"
    }
   ],
   "source": [
    "fig = px.line(\n",
    "    df_monthly_counts,\n",
    "    x=\"Month\",\n",
    "    y=\"Ride Count\",\n",
    "    template=\"plotly_white\",\n",
    "    color=\"Membership Status\",\n",
    "    title=\"<b><span style='color:#0072ce;'>Citi Bike</span> usage throughout 2023</b>\",\n",
    "    subtitle=\"Monthly ride counts peaked at 113K in August, with Members consistently<br>riding more than Casual users due to routine commuting.\",\n",
    "    color_discrete_sequence=[\"#d4d4d4\", \"#0072ce\"],\n",
    "    width=700,\n",
    "    height=500,\n",
    "    markers=True # markers on data points\n",
    ")\n",
    "\n",
    "# set font colors, sizes, etc\n",
    "fig.update_layout(\n",
    "    font_color = \"#0a0a0a\",\n",
    "    title_font_family = 'Lora',\n",
    "    title_font_size = 24,\n",
    "    font_family = 'Sora',\n",
    "    font_size = 12,\n",
    "    # top margin to prevent subtitle overlapping with graph\n",
    "    margin = {'t': 200},\n",
    ")\n",
    "\n",
    "fig.update_traces(\n",
    "    # line width\n",
    "    line=dict(width=4),\n",
    "    # marker size\n",
    "    marker=dict(size=8)\n",
    ")\n",
    "\n",
    "fig.show()"
   ]
  },
  {
   "cell_type": "code",
   "execution_count": 386,
   "id": "ce6592c3",
   "metadata": {},
   "outputs": [
    {
     "data": {
      "text/html": [
       "<div>\n",
       "<style scoped>\n",
       "    .dataframe tbody tr th:only-of-type {\n",
       "        vertical-align: middle;\n",
       "    }\n",
       "\n",
       "    .dataframe tbody tr th {\n",
       "        vertical-align: top;\n",
       "    }\n",
       "\n",
       "    .dataframe thead th {\n",
       "        text-align: right;\n",
       "    }\n",
       "</style>\n",
       "<table border=\"1\" class=\"dataframe\">\n",
       "  <thead>\n",
       "    <tr style=\"text-align: right;\">\n",
       "      <th></th>\n",
       "      <th>Hour num</th>\n",
       "      <th>Ride Count</th>\n",
       "      <th>Hour</th>\n",
       "      <th>flag</th>\n",
       "    </tr>\n",
       "  </thead>\n",
       "  <tbody>\n",
       "    <tr>\n",
       "      <th>0</th>\n",
       "      <td>0</td>\n",
       "      <td>13812</td>\n",
       "      <td>12 AM</td>\n",
       "      <td>False</td>\n",
       "    </tr>\n",
       "    <tr>\n",
       "      <th>1</th>\n",
       "      <td>1</td>\n",
       "      <td>8661</td>\n",
       "      <td>1 AM</td>\n",
       "      <td>False</td>\n",
       "    </tr>\n",
       "    <tr>\n",
       "      <th>2</th>\n",
       "      <td>2</td>\n",
       "      <td>5625</td>\n",
       "      <td>2 AM</td>\n",
       "      <td>False</td>\n",
       "    </tr>\n",
       "    <tr>\n",
       "      <th>3</th>\n",
       "      <td>3</td>\n",
       "      <td>3707</td>\n",
       "      <td>3 AM</td>\n",
       "      <td>False</td>\n",
       "    </tr>\n",
       "    <tr>\n",
       "      <th>4</th>\n",
       "      <td>4</td>\n",
       "      <td>3265</td>\n",
       "      <td>4 AM</td>\n",
       "      <td>False</td>\n",
       "    </tr>\n",
       "    <tr>\n",
       "      <th>5</th>\n",
       "      <td>5</td>\n",
       "      <td>7004</td>\n",
       "      <td>5 AM</td>\n",
       "      <td>False</td>\n",
       "    </tr>\n",
       "    <tr>\n",
       "      <th>6</th>\n",
       "      <td>6</td>\n",
       "      <td>19266</td>\n",
       "      <td>6 AM</td>\n",
       "      <td>False</td>\n",
       "    </tr>\n",
       "    <tr>\n",
       "      <th>7</th>\n",
       "      <td>7</td>\n",
       "      <td>39432</td>\n",
       "      <td>7 AM</td>\n",
       "      <td>False</td>\n",
       "    </tr>\n",
       "    <tr>\n",
       "      <th>8</th>\n",
       "      <td>8</td>\n",
       "      <td>60389</td>\n",
       "      <td>8 AM</td>\n",
       "      <td>False</td>\n",
       "    </tr>\n",
       "    <tr>\n",
       "      <th>9</th>\n",
       "      <td>9</td>\n",
       "      <td>50769</td>\n",
       "      <td>9 AM</td>\n",
       "      <td>False</td>\n",
       "    </tr>\n",
       "    <tr>\n",
       "      <th>10</th>\n",
       "      <td>10</td>\n",
       "      <td>44193</td>\n",
       "      <td>10 AM</td>\n",
       "      <td>False</td>\n",
       "    </tr>\n",
       "    <tr>\n",
       "      <th>11</th>\n",
       "      <td>11</td>\n",
       "      <td>47926</td>\n",
       "      <td>11 AM</td>\n",
       "      <td>False</td>\n",
       "    </tr>\n",
       "    <tr>\n",
       "      <th>12</th>\n",
       "      <td>12</td>\n",
       "      <td>54551</td>\n",
       "      <td>12 PM</td>\n",
       "      <td>False</td>\n",
       "    </tr>\n",
       "    <tr>\n",
       "      <th>13</th>\n",
       "      <td>13</td>\n",
       "      <td>57678</td>\n",
       "      <td>1 PM</td>\n",
       "      <td>False</td>\n",
       "    </tr>\n",
       "    <tr>\n",
       "      <th>14</th>\n",
       "      <td>14</td>\n",
       "      <td>63135</td>\n",
       "      <td>2 PM</td>\n",
       "      <td>False</td>\n",
       "    </tr>\n",
       "    <tr>\n",
       "      <th>15</th>\n",
       "      <td>15</td>\n",
       "      <td>68818</td>\n",
       "      <td>3 PM</td>\n",
       "      <td>False</td>\n",
       "    </tr>\n",
       "    <tr>\n",
       "      <th>16</th>\n",
       "      <td>16</td>\n",
       "      <td>75761</td>\n",
       "      <td>4 PM</td>\n",
       "      <td>False</td>\n",
       "    </tr>\n",
       "    <tr>\n",
       "      <th>17</th>\n",
       "      <td>17</td>\n",
       "      <td>91000</td>\n",
       "      <td>5 PM</td>\n",
       "      <td>True</td>\n",
       "    </tr>\n",
       "    <tr>\n",
       "      <th>18</th>\n",
       "      <td>18</td>\n",
       "      <td>85912</td>\n",
       "      <td>6 PM</td>\n",
       "      <td>False</td>\n",
       "    </tr>\n",
       "    <tr>\n",
       "      <th>19</th>\n",
       "      <td>19</td>\n",
       "      <td>65085</td>\n",
       "      <td>7 PM</td>\n",
       "      <td>False</td>\n",
       "    </tr>\n",
       "    <tr>\n",
       "      <th>20</th>\n",
       "      <td>20</td>\n",
       "      <td>46886</td>\n",
       "      <td>8 PM</td>\n",
       "      <td>False</td>\n",
       "    </tr>\n",
       "    <tr>\n",
       "      <th>21</th>\n",
       "      <td>21</td>\n",
       "      <td>35230</td>\n",
       "      <td>9 PM</td>\n",
       "      <td>False</td>\n",
       "    </tr>\n",
       "    <tr>\n",
       "      <th>22</th>\n",
       "      <td>22</td>\n",
       "      <td>28813</td>\n",
       "      <td>10 PM</td>\n",
       "      <td>False</td>\n",
       "    </tr>\n",
       "    <tr>\n",
       "      <th>23</th>\n",
       "      <td>23</td>\n",
       "      <td>21145</td>\n",
       "      <td>11 PM</td>\n",
       "      <td>False</td>\n",
       "    </tr>\n",
       "  </tbody>\n",
       "</table>\n",
       "</div>"
      ],
      "text/plain": [
       "    Hour num  Ride Count   Hour   flag\n",
       "0          0       13812  12 AM  False\n",
       "1          1        8661   1 AM  False\n",
       "2          2        5625   2 AM  False\n",
       "3          3        3707   3 AM  False\n",
       "4          4        3265   4 AM  False\n",
       "5          5        7004   5 AM  False\n",
       "6          6       19266   6 AM  False\n",
       "7          7       39432   7 AM  False\n",
       "8          8       60389   8 AM  False\n",
       "9          9       50769   9 AM  False\n",
       "10        10       44193  10 AM  False\n",
       "11        11       47926  11 AM  False\n",
       "12        12       54551  12 PM  False\n",
       "13        13       57678   1 PM  False\n",
       "14        14       63135   2 PM  False\n",
       "15        15       68818   3 PM  False\n",
       "16        16       75761   4 PM  False\n",
       "17        17       91000   5 PM   True\n",
       "18        18       85912   6 PM  False\n",
       "19        19       65085   7 PM  False\n",
       "20        20       46886   8 PM  False\n",
       "21        21       35230   9 PM  False\n",
       "22        22       28813  10 PM  False\n",
       "23        23       21145  11 PM  False"
      ]
     },
     "execution_count": 386,
     "metadata": {},
     "output_type": "execute_result"
    }
   ],
   "source": [
    "df[\"Hour num\"] = df[\"started_at\"].dt.hour\n",
    "\n",
    "df_hourly_counts = (\n",
    "    df.\n",
    "    groupby([\"Hour num\"])\n",
    "    .agg(\n",
    "        ride_count=(\"ride_id\", \"count\")\n",
    "    )\n",
    "    .rename(\n",
    "        columns={\n",
    "            \"ride_count\": \"Ride Count\",\n",
    "        }\n",
    "    )\n",
    "    .reset_index()\n",
    ")\n",
    "\n",
    "df_hourly_counts[\"Hour\"] = pd.to_datetime(df_hourly_counts[\"Hour num\"], format=\"%H\").dt.strftime(\"%-I %p\")\n",
    "\n",
    "df_hourly_counts.loc[\n",
    "    df_hourly_counts[\"Hour\"] == \"5 PM\",\n",
    "    \"flag\"\n",
    "] = True\n",
    "\n",
    "df_hourly_counts.loc[\n",
    "    df_hourly_counts[\"Hour\"] != \"5 PM\",\n",
    "    \"flag\"\n",
    "] = False\n",
    "\n",
    "df_hourly_counts"
   ]
  },
  {
   "cell_type": "code",
   "execution_count": 396,
   "id": "f21c07ad",
   "metadata": {},
   "outputs": [
    {
     "data": {
      "application/vnd.plotly.v1+json": {
       "config": {
        "plotlyServerURL": "https://plot.ly"
       },
       "data": [
        {
         "hovertemplate": "flag=False<br>Hour=%{x}<br>Ride Count=%{y}<extra></extra>",
         "legendgroup": "False",
         "marker": {
          "color": "#aad0f0",
          "pattern": {
           "shape": ""
          }
         },
         "name": "False",
         "orientation": "v",
         "showlegend": true,
         "textposition": "auto",
         "type": "bar",
         "x": [
          "12 AM",
          "1 AM",
          "2 AM",
          "3 AM",
          "4 AM",
          "5 AM",
          "6 AM",
          "7 AM",
          "8 AM",
          "9 AM",
          "10 AM",
          "11 AM",
          "12 PM",
          "1 PM",
          "2 PM",
          "3 PM",
          "4 PM",
          "6 PM",
          "7 PM",
          "8 PM",
          "9 PM",
          "10 PM",
          "11 PM"
         ],
         "xaxis": "x",
         "y": {
          "bdata": "9DUAANUhAAD5FQAAew4AAMEMAABcGwAAQksAAAiaAADl6wAAUcYAAKGsAAA2uwAAF9UAAE7hAACf9gAA0gwBAPEnAQCYTwEAPf4AACa3AACeiQAAjXAAAJlSAAA=",
          "dtype": "i4"
         },
         "yaxis": "y"
        },
        {
         "hovertemplate": "flag=True<br>Hour=%{x}<br>Ride Count=%{y}<extra></extra>",
         "legendgroup": "True",
         "marker": {
          "color": "#0072ce",
          "pattern": {
           "shape": ""
          }
         },
         "name": "True",
         "orientation": "v",
         "showlegend": true,
         "textposition": "auto",
         "type": "bar",
         "x": [
          "5 PM"
         ],
         "xaxis": "x",
         "y": {
          "bdata": "eGMBAA==",
          "dtype": "i4"
         },
         "yaxis": "y"
        }
       ],
       "layout": {
        "barmode": "relative",
        "font": {
         "color": "#0a0a0a",
         "family": "Sora",
         "size": 12
        },
        "legend": {
         "title": {
          "text": "flag"
         },
         "tracegroupgap": 0
        },
        "margin": {
         "t": 150
        },
        "showlegend": false,
        "template": {
         "data": {
          "bar": [
           {
            "error_x": {
             "color": "#2a3f5f"
            },
            "error_y": {
             "color": "#2a3f5f"
            },
            "marker": {
             "line": {
              "color": "white",
              "width": 0.5
             },
             "pattern": {
              "fillmode": "overlay",
              "size": 10,
              "solidity": 0.2
             }
            },
            "type": "bar"
           }
          ],
          "barpolar": [
           {
            "marker": {
             "line": {
              "color": "white",
              "width": 0.5
             },
             "pattern": {
              "fillmode": "overlay",
              "size": 10,
              "solidity": 0.2
             }
            },
            "type": "barpolar"
           }
          ],
          "carpet": [
           {
            "aaxis": {
             "endlinecolor": "#2a3f5f",
             "gridcolor": "#C8D4E3",
             "linecolor": "#C8D4E3",
             "minorgridcolor": "#C8D4E3",
             "startlinecolor": "#2a3f5f"
            },
            "baxis": {
             "endlinecolor": "#2a3f5f",
             "gridcolor": "#C8D4E3",
             "linecolor": "#C8D4E3",
             "minorgridcolor": "#C8D4E3",
             "startlinecolor": "#2a3f5f"
            },
            "type": "carpet"
           }
          ],
          "choropleth": [
           {
            "colorbar": {
             "outlinewidth": 0,
             "ticks": ""
            },
            "type": "choropleth"
           }
          ],
          "contour": [
           {
            "colorbar": {
             "outlinewidth": 0,
             "ticks": ""
            },
            "colorscale": [
             [
              0,
              "#0d0887"
             ],
             [
              0.1111111111111111,
              "#46039f"
             ],
             [
              0.2222222222222222,
              "#7201a8"
             ],
             [
              0.3333333333333333,
              "#9c179e"
             ],
             [
              0.4444444444444444,
              "#bd3786"
             ],
             [
              0.5555555555555556,
              "#d8576b"
             ],
             [
              0.6666666666666666,
              "#ed7953"
             ],
             [
              0.7777777777777778,
              "#fb9f3a"
             ],
             [
              0.8888888888888888,
              "#fdca26"
             ],
             [
              1,
              "#f0f921"
             ]
            ],
            "type": "contour"
           }
          ],
          "contourcarpet": [
           {
            "colorbar": {
             "outlinewidth": 0,
             "ticks": ""
            },
            "type": "contourcarpet"
           }
          ],
          "heatmap": [
           {
            "colorbar": {
             "outlinewidth": 0,
             "ticks": ""
            },
            "colorscale": [
             [
              0,
              "#0d0887"
             ],
             [
              0.1111111111111111,
              "#46039f"
             ],
             [
              0.2222222222222222,
              "#7201a8"
             ],
             [
              0.3333333333333333,
              "#9c179e"
             ],
             [
              0.4444444444444444,
              "#bd3786"
             ],
             [
              0.5555555555555556,
              "#d8576b"
             ],
             [
              0.6666666666666666,
              "#ed7953"
             ],
             [
              0.7777777777777778,
              "#fb9f3a"
             ],
             [
              0.8888888888888888,
              "#fdca26"
             ],
             [
              1,
              "#f0f921"
             ]
            ],
            "type": "heatmap"
           }
          ],
          "histogram": [
           {
            "marker": {
             "pattern": {
              "fillmode": "overlay",
              "size": 10,
              "solidity": 0.2
             }
            },
            "type": "histogram"
           }
          ],
          "histogram2d": [
           {
            "colorbar": {
             "outlinewidth": 0,
             "ticks": ""
            },
            "colorscale": [
             [
              0,
              "#0d0887"
             ],
             [
              0.1111111111111111,
              "#46039f"
             ],
             [
              0.2222222222222222,
              "#7201a8"
             ],
             [
              0.3333333333333333,
              "#9c179e"
             ],
             [
              0.4444444444444444,
              "#bd3786"
             ],
             [
              0.5555555555555556,
              "#d8576b"
             ],
             [
              0.6666666666666666,
              "#ed7953"
             ],
             [
              0.7777777777777778,
              "#fb9f3a"
             ],
             [
              0.8888888888888888,
              "#fdca26"
             ],
             [
              1,
              "#f0f921"
             ]
            ],
            "type": "histogram2d"
           }
          ],
          "histogram2dcontour": [
           {
            "colorbar": {
             "outlinewidth": 0,
             "ticks": ""
            },
            "colorscale": [
             [
              0,
              "#0d0887"
             ],
             [
              0.1111111111111111,
              "#46039f"
             ],
             [
              0.2222222222222222,
              "#7201a8"
             ],
             [
              0.3333333333333333,
              "#9c179e"
             ],
             [
              0.4444444444444444,
              "#bd3786"
             ],
             [
              0.5555555555555556,
              "#d8576b"
             ],
             [
              0.6666666666666666,
              "#ed7953"
             ],
             [
              0.7777777777777778,
              "#fb9f3a"
             ],
             [
              0.8888888888888888,
              "#fdca26"
             ],
             [
              1,
              "#f0f921"
             ]
            ],
            "type": "histogram2dcontour"
           }
          ],
          "mesh3d": [
           {
            "colorbar": {
             "outlinewidth": 0,
             "ticks": ""
            },
            "type": "mesh3d"
           }
          ],
          "parcoords": [
           {
            "line": {
             "colorbar": {
              "outlinewidth": 0,
              "ticks": ""
             }
            },
            "type": "parcoords"
           }
          ],
          "pie": [
           {
            "automargin": true,
            "type": "pie"
           }
          ],
          "scatter": [
           {
            "fillpattern": {
             "fillmode": "overlay",
             "size": 10,
             "solidity": 0.2
            },
            "type": "scatter"
           }
          ],
          "scatter3d": [
           {
            "line": {
             "colorbar": {
              "outlinewidth": 0,
              "ticks": ""
             }
            },
            "marker": {
             "colorbar": {
              "outlinewidth": 0,
              "ticks": ""
             }
            },
            "type": "scatter3d"
           }
          ],
          "scattercarpet": [
           {
            "marker": {
             "colorbar": {
              "outlinewidth": 0,
              "ticks": ""
             }
            },
            "type": "scattercarpet"
           }
          ],
          "scattergeo": [
           {
            "marker": {
             "colorbar": {
              "outlinewidth": 0,
              "ticks": ""
             }
            },
            "type": "scattergeo"
           }
          ],
          "scattergl": [
           {
            "marker": {
             "colorbar": {
              "outlinewidth": 0,
              "ticks": ""
             }
            },
            "type": "scattergl"
           }
          ],
          "scattermap": [
           {
            "marker": {
             "colorbar": {
              "outlinewidth": 0,
              "ticks": ""
             }
            },
            "type": "scattermap"
           }
          ],
          "scattermapbox": [
           {
            "marker": {
             "colorbar": {
              "outlinewidth": 0,
              "ticks": ""
             }
            },
            "type": "scattermapbox"
           }
          ],
          "scatterpolar": [
           {
            "marker": {
             "colorbar": {
              "outlinewidth": 0,
              "ticks": ""
             }
            },
            "type": "scatterpolar"
           }
          ],
          "scatterpolargl": [
           {
            "marker": {
             "colorbar": {
              "outlinewidth": 0,
              "ticks": ""
             }
            },
            "type": "scatterpolargl"
           }
          ],
          "scatterternary": [
           {
            "marker": {
             "colorbar": {
              "outlinewidth": 0,
              "ticks": ""
             }
            },
            "type": "scatterternary"
           }
          ],
          "surface": [
           {
            "colorbar": {
             "outlinewidth": 0,
             "ticks": ""
            },
            "colorscale": [
             [
              0,
              "#0d0887"
             ],
             [
              0.1111111111111111,
              "#46039f"
             ],
             [
              0.2222222222222222,
              "#7201a8"
             ],
             [
              0.3333333333333333,
              "#9c179e"
             ],
             [
              0.4444444444444444,
              "#bd3786"
             ],
             [
              0.5555555555555556,
              "#d8576b"
             ],
             [
              0.6666666666666666,
              "#ed7953"
             ],
             [
              0.7777777777777778,
              "#fb9f3a"
             ],
             [
              0.8888888888888888,
              "#fdca26"
             ],
             [
              1,
              "#f0f921"
             ]
            ],
            "type": "surface"
           }
          ],
          "table": [
           {
            "cells": {
             "fill": {
              "color": "#EBF0F8"
             },
             "line": {
              "color": "white"
             }
            },
            "header": {
             "fill": {
              "color": "#C8D4E3"
             },
             "line": {
              "color": "white"
             }
            },
            "type": "table"
           }
          ]
         },
         "layout": {
          "annotationdefaults": {
           "arrowcolor": "#2a3f5f",
           "arrowhead": 0,
           "arrowwidth": 1
          },
          "autotypenumbers": "strict",
          "coloraxis": {
           "colorbar": {
            "outlinewidth": 0,
            "ticks": ""
           }
          },
          "colorscale": {
           "diverging": [
            [
             0,
             "#8e0152"
            ],
            [
             0.1,
             "#c51b7d"
            ],
            [
             0.2,
             "#de77ae"
            ],
            [
             0.3,
             "#f1b6da"
            ],
            [
             0.4,
             "#fde0ef"
            ],
            [
             0.5,
             "#f7f7f7"
            ],
            [
             0.6,
             "#e6f5d0"
            ],
            [
             0.7,
             "#b8e186"
            ],
            [
             0.8,
             "#7fbc41"
            ],
            [
             0.9,
             "#4d9221"
            ],
            [
             1,
             "#276419"
            ]
           ],
           "sequential": [
            [
             0,
             "#0d0887"
            ],
            [
             0.1111111111111111,
             "#46039f"
            ],
            [
             0.2222222222222222,
             "#7201a8"
            ],
            [
             0.3333333333333333,
             "#9c179e"
            ],
            [
             0.4444444444444444,
             "#bd3786"
            ],
            [
             0.5555555555555556,
             "#d8576b"
            ],
            [
             0.6666666666666666,
             "#ed7953"
            ],
            [
             0.7777777777777778,
             "#fb9f3a"
            ],
            [
             0.8888888888888888,
             "#fdca26"
            ],
            [
             1,
             "#f0f921"
            ]
           ],
           "sequentialminus": [
            [
             0,
             "#0d0887"
            ],
            [
             0.1111111111111111,
             "#46039f"
            ],
            [
             0.2222222222222222,
             "#7201a8"
            ],
            [
             0.3333333333333333,
             "#9c179e"
            ],
            [
             0.4444444444444444,
             "#bd3786"
            ],
            [
             0.5555555555555556,
             "#d8576b"
            ],
            [
             0.6666666666666666,
             "#ed7953"
            ],
            [
             0.7777777777777778,
             "#fb9f3a"
            ],
            [
             0.8888888888888888,
             "#fdca26"
            ],
            [
             1,
             "#f0f921"
            ]
           ]
          },
          "colorway": [
           "#636efa",
           "#EF553B",
           "#00cc96",
           "#ab63fa",
           "#FFA15A",
           "#19d3f3",
           "#FF6692",
           "#B6E880",
           "#FF97FF",
           "#FECB52"
          ],
          "font": {
           "color": "#2a3f5f"
          },
          "geo": {
           "bgcolor": "white",
           "lakecolor": "white",
           "landcolor": "white",
           "showlakes": true,
           "showland": true,
           "subunitcolor": "#C8D4E3"
          },
          "hoverlabel": {
           "align": "left"
          },
          "hovermode": "closest",
          "mapbox": {
           "style": "light"
          },
          "paper_bgcolor": "white",
          "plot_bgcolor": "white",
          "polar": {
           "angularaxis": {
            "gridcolor": "#EBF0F8",
            "linecolor": "#EBF0F8",
            "ticks": ""
           },
           "bgcolor": "white",
           "radialaxis": {
            "gridcolor": "#EBF0F8",
            "linecolor": "#EBF0F8",
            "ticks": ""
           }
          },
          "scene": {
           "xaxis": {
            "backgroundcolor": "white",
            "gridcolor": "#DFE8F3",
            "gridwidth": 2,
            "linecolor": "#EBF0F8",
            "showbackground": true,
            "ticks": "",
            "zerolinecolor": "#EBF0F8"
           },
           "yaxis": {
            "backgroundcolor": "white",
            "gridcolor": "#DFE8F3",
            "gridwidth": 2,
            "linecolor": "#EBF0F8",
            "showbackground": true,
            "ticks": "",
            "zerolinecolor": "#EBF0F8"
           },
           "zaxis": {
            "backgroundcolor": "white",
            "gridcolor": "#DFE8F3",
            "gridwidth": 2,
            "linecolor": "#EBF0F8",
            "showbackground": true,
            "ticks": "",
            "zerolinecolor": "#EBF0F8"
           }
          },
          "shapedefaults": {
           "line": {
            "color": "#2a3f5f"
           }
          },
          "ternary": {
           "aaxis": {
            "gridcolor": "#DFE8F3",
            "linecolor": "#A2B1C6",
            "ticks": ""
           },
           "baxis": {
            "gridcolor": "#DFE8F3",
            "linecolor": "#A2B1C6",
            "ticks": ""
           },
           "bgcolor": "white",
           "caxis": {
            "gridcolor": "#DFE8F3",
            "linecolor": "#A2B1C6",
            "ticks": ""
           }
          },
          "title": {
           "x": 0.05
          },
          "xaxis": {
           "automargin": true,
           "gridcolor": "#EBF0F8",
           "linecolor": "#EBF0F8",
           "ticks": "",
           "title": {
            "standoff": 15
           },
           "zerolinecolor": "#EBF0F8",
           "zerolinewidth": 2
          },
          "yaxis": {
           "automargin": true,
           "gridcolor": "#EBF0F8",
           "linecolor": "#EBF0F8",
           "ticks": "",
           "title": {
            "standoff": 15
           },
           "zerolinecolor": "#EBF0F8",
           "zerolinewidth": 2
          }
         }
        },
        "title": {
         "font": {
          "family": "Lora",
          "size": 24
         },
         "subtitle": {
          "text": "Ride counts peak around 5 PM, reflecting <span style='color:#0072ce;'>Citi Bike</span>'s<br>role as a key option for evening commuters."
         },
         "text": "<b>When is <span style='color:#0072ce;'>Citi Bike</span> used most during the day?</b>"
        },
        "width": 550,
        "xaxis": {
         "anchor": "y",
         "categoryarray": [
          "12 AM",
          "1 AM",
          "2 AM",
          "3 AM",
          "4 AM",
          "5 AM",
          "6 AM",
          "7 AM",
          "8 AM",
          "9 AM",
          "10 AM",
          "11 AM",
          "12 PM",
          "1 PM",
          "2 PM",
          "3 PM",
          "4 PM",
          "5 PM",
          "6 PM",
          "7 PM",
          "8 PM",
          "9 PM",
          "10 PM",
          "11 PM"
         ],
         "categoryorder": "array",
         "domain": [
          0,
          1
         ],
         "tickvals": [
          "6 AM",
          "12 PM",
          "6 PM",
          "11 PM"
         ],
         "title": {
          "text": "Hour"
         }
        },
        "yaxis": {
         "anchor": "x",
         "domain": [
          0,
          1
         ],
         "title": {
          "text": "Ride Count"
         }
        }
       }
      }
     },
     "metadata": {},
     "output_type": "display_data"
    }
   ],
   "source": [
    "fig = px.bar(\n",
    "    df_hourly_counts,\n",
    "    x=\"Hour\",\n",
    "    y=\"Ride Count\",\n",
    "    template=\"plotly_white\",\n",
    "    title=\"<b>When is <span style='color:#0072ce;'>Citi Bike</span> used most during the day?</b>\",\n",
    "    subtitle=\"Ride counts peak around 5 PM, reflecting <span style='color:#0072ce;'>Citi Bike</span>'s<br>role as a key option for evening commuters.\",\n",
    "    color_discrete_sequence=[\"#aad0f0\", \"#0072ce\"],\n",
    "    width=550,\n",
    "    category_orders={\"Hour\": df_hourly_counts[\"Hour\"].tolist()},\n",
    "    color=\"flag\",\n",
    ")\n",
    "\n",
    "fig.update_layout(\n",
    "    xaxis_tickvals=[\"6 AM\", \"12 PM\", \"6 PM\", \"11 PM\"],\n",
    "    font_color = \"#0a0a0a\",\n",
    "    title_font_family = 'Lora',\n",
    "    title_font_size = 24,\n",
    "    font_family = 'Sora',\n",
    "    font_size = 12,\n",
    "    margin = {'t': 150},\n",
    "    showlegend=False\n",
    ")\n",
    "\n",
    "fig.show()"
   ]
  },
  {
   "cell_type": "code",
   "execution_count": 388,
   "id": "9f13b303",
   "metadata": {},
   "outputs": [
    {
     "data": {
      "text/html": [
       "<div>\n",
       "<style scoped>\n",
       "    .dataframe tbody tr th:only-of-type {\n",
       "        vertical-align: middle;\n",
       "    }\n",
       "\n",
       "    .dataframe tbody tr th {\n",
       "        vertical-align: top;\n",
       "    }\n",
       "\n",
       "    .dataframe thead th {\n",
       "        text-align: right;\n",
       "    }\n",
       "</style>\n",
       "<table border=\"1\" class=\"dataframe\">\n",
       "  <thead>\n",
       "    <tr style=\"text-align: right;\">\n",
       "      <th></th>\n",
       "      <th>end_station_id</th>\n",
       "      <th>ride_count</th>\n",
       "      <th>end_lat</th>\n",
       "      <th>end_lng</th>\n",
       "    </tr>\n",
       "  </thead>\n",
       "  <tbody>\n",
       "    <tr>\n",
       "      <th>0</th>\n",
       "      <td>6140.05</td>\n",
       "      <td>3996</td>\n",
       "      <td>40.741740</td>\n",
       "      <td>-73.994156</td>\n",
       "    </tr>\n",
       "    <tr>\n",
       "      <th>1</th>\n",
       "      <td>5329.03</td>\n",
       "      <td>3162</td>\n",
       "      <td>40.717548</td>\n",
       "      <td>-74.013221</td>\n",
       "    </tr>\n",
       "    <tr>\n",
       "      <th>2</th>\n",
       "      <td>6726.01</td>\n",
       "      <td>3063</td>\n",
       "      <td>40.760301</td>\n",
       "      <td>-73.998842</td>\n",
       "    </tr>\n",
       "    <tr>\n",
       "      <th>3</th>\n",
       "      <td>5905.14</td>\n",
       "      <td>2988</td>\n",
       "      <td>40.734814</td>\n",
       "      <td>-73.992085</td>\n",
       "    </tr>\n",
       "    <tr>\n",
       "      <th>4</th>\n",
       "      <td>6173.08</td>\n",
       "      <td>2915</td>\n",
       "      <td>40.742869</td>\n",
       "      <td>-73.989186</td>\n",
       "    </tr>\n",
       "    <tr>\n",
       "      <th>5</th>\n",
       "      <td>6331.01</td>\n",
       "      <td>2888</td>\n",
       "      <td>40.749156</td>\n",
       "      <td>-73.991600</td>\n",
       "    </tr>\n",
       "    <tr>\n",
       "      <th>6</th>\n",
       "      <td>6822.09</td>\n",
       "      <td>2879</td>\n",
       "      <td>40.765005</td>\n",
       "      <td>-73.958185</td>\n",
       "    </tr>\n",
       "    <tr>\n",
       "      <th>7</th>\n",
       "      <td>5980.07</td>\n",
       "      <td>2840</td>\n",
       "      <td>40.737050</td>\n",
       "      <td>-73.990093</td>\n",
       "    </tr>\n",
       "    <tr>\n",
       "      <th>8</th>\n",
       "      <td>6364.07</td>\n",
       "      <td>2717</td>\n",
       "      <td>40.749013</td>\n",
       "      <td>-73.988484</td>\n",
       "    </tr>\n",
       "    <tr>\n",
       "      <th>9</th>\n",
       "      <td>6602.03</td>\n",
       "      <td>2708</td>\n",
       "      <td>40.756405</td>\n",
       "      <td>-73.990026</td>\n",
       "    </tr>\n",
       "  </tbody>\n",
       "</table>\n",
       "</div>"
      ],
      "text/plain": [
       "  end_station_id  ride_count    end_lat    end_lng\n",
       "0        6140.05        3996  40.741740 -73.994156\n",
       "1        5329.03        3162  40.717548 -74.013221\n",
       "2        6726.01        3063  40.760301 -73.998842\n",
       "3        5905.14        2988  40.734814 -73.992085\n",
       "4        6173.08        2915  40.742869 -73.989186\n",
       "5        6331.01        2888  40.749156 -73.991600\n",
       "6        6822.09        2879  40.765005 -73.958185\n",
       "7        5980.07        2840  40.737050 -73.990093\n",
       "8        6364.07        2717  40.749013 -73.988484\n",
       "9        6602.03        2708  40.756405 -73.990026"
      ]
     },
     "execution_count": 388,
     "metadata": {},
     "output_type": "execute_result"
    }
   ],
   "source": [
    "station_counts = (\n",
    "    df.\n",
    "    groupby([\"end_station_id\"])\n",
    "    .agg(\n",
    "        ride_count=(\"ride_id\", \"count\"),\n",
    "        end_lat=(\"end_lat\", \"first\"),\n",
    "        end_lng=(\"end_lng\", \"first\")\n",
    "    )\n",
    "    .sort_values(by=\"ride_count\", ascending=False)\n",
    "    .reset_index()\n",
    "    # .rename(\n",
    "    #     columns={\n",
    "    #         \"month\": \"Month\",\n",
    "    #         \"ride_count\": \"Ride Count\",\n",
    "    #         \"member_casual\": \"Membership Status\"\n",
    "    #     }\n",
    "    # )\n",
    ")\n",
    "station_counts.head(10)"
   ]
  },
  {
   "cell_type": "code",
   "execution_count": 389,
   "id": "1d7bb270",
   "metadata": {},
   "outputs": [
    {
     "data": {
      "application/vnd.plotly.v1+json": {
       "config": {
        "plotlyServerURL": "https://plot.ly"
       },
       "data": [
        {
         "hovertemplate": "ride_count=%{marker.color}<br>end_lat=%{lat}<br>end_lng=%{lon}<extra></extra>",
         "lat": {
          "bdata": "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",
          "dtype": "f8"
         },
         "legendgroup": "",
         "lon": {
          "bdata": "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",
          "dtype": "f8"
         },
         "marker": {
          "color": {
           "bdata": "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",
           "dtype": "i2"
          },
          "coloraxis": "coloraxis",
          "opacity": 0.75,
          "size": {
           "bdata": "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",
           "dtype": "i2"
          },
          "sizemode": "area",
          "sizeref": 27.75
         },
         "mode": "markers",
         "name": "",
         "showlegend": false,
         "subplot": "map",
         "type": "scattermap"
        }
       ],
       "layout": {
        "coloraxis": {
         "cmax": 2750,
         "cmin": 0,
         "colorbar": {
          "title": {
           "text": "ride_count"
          }
         },
         "colorscale": [
          [
           0,
           "rgb(247,251,255)"
          ],
          [
           0.125,
           "rgb(222,235,247)"
          ],
          [
           0.25,
           "rgb(198,219,239)"
          ],
          [
           0.375,
           "rgb(158,202,225)"
          ],
          [
           0.5,
           "rgb(107,174,214)"
          ],
          [
           0.625,
           "rgb(66,146,198)"
          ],
          [
           0.75,
           "rgb(33,113,181)"
          ],
          [
           0.875,
           "rgb(8,81,156)"
          ],
          [
           1,
           "rgb(8,48,107)"
          ]
         ]
        },
        "height": 800,
        "legend": {
         "itemsizing": "constant",
         "tracegroupgap": 0
        },
        "map": {
         "center": {
          "lat": 40.746041510132784,
          "lon": -73.94600880970303
         },
         "domain": {
          "x": [
           0,
           1
          ],
          "y": [
           0,
           1
          ]
         },
         "zoom": 11
        },
        "mapbox": {
         "center": {
          "lat": 40.746041510132784,
          "lon": -73.94600880970303
         },
         "zoom": 11
        },
        "template": {
         "data": {
          "bar": [
           {
            "error_x": {
             "color": "#2a3f5f"
            },
            "error_y": {
             "color": "#2a3f5f"
            },
            "marker": {
             "line": {
              "color": "#E5ECF6",
              "width": 0.5
             },
             "pattern": {
              "fillmode": "overlay",
              "size": 10,
              "solidity": 0.2
             }
            },
            "type": "bar"
           }
          ],
          "barpolar": [
           {
            "marker": {
             "line": {
              "color": "#E5ECF6",
              "width": 0.5
             },
             "pattern": {
              "fillmode": "overlay",
              "size": 10,
              "solidity": 0.2
             }
            },
            "type": "barpolar"
           }
          ],
          "carpet": [
           {
            "aaxis": {
             "endlinecolor": "#2a3f5f",
             "gridcolor": "white",
             "linecolor": "white",
             "minorgridcolor": "white",
             "startlinecolor": "#2a3f5f"
            },
            "baxis": {
             "endlinecolor": "#2a3f5f",
             "gridcolor": "white",
             "linecolor": "white",
             "minorgridcolor": "white",
             "startlinecolor": "#2a3f5f"
            },
            "type": "carpet"
           }
          ],
          "choropleth": [
           {
            "colorbar": {
             "outlinewidth": 0,
             "ticks": ""
            },
            "type": "choropleth"
           }
          ],
          "contour": [
           {
            "colorbar": {
             "outlinewidth": 0,
             "ticks": ""
            },
            "colorscale": [
             [
              0,
              "#0d0887"
             ],
             [
              0.1111111111111111,
              "#46039f"
             ],
             [
              0.2222222222222222,
              "#7201a8"
             ],
             [
              0.3333333333333333,
              "#9c179e"
             ],
             [
              0.4444444444444444,
              "#bd3786"
             ],
             [
              0.5555555555555556,
              "#d8576b"
             ],
             [
              0.6666666666666666,
              "#ed7953"
             ],
             [
              0.7777777777777778,
              "#fb9f3a"
             ],
             [
              0.8888888888888888,
              "#fdca26"
             ],
             [
              1,
              "#f0f921"
             ]
            ],
            "type": "contour"
           }
          ],
          "contourcarpet": [
           {
            "colorbar": {
             "outlinewidth": 0,
             "ticks": ""
            },
            "type": "contourcarpet"
           }
          ],
          "heatmap": [
           {
            "colorbar": {
             "outlinewidth": 0,
             "ticks": ""
            },
            "colorscale": [
             [
              0,
              "#0d0887"
             ],
             [
              0.1111111111111111,
              "#46039f"
             ],
             [
              0.2222222222222222,
              "#7201a8"
             ],
             [
              0.3333333333333333,
              "#9c179e"
             ],
             [
              0.4444444444444444,
              "#bd3786"
             ],
             [
              0.5555555555555556,
              "#d8576b"
             ],
             [
              0.6666666666666666,
              "#ed7953"
             ],
             [
              0.7777777777777778,
              "#fb9f3a"
             ],
             [
              0.8888888888888888,
              "#fdca26"
             ],
             [
              1,
              "#f0f921"
             ]
            ],
            "type": "heatmap"
           }
          ],
          "histogram": [
           {
            "marker": {
             "pattern": {
              "fillmode": "overlay",
              "size": 10,
              "solidity": 0.2
             }
            },
            "type": "histogram"
           }
          ],
          "histogram2d": [
           {
            "colorbar": {
             "outlinewidth": 0,
             "ticks": ""
            },
            "colorscale": [
             [
              0,
              "#0d0887"
             ],
             [
              0.1111111111111111,
              "#46039f"
             ],
             [
              0.2222222222222222,
              "#7201a8"
             ],
             [
              0.3333333333333333,
              "#9c179e"
             ],
             [
              0.4444444444444444,
              "#bd3786"
             ],
             [
              0.5555555555555556,
              "#d8576b"
             ],
             [
              0.6666666666666666,
              "#ed7953"
             ],
             [
              0.7777777777777778,
              "#fb9f3a"
             ],
             [
              0.8888888888888888,
              "#fdca26"
             ],
             [
              1,
              "#f0f921"
             ]
            ],
            "type": "histogram2d"
           }
          ],
          "histogram2dcontour": [
           {
            "colorbar": {
             "outlinewidth": 0,
             "ticks": ""
            },
            "colorscale": [
             [
              0,
              "#0d0887"
             ],
             [
              0.1111111111111111,
              "#46039f"
             ],
             [
              0.2222222222222222,
              "#7201a8"
             ],
             [
              0.3333333333333333,
              "#9c179e"
             ],
             [
              0.4444444444444444,
              "#bd3786"
             ],
             [
              0.5555555555555556,
              "#d8576b"
             ],
             [
              0.6666666666666666,
              "#ed7953"
             ],
             [
              0.7777777777777778,
              "#fb9f3a"
             ],
             [
              0.8888888888888888,
              "#fdca26"
             ],
             [
              1,
              "#f0f921"
             ]
            ],
            "type": "histogram2dcontour"
           }
          ],
          "mesh3d": [
           {
            "colorbar": {
             "outlinewidth": 0,
             "ticks": ""
            },
            "type": "mesh3d"
           }
          ],
          "parcoords": [
           {
            "line": {
             "colorbar": {
              "outlinewidth": 0,
              "ticks": ""
             }
            },
            "type": "parcoords"
           }
          ],
          "pie": [
           {
            "automargin": true,
            "type": "pie"
           }
          ],
          "scatter": [
           {
            "fillpattern": {
             "fillmode": "overlay",
             "size": 10,
             "solidity": 0.2
            },
            "type": "scatter"
           }
          ],
          "scatter3d": [
           {
            "line": {
             "colorbar": {
              "outlinewidth": 0,
              "ticks": ""
             }
            },
            "marker": {
             "colorbar": {
              "outlinewidth": 0,
              "ticks": ""
             }
            },
            "type": "scatter3d"
           }
          ],
          "scattercarpet": [
           {
            "marker": {
             "colorbar": {
              "outlinewidth": 0,
              "ticks": ""
             }
            },
            "type": "scattercarpet"
           }
          ],
          "scattergeo": [
           {
            "marker": {
             "colorbar": {
              "outlinewidth": 0,
              "ticks": ""
             }
            },
            "type": "scattergeo"
           }
          ],
          "scattergl": [
           {
            "marker": {
             "colorbar": {
              "outlinewidth": 0,
              "ticks": ""
             }
            },
            "type": "scattergl"
           }
          ],
          "scattermap": [
           {
            "marker": {
             "colorbar": {
              "outlinewidth": 0,
              "ticks": ""
             }
            },
            "type": "scattermap"
           }
          ],
          "scattermapbox": [
           {
            "marker": {
             "colorbar": {
              "outlinewidth": 0,
              "ticks": ""
             }
            },
            "type": "scattermapbox"
           }
          ],
          "scatterpolar": [
           {
            "marker": {
             "colorbar": {
              "outlinewidth": 0,
              "ticks": ""
             }
            },
            "type": "scatterpolar"
           }
          ],
          "scatterpolargl": [
           {
            "marker": {
             "colorbar": {
              "outlinewidth": 0,
              "ticks": ""
             }
            },
            "type": "scatterpolargl"
           }
          ],
          "scatterternary": [
           {
            "marker": {
             "colorbar": {
              "outlinewidth": 0,
              "ticks": ""
             }
            },
            "type": "scatterternary"
           }
          ],
          "surface": [
           {
            "colorbar": {
             "outlinewidth": 0,
             "ticks": ""
            },
            "colorscale": [
             [
              0,
              "#0d0887"
             ],
             [
              0.1111111111111111,
              "#46039f"
             ],
             [
              0.2222222222222222,
              "#7201a8"
             ],
             [
              0.3333333333333333,
              "#9c179e"
             ],
             [
              0.4444444444444444,
              "#bd3786"
             ],
             [
              0.5555555555555556,
              "#d8576b"
             ],
             [
              0.6666666666666666,
              "#ed7953"
             ],
             [
              0.7777777777777778,
              "#fb9f3a"
             ],
             [
              0.8888888888888888,
              "#fdca26"
             ],
             [
              1,
              "#f0f921"
             ]
            ],
            "type": "surface"
           }
          ],
          "table": [
           {
            "cells": {
             "fill": {
              "color": "#EBF0F8"
             },
             "line": {
              "color": "white"
             }
            },
            "header": {
             "fill": {
              "color": "#C8D4E3"
             },
             "line": {
              "color": "white"
             }
            },
            "type": "table"
           }
          ]
         },
         "layout": {
          "annotationdefaults": {
           "arrowcolor": "#2a3f5f",
           "arrowhead": 0,
           "arrowwidth": 1
          },
          "autotypenumbers": "strict",
          "coloraxis": {
           "colorbar": {
            "outlinewidth": 0,
            "ticks": ""
           }
          },
          "colorscale": {
           "diverging": [
            [
             0,
             "#8e0152"
            ],
            [
             0.1,
             "#c51b7d"
            ],
            [
             0.2,
             "#de77ae"
            ],
            [
             0.3,
             "#f1b6da"
            ],
            [
             0.4,
             "#fde0ef"
            ],
            [
             0.5,
             "#f7f7f7"
            ],
            [
             0.6,
             "#e6f5d0"
            ],
            [
             0.7,
             "#b8e186"
            ],
            [
             0.8,
             "#7fbc41"
            ],
            [
             0.9,
             "#4d9221"
            ],
            [
             1,
             "#276419"
            ]
           ],
           "sequential": [
            [
             0,
             "#0d0887"
            ],
            [
             0.1111111111111111,
             "#46039f"
            ],
            [
             0.2222222222222222,
             "#7201a8"
            ],
            [
             0.3333333333333333,
             "#9c179e"
            ],
            [
             0.4444444444444444,
             "#bd3786"
            ],
            [
             0.5555555555555556,
             "#d8576b"
            ],
            [
             0.6666666666666666,
             "#ed7953"
            ],
            [
             0.7777777777777778,
             "#fb9f3a"
            ],
            [
             0.8888888888888888,
             "#fdca26"
            ],
            [
             1,
             "#f0f921"
            ]
           ],
           "sequentialminus": [
            [
             0,
             "#0d0887"
            ],
            [
             0.1111111111111111,
             "#46039f"
            ],
            [
             0.2222222222222222,
             "#7201a8"
            ],
            [
             0.3333333333333333,
             "#9c179e"
            ],
            [
             0.4444444444444444,
             "#bd3786"
            ],
            [
             0.5555555555555556,
             "#d8576b"
            ],
            [
             0.6666666666666666,
             "#ed7953"
            ],
            [
             0.7777777777777778,
             "#fb9f3a"
            ],
            [
             0.8888888888888888,
             "#fdca26"
            ],
            [
             1,
             "#f0f921"
            ]
           ]
          },
          "colorway": [
           "#636efa",
           "#EF553B",
           "#00cc96",
           "#ab63fa",
           "#FFA15A",
           "#19d3f3",
           "#FF6692",
           "#B6E880",
           "#FF97FF",
           "#FECB52"
          ],
          "font": {
           "color": "#2a3f5f"
          },
          "geo": {
           "bgcolor": "white",
           "lakecolor": "white",
           "landcolor": "#E5ECF6",
           "showlakes": true,
           "showland": true,
           "subunitcolor": "white"
          },
          "hoverlabel": {
           "align": "left"
          },
          "hovermode": "closest",
          "mapbox": {
           "style": "light"
          },
          "paper_bgcolor": "white",
          "plot_bgcolor": "#E5ECF6",
          "polar": {
           "angularaxis": {
            "gridcolor": "white",
            "linecolor": "white",
            "ticks": ""
           },
           "bgcolor": "#E5ECF6",
           "radialaxis": {
            "gridcolor": "white",
            "linecolor": "white",
            "ticks": ""
           }
          },
          "scene": {
           "xaxis": {
            "backgroundcolor": "#E5ECF6",
            "gridcolor": "white",
            "gridwidth": 2,
            "linecolor": "white",
            "showbackground": true,
            "ticks": "",
            "zerolinecolor": "white"
           },
           "yaxis": {
            "backgroundcolor": "#E5ECF6",
            "gridcolor": "white",
            "gridwidth": 2,
            "linecolor": "white",
            "showbackground": true,
            "ticks": "",
            "zerolinecolor": "white"
           },
           "zaxis": {
            "backgroundcolor": "#E5ECF6",
            "gridcolor": "white",
            "gridwidth": 2,
            "linecolor": "white",
            "showbackground": true,
            "ticks": "",
            "zerolinecolor": "white"
           }
          },
          "shapedefaults": {
           "line": {
            "color": "#2a3f5f"
           }
          },
          "ternary": {
           "aaxis": {
            "gridcolor": "white",
            "linecolor": "white",
            "ticks": ""
           },
           "baxis": {
            "gridcolor": "white",
            "linecolor": "white",
            "ticks": ""
           },
           "bgcolor": "#E5ECF6",
           "caxis": {
            "gridcolor": "white",
            "linecolor": "white",
            "ticks": ""
           }
          },
          "title": {
           "x": 0.05
          },
          "xaxis": {
           "automargin": true,
           "gridcolor": "white",
           "linecolor": "white",
           "ticks": "",
           "title": {
            "standoff": 15
           },
           "zerolinecolor": "white",
           "zerolinewidth": 2
          },
          "yaxis": {
           "automargin": true,
           "gridcolor": "white",
           "linecolor": "white",
           "ticks": "",
           "title": {
            "standoff": 15
           },
           "zerolinecolor": "white",
           "zerolinewidth": 2
          }
         }
        },
        "title": {
         "text": "<b>Where Casual vs Member Riders Start Their Trips in NYC</b>"
        },
        "width": 700
       }
      }
     },
     "metadata": {},
     "output_type": "display_data"
    }
   ],
   "source": [
    "fig = px.scatter_map(\n",
    "    station_counts,\n",
    "    lat=\"end_lat\",\n",
    "    lon=\"end_lng\",\n",
    "    color=\"ride_count\",   # Tourist vs commuter\n",
    "    size=\"ride_count\",\n",
    "    zoom=11,\n",
    "    width=700,\n",
    "    height=800,\n",
    "    size_max=12,\n",
    "    range_color=[0, 2750],\n",
    "    opacity=0.75,\n",
    "    color_continuous_scale=\"blues\",\n",
    "    \n",
    "    # mapbox_style=\"carto-positron\",  # Clean, minimal map\n",
    "    title=\"<b>Where Casual vs Member Riders Start Their Trips in NYC</b>\",\n",
    ")\n",
    "\n",
    "fig.show()"
   ]
  },
  {
   "cell_type": "code",
   "execution_count": 390,
   "id": "876422a4",
   "metadata": {},
   "outputs": [
    {
     "name": "stdout",
     "output_type": "stream",
     "text": [
      "rideable_type\n",
      "Classic Bike     897184\n",
      "Electric Bike    100879\n",
      "Name: count, dtype: int64\n"
     ]
    }
   ],
   "source": [
    "print(df[\"rideable_type\"].value_counts())"
   ]
  },
  {
   "cell_type": "code",
   "execution_count": null,
   "id": "f6ba47cd",
   "metadata": {},
   "outputs": [
    {
     "data": {
      "text/html": [
       "<div>\n",
       "<style scoped>\n",
       "    .dataframe tbody tr th:only-of-type {\n",
       "        vertical-align: middle;\n",
       "    }\n",
       "\n",
       "    .dataframe tbody tr th {\n",
       "        vertical-align: top;\n",
       "    }\n",
       "\n",
       "    .dataframe thead th {\n",
       "        text-align: right;\n",
       "    }\n",
       "</style>\n",
       "<table border=\"1\" class=\"dataframe\">\n",
       "  <thead>\n",
       "    <tr style=\"text-align: right;\">\n",
       "      <th></th>\n",
       "      <th>Membership Status</th>\n",
       "      <th>Bike Type</th>\n",
       "      <th>duration</th>\n",
       "    </tr>\n",
       "  </thead>\n",
       "  <tbody>\n",
       "    <tr>\n",
       "      <th>0</th>\n",
       "      <td>Casual</td>\n",
       "      <td>Classic Bike</td>\n",
       "      <td>23.527075</td>\n",
       "    </tr>\n",
       "    <tr>\n",
       "      <th>1</th>\n",
       "      <td>Casual</td>\n",
       "      <td>Electric Bike</td>\n",
       "      <td>22.438904</td>\n",
       "    </tr>\n",
       "    <tr>\n",
       "      <th>2</th>\n",
       "      <td>Member</td>\n",
       "      <td>Classic Bike</td>\n",
       "      <td>12.682397</td>\n",
       "    </tr>\n",
       "    <tr>\n",
       "      <th>3</th>\n",
       "      <td>Member</td>\n",
       "      <td>Electric Bike</td>\n",
       "      <td>12.054162</td>\n",
       "    </tr>\n",
       "  </tbody>\n",
       "</table>\n",
       "</div>"
      ],
      "text/plain": [
       "  Membership Status      Bike Type   duration\n",
       "0            Casual   Classic Bike  23.527075\n",
       "1            Casual  Electric Bike  22.438904\n",
       "2            Member   Classic Bike  12.682397\n",
       "3            Member  Electric Bike  12.054162"
      ]
     },
     "metadata": {},
     "output_type": "display_data"
    },
    {
     "data": {
      "application/vnd.plotly.v1+json": {
       "config": {
        "plotlyServerURL": "https://plot.ly"
       },
       "data": [
        {
         "alignmentgroup": "True",
         "cliponaxis": false,
         "hovertemplate": "Bike Type=Classic Bike<br>duration=%{x}<br>Membership Status=%{y}<br>Average Ride Duration (m)=%{text}<extra></extra>",
         "legendgroup": "Classic Bike",
         "marker": {
          "color": "#0072ce",
          "pattern": {
           "shape": ""
          }
         },
         "name": "Classic Bike",
         "offsetgroup": "Classic Bike",
         "orientation": "h",
         "showlegend": true,
         "text": [
          "23.5m",
          "12.7m"
         ],
         "textposition": "outside",
         "type": "bar",
         "x": {
          "bdata": "8hzjW+6GN0DvVIMVY10pQA==",
          "dtype": "f8"
         },
         "xaxis": "x",
         "y": [
          "Casual",
          "Member"
         ],
         "yaxis": "y"
        },
        {
         "alignmentgroup": "True",
         "cliponaxis": false,
         "hovertemplate": "Bike Type=Electric Bike<br>duration=%{x}<br>Membership Status=%{y}<br>Average Ride Duration (m)=%{text}<extra></extra>",
         "legendgroup": "Electric Bike",
         "marker": {
          "color": "#66b3e1",
          "pattern": {
           "shape": ""
          }
         },
         "name": "Electric Bike",
         "offsetgroup": "Electric Bike",
         "orientation": "h",
         "showlegend": true,
         "text": [
          "22.4m",
          "12.1m"
         ],
         "textposition": "outside",
         "type": "bar",
         "x": {
          "bdata": "R+KVBlxwNkAFd+AVuxsoQA==",
          "dtype": "f8"
         },
         "xaxis": "x",
         "y": [
          "Casual",
          "Member"
         ],
         "yaxis": "y"
        }
       ],
       "layout": {
        "barmode": "group",
        "font": {
         "color": "#0a0a0a",
         "family": "Sora",
         "size": 12
        },
        "legend": {
         "title": {
          "text": "Bike Type"
         },
         "tracegroupgap": 0
        },
        "margin": {
         "r": 0,
         "t": 200
        },
        "template": {
         "data": {
          "bar": [
           {
            "error_x": {
             "color": "#2a3f5f"
            },
            "error_y": {
             "color": "#2a3f5f"
            },
            "marker": {
             "line": {
              "color": "white",
              "width": 0.5
             },
             "pattern": {
              "fillmode": "overlay",
              "size": 10,
              "solidity": 0.2
             }
            },
            "type": "bar"
           }
          ],
          "barpolar": [
           {
            "marker": {
             "line": {
              "color": "white",
              "width": 0.5
             },
             "pattern": {
              "fillmode": "overlay",
              "size": 10,
              "solidity": 0.2
             }
            },
            "type": "barpolar"
           }
          ],
          "carpet": [
           {
            "aaxis": {
             "endlinecolor": "#2a3f5f",
             "gridcolor": "#C8D4E3",
             "linecolor": "#C8D4E3",
             "minorgridcolor": "#C8D4E3",
             "startlinecolor": "#2a3f5f"
            },
            "baxis": {
             "endlinecolor": "#2a3f5f",
             "gridcolor": "#C8D4E3",
             "linecolor": "#C8D4E3",
             "minorgridcolor": "#C8D4E3",
             "startlinecolor": "#2a3f5f"
            },
            "type": "carpet"
           }
          ],
          "choropleth": [
           {
            "colorbar": {
             "outlinewidth": 0,
             "ticks": ""
            },
            "type": "choropleth"
           }
          ],
          "contour": [
           {
            "colorbar": {
             "outlinewidth": 0,
             "ticks": ""
            },
            "colorscale": [
             [
              0,
              "#0d0887"
             ],
             [
              0.1111111111111111,
              "#46039f"
             ],
             [
              0.2222222222222222,
              "#7201a8"
             ],
             [
              0.3333333333333333,
              "#9c179e"
             ],
             [
              0.4444444444444444,
              "#bd3786"
             ],
             [
              0.5555555555555556,
              "#d8576b"
             ],
             [
              0.6666666666666666,
              "#ed7953"
             ],
             [
              0.7777777777777778,
              "#fb9f3a"
             ],
             [
              0.8888888888888888,
              "#fdca26"
             ],
             [
              1,
              "#f0f921"
             ]
            ],
            "type": "contour"
           }
          ],
          "contourcarpet": [
           {
            "colorbar": {
             "outlinewidth": 0,
             "ticks": ""
            },
            "type": "contourcarpet"
           }
          ],
          "heatmap": [
           {
            "colorbar": {
             "outlinewidth": 0,
             "ticks": ""
            },
            "colorscale": [
             [
              0,
              "#0d0887"
             ],
             [
              0.1111111111111111,
              "#46039f"
             ],
             [
              0.2222222222222222,
              "#7201a8"
             ],
             [
              0.3333333333333333,
              "#9c179e"
             ],
             [
              0.4444444444444444,
              "#bd3786"
             ],
             [
              0.5555555555555556,
              "#d8576b"
             ],
             [
              0.6666666666666666,
              "#ed7953"
             ],
             [
              0.7777777777777778,
              "#fb9f3a"
             ],
             [
              0.8888888888888888,
              "#fdca26"
             ],
             [
              1,
              "#f0f921"
             ]
            ],
            "type": "heatmap"
           }
          ],
          "histogram": [
           {
            "marker": {
             "pattern": {
              "fillmode": "overlay",
              "size": 10,
              "solidity": 0.2
             }
            },
            "type": "histogram"
           }
          ],
          "histogram2d": [
           {
            "colorbar": {
             "outlinewidth": 0,
             "ticks": ""
            },
            "colorscale": [
             [
              0,
              "#0d0887"
             ],
             [
              0.1111111111111111,
              "#46039f"
             ],
             [
              0.2222222222222222,
              "#7201a8"
             ],
             [
              0.3333333333333333,
              "#9c179e"
             ],
             [
              0.4444444444444444,
              "#bd3786"
             ],
             [
              0.5555555555555556,
              "#d8576b"
             ],
             [
              0.6666666666666666,
              "#ed7953"
             ],
             [
              0.7777777777777778,
              "#fb9f3a"
             ],
             [
              0.8888888888888888,
              "#fdca26"
             ],
             [
              1,
              "#f0f921"
             ]
            ],
            "type": "histogram2d"
           }
          ],
          "histogram2dcontour": [
           {
            "colorbar": {
             "outlinewidth": 0,
             "ticks": ""
            },
            "colorscale": [
             [
              0,
              "#0d0887"
             ],
             [
              0.1111111111111111,
              "#46039f"
             ],
             [
              0.2222222222222222,
              "#7201a8"
             ],
             [
              0.3333333333333333,
              "#9c179e"
             ],
             [
              0.4444444444444444,
              "#bd3786"
             ],
             [
              0.5555555555555556,
              "#d8576b"
             ],
             [
              0.6666666666666666,
              "#ed7953"
             ],
             [
              0.7777777777777778,
              "#fb9f3a"
             ],
             [
              0.8888888888888888,
              "#fdca26"
             ],
             [
              1,
              "#f0f921"
             ]
            ],
            "type": "histogram2dcontour"
           }
          ],
          "mesh3d": [
           {
            "colorbar": {
             "outlinewidth": 0,
             "ticks": ""
            },
            "type": "mesh3d"
           }
          ],
          "parcoords": [
           {
            "line": {
             "colorbar": {
              "outlinewidth": 0,
              "ticks": ""
             }
            },
            "type": "parcoords"
           }
          ],
          "pie": [
           {
            "automargin": true,
            "type": "pie"
           }
          ],
          "scatter": [
           {
            "fillpattern": {
             "fillmode": "overlay",
             "size": 10,
             "solidity": 0.2
            },
            "type": "scatter"
           }
          ],
          "scatter3d": [
           {
            "line": {
             "colorbar": {
              "outlinewidth": 0,
              "ticks": ""
             }
            },
            "marker": {
             "colorbar": {
              "outlinewidth": 0,
              "ticks": ""
             }
            },
            "type": "scatter3d"
           }
          ],
          "scattercarpet": [
           {
            "marker": {
             "colorbar": {
              "outlinewidth": 0,
              "ticks": ""
             }
            },
            "type": "scattercarpet"
           }
          ],
          "scattergeo": [
           {
            "marker": {
             "colorbar": {
              "outlinewidth": 0,
              "ticks": ""
             }
            },
            "type": "scattergeo"
           }
          ],
          "scattergl": [
           {
            "marker": {
             "colorbar": {
              "outlinewidth": 0,
              "ticks": ""
             }
            },
            "type": "scattergl"
           }
          ],
          "scattermap": [
           {
            "marker": {
             "colorbar": {
              "outlinewidth": 0,
              "ticks": ""
             }
            },
            "type": "scattermap"
           }
          ],
          "scattermapbox": [
           {
            "marker": {
             "colorbar": {
              "outlinewidth": 0,
              "ticks": ""
             }
            },
            "type": "scattermapbox"
           }
          ],
          "scatterpolar": [
           {
            "marker": {
             "colorbar": {
              "outlinewidth": 0,
              "ticks": ""
             }
            },
            "type": "scatterpolar"
           }
          ],
          "scatterpolargl": [
           {
            "marker": {
             "colorbar": {
              "outlinewidth": 0,
              "ticks": ""
             }
            },
            "type": "scatterpolargl"
           }
          ],
          "scatterternary": [
           {
            "marker": {
             "colorbar": {
              "outlinewidth": 0,
              "ticks": ""
             }
            },
            "type": "scatterternary"
           }
          ],
          "surface": [
           {
            "colorbar": {
             "outlinewidth": 0,
             "ticks": ""
            },
            "colorscale": [
             [
              0,
              "#0d0887"
             ],
             [
              0.1111111111111111,
              "#46039f"
             ],
             [
              0.2222222222222222,
              "#7201a8"
             ],
             [
              0.3333333333333333,
              "#9c179e"
             ],
             [
              0.4444444444444444,
              "#bd3786"
             ],
             [
              0.5555555555555556,
              "#d8576b"
             ],
             [
              0.6666666666666666,
              "#ed7953"
             ],
             [
              0.7777777777777778,
              "#fb9f3a"
             ],
             [
              0.8888888888888888,
              "#fdca26"
             ],
             [
              1,
              "#f0f921"
             ]
            ],
            "type": "surface"
           }
          ],
          "table": [
           {
            "cells": {
             "fill": {
              "color": "#EBF0F8"
             },
             "line": {
              "color": "white"
             }
            },
            "header": {
             "fill": {
              "color": "#C8D4E3"
             },
             "line": {
              "color": "white"
             }
            },
            "type": "table"
           }
          ]
         },
         "layout": {
          "annotationdefaults": {
           "arrowcolor": "#2a3f5f",
           "arrowhead": 0,
           "arrowwidth": 1
          },
          "autotypenumbers": "strict",
          "coloraxis": {
           "colorbar": {
            "outlinewidth": 0,
            "ticks": ""
           }
          },
          "colorscale": {
           "diverging": [
            [
             0,
             "#8e0152"
            ],
            [
             0.1,
             "#c51b7d"
            ],
            [
             0.2,
             "#de77ae"
            ],
            [
             0.3,
             "#f1b6da"
            ],
            [
             0.4,
             "#fde0ef"
            ],
            [
             0.5,
             "#f7f7f7"
            ],
            [
             0.6,
             "#e6f5d0"
            ],
            [
             0.7,
             "#b8e186"
            ],
            [
             0.8,
             "#7fbc41"
            ],
            [
             0.9,
             "#4d9221"
            ],
            [
             1,
             "#276419"
            ]
           ],
           "sequential": [
            [
             0,
             "#0d0887"
            ],
            [
             0.1111111111111111,
             "#46039f"
            ],
            [
             0.2222222222222222,
             "#7201a8"
            ],
            [
             0.3333333333333333,
             "#9c179e"
            ],
            [
             0.4444444444444444,
             "#bd3786"
            ],
            [
             0.5555555555555556,
             "#d8576b"
            ],
            [
             0.6666666666666666,
             "#ed7953"
            ],
            [
             0.7777777777777778,
             "#fb9f3a"
            ],
            [
             0.8888888888888888,
             "#fdca26"
            ],
            [
             1,
             "#f0f921"
            ]
           ],
           "sequentialminus": [
            [
             0,
             "#0d0887"
            ],
            [
             0.1111111111111111,
             "#46039f"
            ],
            [
             0.2222222222222222,
             "#7201a8"
            ],
            [
             0.3333333333333333,
             "#9c179e"
            ],
            [
             0.4444444444444444,
             "#bd3786"
            ],
            [
             0.5555555555555556,
             "#d8576b"
            ],
            [
             0.6666666666666666,
             "#ed7953"
            ],
            [
             0.7777777777777778,
             "#fb9f3a"
            ],
            [
             0.8888888888888888,
             "#fdca26"
            ],
            [
             1,
             "#f0f921"
            ]
           ]
          },
          "colorway": [
           "#636efa",
           "#EF553B",
           "#00cc96",
           "#ab63fa",
           "#FFA15A",
           "#19d3f3",
           "#FF6692",
           "#B6E880",
           "#FF97FF",
           "#FECB52"
          ],
          "font": {
           "color": "#2a3f5f"
          },
          "geo": {
           "bgcolor": "white",
           "lakecolor": "white",
           "landcolor": "white",
           "showlakes": true,
           "showland": true,
           "subunitcolor": "#C8D4E3"
          },
          "hoverlabel": {
           "align": "left"
          },
          "hovermode": "closest",
          "mapbox": {
           "style": "light"
          },
          "paper_bgcolor": "white",
          "plot_bgcolor": "white",
          "polar": {
           "angularaxis": {
            "gridcolor": "#EBF0F8",
            "linecolor": "#EBF0F8",
            "ticks": ""
           },
           "bgcolor": "white",
           "radialaxis": {
            "gridcolor": "#EBF0F8",
            "linecolor": "#EBF0F8",
            "ticks": ""
           }
          },
          "scene": {
           "xaxis": {
            "backgroundcolor": "white",
            "gridcolor": "#DFE8F3",
            "gridwidth": 2,
            "linecolor": "#EBF0F8",
            "showbackground": true,
            "ticks": "",
            "zerolinecolor": "#EBF0F8"
           },
           "yaxis": {
            "backgroundcolor": "white",
            "gridcolor": "#DFE8F3",
            "gridwidth": 2,
            "linecolor": "#EBF0F8",
            "showbackground": true,
            "ticks": "",
            "zerolinecolor": "#EBF0F8"
           },
           "zaxis": {
            "backgroundcolor": "white",
            "gridcolor": "#DFE8F3",
            "gridwidth": 2,
            "linecolor": "#EBF0F8",
            "showbackground": true,
            "ticks": "",
            "zerolinecolor": "#EBF0F8"
           }
          },
          "shapedefaults": {
           "line": {
            "color": "#2a3f5f"
           }
          },
          "ternary": {
           "aaxis": {
            "gridcolor": "#DFE8F3",
            "linecolor": "#A2B1C6",
            "ticks": ""
           },
           "baxis": {
            "gridcolor": "#DFE8F3",
            "linecolor": "#A2B1C6",
            "ticks": ""
           },
           "bgcolor": "white",
           "caxis": {
            "gridcolor": "#DFE8F3",
            "linecolor": "#A2B1C6",
            "ticks": ""
           }
          },
          "title": {
           "x": 0.05
          },
          "xaxis": {
           "automargin": true,
           "gridcolor": "#EBF0F8",
           "linecolor": "#EBF0F8",
           "ticks": "",
           "title": {
            "standoff": 15
           },
           "zerolinecolor": "#EBF0F8",
           "zerolinewidth": 2
          },
          "yaxis": {
           "automargin": true,
           "gridcolor": "#EBF0F8",
           "linecolor": "#EBF0F8",
           "ticks": "",
           "title": {
            "standoff": 15
           },
           "zerolinecolor": "#EBF0F8",
           "zerolinewidth": 2
          }
         }
        },
        "title": {
         "font": {
          "family": "Lora",
          "size": 24
         },
         "subtitle": {
          "text": "Average ride durations are consistently longer for casual users<br>across bike types, driven by tourist-oriented trips and pricing<br>models favoring short rides for members."
         },
         "text": "<b>How long are <span style='color:#0072ce;'>Citi Bike</span> rides?</b>"
        },
        "width": 600,
        "xaxis": {
         "anchor": "y",
         "domain": [
          0,
          1
         ],
         "title": {
          "text": "duration"
         },
         "visible": false
        },
        "yaxis": {
         "anchor": "x",
         "domain": [
          0,
          1
         ],
         "title": {
          "text": "Membership Status"
         }
        }
       }
      }
     },
     "metadata": {},
     "output_type": "display_data"
    }
   ],
   "source": [
    "df[\"duration_min\"] = (df[\"ended_at\"] - df[\"started_at\"]).dt.total_seconds() / 60\n",
    "\n",
    "df_avg_duration = (\n",
    "    df\n",
    "    .groupby([\"member_casual\", \"rideable_type\"])\n",
    "    .agg(\n",
    "        {\n",
    "            \"duration_min\": \"mean\"\n",
    "        }\n",
    "    )\n",
    "    .reset_index()\n",
    "    .rename(\n",
    "        columns = {\n",
    "            \"duration_min\": \"duration\",\n",
    "            \"member_casual\": \"Membership Status\",\n",
    "            \"rideable_type\": \"Bike Type\",\n",
    "        }\n",
    "    )\n",
    ")\n",
    "\n",
    "display(df_avg_duration)\n",
    "\n",
    "df_avg_duration[\"Average Ride Duration (m)\"] = df_avg_duration[\"duration\"].apply(lambda x: f\"{x:.3g}m\")\n",
    "\n",
    "fig = px.bar(\n",
    "    df_avg_duration,\n",
    "    y=\"Membership Status\",\n",
    "    x=\"duration\",\n",
    "    color=\"Bike Type\",\n",
    "    template=\"plotly_white\",\n",
    "    barmode=\"group\",\n",
    "    title=\"<b>How long are <span style='color:#0072ce;'>Citi Bike</span> rides?</b>\",\n",
    "    subtitle=\"Average ride durations are consistently longer for casual users<br>across bike types, driven by tourist-oriented trips and pricing<br>models favoring short rides for members.\",\n",
    "    color_discrete_sequence=[\"#0072ce\", \"#66b3e1\"],\n",
    "    width=600,\n",
    "    text=\"Average Ride Duration (m)\",\n",
    ")\n",
    "\n",
    "# set font colors, sizes, etc\n",
    "fig.update_layout(\n",
    "    font_color = \"#0a0a0a\",\n",
    "    title_font_family = 'Lora',\n",
    "    title_font_size = 24,\n",
    "    font_family = 'Sora',\n",
    "    font_size = 12,\n",
    "    # top margin to prevent subtitle from overlapping\n",
    "    margin = {'t': 200},\n",
    ")\n",
    "\n",
    "\n",
    "fig.update_traces(\n",
    "    # set text labels outside bars\n",
    "    textposition = 'outside',\n",
    "    # prevent text label from extending outside box\n",
    "    cliponaxis=False\n",
    ")\n",
    "\n",
    "# disable x axis\n",
    "fig.update_xaxes(visible = False)\n",
    "\n",
    "fig.show()"
   ]
  },
  {
   "cell_type": "code",
   "execution_count": 394,
   "id": "53efd548",
   "metadata": {},
   "outputs": [
    {
     "data": {
      "text/html": [
       "<div id=\"ycuxrueswf\" style=\"padding-left:0px;padding-right:0px;padding-top:10px;padding-bottom:10px;overflow-x:auto;overflow-y:auto;width:auto;height:auto;\">\n",
       "<style>\n",
       "@import url('https://fonts.googleapis.com/css2?family=Sora&display=swap');\n",
       "@import url('https://fonts.googleapis.com/css2?family=Lora&display=swap');\n",
       "#ycuxrueswf table {\n",
       "          font-family: Sora, -apple-system, BlinkMacSystemFont, 'Segoe UI', Roboto, Oxygen, Ubuntu, Cantarell, 'Helvetica Neue', 'Fira Sans', 'Droid Sans', Arial, sans-serif;\n",
       "          -webkit-font-smoothing: antialiased;\n",
       "          -moz-osx-font-smoothing: grayscale;\n",
       "        }\n",
       "\n",
       "#ycuxrueswf thead, tbody, tfoot, tr, td, th { border-style: none !important; }\n",
       " tr { background-color: transparent !important; }\n",
       "#ycuxrueswf p { margin: 0 !important; padding: 0 !important; }\n",
       " #ycuxrueswf .gt_table { display: table !important; border-collapse: collapse !important; line-height: normal !important; margin-left: auto !important; margin-right: auto !important; color: #333333 !important; font-size: 14px !important; font-weight: normal !important; font-style: normal !important; background-color: #FFFFFF !important; width: auto !important; border-top-style: solid !important; border-top-width: 2px !important; border-top-color: #A8A8A8 !important; border-right-style: none !important; border-right-width: 2px !important; border-right-color: #D3D3D3 !important; border-bottom-style: solid !important; border-bottom-width: 2px !important; border-bottom-color: #A8A8A8 !important; border-left-style: none !important; border-left-width: 2px !important; border-left-color: #D3D3D3 !important; }\n",
       " #ycuxrueswf .gt_caption { padding-top: 4px !important; padding-bottom: 4px !important; }\n",
       " #ycuxrueswf .gt_title { color: #333333 !important; font-size: 26px !important; font-weight: initial !important; padding-top: 4px !important; padding-bottom: 4px !important; padding-left: 5px !important; padding-right: 5px !important; border-bottom-color: #FFFFFF !important; border-bottom-width: 0 !important; }\n",
       " #ycuxrueswf .gt_subtitle { color: #333333 !important; font-size: 16px !important; font-weight: initial !important; padding-top: 3px !important; padding-bottom: 5px !important; padding-left: 5px !important; padding-right: 5px !important; border-top-color: #FFFFFF !important; border-top-width: 0 !important; }\n",
       " #ycuxrueswf .gt_heading { background-color: #FFFFFF !important; text-align: left !important; border-bottom-color: #FFFFFF !important; border-left-style: none !important; border-left-width: 1px !important; border-left-color: #D3D3D3 !important; border-right-style: none !important; border-right-width: 1px !important; border-right-color: #D3D3D3 !important; }\n",
       " #ycuxrueswf .gt_bottom_border { border-bottom-style: solid !important; border-bottom-width: 2px !important; border-bottom-color: #D3D3D3 !important; }\n",
       " #ycuxrueswf .gt_col_headings { border-top-style: solid !important; border-top-width: 2px !important; border-top-color: #D3D3D3 !important; border-bottom-style: solid !important; border-bottom-width: 2px !important; border-bottom-color: #D3D3D3 !important; border-left-style: none !important; border-left-width: 1px !important; border-left-color: #D3D3D3 !important; border-right-style: none !important; border-right-width: 1px !important; border-right-color: #D3D3D3 !important; }\n",
       " #ycuxrueswf .gt_col_heading { color: #333333 !important; background-color: #FFFFFF !important; font-size: 14px !important; font-weight: normal !important; text-transform: inherit !important; border-left-style: none !important; border-left-width: 1px !important; border-left-color: #D3D3D3 !important; border-right-style: none !important; border-right-width: 1px !important; border-right-color: #D3D3D3 !important; vertical-align: bottom !important; padding-top: 5px !important; padding-bottom: 5px !important; padding-left: 5px !important; padding-right: 5px !important; overflow-x: hidden !important; }\n",
       " #ycuxrueswf .gt_column_spanner_outer { color: #333333 !important; background-color: #FFFFFF !important; font-size: 14px !important; font-weight: normal !important; text-transform: inherit !important; padding-top: 0 !important; padding-bottom: 0 !important; padding-left: 4px !important; padding-right: 4px !important; }\n",
       " #ycuxrueswf .gt_column_spanner_outer:first-child { padding-left: 0 !important; }\n",
       " #ycuxrueswf .gt_column_spanner_outer:last-child { padding-right: 0 !important; }\n",
       " #ycuxrueswf .gt_column_spanner { border-bottom-style: solid !important; border-bottom-width: 2px !important; border-bottom-color: #D3D3D3 !important; vertical-align: bottom !important; padding-top: 5px !important; padding-bottom: 5px !important; overflow-x: hidden !important; display: inline-block !important; width: 100% !important; }\n",
       " #ycuxrueswf .gt_spanner_row { border-bottom-style: hidden !important; }\n",
       " #ycuxrueswf .gt_group_heading { padding-top: 8px !important; padding-bottom: 8px !important; padding-left: 5px !important; padding-right: 5px !important; color: #333333 !important; background-color: #FFFFFF !important; font-size: 100% !important; font-weight: initial !important; text-transform: inherit !important; border-top-style: solid !important; border-top-width: 2px !important; border-top-color: #D3D3D3 !important; border-bottom-style: solid !important; border-bottom-width: 2px !important; border-bottom-color: #D3D3D3 !important; border-left-style: none !important; border-left-width: 1px !important; border-left-color: #D3D3D3 !important; border-right-style: none !important; border-right-width: 1px !important; border-right-color: #D3D3D3 !important; vertical-align: middle !important; text-align: left !important; }\n",
       " #ycuxrueswf .gt_empty_group_heading { padding: 0.5px !important; color: #333333 !important; background-color: #FFFFFF !important; font-size: 100% !important; font-weight: initial !important; border-top-style: solid !important; border-top-width: 2px !important; border-top-color: #D3D3D3 !important; border-bottom-style: solid !important; border-bottom-width: 2px !important; border-bottom-color: #D3D3D3 !important; vertical-align: middle !important; }\n",
       " #ycuxrueswf .gt_from_md> :first-child { margin-top: 0 !important; }\n",
       " #ycuxrueswf .gt_from_md> :last-child { margin-bottom: 0 !important; }\n",
       " #ycuxrueswf .gt_row { padding-top: 1 !important; padding-bottom: 1 !important; padding-left: 5px !important; padding-right: 5px !important; margin: 10px !important; border-top-style: solid !important; border-top-width: 1px !important; border-top-color: #D3D3D3 !important; border-left-style: none !important; border-left-width: 1px !important; border-left-color: #D3D3D3 !important; border-right-style: none !important; border-right-width: 1px !important; border-right-color: #D3D3D3 !important; vertical-align: middle !important; overflow-x: hidden !important; }\n",
       " #ycuxrueswf .gt_stub { color: #333333 !important; background-color: #FFFFFF !important; font-size: 100% !important; font-weight: initial !important; text-transform: inherit !important; border-right-style: solid !important; border-right-width: 2px !important; border-right-color: #D3D3D3 !important; padding-left: 5px !important; padding-right: 5px !important; }\n",
       " #ycuxrueswf .gt_stub_row_group { color: #333333 !important; background-color: #FFFFFF !important; font-size: 100% !important; font-weight: initial !important; text-transform: inherit !important; border-right-style: solid !important; border-right-width: 2px !important; border-right-color: #D3D3D3 !important; padding-left: 5px !important; padding-right: 5px !important; vertical-align: top !important; }\n",
       " #ycuxrueswf .gt_row_group_first td { border-top-width: 2px !important; }\n",
       " #ycuxrueswf .gt_row_group_first th { border-top-width: 2px !important; }\n",
       " #ycuxrueswf .gt_striped { background-color: rgba(128,128,128,0.05) !important; }\n",
       " #ycuxrueswf .gt_table_body { border-top-style: solid !important; border-top-width: 2px !important; border-top-color: #D3D3D3 !important; border-bottom-style: solid !important; border-bottom-width: 2px !important; border-bottom-color: #D3D3D3 !important; }\n",
       " #ycuxrueswf .gt_sourcenotes { color: #333333 !important; background-color: #FFFFFF !important; border-bottom-style: none !important; border-bottom-width: 2px !important; border-bottom-color: #D3D3D3 !important; border-left-style: none !important; border-left-width: 2px !important; border-left-color: #D3D3D3 !important; border-right-style: none !important; border-right-width: 2px !important; border-right-color: #D3D3D3 !important; }\n",
       " #ycuxrueswf .gt_sourcenote { font-size: 90% !important; padding-top: 4px !important; padding-bottom: 4px !important; padding-left: 5px !important; padding-right: 5px !important; text-align: left !important; }\n",
       " #ycuxrueswf .gt_left { text-align: left !important; }\n",
       " #ycuxrueswf .gt_center { text-align: center !important; }\n",
       " #ycuxrueswf .gt_right { text-align: right !important; font-variant-numeric: tabular-nums !important; }\n",
       " #ycuxrueswf .gt_font_normal { font-weight: normal !important; }\n",
       " #ycuxrueswf .gt_font_bold { font-weight: bold !important; }\n",
       " #ycuxrueswf .gt_font_italic { font-style: italic !important; }\n",
       " #ycuxrueswf .gt_super { font-size: 65% !important; }\n",
       " #ycuxrueswf .gt_footnote_marks { font-size: 75% !important; vertical-align: 0.4em !important; position: initial !important; }\n",
       " #ycuxrueswf .gt_asterisk { font-size: 100% !important; vertical-align: 0 !important; }\n",
       " \n",
       "</style>\n",
       "<table class=\"gt_table\" data-quarto-disable-processing=\"false\" data-quarto-bootstrap=\"false\">\n",
       "<thead>\n",
       "\n",
       "  <tr class=\"gt_heading\">\n",
       "    <td colspan=\"2\" class=\"gt_heading gt_title gt_font_normal\" style=\"font-family: Lora;\"><strong>NYC's Top 10 <span style='color:#0072ce;'>Citi Bike</span> Stations</strong></td>\n",
       "  </tr>\n",
       "  <tr class=\"gt_heading\">\n",
       "    <td colspan=\"2\" class=\"gt_heading gt_subtitle gt_font_normal gt_bottom_border\">Students at NYU help fuel <span style='color:#0072ce;'>Citi Bike</span>’s popularity,<br>with 8 of the top 10 stations located within<br>blocks of the campus.</td>\n",
       "  </tr>\n",
       "<tr class=\"gt_col_headings\">\n",
       "  <th class=\"gt_col_heading gt_columns_bottom_border gt_left\" rowspan=\"1\" colspan=\"1\" scope=\"col\" id=\"Station Name\">Station Name</th>\n",
       "  <th class=\"gt_col_heading gt_columns_bottom_border gt_right\" rowspan=\"1\" colspan=\"1\" scope=\"col\" id=\"Ride Count\">Ride Count</th>\n",
       "</tr>\n",
       "</thead>\n",
       "<tbody class=\"gt_table_body\">\n",
       "  <tr>\n",
       "    <td class=\"gt_row gt_left\">W 21 St & 6 Ave</td>\n",
       "    <td style=\"color: #FFFFFF; background-color: #08326f;\" class=\"gt_row gt_right\">3,982</td>\n",
       "  </tr>\n",
       "  <tr>\n",
       "    <td class=\"gt_row gt_left\">University Pl & E 14 St</td>\n",
       "    <td style=\"color: #000000; background-color: #65aad4;\" class=\"gt_row gt_right\">3,036</td>\n",
       "  </tr>\n",
       "  <tr>\n",
       "    <td class=\"gt_row gt_left\">West St & Chambers St</td>\n",
       "    <td style=\"color: #000000; background-color: #67abd4;\" class=\"gt_row gt_right\">3,027</td>\n",
       "  </tr>\n",
       "  <tr>\n",
       "    <td class=\"gt_row gt_left\">1 Ave & E 68 St</td>\n",
       "    <td style=\"color: #000000; background-color: #79b6d9;\" class=\"gt_row gt_right\">2,929</td>\n",
       "  </tr>\n",
       "  <tr>\n",
       "    <td class=\"gt_row gt_left\">11 Ave & W 41 St</td>\n",
       "    <td style=\"color: #000000; background-color: #7fb9da;\" class=\"gt_row gt_right\">2,902</td>\n",
       "  </tr>\n",
       "  <tr>\n",
       "    <td class=\"gt_row gt_left\">Broadway & W 25 St</td>\n",
       "    <td style=\"color: #000000; background-color: #84bcdb;\" class=\"gt_row gt_right\">2,877</td>\n",
       "  </tr>\n",
       "  <tr>\n",
       "    <td class=\"gt_row gt_left\">W 31 St & 7 Ave</td>\n",
       "    <td style=\"color: #000000; background-color: #88bedc;\" class=\"gt_row gt_right\">2,856</td>\n",
       "  </tr>\n",
       "  <tr>\n",
       "    <td class=\"gt_row gt_left\">6 Ave & W 33 St</td>\n",
       "    <td style=\"color: #000000; background-color: #99c7e0;\" class=\"gt_row gt_right\">2,775</td>\n",
       "  </tr>\n",
       "  <tr>\n",
       "    <td class=\"gt_row gt_left\">E 17 St & Broadway</td>\n",
       "    <td style=\"color: #000000; background-color: #a4cce3;\" class=\"gt_row gt_right\">2,715</td>\n",
       "  </tr>\n",
       "  <tr>\n",
       "    <td class=\"gt_row gt_left\">Ave A & E 14 St</td>\n",
       "    <td style=\"color: #000000; background-color: #a8cee4;\" class=\"gt_row gt_right\">2,689</td>\n",
       "  </tr>\n",
       "</tbody>\n",
       "\n",
       "\n",
       "</table>\n",
       "\n",
       "</div>\n",
       "        "
      ]
     },
     "metadata": {
      "text/html": {
       "text/html": {
        "isolated": true
       }
      }
     },
     "output_type": "display_data"
    }
   ],
   "source": [
    "df_top_10_stations = (\n",
    "    df.groupby(\"start_station_id\")\n",
    "    .agg(\n",
    "        start_station_name=(\"start_station_name\", \"first\"),\n",
    "        total_rides=(\"ride_id\", \"count\"),\n",
    "    )\n",
    "    .sort_values(by=\"total_rides\", ascending=False)\n",
    "    .rename(\n",
    "        columns={\n",
    "            \"start_station_name\": \"Station Name\",\n",
    "            \"total_rides\": \"Ride Count\"\n",
    "        }\n",
    "    )\n",
    "    .head(10)\n",
    "    .reset_index()\n",
    ")\n",
    "\n",
    "# display(df_top_10_stations)\n",
    "\n",
    "table = (\n",
    "    GT(df_top_10_stations[[\"Station Name\", \"Ride Count\"]])\n",
    "    # set title and subtitle\n",
    "    .tab_header(\n",
    "        title=md(\n",
    "            \"**NYC's Top 10 <span style='color:#0072ce;'>Citi Bike</span> Stations**\"\n",
    "        ),\n",
    "        subtitle=md(\n",
    "            \"Students at NYU help fuel <span style='color:#0072ce;'>Citi Bike</span>’s popularity,<br>with 8 of the top 10 stations located within<br>blocks of the campus.\"\n",
    "        )\n",
    "    )\n",
    "    # left align header\n",
    "    .opt_align_table_header('left')\n",
    "    # format ride counts\n",
    "    .fmt_integer(columns=\"Ride Count\")\n",
    "    # set table font\n",
    "    .opt_table_font(google_font('Sora'))\n",
    "    # set title font\n",
    "    .tab_style(\n",
    "        style=style.text(font=google_font('Lora')),\n",
    "        locations=loc.title()\n",
    "    )\n",
    "    # set font sizes\n",
    "    .tab_options(\n",
    "        heading_title_font_size='26px',\n",
    "        heading_subtitle_font_size='16px',\n",
    "        column_labels_font_size='14px',\n",
    "        table_font_size = '14px',\n",
    "        data_row_padding = 1\n",
    "    )\n",
    "    # set heatmap\n",
    "    .data_color(\n",
    "        columns=\"Ride Count\",\n",
    "        palette = 'Blues',\n",
    "        domain=[2000, 4000]\n",
    "    )\n",
    ")\n",
    "\n",
    "table.show()"
   ]
  }
 ],
 "metadata": {
  "kernelspec": {
   "display_name": "data502",
   "language": "python",
   "name": "python3"
  },
  "language_info": {
   "codemirror_mode": {
    "name": "ipython",
    "version": 3
   },
   "file_extension": ".py",
   "mimetype": "text/x-python",
   "name": "python",
   "nbconvert_exporter": "python",
   "pygments_lexer": "ipython3",
   "version": "3.12.2"
  }
 },
 "nbformat": 4,
 "nbformat_minor": 5
}
