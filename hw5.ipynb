{
 "cells": [
  {
   "cell_type": "markdown",
   "metadata": {},
   "source": [
    "# Homework 5\n",
    "\n",
    "**Ryan Kulyassa**\n",
    "\n",
    "**Due 3/4/25**\n",
    "\n",
    "Assignment Goals:\n",
    "1. Continue practicing bar plots.\n",
    "2. Use indicator variables to highlight a single bar in a bar plot.\n",
    "3. Practice making bar plots with facets."
   ]
  },
  {
   "cell_type": "markdown",
   "metadata": {},
   "source": [
    "## Part 1: Practice"
   ]
  },
  {
   "cell_type": "markdown",
   "metadata": {},
   "source": [
    "1. Use the top-500-books dataset we've previously used in class for this assignment."
   ]
  },
  {
   "cell_type": "code",
   "execution_count": 27,
   "metadata": {},
   "outputs": [
    {
     "data": {
      "text/html": [
       "<div>\n",
       "<style scoped>\n",
       "    .dataframe tbody tr th:only-of-type {\n",
       "        vertical-align: middle;\n",
       "    }\n",
       "\n",
       "    .dataframe tbody tr th {\n",
       "        vertical-align: top;\n",
       "    }\n",
       "\n",
       "    .dataframe thead th {\n",
       "        text-align: right;\n",
       "    }\n",
       "</style>\n",
       "<table border=\"1\" class=\"dataframe\">\n",
       "  <thead>\n",
       "    <tr style=\"text-align: right;\">\n",
       "      <th></th>\n",
       "      <th>top_500_rank</th>\n",
       "      <th>title</th>\n",
       "      <th>author</th>\n",
       "      <th>pub_year</th>\n",
       "      <th>orig_lang</th>\n",
       "      <th>genre</th>\n",
       "      <th>author_birth</th>\n",
       "      <th>author_death</th>\n",
       "      <th>author_gender</th>\n",
       "      <th>author_primary_lang</th>\n",
       "      <th>...</th>\n",
       "      <th>gr_num_ratings</th>\n",
       "      <th>gr_num_reviews</th>\n",
       "      <th>gr_avg_rating_rank</th>\n",
       "      <th>gr_num_ratings_rank</th>\n",
       "      <th>oclc_owi</th>\n",
       "      <th>author_viaf</th>\n",
       "      <th>gr_url</th>\n",
       "      <th>wiki_url</th>\n",
       "      <th>pg_eng_url</th>\n",
       "      <th>pg_orig_url</th>\n",
       "    </tr>\n",
       "  </thead>\n",
       "  <tbody>\n",
       "    <tr>\n",
       "      <th>0</th>\n",
       "      <td>1</td>\n",
       "      <td>Don Quixote</td>\n",
       "      <td>Miguel de Cervantes</td>\n",
       "      <td>1605</td>\n",
       "      <td>Spanish</td>\n",
       "      <td>action</td>\n",
       "      <td>1547</td>\n",
       "      <td>1616</td>\n",
       "      <td>male</td>\n",
       "      <td>spa</td>\n",
       "      <td>...</td>\n",
       "      <td>269435</td>\n",
       "      <td>12053</td>\n",
       "      <td>318</td>\n",
       "      <td>211</td>\n",
       "      <td>1.810748e+09</td>\n",
       "      <td>17220427.0</td>\n",
       "      <td>https://www.goodreads.com/book/show/3836.Don_Q...</td>\n",
       "      <td>https://en.wikipedia.org/wiki/Don_Quixote</td>\n",
       "      <td>https://www.gutenberg.org/cache/epub/996/pg996...</td>\n",
       "      <td>https://www.gutenberg.org/cache/epub/2000/pg20...</td>\n",
       "    </tr>\n",
       "    <tr>\n",
       "      <th>1</th>\n",
       "      <td>2</td>\n",
       "      <td>Alice's Adventures in Wonderland</td>\n",
       "      <td>Lewis Carroll</td>\n",
       "      <td>1865</td>\n",
       "      <td>English</td>\n",
       "      <td>fantasy</td>\n",
       "      <td>1832</td>\n",
       "      <td>1898</td>\n",
       "      <td>male</td>\n",
       "      <td>eng</td>\n",
       "      <td>...</td>\n",
       "      <td>561016</td>\n",
       "      <td>15380</td>\n",
       "      <td>172</td>\n",
       "      <td>133</td>\n",
       "      <td>1.156132e+10</td>\n",
       "      <td>66462036.0</td>\n",
       "      <td>https://www.goodreads.com/book/show/24213.Alic...</td>\n",
       "      <td>https://en.wikipedia.org/wiki/Alice%27s_Advent...</td>\n",
       "      <td>https://www.gutenberg.org/cache/epub/11/pg11.txt</td>\n",
       "      <td>NaN</td>\n",
       "    </tr>\n",
       "    <tr>\n",
       "      <th>2</th>\n",
       "      <td>3</td>\n",
       "      <td>The Adventures of Huckleberry Finn</td>\n",
       "      <td>Mark Twain</td>\n",
       "      <td>1884</td>\n",
       "      <td>English</td>\n",
       "      <td>action</td>\n",
       "      <td>1835</td>\n",
       "      <td>1910</td>\n",
       "      <td>male</td>\n",
       "      <td>eng</td>\n",
       "      <td>...</td>\n",
       "      <td>1262480</td>\n",
       "      <td>19440</td>\n",
       "      <td>373</td>\n",
       "      <td>68</td>\n",
       "      <td>3.373178e+09</td>\n",
       "      <td>50566653.0</td>\n",
       "      <td>https://www.goodreads.com/book/show/2956.The_A...</td>\n",
       "      <td>https://en.wikipedia.org/wiki/Adventures_of_Hu...</td>\n",
       "      <td>https://www.gutenberg.org/cache/epub/76/pg76.txt</td>\n",
       "      <td>NaN</td>\n",
       "    </tr>\n",
       "    <tr>\n",
       "      <th>3</th>\n",
       "      <td>4</td>\n",
       "      <td>The Adventures of Tom Sawyer</td>\n",
       "      <td>Mark Twain</td>\n",
       "      <td>1876</td>\n",
       "      <td>English</td>\n",
       "      <td>action</td>\n",
       "      <td>1835</td>\n",
       "      <td>1910</td>\n",
       "      <td>male</td>\n",
       "      <td>eng</td>\n",
       "      <td>...</td>\n",
       "      <td>931898</td>\n",
       "      <td>13603</td>\n",
       "      <td>301</td>\n",
       "      <td>88</td>\n",
       "      <td>3.373178e+09</td>\n",
       "      <td>50566653.0</td>\n",
       "      <td>https://www.goodreads.com/book/show/24583.The_...</td>\n",
       "      <td>https://en.wikipedia.org/wiki/The_Adventures_o...</td>\n",
       "      <td>https://www.gutenberg.org/cache/epub/74/pg74.txt</td>\n",
       "      <td>NaN</td>\n",
       "    </tr>\n",
       "    <tr>\n",
       "      <th>4</th>\n",
       "      <td>5</td>\n",
       "      <td>Treasure Island</td>\n",
       "      <td>Robert Louis Stevenson</td>\n",
       "      <td>1883</td>\n",
       "      <td>English</td>\n",
       "      <td>action</td>\n",
       "      <td>1850</td>\n",
       "      <td>1894</td>\n",
       "      <td>male</td>\n",
       "      <td>eng</td>\n",
       "      <td>...</td>\n",
       "      <td>486155</td>\n",
       "      <td>16307</td>\n",
       "      <td>368</td>\n",
       "      <td>145</td>\n",
       "      <td>3.434000e+03</td>\n",
       "      <td>95207986.0</td>\n",
       "      <td>https://www.goodreads.com/book/show/295.Treasu...</td>\n",
       "      <td>https://en.wikipedia.org/wiki/Treasure_Island</td>\n",
       "      <td>https://www.gutenberg.org/cache/epub/120/pg120...</td>\n",
       "      <td>NaN</td>\n",
       "    </tr>\n",
       "  </tbody>\n",
       "</table>\n",
       "<p>5 rows × 29 columns</p>\n",
       "</div>"
      ],
      "text/plain": [
       "   top_500_rank                               title                  author  \\\n",
       "0             1                         Don Quixote     Miguel de Cervantes   \n",
       "1             2    Alice's Adventures in Wonderland           Lewis Carroll   \n",
       "2             3  The Adventures of Huckleberry Finn              Mark Twain   \n",
       "3             4        The Adventures of Tom Sawyer              Mark Twain   \n",
       "4             5                     Treasure Island  Robert Louis Stevenson   \n",
       "\n",
       "   pub_year orig_lang    genre author_birth author_death author_gender  \\\n",
       "0      1605   Spanish   action         1547         1616          male   \n",
       "1      1865   English  fantasy         1832         1898          male   \n",
       "2      1884   English   action         1835         1910          male   \n",
       "3      1876   English   action         1835         1910          male   \n",
       "4      1883   English   action         1850         1894          male   \n",
       "\n",
       "  author_primary_lang  ... gr_num_ratings gr_num_reviews gr_avg_rating_rank  \\\n",
       "0                 spa  ...         269435          12053                318   \n",
       "1                 eng  ...         561016          15380                172   \n",
       "2                 eng  ...        1262480          19440                373   \n",
       "3                 eng  ...         931898          13603                301   \n",
       "4                 eng  ...         486155          16307                368   \n",
       "\n",
       "   gr_num_ratings_rank      oclc_owi  author_viaf  \\\n",
       "0                  211  1.810748e+09   17220427.0   \n",
       "1                  133  1.156132e+10   66462036.0   \n",
       "2                   68  3.373178e+09   50566653.0   \n",
       "3                   88  3.373178e+09   50566653.0   \n",
       "4                  145  3.434000e+03   95207986.0   \n",
       "\n",
       "                                              gr_url  \\\n",
       "0  https://www.goodreads.com/book/show/3836.Don_Q...   \n",
       "1  https://www.goodreads.com/book/show/24213.Alic...   \n",
       "2  https://www.goodreads.com/book/show/2956.The_A...   \n",
       "3  https://www.goodreads.com/book/show/24583.The_...   \n",
       "4  https://www.goodreads.com/book/show/295.Treasu...   \n",
       "\n",
       "                                            wiki_url  \\\n",
       "0          https://en.wikipedia.org/wiki/Don_Quixote   \n",
       "1  https://en.wikipedia.org/wiki/Alice%27s_Advent...   \n",
       "2  https://en.wikipedia.org/wiki/Adventures_of_Hu...   \n",
       "3  https://en.wikipedia.org/wiki/The_Adventures_o...   \n",
       "4      https://en.wikipedia.org/wiki/Treasure_Island   \n",
       "\n",
       "                                          pg_eng_url  \\\n",
       "0  https://www.gutenberg.org/cache/epub/996/pg996...   \n",
       "1   https://www.gutenberg.org/cache/epub/11/pg11.txt   \n",
       "2   https://www.gutenberg.org/cache/epub/76/pg76.txt   \n",
       "3   https://www.gutenberg.org/cache/epub/74/pg74.txt   \n",
       "4  https://www.gutenberg.org/cache/epub/120/pg120...   \n",
       "\n",
       "                                         pg_orig_url  \n",
       "0  https://www.gutenberg.org/cache/epub/2000/pg20...  \n",
       "1                                                NaN  \n",
       "2                                                NaN  \n",
       "3                                                NaN  \n",
       "4                                                NaN  \n",
       "\n",
       "[5 rows x 29 columns]"
      ]
     },
     "execution_count": 27,
     "metadata": {},
     "output_type": "execute_result"
    }
   ],
   "source": [
    "import pandas as pd\n",
    "\n",
    "df = pd.read_csv(\"data/top-500-novels-metadata_2025-01-11.csv\")\n",
    "\n",
    "df.head()"
   ]
  },
  {
   "cell_type": "markdown",
   "metadata": {},
   "source": [
    "2. Create an aesthetic bar plot that uses an indicator variable to highlight a single bar."
   ]
  },
  {
   "cell_type": "code",
   "execution_count": 60,
   "metadata": {},
   "outputs": [
    {
     "data": {
      "application/vnd.plotly.v1+json": {
       "config": {
        "plotlyServerURL": "https://plot.ly"
       },
       "data": [
        {
         "hovertemplate": "flag=False<br>Books Published=%{text}<br>Author=%{y}<extra></extra>",
         "legendgroup": "False",
         "marker": {
          "color": "lightgray",
          "pattern": {
           "shape": ""
          }
         },
         "name": "False",
         "orientation": "h",
         "showlegend": true,
         "text": {
          "bdata": "AAAAAAAAHEAAAAAAAAAcQAAAAAAAABxAAAAAAAAAHEAAAAAAAAAgQAAAAAAAACBAAAAAAAAALkA=",
          "dtype": "f8"
         },
         "textposition": "outside",
         "type": "bar",
         "x": {
          "bdata": "BwcHBwgIDw==",
          "dtype": "i1"
         },
         "xaxis": "x",
         "y": [
          "J.K. Rowling",
          "Stephen King",
          "Laura Ingalls Wilder",
          "Nicholas Sparks",
          "C.S. Lewis",
          "John Steinbeck",
          "Charles Dickens"
         ],
         "yaxis": "y"
        },
        {
         "hovertemplate": "flag=True<br>Books Published=%{text}<br>Author=%{y}<extra></extra>",
         "legendgroup": "True",
         "marker": {
          "color": "palegreen",
          "pattern": {
           "shape": ""
          }
         },
         "name": "True",
         "orientation": "h",
         "showlegend": true,
         "text": {
          "bdata": "AAAAAAAAM0A=",
          "dtype": "f8"
         },
         "textposition": "outside",
         "type": "bar",
         "x": {
          "bdata": "Ew==",
          "dtype": "i1"
         },
         "xaxis": "x",
         "y": [
          "John Grisham"
         ],
         "yaxis": "y"
        }
       ],
       "layout": {
        "barmode": "relative",
        "font": {
         "family": "Sora"
        },
        "height": 500,
        "legend": {
         "title": {
          "text": "flag"
         },
         "tracegroupgap": 0
        },
        "margin": {
         "t": 130
        },
        "showlegend": false,
        "template": {
         "data": {
          "bar": [
           {
            "error_x": {
             "color": "rgb(36,36,36)"
            },
            "error_y": {
             "color": "rgb(36,36,36)"
            },
            "marker": {
             "line": {
              "color": "white",
              "width": 0.5
             },
             "pattern": {
              "fillmode": "overlay",
              "size": 10,
              "solidity": 0.2
             }
            },
            "type": "bar"
           }
          ],
          "barpolar": [
           {
            "marker": {
             "line": {
              "color": "white",
              "width": 0.5
             },
             "pattern": {
              "fillmode": "overlay",
              "size": 10,
              "solidity": 0.2
             }
            },
            "type": "barpolar"
           }
          ],
          "carpet": [
           {
            "aaxis": {
             "endlinecolor": "rgb(36,36,36)",
             "gridcolor": "white",
             "linecolor": "white",
             "minorgridcolor": "white",
             "startlinecolor": "rgb(36,36,36)"
            },
            "baxis": {
             "endlinecolor": "rgb(36,36,36)",
             "gridcolor": "white",
             "linecolor": "white",
             "minorgridcolor": "white",
             "startlinecolor": "rgb(36,36,36)"
            },
            "type": "carpet"
           }
          ],
          "choropleth": [
           {
            "colorbar": {
             "outlinewidth": 1,
             "tickcolor": "rgb(36,36,36)",
             "ticks": "outside"
            },
            "type": "choropleth"
           }
          ],
          "contour": [
           {
            "colorbar": {
             "outlinewidth": 1,
             "tickcolor": "rgb(36,36,36)",
             "ticks": "outside"
            },
            "colorscale": [
             [
              0,
              "#440154"
             ],
             [
              0.1111111111111111,
              "#482878"
             ],
             [
              0.2222222222222222,
              "#3e4989"
             ],
             [
              0.3333333333333333,
              "#31688e"
             ],
             [
              0.4444444444444444,
              "#26828e"
             ],
             [
              0.5555555555555556,
              "#1f9e89"
             ],
             [
              0.6666666666666666,
              "#35b779"
             ],
             [
              0.7777777777777778,
              "#6ece58"
             ],
             [
              0.8888888888888888,
              "#b5de2b"
             ],
             [
              1,
              "#fde725"
             ]
            ],
            "type": "contour"
           }
          ],
          "contourcarpet": [
           {
            "colorbar": {
             "outlinewidth": 1,
             "tickcolor": "rgb(36,36,36)",
             "ticks": "outside"
            },
            "type": "contourcarpet"
           }
          ],
          "heatmap": [
           {
            "colorbar": {
             "outlinewidth": 1,
             "tickcolor": "rgb(36,36,36)",
             "ticks": "outside"
            },
            "colorscale": [
             [
              0,
              "#440154"
             ],
             [
              0.1111111111111111,
              "#482878"
             ],
             [
              0.2222222222222222,
              "#3e4989"
             ],
             [
              0.3333333333333333,
              "#31688e"
             ],
             [
              0.4444444444444444,
              "#26828e"
             ],
             [
              0.5555555555555556,
              "#1f9e89"
             ],
             [
              0.6666666666666666,
              "#35b779"
             ],
             [
              0.7777777777777778,
              "#6ece58"
             ],
             [
              0.8888888888888888,
              "#b5de2b"
             ],
             [
              1,
              "#fde725"
             ]
            ],
            "type": "heatmap"
           }
          ],
          "histogram": [
           {
            "marker": {
             "line": {
              "color": "white",
              "width": 0.6
             }
            },
            "type": "histogram"
           }
          ],
          "histogram2d": [
           {
            "colorbar": {
             "outlinewidth": 1,
             "tickcolor": "rgb(36,36,36)",
             "ticks": "outside"
            },
            "colorscale": [
             [
              0,
              "#440154"
             ],
             [
              0.1111111111111111,
              "#482878"
             ],
             [
              0.2222222222222222,
              "#3e4989"
             ],
             [
              0.3333333333333333,
              "#31688e"
             ],
             [
              0.4444444444444444,
              "#26828e"
             ],
             [
              0.5555555555555556,
              "#1f9e89"
             ],
             [
              0.6666666666666666,
              "#35b779"
             ],
             [
              0.7777777777777778,
              "#6ece58"
             ],
             [
              0.8888888888888888,
              "#b5de2b"
             ],
             [
              1,
              "#fde725"
             ]
            ],
            "type": "histogram2d"
           }
          ],
          "histogram2dcontour": [
           {
            "colorbar": {
             "outlinewidth": 1,
             "tickcolor": "rgb(36,36,36)",
             "ticks": "outside"
            },
            "colorscale": [
             [
              0,
              "#440154"
             ],
             [
              0.1111111111111111,
              "#482878"
             ],
             [
              0.2222222222222222,
              "#3e4989"
             ],
             [
              0.3333333333333333,
              "#31688e"
             ],
             [
              0.4444444444444444,
              "#26828e"
             ],
             [
              0.5555555555555556,
              "#1f9e89"
             ],
             [
              0.6666666666666666,
              "#35b779"
             ],
             [
              0.7777777777777778,
              "#6ece58"
             ],
             [
              0.8888888888888888,
              "#b5de2b"
             ],
             [
              1,
              "#fde725"
             ]
            ],
            "type": "histogram2dcontour"
           }
          ],
          "mesh3d": [
           {
            "colorbar": {
             "outlinewidth": 1,
             "tickcolor": "rgb(36,36,36)",
             "ticks": "outside"
            },
            "type": "mesh3d"
           }
          ],
          "parcoords": [
           {
            "line": {
             "colorbar": {
              "outlinewidth": 1,
              "tickcolor": "rgb(36,36,36)",
              "ticks": "outside"
             }
            },
            "type": "parcoords"
           }
          ],
          "pie": [
           {
            "automargin": true,
            "type": "pie"
           }
          ],
          "scatter": [
           {
            "fillpattern": {
             "fillmode": "overlay",
             "size": 10,
             "solidity": 0.2
            },
            "type": "scatter"
           }
          ],
          "scatter3d": [
           {
            "line": {
             "colorbar": {
              "outlinewidth": 1,
              "tickcolor": "rgb(36,36,36)",
              "ticks": "outside"
             }
            },
            "marker": {
             "colorbar": {
              "outlinewidth": 1,
              "tickcolor": "rgb(36,36,36)",
              "ticks": "outside"
             }
            },
            "type": "scatter3d"
           }
          ],
          "scattercarpet": [
           {
            "marker": {
             "colorbar": {
              "outlinewidth": 1,
              "tickcolor": "rgb(36,36,36)",
              "ticks": "outside"
             }
            },
            "type": "scattercarpet"
           }
          ],
          "scattergeo": [
           {
            "marker": {
             "colorbar": {
              "outlinewidth": 1,
              "tickcolor": "rgb(36,36,36)",
              "ticks": "outside"
             }
            },
            "type": "scattergeo"
           }
          ],
          "scattergl": [
           {
            "marker": {
             "colorbar": {
              "outlinewidth": 1,
              "tickcolor": "rgb(36,36,36)",
              "ticks": "outside"
             }
            },
            "type": "scattergl"
           }
          ],
          "scattermap": [
           {
            "marker": {
             "colorbar": {
              "outlinewidth": 1,
              "tickcolor": "rgb(36,36,36)",
              "ticks": "outside"
             }
            },
            "type": "scattermap"
           }
          ],
          "scattermapbox": [
           {
            "marker": {
             "colorbar": {
              "outlinewidth": 1,
              "tickcolor": "rgb(36,36,36)",
              "ticks": "outside"
             }
            },
            "type": "scattermapbox"
           }
          ],
          "scatterpolar": [
           {
            "marker": {
             "colorbar": {
              "outlinewidth": 1,
              "tickcolor": "rgb(36,36,36)",
              "ticks": "outside"
             }
            },
            "type": "scatterpolar"
           }
          ],
          "scatterpolargl": [
           {
            "marker": {
             "colorbar": {
              "outlinewidth": 1,
              "tickcolor": "rgb(36,36,36)",
              "ticks": "outside"
             }
            },
            "type": "scatterpolargl"
           }
          ],
          "scatterternary": [
           {
            "marker": {
             "colorbar": {
              "outlinewidth": 1,
              "tickcolor": "rgb(36,36,36)",
              "ticks": "outside"
             }
            },
            "type": "scatterternary"
           }
          ],
          "surface": [
           {
            "colorbar": {
             "outlinewidth": 1,
             "tickcolor": "rgb(36,36,36)",
             "ticks": "outside"
            },
            "colorscale": [
             [
              0,
              "#440154"
             ],
             [
              0.1111111111111111,
              "#482878"
             ],
             [
              0.2222222222222222,
              "#3e4989"
             ],
             [
              0.3333333333333333,
              "#31688e"
             ],
             [
              0.4444444444444444,
              "#26828e"
             ],
             [
              0.5555555555555556,
              "#1f9e89"
             ],
             [
              0.6666666666666666,
              "#35b779"
             ],
             [
              0.7777777777777778,
              "#6ece58"
             ],
             [
              0.8888888888888888,
              "#b5de2b"
             ],
             [
              1,
              "#fde725"
             ]
            ],
            "type": "surface"
           }
          ],
          "table": [
           {
            "cells": {
             "fill": {
              "color": "rgb(237,237,237)"
             },
             "line": {
              "color": "white"
             }
            },
            "header": {
             "fill": {
              "color": "rgb(217,217,217)"
             },
             "line": {
              "color": "white"
             }
            },
            "type": "table"
           }
          ]
         },
         "layout": {
          "annotationdefaults": {
           "arrowhead": 0,
           "arrowwidth": 1
          },
          "autotypenumbers": "strict",
          "coloraxis": {
           "colorbar": {
            "outlinewidth": 1,
            "tickcolor": "rgb(36,36,36)",
            "ticks": "outside"
           }
          },
          "colorscale": {
           "diverging": [
            [
             0,
             "rgb(103,0,31)"
            ],
            [
             0.1,
             "rgb(178,24,43)"
            ],
            [
             0.2,
             "rgb(214,96,77)"
            ],
            [
             0.3,
             "rgb(244,165,130)"
            ],
            [
             0.4,
             "rgb(253,219,199)"
            ],
            [
             0.5,
             "rgb(247,247,247)"
            ],
            [
             0.6,
             "rgb(209,229,240)"
            ],
            [
             0.7,
             "rgb(146,197,222)"
            ],
            [
             0.8,
             "rgb(67,147,195)"
            ],
            [
             0.9,
             "rgb(33,102,172)"
            ],
            [
             1,
             "rgb(5,48,97)"
            ]
           ],
           "sequential": [
            [
             0,
             "#440154"
            ],
            [
             0.1111111111111111,
             "#482878"
            ],
            [
             0.2222222222222222,
             "#3e4989"
            ],
            [
             0.3333333333333333,
             "#31688e"
            ],
            [
             0.4444444444444444,
             "#26828e"
            ],
            [
             0.5555555555555556,
             "#1f9e89"
            ],
            [
             0.6666666666666666,
             "#35b779"
            ],
            [
             0.7777777777777778,
             "#6ece58"
            ],
            [
             0.8888888888888888,
             "#b5de2b"
            ],
            [
             1,
             "#fde725"
            ]
           ],
           "sequentialminus": [
            [
             0,
             "#440154"
            ],
            [
             0.1111111111111111,
             "#482878"
            ],
            [
             0.2222222222222222,
             "#3e4989"
            ],
            [
             0.3333333333333333,
             "#31688e"
            ],
            [
             0.4444444444444444,
             "#26828e"
            ],
            [
             0.5555555555555556,
             "#1f9e89"
            ],
            [
             0.6666666666666666,
             "#35b779"
            ],
            [
             0.7777777777777778,
             "#6ece58"
            ],
            [
             0.8888888888888888,
             "#b5de2b"
            ],
            [
             1,
             "#fde725"
            ]
           ]
          },
          "colorway": [
           "#1F77B4",
           "#FF7F0E",
           "#2CA02C",
           "#D62728",
           "#9467BD",
           "#8C564B",
           "#E377C2",
           "#7F7F7F",
           "#BCBD22",
           "#17BECF"
          ],
          "font": {
           "color": "rgb(36,36,36)"
          },
          "geo": {
           "bgcolor": "white",
           "lakecolor": "white",
           "landcolor": "white",
           "showlakes": true,
           "showland": true,
           "subunitcolor": "white"
          },
          "hoverlabel": {
           "align": "left"
          },
          "hovermode": "closest",
          "mapbox": {
           "style": "light"
          },
          "paper_bgcolor": "white",
          "plot_bgcolor": "white",
          "polar": {
           "angularaxis": {
            "gridcolor": "rgb(232,232,232)",
            "linecolor": "rgb(36,36,36)",
            "showgrid": false,
            "showline": true,
            "ticks": "outside"
           },
           "bgcolor": "white",
           "radialaxis": {
            "gridcolor": "rgb(232,232,232)",
            "linecolor": "rgb(36,36,36)",
            "showgrid": false,
            "showline": true,
            "ticks": "outside"
           }
          },
          "scene": {
           "xaxis": {
            "backgroundcolor": "white",
            "gridcolor": "rgb(232,232,232)",
            "gridwidth": 2,
            "linecolor": "rgb(36,36,36)",
            "showbackground": true,
            "showgrid": false,
            "showline": true,
            "ticks": "outside",
            "zeroline": false,
            "zerolinecolor": "rgb(36,36,36)"
           },
           "yaxis": {
            "backgroundcolor": "white",
            "gridcolor": "rgb(232,232,232)",
            "gridwidth": 2,
            "linecolor": "rgb(36,36,36)",
            "showbackground": true,
            "showgrid": false,
            "showline": true,
            "ticks": "outside",
            "zeroline": false,
            "zerolinecolor": "rgb(36,36,36)"
           },
           "zaxis": {
            "backgroundcolor": "white",
            "gridcolor": "rgb(232,232,232)",
            "gridwidth": 2,
            "linecolor": "rgb(36,36,36)",
            "showbackground": true,
            "showgrid": false,
            "showline": true,
            "ticks": "outside",
            "zeroline": false,
            "zerolinecolor": "rgb(36,36,36)"
           }
          },
          "shapedefaults": {
           "fillcolor": "black",
           "line": {
            "width": 0
           },
           "opacity": 0.3
          },
          "ternary": {
           "aaxis": {
            "gridcolor": "rgb(232,232,232)",
            "linecolor": "rgb(36,36,36)",
            "showgrid": false,
            "showline": true,
            "ticks": "outside"
           },
           "baxis": {
            "gridcolor": "rgb(232,232,232)",
            "linecolor": "rgb(36,36,36)",
            "showgrid": false,
            "showline": true,
            "ticks": "outside"
           },
           "bgcolor": "white",
           "caxis": {
            "gridcolor": "rgb(232,232,232)",
            "linecolor": "rgb(36,36,36)",
            "showgrid": false,
            "showline": true,
            "ticks": "outside"
           }
          },
          "title": {
           "x": 0.05
          },
          "xaxis": {
           "automargin": true,
           "gridcolor": "rgb(232,232,232)",
           "linecolor": "rgb(36,36,36)",
           "showgrid": false,
           "showline": true,
           "ticks": "outside",
           "title": {
            "standoff": 15
           },
           "zeroline": false,
           "zerolinecolor": "rgb(36,36,36)"
          },
          "yaxis": {
           "automargin": true,
           "gridcolor": "rgb(232,232,232)",
           "linecolor": "rgb(36,36,36)",
           "showgrid": false,
           "showline": true,
           "ticks": "outside",
           "title": {
            "standoff": 15
           },
           "zeroline": false,
           "zerolinecolor": "rgb(36,36,36)"
          }
         }
        },
        "title": {
         "font": {
          "family": "Lora",
          "size": 22
         },
         "subtitle": {
          "text": "With 19 books published, John Grisham tops the list ahead of Charles Dickens and others."
         },
         "text": "<b>Most Published Authors: Who Leads the Pack?</b>"
        },
        "width": 1000,
        "xaxis": {
         "anchor": "y",
         "domain": [
          0,
          1
         ],
         "title": {
          "text": "Books Published"
         },
         "visible": false
        },
        "yaxis": {
         "anchor": "x",
         "domain": [
          0,
          1
         ],
         "ticks": "",
         "title": {
          "text": "Author"
         }
        }
       }
      }
     },
     "metadata": {},
     "output_type": "display_data"
    }
   ],
   "source": [
    "import plotly.express as px\n",
    "\n",
    "df_book_count = (\n",
    "    df\n",
    "    # Group by author\n",
    "    .groupby('author')\n",
    "    # Aggregate by counting the number of books by each author\n",
    "    .agg(\n",
    "        book_count=('title', 'count')\n",
    "    )\n",
    "    .reset_index()\n",
    "    # Sort\n",
    "    .sort_values(by='book_count', ascending=True)\n",
    "    # Filter to authors with more than 5 books\n",
    "    [lambda x: x['book_count'] > 5]\n",
    "    .rename(\n",
    "        columns={\n",
    "            'book_count': 'Books Published',\n",
    "            'author': 'Author'\n",
    "        }\n",
    "    )\n",
    ")\n",
    "\n",
    "# Add indicator variable\n",
    "\n",
    "df_book_count.loc[\n",
    "    df_book_count['Author'] == 'John Grisham',\n",
    "    'flag'\n",
    "] = True\n",
    "\n",
    "df_book_count.loc[\n",
    "    df_book_count['Author'] != 'John Grisham',\n",
    "    'flag'\n",
    "] = False\n",
    "\n",
    "# display(df_book_count)\n",
    "\n",
    "# Create chart\n",
    "\n",
    "fig = px.bar(\n",
    "    df_book_count,\n",
    "    x='Books Published',\n",
    "    y='Author',\n",
    "    template = 'simple_white',\n",
    "    title = '<b>Most Published Authors: Who Leads the Pack?</b>',\n",
    "    subtitle = 'With 19 books published, John Grisham tops the list ahead of Charles Dickens and others.',\n",
    "    height = 500,\n",
    "    width = 1000,\n",
    "    color_discrete_sequence=['lightgray', 'palegreen'],\n",
    "    color = 'flag',\n",
    "    text = 'Books Published'\n",
    ")\n",
    "fig.update_layout(\n",
    "    yaxis_ticks = \"\",\n",
    "    title_font_family = 'Lora',\n",
    "    font_family = 'Sora',\n",
    "    title_font_size = 22,\n",
    "    margin = {'t':130},\n",
    "    showlegend = False\n",
    ")\n",
    "fig.update_traces(textposition = 'outside')\n",
    "fig.update_xaxes(visible = False)\n",
    "\n",
    "fig.show()"
   ]
  },
  {
   "cell_type": "markdown",
   "metadata": {},
   "source": [
    "3. Create an aesthetic faceted bar plot that also uses an indicator variable to a highlight a single\n",
    "bar."
   ]
  },
  {
   "cell_type": "code",
   "execution_count": 92,
   "metadata": {},
   "outputs": [
    {
     "data": {
      "application/vnd.plotly.v1+json": {
       "config": {
        "plotlyServerURL": "https://plot.ly"
       },
       "data": [
        {
         "hovertemplate": "flag=False<br>author_gender=male<br>genre=%{x}<br>gr_num_ratings=%{y}<extra></extra>",
         "legendgroup": "False",
         "marker": {
          "color": "lightgray",
          "pattern": {
           "shape": ""
          }
         },
         "name": "False",
         "orientation": "v",
         "showlegend": true,
         "textposition": "auto",
         "type": "bar",
         "x": [
          "action",
          "action",
          "action",
          "action",
          "allegories",
          "bildung",
          "history",
          "bildung",
          "bildung",
          "history",
          "history",
          "political",
          "action",
          "scifi",
          "romance",
          "history",
          "mystery",
          "history",
          "allegories",
          "history",
          "history",
          "history",
          "war",
          "history",
          "bildung",
          "bildung",
          "allegories",
          "history",
          "bildung",
          "scifi",
          "scifi",
          "war",
          "action",
          "history",
          "political",
          "political",
          "mystery",
          "war",
          "romance",
          "romance",
          "bildung",
          "action",
          "mystery",
          "scifi",
          "autobio",
          "war",
          "action",
          "history",
          "romance",
          "political",
          "bildung",
          "action",
          "history",
          "action",
          "bildung",
          "history",
          "political",
          "bildung",
          "allegories",
          "bildung",
          "thrillers",
          "mystery",
          "bildung",
          "allegories",
          "bildung",
          "autobio",
          "history",
          "history",
          "autobio",
          "history",
          "scifi",
          "romance",
          "political",
          "thrillers",
          "allegories",
          "history",
          "romance",
          "bildung",
          "political",
          "history",
          "history",
          "romance",
          "action",
          "mystery",
          "scifi",
          "horror",
          "scifi",
          "mystery",
          "scifi",
          "history",
          "romance",
          "bildung",
          "romance",
          "autobio",
          "scifi",
          "history",
          "scifi",
          "scifi",
          "history",
          "thrillers",
          "bildung",
          "history",
          "mystery",
          "romance",
          "political",
          "thrillers",
          "political",
          "bildung",
          "thrillers",
          "thrillers",
          "thrillers",
          "history",
          "thrillers",
          "history",
          "political",
          "political",
          "thrillers",
          "political",
          "history",
          "romance",
          "romance",
          "thrillers",
          "political",
          "history",
          "thrillers",
          "bildung",
          "thrillers",
          "allegories",
          "horror",
          "thrillers",
          "horror",
          "mystery",
          "thrillers",
          "mystery",
          "history",
          "thrillers",
          "action",
          "romance",
          "horror",
          "thrillers",
          "thrillers",
          "history",
          "romance",
          "romance",
          "scifi",
          "action",
          "horror",
          "bildung",
          "horror",
          "romance",
          "scifi",
          "history",
          "romance",
          "mystery",
          "thrillers",
          "bildung",
          "bildung",
          "bildung",
          "bildung",
          "horror",
          "romance",
          "romance",
          "history",
          "thrillers",
          "history",
          "history",
          "history",
          "mystery",
          "scifi",
          "history",
          "thrillers",
          "history",
          "scifi",
          "action",
          "political"
         ],
         "xaxis": "x2",
         "y": {
          "bdata": "exwEAJBDEwA6OA4AC2sHALMYAgBbnwMAamUOAHwvDAAu5QUApOUEAEz6BADcyjoA5IIGAOYrAACV3QwA0X0BAKwHAwC63A0AbmMRADcOAwBXcQEAKJYBAHfiBAAY0QEArU4CAHojAQC+6wQA3fsAAMR2NQCbliQAcgkDALP4BgBq4gIAu3gBABaORQA7NgIADLwjAKB1BADvUwIAAZYAAIDmAAChkgAACDwFAErDBACQPwYAbKUMANrBAwDOvwYARqkHAHs4AQB/rgAAx6AEAAjDAgAt9QUAO8IvAHyMAAAWIwEAKFMAAAbzAAC4vwAA3ZQwAFVqAQCeHgEAYVoAADHeAACd+wEAfToAANa9JgBDDQAAZYgAAC3SFAB2jwAArZIAACpaMADrUAcAMW4eAOxyAAAb1wAAXvcAAGejBQCyPQAAMBcCAJzpAQBzmQAAP9IKAGOsAwC2+AMAWHkWANXSAAAXkwAA1uYMAN6WFACVqxkAq+kAAGjgFABzigUA7eEHALLxGwChVAMAdgsOAHktBgCOmgsAbYcGACjtTQD4QQAA53QBAFdYAAB+CQEAfc8BAOSfBAC6QwkAGwkAAKcuCwBMTwEAWlcFAPEpAADqdgEAEGcBADMAAQD0HAkAsLIDAANPAQDA9QAAEAICANOhAAD5fQEAEl8IAMvSAwB2jAsAy4MBADXVEADhnwEAvC8BAHyaAABKrQEA6MMBALt+AACmeQEAr5AWAC+sAAAC8gEA9EgAAM/LAgBJPwwADiYXADTBAADgkQoA7NACABPtCgCGQgAAGY8OAPiPAAAWggUA8ggEAGV1AADOrgAA3GIBAERDGADquwAAVKsCAOWfAgAJcgIAnSYAAJlxAADmAwAAfZcEAMY1AABYZgAAFB8GAPd2AAByEQEAJGMAADPCBAA0awAAsg0KAA==",
          "dtype": "i4"
         },
         "yaxis": "y2"
        },
        {
         "hovertemplate": "flag=False<br>author_gender=female<br>genre=%{x}<br>gr_num_ratings=%{y}<extra></extra>",
         "legendgroup": "False",
         "marker": {
          "color": "lightgray",
          "pattern": {
           "shape": ""
          }
         },
         "name": "False",
         "orientation": "v",
         "showlegend": false,
         "textposition": "auto",
         "type": "bar",
         "x": [
          "romance",
          "romance",
          "horror",
          "political",
          "romance",
          "history",
          "romance",
          "romance",
          "scifi",
          "romance",
          "history",
          "romance",
          "romance",
          "scifi",
          "scifi",
          "romance",
          "scifi",
          "history",
          "history",
          "history",
          "mystery",
          "bildung",
          "history",
          "history",
          "autobio",
          "scifi",
          "history",
          "romance",
          "mystery",
          "romance",
          "scifi",
          "romance",
          "autobio",
          "bildung",
          "history",
          "thrillers",
          "mystery",
          "mystery",
          "autobio",
          "autobio",
          "mystery",
          "action",
          "romance",
          "history",
          "mystery",
          "history",
          "history",
          "history",
          "action",
          "history",
          "bildung",
          "history",
          "history",
          "bildung",
          "mystery",
          "romance"
         ],
         "xaxis": "x",
         "y": {
          "bdata": "w7BAAIfQHwAUMBgAsnQDACcREgCAYxIAZ6UKAJdNBQDRRRIABBQGAHyXBgDbhgkAObxjABmHJQDyRoMAyGIAACQaNgBb5gEAtZEAAOLyKQB8aAkA2dADAFMXBABivAAAsWwEAJTwBQD/nQgAdpAYAEl/FAAC5hkA8eEwAOWTBQAciwEAv94CALYPBABm4S4ArGwAAMpwAQB+VQEAiy8BAKYiBAD9yAAA5wACABaHAAChOwMARGcAAFkaAQAzIwEAougAAHAoAABIjQIAsGcBALJbAQC3EAAAB4QBAM0cAgA=",
          "dtype": "i4"
         },
         "yaxis": "y"
        },
        {
         "hovertemplate": "flag=True<br>author_gender=male<br>genre=%{x}<br>gr_num_ratings=%{y}<extra></extra>",
         "legendgroup": "True",
         "marker": {
          "color": "palegreen",
          "pattern": {
           "shape": ""
          }
         },
         "name": "True",
         "orientation": "v",
         "showlegend": true,
         "textposition": "auto",
         "type": "bar",
         "x": [
          "fantasy",
          "fantasy",
          "fantasy",
          "fantasy",
          "fantasy",
          "fantasy",
          "fantasy",
          "fantasy",
          "fantasy",
          "fantasy",
          "fantasy",
          "fantasy",
          "fantasy",
          "fantasy",
          "fantasy",
          "fantasy",
          "fantasy",
          "fantasy",
          "fantasy",
          "fantasy",
          "fantasy",
          "fantasy",
          "fantasy",
          "fantasy",
          "fantasy",
          "fantasy",
          "fantasy",
          "fantasy",
          "fantasy",
          "fantasy",
          "fantasy",
          "fantasy",
          "fantasy"
         ],
         "xaxis": "x2",
         "y": {
          "bdata": "eI8IAPspBAA1JDwAaa0NAEjiBgA3TwMA32sqAF1GBQACkwEAjKgqAIvLGwA1pw4AcjQIACwwBABgUQUAUSEHAKakBgCDgwQANQ8CAL9uBADQ9hoAW4YtAFNTCAAEziUA7LcCAFKlAQDPnQYAsi4BAL9XAAC4RgkAPnkFAPBbBAAlsBEA",
          "dtype": "i4"
         },
         "yaxis": "y2"
        },
        {
         "hovertemplate": "flag=True<br>author_gender=female<br>genre=%{x}<br>gr_num_ratings=%{y}<extra></extra>",
         "legendgroup": "True",
         "marker": {
          "color": "palegreen",
          "pattern": {
           "shape": ""
          }
         },
         "name": "True",
         "orientation": "v",
         "showlegend": false,
         "textposition": "auto",
         "type": "bar",
         "x": [
          "fantasy",
          "fantasy",
          "fantasy",
          "fantasy",
          "fantasy",
          "fantasy",
          "fantasy",
          "fantasy",
          "fantasy",
          "fantasy",
          "fantasy",
          "fantasy",
          "fantasy",
          "fantasy",
          "fantasy"
         ],
         "xaxis": "x",
         "y": {
          "bdata": "Yj+YABZyOwCPRT8AFO03AAFGMwDgNTgAmEsIAMEqBACtBwIAR98AAPabAQCKlwAARKYxALVyBgBq7wEA",
          "dtype": "i4"
         },
         "yaxis": "y"
        }
       ],
       "layout": {
        "annotations": [
         {
          "font": {},
          "showarrow": false,
          "text": "author_gender=female",
          "x": 0.5,
          "xanchor": "center",
          "xref": "paper",
          "y": 0.46499999999999997,
          "yanchor": "bottom",
          "yref": "paper"
         },
         {
          "font": {},
          "showarrow": false,
          "text": "author_gender=male",
          "x": 0.5,
          "xanchor": "center",
          "xref": "paper",
          "y": 0.9999999999999999,
          "yanchor": "bottom",
          "yref": "paper"
         }
        ],
        "barmode": "relative",
        "font": {
         "family": "Helvetica"
        },
        "height": 800,
        "legend": {
         "title": {
          "text": "flag"
         },
         "tracegroupgap": 0
        },
        "margin": {
         "t": 200
        },
        "showlegend": false,
        "template": {
         "data": {
          "scatter": [
           {
            "type": "scatter"
           }
          ]
         }
        },
        "title": {
         "font": {
          "family": "Baskerville",
          "size": 22
         },
         "subtitle": {
          "text": "Across both male and female authors, fantasy novels have received the highest number of ratings on Goodreads,<br>highlighting the genre’s widespread popularity and reader engagement."
         },
         "text": "<b>Fantasy Reigns Supreme: The Most Rated Genre on Goodreads.</b>",
         "x": 0.068
        },
        "width": 900,
        "xaxis": {
         "anchor": "y",
         "domain": [
          0,
          1
         ],
         "showticklabels": true,
         "title": {
          "text": "genre"
         }
        },
        "xaxis2": {
         "anchor": "y2",
         "domain": [
          0,
          1
         ],
         "matches": "x",
         "showticklabels": true
        },
        "yaxis": {
         "anchor": "x",
         "domain": [
          0,
          0.46499999999999997
         ],
         "title": {
          "text": "gr_num_ratings"
         }
        },
        "yaxis2": {
         "anchor": "x2",
         "domain": [
          0.5349999999999999,
          0.9999999999999999
         ],
         "matches": "y",
         "title": {
          "text": "gr_num_ratings"
         }
        }
       }
      }
     },
     "metadata": {},
     "output_type": "display_data"
    }
   ],
   "source": [
    "# faceted bar plot\n",
    "\n",
    "# copy original df\n",
    "df_fig2 = df.copy()\n",
    "\n",
    "# add indicator variable\n",
    "df_fig2.loc[\n",
    "    df_fig2['genre'] == 'fantasy',\n",
    "    'flag'\n",
    "] = True\n",
    "df_fig2.loc[\n",
    "    df_fig2['flag'] != True,\n",
    "    'flag'\n",
    "] = False\n",
    "\n",
    "# remove columns where genre is na\n",
    "# must be done after adding indicator variable otherwise pandas throws a warning\n",
    "df_fig2 = df_fig2[df_fig2['genre'] != 'na']\n",
    "\n",
    "fig2 = px.bar(\n",
    "    df_fig2,\n",
    "    x = 'genre',\n",
    "    y = 'gr_num_ratings',\n",
    "    color = 'flag',\n",
    "    # Add a facet variable\n",
    "    facet_col = 'author_gender',\n",
    "    # Change the number of columns\n",
    "    facet_col_wrap = 1,\n",
    "    height = 800,\n",
    "    color_discrete_sequence=['lightgray', 'palegreen'],\n",
    "    # Different TEMPLATE (with gridlines)\n",
    "    template = 'none',\n",
    "    title = \"<b>Fantasy Reigns Supreme: The Most Rated Genre on Goodreads.</b>\",\n",
    "    subtitle = \"Across both male and female authors, fantasy novels have received the highest number of ratings on Goodreads,<br>highlighting the genre’s widespread popularity and reader engagement.\",\n",
    "    width = 900,\n",
    ")\n",
    "fig2.update_layout(\n",
    "    showlegend = False,\n",
    "    margin = {'t':200},\n",
    "    font_family = 'Helvetica',\n",
    "    title_font_family = 'Baskerville',\n",
    "    title_font_size = 22,\n",
    "    # Left align title\n",
    "    title_x = 0.068 # Start title 6.8% into the figure\n",
    ")\n",
    "fig2.for_each_xaxis(lambda xaxis: xaxis.update(showticklabels=True))"
   ]
  },
  {
   "cell_type": "markdown",
   "metadata": {},
   "source": [
    "4. Convert the bar plot of Example 3 into grouped and stacked bar plots."
   ]
  },
  {
   "cell_type": "code",
   "execution_count": null,
   "metadata": {},
   "outputs": [
    {
     "data": {
      "application/vnd.plotly.v1+json": {
       "config": {
        "plotlyServerURL": "https://plot.ly"
       },
       "data": [
        {
         "alignmentgroup": "True",
         "hovertemplate": "author_gender=male<br>genre=%{x}<br>gr_num_ratings=%{y}<extra></extra>",
         "legendgroup": "male",
         "marker": {
          "color": "lightblue",
          "pattern": {
           "shape": ""
          }
         },
         "name": "male",
         "offsetgroup": "male",
         "orientation": "v",
         "showlegend": true,
         "textposition": "auto",
         "type": "bar",
         "x": [
          "action",
          "fantasy",
          "action",
          "action",
          "action",
          "fantasy",
          "allegories",
          "bildung",
          "history",
          "bildung",
          "fantasy",
          "bildung",
          "fantasy",
          "history",
          "history",
          "fantasy",
          "political",
          "action",
          "scifi",
          "romance",
          "fantasy",
          "history",
          "mystery",
          "history",
          "allegories",
          "fantasy",
          "history",
          "history",
          "history",
          "fantasy",
          "war",
          "history",
          "bildung",
          "bildung",
          "allegories",
          "history",
          "bildung",
          "scifi",
          "scifi",
          "war",
          "fantasy",
          "action",
          "history",
          "political",
          "political",
          "mystery",
          "war",
          "romance",
          "fantasy",
          "romance",
          "fantasy",
          "bildung",
          "action",
          "mystery",
          "fantasy",
          "scifi",
          "autobio",
          "war",
          "action",
          "fantasy",
          "history",
          "romance",
          "political",
          "bildung",
          "action",
          "history",
          "action",
          "bildung",
          "history",
          "political",
          "fantasy",
          "bildung",
          "allegories",
          "bildung",
          "fantasy",
          "thrillers",
          "fantasy",
          "mystery",
          "fantasy",
          "fantasy",
          "bildung",
          "allegories",
          "bildung",
          "autobio",
          "fantasy",
          "history",
          "history",
          "autobio",
          "history",
          "scifi",
          "romance",
          "political",
          "thrillers",
          "allegories",
          "history",
          "romance",
          "bildung",
          "political",
          "history",
          "history",
          "romance",
          "fantasy",
          "action",
          "mystery",
          "scifi",
          "horror",
          "scifi",
          "mystery",
          "scifi",
          "history",
          "romance",
          "bildung",
          "romance",
          "autobio",
          "scifi",
          "history",
          "scifi",
          "fantasy",
          "scifi",
          "history",
          "thrillers",
          "bildung",
          "history",
          "mystery",
          "romance",
          "political",
          "thrillers",
          "political",
          "bildung",
          "thrillers",
          "thrillers",
          "thrillers",
          "fantasy",
          "history",
          "thrillers",
          "history",
          "political",
          "political",
          "thrillers",
          "political",
          "history",
          "fantasy",
          "romance",
          "romance",
          "thrillers",
          "political",
          "history",
          "thrillers",
          "fantasy",
          "bildung",
          "thrillers",
          "allegories",
          "horror",
          "thrillers",
          "horror",
          "mystery",
          "thrillers",
          "mystery",
          "history",
          "thrillers",
          "action",
          "romance",
          "horror",
          "thrillers",
          "thrillers",
          "history",
          "romance",
          "romance",
          "scifi",
          "action",
          "fantasy",
          "horror",
          "bildung",
          "fantasy",
          "fantasy",
          "horror",
          "romance",
          "scifi",
          "history",
          "fantasy",
          "romance",
          "mystery",
          "thrillers",
          "fantasy",
          "fantasy",
          "bildung",
          "bildung",
          "bildung",
          "bildung",
          "horror",
          "romance",
          "fantasy",
          "romance",
          "fantasy",
          "history",
          "thrillers",
          "history",
          "history",
          "history",
          "mystery",
          "scifi",
          "history",
          "thrillers",
          "history",
          "fantasy",
          "scifi",
          "action",
          "political"
         ],
         "xaxis": "x",
         "y": {
          "bdata": "exwEAHiPCACQQxMAOjgOAAtrBwD7KQQAsxgCAFufAwBqZQ4AfC8MADUkPAAu5QUAaa0NAKTlBABM+gQASOIGANzKOgDkggYA5isAAJXdDAA3TwMA0X0BAKwHAwC63A0AbmMRAN9rKgA3DgMAV3EBACiWAQBdRgUAd+IEABjRAQCtTgIAeiMBAL7rBADd+wAAxHY1AJuWJAByCQMAs/gGAAKTAQBq4gIAu3gBABaORQA7NgIADLwjAKB1BADvUwIAjKgqAAGWAACLyxsAgOYAAKGSAAAIPAUANacOAErDBACQPwYAbKUMANrBAwByNAgAzr8GAEapBwB7OAEAf64AAMegBAAIwwIALfUFADvCLwB8jAAAFiMBACwwBAAoUwAABvMAALi/AABgUQUA3ZQwAFEhBwBVagEApqQGAIODBACeHgEAYVoAADHeAACd+wEANQ8CAH06AADWvSYAQw0AAGWIAAAt0hQAdo8AAK2SAAAqWjAA61AHADFuHgDscgAAG9cAAF73AABnowUAsj0AADAXAgC/bgQAnOkBAHOZAAA/0goAY6wDALb4AwBYeRYA1dIAABeTAADW5gwA3pYUAJWrGQCr6QAAaOAUAHOKBQDt4QcA0PYaALLxGwChVAMAdgsOAHktBgCOmgsAbYcGACjtTQD4QQAA53QBAFdYAAB+CQEAfc8BAOSfBAC6QwkAW4YtABsJAACnLgsATE8BAFpXBQDxKQAA6nYBABBnAQAzAAEAU1MIAPQcCQCwsgMAA08BAMD1AAAQAgIA06EAAATOJQD5fQEAEl8IAMvSAwB2jAsAy4MBADXVEADhnwEAvC8BAHyaAABKrQEA6MMBALt+AACmeQEAr5AWAC+sAAAC8gEA9EgAAM/LAgBJPwwADiYXADTBAADstwIA4JEKAOzQAgBSpQEAz50GABPtCgCGQgAAGY8OAPiPAACyLgEAFoIFAPIIBABldQAAv1cAALhGCQDOrgAA3GIBAERDGADquwAAVKsCAOWfAgA+eQUACXICAPBbBACdJgAAmXEAAOYDAAB9lwQAxjUAAFhmAAAUHwYA93YAAHIRAQAkYwAAJbARADPCBAA0awAAsg0KAA==",
          "dtype": "i4"
         },
         "yaxis": "y"
        },
        {
         "alignmentgroup": "True",
         "hovertemplate": "author_gender=female<br>genre=%{x}<br>gr_num_ratings=%{y}<extra></extra>",
         "legendgroup": "female",
         "marker": {
          "color": "salmon",
          "pattern": {
           "shape": ""
          }
         },
         "name": "female",
         "offsetgroup": "female",
         "orientation": "v",
         "showlegend": true,
         "textposition": "auto",
         "type": "bar",
         "x": [
          "romance",
          "romance",
          "horror",
          "political",
          "romance",
          "fantasy",
          "fantasy",
          "history",
          "romance",
          "romance",
          "fantasy",
          "fantasy",
          "scifi",
          "romance",
          "history",
          "fantasy",
          "romance",
          "romance",
          "scifi",
          "scifi",
          "fantasy",
          "fantasy",
          "romance",
          "scifi",
          "history",
          "history",
          "history",
          "mystery",
          "bildung",
          "history",
          "history",
          "fantasy",
          "autobio",
          "scifi",
          "history",
          "romance",
          "mystery",
          "romance",
          "scifi",
          "romance",
          "autobio",
          "bildung",
          "history",
          "thrillers",
          "mystery",
          "fantasy",
          "fantasy",
          "mystery",
          "autobio",
          "autobio",
          "mystery",
          "fantasy",
          "action",
          "romance",
          "history",
          "mystery",
          "history",
          "fantasy",
          "history",
          "history",
          "action",
          "history",
          "fantasy",
          "fantasy",
          "fantasy",
          "bildung",
          "history",
          "history",
          "bildung",
          "mystery",
          "romance"
         ],
         "xaxis": "x",
         "y": {
          "bdata": "w7BAAIfQHwAUMBgAsnQDACcREgBiP5gAFnI7AIBjEgBnpQoAl00FAI9FPwAU7TcA0UUSAAQUBgB8lwYAAUYzANuGCQA5vGMAGYclAPJGgwDgNTgAmEsIAMhiAAAkGjYAW+YBALWRAADi8ikAfGgJANnQAwBTFwQAYrwAAMEqBACxbAQAlPAFAP+dCAB2kBgASX8UAALmGQDx4TAA5ZMFAByLAQC/3gIAtg8EAGbhLgCsbAAArQcCAEffAADKcAEAflUBAIsvAQCmIgQA9psBAP3IAADnAAIAFocAAKE7AwBEZwAAipcAAFkaAQAzIwEAougAAHAoAABEpjEAtXIGAGrvAQBIjQIAsGcBALJbAQC3EAAAB4QBAM0cAgA=",
          "dtype": "i4"
         },
         "yaxis": "y"
        }
       ],
       "layout": {
        "barmode": "group",
        "font": {
         "family": "Helvetica"
        },
        "height": 800,
        "legend": {
         "title": {
          "text": "author_gender"
         },
         "tracegroupgap": 0
        },
        "template": {
         "data": {
          "scatter": [
           {
            "type": "scatter"
           }
          ]
         }
        },
        "title": {
         "font": {
          "family": "Baskerville",
          "size": 22
         },
         "subtitle": {
          "text": "Science fiction leads in ratings for both male and female authors, with fantasy following closely."
         },
         "text": "<b>Science Fiction Reigns Supreme: Goodreads Ratings by Genre and Gender</b>",
         "x": 0.068
        },
        "width": 900,
        "xaxis": {
         "anchor": "y",
         "domain": [
          0,
          1
         ],
         "title": {
          "text": "genre"
         }
        },
        "yaxis": {
         "anchor": "x",
         "domain": [
          0,
          1
         ],
         "title": {
          "text": "gr_num_ratings"
         }
        }
       }
      }
     },
     "metadata": {},
     "output_type": "display_data"
    },
    {
     "data": {
      "application/vnd.plotly.v1+json": {
       "config": {
        "plotlyServerURL": "https://plot.ly"
       },
       "data": [
        {
         "hovertemplate": "author_gender=male<br>genre=%{x}<br>gr_num_ratings=%{y}<extra></extra>",
         "legendgroup": "male",
         "marker": {
          "color": "lightblue",
          "pattern": {
           "shape": ""
          }
         },
         "name": "male",
         "orientation": "v",
         "showlegend": true,
         "textposition": "auto",
         "type": "bar",
         "x": [
          "action",
          "fantasy",
          "action",
          "action",
          "action",
          "fantasy",
          "allegories",
          "bildung",
          "history",
          "bildung",
          "fantasy",
          "bildung",
          "fantasy",
          "history",
          "history",
          "fantasy",
          "political",
          "action",
          "scifi",
          "romance",
          "fantasy",
          "history",
          "mystery",
          "history",
          "allegories",
          "fantasy",
          "history",
          "history",
          "history",
          "fantasy",
          "war",
          "history",
          "bildung",
          "bildung",
          "allegories",
          "history",
          "bildung",
          "scifi",
          "scifi",
          "war",
          "fantasy",
          "action",
          "history",
          "political",
          "political",
          "mystery",
          "war",
          "romance",
          "fantasy",
          "romance",
          "fantasy",
          "bildung",
          "action",
          "mystery",
          "fantasy",
          "scifi",
          "autobio",
          "war",
          "action",
          "fantasy",
          "history",
          "romance",
          "political",
          "bildung",
          "action",
          "history",
          "action",
          "bildung",
          "history",
          "political",
          "fantasy",
          "bildung",
          "allegories",
          "bildung",
          "fantasy",
          "thrillers",
          "fantasy",
          "mystery",
          "fantasy",
          "fantasy",
          "bildung",
          "allegories",
          "bildung",
          "autobio",
          "fantasy",
          "history",
          "history",
          "autobio",
          "history",
          "scifi",
          "romance",
          "political",
          "thrillers",
          "allegories",
          "history",
          "romance",
          "bildung",
          "political",
          "history",
          "history",
          "romance",
          "fantasy",
          "action",
          "mystery",
          "scifi",
          "horror",
          "scifi",
          "mystery",
          "scifi",
          "history",
          "romance",
          "bildung",
          "romance",
          "autobio",
          "scifi",
          "history",
          "scifi",
          "fantasy",
          "scifi",
          "history",
          "thrillers",
          "bildung",
          "history",
          "mystery",
          "romance",
          "political",
          "thrillers",
          "political",
          "bildung",
          "thrillers",
          "thrillers",
          "thrillers",
          "fantasy",
          "history",
          "thrillers",
          "history",
          "political",
          "political",
          "thrillers",
          "political",
          "history",
          "fantasy",
          "romance",
          "romance",
          "thrillers",
          "political",
          "history",
          "thrillers",
          "fantasy",
          "bildung",
          "thrillers",
          "allegories",
          "horror",
          "thrillers",
          "horror",
          "mystery",
          "thrillers",
          "mystery",
          "history",
          "thrillers",
          "action",
          "romance",
          "horror",
          "thrillers",
          "thrillers",
          "history",
          "romance",
          "romance",
          "scifi",
          "action",
          "fantasy",
          "horror",
          "bildung",
          "fantasy",
          "fantasy",
          "horror",
          "romance",
          "scifi",
          "history",
          "fantasy",
          "romance",
          "mystery",
          "thrillers",
          "fantasy",
          "fantasy",
          "bildung",
          "bildung",
          "bildung",
          "bildung",
          "horror",
          "romance",
          "fantasy",
          "romance",
          "fantasy",
          "history",
          "thrillers",
          "history",
          "history",
          "history",
          "mystery",
          "scifi",
          "history",
          "thrillers",
          "history",
          "fantasy",
          "scifi",
          "action",
          "political"
         ],
         "xaxis": "x",
         "y": {
          "bdata": "exwEAHiPCACQQxMAOjgOAAtrBwD7KQQAsxgCAFufAwBqZQ4AfC8MADUkPAAu5QUAaa0NAKTlBABM+gQASOIGANzKOgDkggYA5isAAJXdDAA3TwMA0X0BAKwHAwC63A0AbmMRAN9rKgA3DgMAV3EBACiWAQBdRgUAd+IEABjRAQCtTgIAeiMBAL7rBADd+wAAxHY1AJuWJAByCQMAs/gGAAKTAQBq4gIAu3gBABaORQA7NgIADLwjAKB1BADvUwIAjKgqAAGWAACLyxsAgOYAAKGSAAAIPAUANacOAErDBACQPwYAbKUMANrBAwByNAgAzr8GAEapBwB7OAEAf64AAMegBAAIwwIALfUFADvCLwB8jAAAFiMBACwwBAAoUwAABvMAALi/AABgUQUA3ZQwAFEhBwBVagEApqQGAIODBACeHgEAYVoAADHeAACd+wEANQ8CAH06AADWvSYAQw0AAGWIAAAt0hQAdo8AAK2SAAAqWjAA61AHADFuHgDscgAAG9cAAF73AABnowUAsj0AADAXAgC/bgQAnOkBAHOZAAA/0goAY6wDALb4AwBYeRYA1dIAABeTAADW5gwA3pYUAJWrGQCr6QAAaOAUAHOKBQDt4QcA0PYaALLxGwChVAMAdgsOAHktBgCOmgsAbYcGACjtTQD4QQAA53QBAFdYAAB+CQEAfc8BAOSfBAC6QwkAW4YtABsJAACnLgsATE8BAFpXBQDxKQAA6nYBABBnAQAzAAEAU1MIAPQcCQCwsgMAA08BAMD1AAAQAgIA06EAAATOJQD5fQEAEl8IAMvSAwB2jAsAy4MBADXVEADhnwEAvC8BAHyaAABKrQEA6MMBALt+AACmeQEAr5AWAC+sAAAC8gEA9EgAAM/LAgBJPwwADiYXADTBAADstwIA4JEKAOzQAgBSpQEAz50GABPtCgCGQgAAGY8OAPiPAACyLgEAFoIFAPIIBABldQAAv1cAALhGCQDOrgAA3GIBAERDGADquwAAVKsCAOWfAgA+eQUACXICAPBbBACdJgAAmXEAAOYDAAB9lwQAxjUAAFhmAAAUHwYA93YAAHIRAQAkYwAAJbARADPCBAA0awAAsg0KAA==",
          "dtype": "i4"
         },
         "yaxis": "y"
        },
        {
         "hovertemplate": "author_gender=female<br>genre=%{x}<br>gr_num_ratings=%{y}<extra></extra>",
         "legendgroup": "female",
         "marker": {
          "color": "salmon",
          "pattern": {
           "shape": ""
          }
         },
         "name": "female",
         "orientation": "v",
         "showlegend": true,
         "textposition": "auto",
         "type": "bar",
         "x": [
          "romance",
          "romance",
          "horror",
          "political",
          "romance",
          "fantasy",
          "fantasy",
          "history",
          "romance",
          "romance",
          "fantasy",
          "fantasy",
          "scifi",
          "romance",
          "history",
          "fantasy",
          "romance",
          "romance",
          "scifi",
          "scifi",
          "fantasy",
          "fantasy",
          "romance",
          "scifi",
          "history",
          "history",
          "history",
          "mystery",
          "bildung",
          "history",
          "history",
          "fantasy",
          "autobio",
          "scifi",
          "history",
          "romance",
          "mystery",
          "romance",
          "scifi",
          "romance",
          "autobio",
          "bildung",
          "history",
          "thrillers",
          "mystery",
          "fantasy",
          "fantasy",
          "mystery",
          "autobio",
          "autobio",
          "mystery",
          "fantasy",
          "action",
          "romance",
          "history",
          "mystery",
          "history",
          "fantasy",
          "history",
          "history",
          "action",
          "history",
          "fantasy",
          "fantasy",
          "fantasy",
          "bildung",
          "history",
          "history",
          "bildung",
          "mystery",
          "romance"
         ],
         "xaxis": "x",
         "y": {
          "bdata": "w7BAAIfQHwAUMBgAsnQDACcREgBiP5gAFnI7AIBjEgBnpQoAl00FAI9FPwAU7TcA0UUSAAQUBgB8lwYAAUYzANuGCQA5vGMAGYclAPJGgwDgNTgAmEsIAMhiAAAkGjYAW+YBALWRAADi8ikAfGgJANnQAwBTFwQAYrwAAMEqBACxbAQAlPAFAP+dCAB2kBgASX8UAALmGQDx4TAA5ZMFAByLAQC/3gIAtg8EAGbhLgCsbAAArQcCAEffAADKcAEAflUBAIsvAQCmIgQA9psBAP3IAADnAAIAFocAAKE7AwBEZwAAipcAAFkaAQAzIwEAougAAHAoAABEpjEAtXIGAGrvAQBIjQIAsGcBALJbAQC3EAAAB4QBAM0cAgA=",
          "dtype": "i4"
         },
         "yaxis": "y"
        }
       ],
       "layout": {
        "barmode": "stack",
        "font": {
         "family": "Helvetica"
        },
        "height": 800,
        "legend": {
         "title": {
          "text": "author_gender"
         },
         "tracegroupgap": 0
        },
        "template": {
         "data": {
          "scatter": [
           {
            "type": "scatter"
           }
          ]
         }
        },
        "title": {
         "font": {
          "family": "Baskerville",
          "size": 22
         },
         "subtitle": {
          "text": "Stacked representation shows the cumulative impact of male and female authors in each genre."
         },
         "text": "<b>Science Fiction Reigns Supreme: Stacked Goodreads Ratings by Genre and Gender</b>",
         "x": 0.068
        },
        "width": 900,
        "xaxis": {
         "anchor": "y",
         "domain": [
          0,
          1
         ],
         "title": {
          "text": "genre"
         }
        },
        "yaxis": {
         "anchor": "x",
         "domain": [
          0,
          1
         ],
         "title": {
          "text": "gr_num_ratings"
         }
        }
       }
      }
     },
     "metadata": {},
     "output_type": "display_data"
    }
   ],
   "source": [
    "# grouped bar plot\n",
    "fig_grouped = px.bar(\n",
    "    df_fig2,\n",
    "    x='genre',\n",
    "    y='gr_num_ratings',\n",
    "    color='author_gender',  # Group by gender instead of faceting\n",
    "    barmode='group',  # Ensures bars are placed side-by-side\n",
    "    height=800,\n",
    "    width=900,\n",
    "    color_discrete_sequence=['lightblue', 'salmon'],\n",
    "    template='none',\n",
    "    title=\"<b>Fantasy Reigns Supreme: Goodreads Ratings by Genre and Gender</b>\",\n",
    "    subtitle=\"Fantasy leads in ratings for both male and female authors, with scifi and romance following closely.\",\n",
    ")\n",
    "\n",
    "fig_grouped.update_layout(\n",
    "    font_family='Helvetica',\n",
    "    title_font_family='Baskerville',\n",
    "    title_font_size=22,\n",
    "    title_x=0.068,  # Align title\n",
    ")\n",
    "\n",
    "fig_grouped.show()\n",
    "\n",
    "# stacked bar plot\n",
    "fig_stacked = px.bar(\n",
    "    df_fig2,\n",
    "    x='genre',\n",
    "    y='gr_num_ratings',\n",
    "    color='author_gender',  # Different colors for gender\n",
    "    barmode='stack',  # Stacks bars on top of each other\n",
    "    height=800,\n",
    "    width=900,\n",
    "    color_discrete_sequence=['lightblue', 'salmon'],\n",
    "    template='none',\n",
    "    title=\"<b>Fantasy Reigns Supreme: Stacked Goodreads Ratings by Genre and Gender</b>\",\n",
    "    subtitle=\"Stacked representation shows the cumulative impact of male and female authors in each genre.\",\n",
    ")\n",
    "\n",
    "fig_stacked.update_layout(\n",
    "    font_family='Helvetica',\n",
    "    title_font_family='Baskerville',\n",
    "    title_font_size=22,\n",
    "    title_x=0.068,  # Align title\n",
    ")\n",
    "\n",
    "fig_stacked.show()"
   ]
  },
  {
   "cell_type": "markdown",
   "metadata": {},
   "source": [
    "***Between all 3 visualization (facet, stacked, and grouped), which do you prefer and why?***\n",
    "\n",
    "I prefer the stacked bar plot for this specific visualization, because it is very clear to see both which genre is the most popular (the columns are the sum of both genders), and also the breakdown between genders within each genre. For example, we can observe that the majority of genres were male-dominated while scifi and romance were female-dominated."
   ]
  }
 ],
 "metadata": {
  "kernelspec": {
   "display_name": "data502",
   "language": "python",
   "name": "python3"
  },
  "language_info": {
   "codemirror_mode": {
    "name": "ipython",
    "version": 3
   },
   "file_extension": ".py",
   "mimetype": "text/x-python",
   "name": "python",
   "nbconvert_exporter": "python",
   "pygments_lexer": "ipython3",
   "version": "3.12.8"
  }
 },
 "nbformat": 4,
 "nbformat_minor": 2
}
