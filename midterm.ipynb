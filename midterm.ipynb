{
 "cells": [
  {
   "cell_type": "markdown",
   "metadata": {},
   "source": [
    "# Part 2: Short Answer"
   ]
  },
  {
   "cell_type": "code",
   "execution_count": 2,
   "metadata": {},
   "outputs": [
    {
     "data": {
      "text/html": [
       "<div>\n",
       "<style scoped>\n",
       "    .dataframe tbody tr th:only-of-type {\n",
       "        vertical-align: middle;\n",
       "    }\n",
       "\n",
       "    .dataframe tbody tr th {\n",
       "        vertical-align: top;\n",
       "    }\n",
       "\n",
       "    .dataframe thead th {\n",
       "        text-align: right;\n",
       "    }\n",
       "</style>\n",
       "<table border=\"1\" class=\"dataframe\">\n",
       "  <thead>\n",
       "    <tr style=\"text-align: right;\">\n",
       "      <th></th>\n",
       "      <th>id</th>\n",
       "      <th>Gender</th>\n",
       "      <th>Age</th>\n",
       "      <th>City</th>\n",
       "      <th>Profession</th>\n",
       "      <th>Academic Pressure</th>\n",
       "      <th>Work Pressure</th>\n",
       "      <th>CGPA</th>\n",
       "      <th>Study Satisfaction</th>\n",
       "      <th>Job Satisfaction</th>\n",
       "      <th>Sleep Duration</th>\n",
       "      <th>Dietary Habits</th>\n",
       "      <th>Degree</th>\n",
       "      <th>Have you ever had suicidal thoughts ?</th>\n",
       "      <th>Work/Study Hours</th>\n",
       "      <th>Financial Stress</th>\n",
       "      <th>Family History of Mental Illness</th>\n",
       "      <th>Depression</th>\n",
       "    </tr>\n",
       "  </thead>\n",
       "  <tbody>\n",
       "    <tr>\n",
       "      <th>0</th>\n",
       "      <td>2</td>\n",
       "      <td>Male</td>\n",
       "      <td>33.0</td>\n",
       "      <td>Visakhapatnam</td>\n",
       "      <td>Student</td>\n",
       "      <td>5.0</td>\n",
       "      <td>0.0</td>\n",
       "      <td>8.97</td>\n",
       "      <td>2.0</td>\n",
       "      <td>0.0</td>\n",
       "      <td>'5-6 hours'</td>\n",
       "      <td>Healthy</td>\n",
       "      <td>B.Pharm</td>\n",
       "      <td>Yes</td>\n",
       "      <td>3.0</td>\n",
       "      <td>1.0</td>\n",
       "      <td>No</td>\n",
       "      <td>1</td>\n",
       "    </tr>\n",
       "    <tr>\n",
       "      <th>1</th>\n",
       "      <td>8</td>\n",
       "      <td>Female</td>\n",
       "      <td>24.0</td>\n",
       "      <td>Bangalore</td>\n",
       "      <td>Student</td>\n",
       "      <td>2.0</td>\n",
       "      <td>0.0</td>\n",
       "      <td>5.90</td>\n",
       "      <td>5.0</td>\n",
       "      <td>0.0</td>\n",
       "      <td>'5-6 hours'</td>\n",
       "      <td>Moderate</td>\n",
       "      <td>BSc</td>\n",
       "      <td>No</td>\n",
       "      <td>3.0</td>\n",
       "      <td>2.0</td>\n",
       "      <td>Yes</td>\n",
       "      <td>0</td>\n",
       "    </tr>\n",
       "    <tr>\n",
       "      <th>2</th>\n",
       "      <td>26</td>\n",
       "      <td>Male</td>\n",
       "      <td>31.0</td>\n",
       "      <td>Srinagar</td>\n",
       "      <td>Student</td>\n",
       "      <td>3.0</td>\n",
       "      <td>0.0</td>\n",
       "      <td>7.03</td>\n",
       "      <td>5.0</td>\n",
       "      <td>0.0</td>\n",
       "      <td>'Less than 5 hours'</td>\n",
       "      <td>Healthy</td>\n",
       "      <td>BA</td>\n",
       "      <td>No</td>\n",
       "      <td>9.0</td>\n",
       "      <td>1.0</td>\n",
       "      <td>Yes</td>\n",
       "      <td>0</td>\n",
       "    </tr>\n",
       "    <tr>\n",
       "      <th>3</th>\n",
       "      <td>30</td>\n",
       "      <td>Female</td>\n",
       "      <td>28.0</td>\n",
       "      <td>Varanasi</td>\n",
       "      <td>Student</td>\n",
       "      <td>3.0</td>\n",
       "      <td>0.0</td>\n",
       "      <td>5.59</td>\n",
       "      <td>2.0</td>\n",
       "      <td>0.0</td>\n",
       "      <td>'7-8 hours'</td>\n",
       "      <td>Moderate</td>\n",
       "      <td>BCA</td>\n",
       "      <td>Yes</td>\n",
       "      <td>4.0</td>\n",
       "      <td>5.0</td>\n",
       "      <td>Yes</td>\n",
       "      <td>1</td>\n",
       "    </tr>\n",
       "    <tr>\n",
       "      <th>4</th>\n",
       "      <td>32</td>\n",
       "      <td>Female</td>\n",
       "      <td>25.0</td>\n",
       "      <td>Jaipur</td>\n",
       "      <td>Student</td>\n",
       "      <td>4.0</td>\n",
       "      <td>0.0</td>\n",
       "      <td>8.13</td>\n",
       "      <td>3.0</td>\n",
       "      <td>0.0</td>\n",
       "      <td>'5-6 hours'</td>\n",
       "      <td>Moderate</td>\n",
       "      <td>M.Tech</td>\n",
       "      <td>Yes</td>\n",
       "      <td>1.0</td>\n",
       "      <td>1.0</td>\n",
       "      <td>No</td>\n",
       "      <td>0</td>\n",
       "    </tr>\n",
       "  </tbody>\n",
       "</table>\n",
       "</div>"
      ],
      "text/plain": [
       "   id  Gender   Age           City Profession  Academic Pressure  \\\n",
       "0   2    Male  33.0  Visakhapatnam    Student                5.0   \n",
       "1   8  Female  24.0      Bangalore    Student                2.0   \n",
       "2  26    Male  31.0       Srinagar    Student                3.0   \n",
       "3  30  Female  28.0       Varanasi    Student                3.0   \n",
       "4  32  Female  25.0         Jaipur    Student                4.0   \n",
       "\n",
       "   Work Pressure  CGPA  Study Satisfaction  Job Satisfaction  \\\n",
       "0            0.0  8.97                 2.0               0.0   \n",
       "1            0.0  5.90                 5.0               0.0   \n",
       "2            0.0  7.03                 5.0               0.0   \n",
       "3            0.0  5.59                 2.0               0.0   \n",
       "4            0.0  8.13                 3.0               0.0   \n",
       "\n",
       "        Sleep Duration Dietary Habits   Degree  \\\n",
       "0          '5-6 hours'        Healthy  B.Pharm   \n",
       "1          '5-6 hours'       Moderate      BSc   \n",
       "2  'Less than 5 hours'        Healthy       BA   \n",
       "3          '7-8 hours'       Moderate      BCA   \n",
       "4          '5-6 hours'       Moderate   M.Tech   \n",
       "\n",
       "  Have you ever had suicidal thoughts ?  Work/Study Hours Financial Stress  \\\n",
       "0                                   Yes               3.0              1.0   \n",
       "1                                    No               3.0              2.0   \n",
       "2                                    No               9.0              1.0   \n",
       "3                                   Yes               4.0              5.0   \n",
       "4                                   Yes               1.0              1.0   \n",
       "\n",
       "  Family History of Mental Illness  Depression  \n",
       "0                               No           1  \n",
       "1                              Yes           0  \n",
       "2                              Yes           0  \n",
       "3                              Yes           1  \n",
       "4                               No           0  "
      ]
     },
     "metadata": {},
     "output_type": "display_data"
    },
    {
     "data": {
      "text/plain": [
       "Degree\n",
       "'Class 12'    6080\n",
       "B.Ed          1867\n",
       "B.Com         1506\n",
       "B.Arch        1478\n",
       "BCA           1433\n",
       "MSc           1190\n",
       "B.Tech        1152\n",
       "MCA           1044\n",
       "M.Tech        1022\n",
       "BHM            925\n",
       "BSc            888\n",
       "M.Ed           821\n",
       "B.Pharm        810\n",
       "M.Com          734\n",
       "MBBS           696\n",
       "BBA            696\n",
       "LLB            671\n",
       "BE             613\n",
       "BA             600\n",
       "M.Pharm        582\n",
       "MD             572\n",
       "MBA            562\n",
       "MA             544\n",
       "PhD            522\n",
       "LLM            482\n",
       "MHM            191\n",
       "ME             185\n",
       "Others          35\n",
       "Name: count, dtype: int64"
      ]
     },
     "execution_count": 2,
     "metadata": {},
     "output_type": "execute_result"
    }
   ],
   "source": [
    "import pandas as pd\n",
    "\n",
    "df = pd.read_csv(\"data/student_depression_dataset.csv\")\n",
    "\n",
    "display(df.head())\n",
    "df[\"Degree\"].value_counts()\n"
   ]
  },
  {
   "cell_type": "code",
   "execution_count": 3,
   "metadata": {},
   "outputs": [
    {
     "data": {
      "text/plain": [
       "(27901, 18)"
      ]
     },
     "execution_count": 3,
     "metadata": {},
     "output_type": "execute_result"
    }
   ],
   "source": [
    "# 1. How many rows and columns are in the dataframe? \n",
    "df.shape"
   ]
  },
  {
   "cell_type": "code",
   "execution_count": 4,
   "metadata": {},
   "outputs": [
    {
     "name": "stdout",
     "output_type": "stream",
     "text": [
      "<class 'pandas.core.frame.DataFrame'>\n",
      "RangeIndex: 27901 entries, 0 to 27900\n",
      "Data columns (total 18 columns):\n",
      " #   Column                                 Non-Null Count  Dtype  \n",
      "---  ------                                 --------------  -----  \n",
      " 0   id                                     27901 non-null  int64  \n",
      " 1   Gender                                 27901 non-null  object \n",
      " 2   Age                                    27901 non-null  float64\n",
      " 3   City                                   27901 non-null  object \n",
      " 4   Profession                             27901 non-null  object \n",
      " 5   Academic Pressure                      27901 non-null  float64\n",
      " 6   Work Pressure                          27901 non-null  float64\n",
      " 7   CGPA                                   27901 non-null  float64\n",
      " 8   Study Satisfaction                     27901 non-null  float64\n",
      " 9   Job Satisfaction                       27901 non-null  float64\n",
      " 10  Sleep Duration                         27901 non-null  object \n",
      " 11  Dietary Habits                         27901 non-null  object \n",
      " 12  Degree                                 27901 non-null  object \n",
      " 13  Have you ever had suicidal thoughts ?  27901 non-null  object \n",
      " 14  Work/Study Hours                       27901 non-null  float64\n",
      " 15  Financial Stress                       27901 non-null  object \n",
      " 16  Family History of Mental Illness       27901 non-null  object \n",
      " 17  Depression                             27901 non-null  int64  \n",
      "dtypes: float64(7), int64(2), object(9)\n",
      "memory usage: 3.8+ MB\n"
     ]
    }
   ],
   "source": [
    "# 2. How many categorical (text-based) variables are in the dataframe?\n",
    "# For each of these variables provide a brief description of what it means / refers to. \n",
    "df.info()"
   ]
  },
  {
   "cell_type": "code",
   "execution_count": 5,
   "metadata": {},
   "outputs": [
    {
     "data": {
      "text/plain": [
       "4921"
      ]
     },
     "execution_count": 5,
     "metadata": {},
     "output_type": "execute_result"
    }
   ],
   "source": [
    "# 3. How many female students over the age of 21 are depressed?\n",
    "df.head()\n",
    "\n",
    "df[\n",
    "    (df[\"Gender\"] == \"Female\") &\n",
    "    (df[\"Profession\"] == \"Student\") &\n",
    "    (df[\"Age\"] > 21) & \n",
    "    (df[\"Depression\"] == 1)\n",
    "].shape[0]"
   ]
  },
  {
   "cell_type": "code",
   "execution_count": 6,
   "metadata": {},
   "outputs": [
    {
     "data": {
      "text/html": [
       "<div>\n",
       "<style scoped>\n",
       "    .dataframe tbody tr th:only-of-type {\n",
       "        vertical-align: middle;\n",
       "    }\n",
       "\n",
       "    .dataframe tbody tr th {\n",
       "        vertical-align: top;\n",
       "    }\n",
       "\n",
       "    .dataframe thead th {\n",
       "        text-align: right;\n",
       "    }\n",
       "</style>\n",
       "<table border=\"1\" class=\"dataframe\">\n",
       "  <thead>\n",
       "    <tr style=\"text-align: right;\">\n",
       "      <th></th>\n",
       "      <th>Academic Pressure</th>\n",
       "    </tr>\n",
       "    <tr>\n",
       "      <th>Degree</th>\n",
       "      <th></th>\n",
       "    </tr>\n",
       "  </thead>\n",
       "  <tbody>\n",
       "    <tr>\n",
       "      <th>'Class 12'</th>\n",
       "      <td>3.359375</td>\n",
       "    </tr>\n",
       "    <tr>\n",
       "      <th>B.Arch</th>\n",
       "      <td>3.063599</td>\n",
       "    </tr>\n",
       "    <tr>\n",
       "      <th>B.Com</th>\n",
       "      <td>3.083001</td>\n",
       "    </tr>\n",
       "    <tr>\n",
       "      <th>B.Ed</th>\n",
       "      <td>3.118907</td>\n",
       "    </tr>\n",
       "    <tr>\n",
       "      <th>B.Pharm</th>\n",
       "      <td>3.186420</td>\n",
       "    </tr>\n",
       "    <tr>\n",
       "      <th>B.Tech</th>\n",
       "      <td>3.078993</td>\n",
       "    </tr>\n",
       "    <tr>\n",
       "      <th>BA</th>\n",
       "      <td>3.110000</td>\n",
       "    </tr>\n",
       "    <tr>\n",
       "      <th>BBA</th>\n",
       "      <td>3.067529</td>\n",
       "    </tr>\n",
       "    <tr>\n",
       "      <th>BCA</th>\n",
       "      <td>3.126308</td>\n",
       "    </tr>\n",
       "    <tr>\n",
       "      <th>BE</th>\n",
       "      <td>3.091354</td>\n",
       "    </tr>\n",
       "    <tr>\n",
       "      <th>BHM</th>\n",
       "      <td>3.129730</td>\n",
       "    </tr>\n",
       "    <tr>\n",
       "      <th>BSc</th>\n",
       "      <td>3.048423</td>\n",
       "    </tr>\n",
       "    <tr>\n",
       "      <th>LLB</th>\n",
       "      <td>3.050671</td>\n",
       "    </tr>\n",
       "    <tr>\n",
       "      <th>LLM</th>\n",
       "      <td>3.082988</td>\n",
       "    </tr>\n",
       "    <tr>\n",
       "      <th>M.Com</th>\n",
       "      <td>2.961853</td>\n",
       "    </tr>\n",
       "    <tr>\n",
       "      <th>M.Ed</th>\n",
       "      <td>3.045067</td>\n",
       "    </tr>\n",
       "    <tr>\n",
       "      <th>M.Pharm</th>\n",
       "      <td>3.113402</td>\n",
       "    </tr>\n",
       "    <tr>\n",
       "      <th>M.Tech</th>\n",
       "      <td>2.982387</td>\n",
       "    </tr>\n",
       "    <tr>\n",
       "      <th>MA</th>\n",
       "      <td>3.066176</td>\n",
       "    </tr>\n",
       "    <tr>\n",
       "      <th>MBA</th>\n",
       "      <td>3.113879</td>\n",
       "    </tr>\n",
       "    <tr>\n",
       "      <th>MBBS</th>\n",
       "      <td>3.155172</td>\n",
       "    </tr>\n",
       "    <tr>\n",
       "      <th>MCA</th>\n",
       "      <td>2.952107</td>\n",
       "    </tr>\n",
       "    <tr>\n",
       "      <th>MD</th>\n",
       "      <td>3.071678</td>\n",
       "    </tr>\n",
       "    <tr>\n",
       "      <th>ME</th>\n",
       "      <td>3.313514</td>\n",
       "    </tr>\n",
       "    <tr>\n",
       "      <th>MHM</th>\n",
       "      <td>2.937173</td>\n",
       "    </tr>\n",
       "    <tr>\n",
       "      <th>MSc</th>\n",
       "      <td>3.057143</td>\n",
       "    </tr>\n",
       "    <tr>\n",
       "      <th>Others</th>\n",
       "      <td>2.942857</td>\n",
       "    </tr>\n",
       "    <tr>\n",
       "      <th>PhD</th>\n",
       "      <td>3.224138</td>\n",
       "    </tr>\n",
       "  </tbody>\n",
       "</table>\n",
       "</div>"
      ],
      "text/plain": [
       "            Academic Pressure\n",
       "Degree                       \n",
       "'Class 12'           3.359375\n",
       "B.Arch               3.063599\n",
       "B.Com                3.083001\n",
       "B.Ed                 3.118907\n",
       "B.Pharm              3.186420\n",
       "B.Tech               3.078993\n",
       "BA                   3.110000\n",
       "BBA                  3.067529\n",
       "BCA                  3.126308\n",
       "BE                   3.091354\n",
       "BHM                  3.129730\n",
       "BSc                  3.048423\n",
       "LLB                  3.050671\n",
       "LLM                  3.082988\n",
       "M.Com                2.961853\n",
       "M.Ed                 3.045067\n",
       "M.Pharm              3.113402\n",
       "M.Tech               2.982387\n",
       "MA                   3.066176\n",
       "MBA                  3.113879\n",
       "MBBS                 3.155172\n",
       "MCA                  2.952107\n",
       "MD                   3.071678\n",
       "ME                   3.313514\n",
       "MHM                  2.937173\n",
       "MSc                  3.057143\n",
       "Others               2.942857\n",
       "PhD                  3.224138"
      ]
     },
     "execution_count": 6,
     "metadata": {},
     "output_type": "execute_result"
    }
   ],
   "source": [
    "# 4. Which degree has the highest mean Academic Pressure?\n",
    "\n",
    "# df.sort_values(by=\"Academic Pressure\", ascending=False)\n",
    "(\n",
    "    df.groupby(\"Degree\").agg(\n",
    "        {\n",
    "            \"Academic Pressure\": \"mean\"\n",
    "        }\n",
    "    )\n",
    ")"
   ]
  },
  {
   "cell_type": "code",
   "execution_count": 7,
   "metadata": {},
   "outputs": [
    {
     "data": {
      "text/html": [
       "<div>\n",
       "<style scoped>\n",
       "    .dataframe tbody tr th:only-of-type {\n",
       "        vertical-align: middle;\n",
       "    }\n",
       "\n",
       "    .dataframe tbody tr th {\n",
       "        vertical-align: top;\n",
       "    }\n",
       "\n",
       "    .dataframe thead th {\n",
       "        text-align: right;\n",
       "    }\n",
       "</style>\n",
       "<table border=\"1\" class=\"dataframe\">\n",
       "  <thead>\n",
       "    <tr style=\"text-align: right;\">\n",
       "      <th></th>\n",
       "      <th>percent_depressed</th>\n",
       "    </tr>\n",
       "    <tr>\n",
       "      <th>City</th>\n",
       "      <th></th>\n",
       "    </tr>\n",
       "  </thead>\n",
       "  <tbody>\n",
       "    <tr>\n",
       "      <th>Ahmedabad</th>\n",
       "      <td>0.672976</td>\n",
       "    </tr>\n",
       "    <tr>\n",
       "      <th>Hyderabad</th>\n",
       "      <td>0.669403</td>\n",
       "    </tr>\n",
       "    <tr>\n",
       "      <th>Patna</th>\n",
       "      <td>0.631579</td>\n",
       "    </tr>\n",
       "    <tr>\n",
       "      <th>Rajkot</th>\n",
       "      <td>0.626225</td>\n",
       "    </tr>\n",
       "    <tr>\n",
       "      <th>Bhopal</th>\n",
       "      <td>0.619914</td>\n",
       "    </tr>\n",
       "    <tr>\n",
       "      <th>Delhi</th>\n",
       "      <td>0.609375</td>\n",
       "    </tr>\n",
       "    <tr>\n",
       "      <th>Bangalore</th>\n",
       "      <td>0.608866</td>\n",
       "    </tr>\n",
       "    <tr>\n",
       "      <th>Kolkata</th>\n",
       "      <td>0.608818</td>\n",
       "    </tr>\n",
       "    <tr>\n",
       "      <th>Indore</th>\n",
       "      <td>0.604977</td>\n",
       "    </tr>\n",
       "    <tr>\n",
       "      <th>Meerut</th>\n",
       "      <td>0.597576</td>\n",
       "    </tr>\n",
       "    <tr>\n",
       "      <th>Chennai</th>\n",
       "      <td>0.596610</td>\n",
       "    </tr>\n",
       "    <tr>\n",
       "      <th>Kalyan</th>\n",
       "      <td>0.594904</td>\n",
       "    </tr>\n",
       "    <tr>\n",
       "      <th>Thane</th>\n",
       "      <td>0.590869</td>\n",
       "    </tr>\n",
       "    <tr>\n",
       "      <th>Faridabad</th>\n",
       "      <td>0.587852</td>\n",
       "    </tr>\n",
       "    <tr>\n",
       "      <th>Ludhiana</th>\n",
       "      <td>0.582358</td>\n",
       "    </tr>\n",
       "    <tr>\n",
       "      <th>Surat</th>\n",
       "      <td>0.579777</td>\n",
       "    </tr>\n",
       "    <tr>\n",
       "      <th>Ghaziabad</th>\n",
       "      <td>0.574497</td>\n",
       "    </tr>\n",
       "    <tr>\n",
       "      <th>Vasai-Virar</th>\n",
       "      <td>0.572868</td>\n",
       "    </tr>\n",
       "    <tr>\n",
       "      <th>Visakhapatnam</th>\n",
       "      <td>0.569659</td>\n",
       "    </tr>\n",
       "    <tr>\n",
       "      <th>Vadodara</th>\n",
       "      <td>0.561960</td>\n",
       "    </tr>\n",
       "    <tr>\n",
       "      <th>Pune</th>\n",
       "      <td>0.558884</td>\n",
       "    </tr>\n",
       "    <tr>\n",
       "      <th>Nagpur</th>\n",
       "      <td>0.557604</td>\n",
       "    </tr>\n",
       "    <tr>\n",
       "      <th>Srinagar</th>\n",
       "      <td>0.556122</td>\n",
       "    </tr>\n",
       "    <tr>\n",
       "      <th>Lucknow</th>\n",
       "      <td>0.554978</td>\n",
       "    </tr>\n",
       "    <tr>\n",
       "      <th>Mumbai</th>\n",
       "      <td>0.552217</td>\n",
       "    </tr>\n",
       "    <tr>\n",
       "      <th>Kanpur</th>\n",
       "      <td>0.541872</td>\n",
       "    </tr>\n",
       "    <tr>\n",
       "      <th>Agra</th>\n",
       "      <td>0.534735</td>\n",
       "    </tr>\n",
       "    <tr>\n",
       "      <th>Varanasi</th>\n",
       "      <td>0.531387</td>\n",
       "    </tr>\n",
       "    <tr>\n",
       "      <th>Nashik</th>\n",
       "      <td>0.528336</td>\n",
       "    </tr>\n",
       "    <tr>\n",
       "      <th>Jaipur</th>\n",
       "      <td>0.524131</td>\n",
       "    </tr>\n",
       "  </tbody>\n",
       "</table>\n",
       "</div>"
      ],
      "text/plain": [
       "               percent_depressed\n",
       "City                            \n",
       "Ahmedabad               0.672976\n",
       "Hyderabad               0.669403\n",
       "Patna                   0.631579\n",
       "Rajkot                  0.626225\n",
       "Bhopal                  0.619914\n",
       "Delhi                   0.609375\n",
       "Bangalore               0.608866\n",
       "Kolkata                 0.608818\n",
       "Indore                  0.604977\n",
       "Meerut                  0.597576\n",
       "Chennai                 0.596610\n",
       "Kalyan                  0.594904\n",
       "Thane                   0.590869\n",
       "Faridabad               0.587852\n",
       "Ludhiana                0.582358\n",
       "Surat                   0.579777\n",
       "Ghaziabad               0.574497\n",
       "Vasai-Virar             0.572868\n",
       "Visakhapatnam           0.569659\n",
       "Vadodara                0.561960\n",
       "Pune                    0.558884\n",
       "Nagpur                  0.557604\n",
       "Srinagar                0.556122\n",
       "Lucknow                 0.554978\n",
       "Mumbai                  0.552217\n",
       "Kanpur                  0.541872\n",
       "Agra                    0.534735\n",
       "Varanasi                0.531387\n",
       "Nashik                  0.528336\n",
       "Jaipur                  0.524131"
      ]
     },
     "execution_count": 7,
     "metadata": {},
     "output_type": "execute_result"
    }
   ],
   "source": [
    "# 5. Which city with at least 100 students has the highest percentage of depressed students? \n",
    "# Hint: Add the following code to create a user ID column \n",
    "# df['User ID'] = df.index\n",
    "\n",
    "df_cities = df.copy()\n",
    "\n",
    "df_cities = df_cities[df_cities[\"Profession\"] == \"Student\"]\n",
    "\n",
    "df_cities['User ID'] = df_cities.index\n",
    "\n",
    "df_cities = (\n",
    "    df_cities\n",
    "    .groupby(by=\"City\")\n",
    "    .agg(\n",
    "        population=(\"User ID\", \"count\")\n",
    "    )\n",
    "    .reset_index()\n",
    ")\n",
    "\n",
    "df_cities = df_cities[df_cities[\"population\"] >= 100]\n",
    "\n",
    "target_cities = df_cities[\"City\"]\n",
    "\n",
    "(\n",
    "    df[\n",
    "        df[\"City\"].isin(target_cities)\n",
    "    ]\n",
    "    .groupby(\"City\")\n",
    "    .agg(\n",
    "        percent_depressed=(\"Depression\", \"mean\")\n",
    "    )\n",
    "    .sort_values(\"percent_depressed\", ascending=False)\n",
    ")"
   ]
  },
  {
   "cell_type": "code",
   "execution_count": 8,
   "metadata": {},
   "outputs": [
    {
     "data": {
      "text/html": [
       "<div>\n",
       "<style scoped>\n",
       "    .dataframe tbody tr th:only-of-type {\n",
       "        vertical-align: middle;\n",
       "    }\n",
       "\n",
       "    .dataframe tbody tr th {\n",
       "        vertical-align: top;\n",
       "    }\n",
       "\n",
       "    .dataframe thead th {\n",
       "        text-align: right;\n",
       "    }\n",
       "</style>\n",
       "<table border=\"1\" class=\"dataframe\">\n",
       "  <thead>\n",
       "    <tr style=\"text-align: right;\">\n",
       "      <th></th>\n",
       "      <th>Study Satisfaction</th>\n",
       "    </tr>\n",
       "    <tr>\n",
       "      <th>City</th>\n",
       "      <th></th>\n",
       "    </tr>\n",
       "  </thead>\n",
       "  <tbody>\n",
       "    <tr>\n",
       "      <th>'Less Delhi'</th>\n",
       "      <td>3.0</td>\n",
       "    </tr>\n",
       "    <tr>\n",
       "      <th>'Less than 5 Kalyan'</th>\n",
       "      <td>1.0</td>\n",
       "    </tr>\n",
       "    <tr>\n",
       "      <th>3.0</th>\n",
       "      <td>4.0</td>\n",
       "    </tr>\n",
       "    <tr>\n",
       "      <th>Agra</th>\n",
       "      <td>5.0</td>\n",
       "    </tr>\n",
       "    <tr>\n",
       "      <th>Ahmedabad</th>\n",
       "      <td>5.0</td>\n",
       "    </tr>\n",
       "    <tr>\n",
       "      <th>Bangalore</th>\n",
       "      <td>5.0</td>\n",
       "    </tr>\n",
       "    <tr>\n",
       "      <th>Bhavna</th>\n",
       "      <td>5.0</td>\n",
       "    </tr>\n",
       "    <tr>\n",
       "      <th>Bhopal</th>\n",
       "      <td>5.0</td>\n",
       "    </tr>\n",
       "    <tr>\n",
       "      <th>Chennai</th>\n",
       "      <td>5.0</td>\n",
       "    </tr>\n",
       "    <tr>\n",
       "      <th>City</th>\n",
       "      <td>3.0</td>\n",
       "    </tr>\n",
       "    <tr>\n",
       "      <th>Delhi</th>\n",
       "      <td>5.0</td>\n",
       "    </tr>\n",
       "    <tr>\n",
       "      <th>Faridabad</th>\n",
       "      <td>5.0</td>\n",
       "    </tr>\n",
       "    <tr>\n",
       "      <th>Gaurav</th>\n",
       "      <td>1.0</td>\n",
       "    </tr>\n",
       "    <tr>\n",
       "      <th>Ghaziabad</th>\n",
       "      <td>5.0</td>\n",
       "    </tr>\n",
       "    <tr>\n",
       "      <th>Harsh</th>\n",
       "      <td>4.0</td>\n",
       "    </tr>\n",
       "    <tr>\n",
       "      <th>Harsha</th>\n",
       "      <td>4.0</td>\n",
       "    </tr>\n",
       "    <tr>\n",
       "      <th>Hyderabad</th>\n",
       "      <td>5.0</td>\n",
       "    </tr>\n",
       "    <tr>\n",
       "      <th>Indore</th>\n",
       "      <td>5.0</td>\n",
       "    </tr>\n",
       "    <tr>\n",
       "      <th>Jaipur</th>\n",
       "      <td>5.0</td>\n",
       "    </tr>\n",
       "    <tr>\n",
       "      <th>Kalyan</th>\n",
       "      <td>5.0</td>\n",
       "    </tr>\n",
       "    <tr>\n",
       "      <th>Kanpur</th>\n",
       "      <td>5.0</td>\n",
       "    </tr>\n",
       "    <tr>\n",
       "      <th>Khaziabad</th>\n",
       "      <td>4.0</td>\n",
       "    </tr>\n",
       "    <tr>\n",
       "      <th>Kibara</th>\n",
       "      <td>2.0</td>\n",
       "    </tr>\n",
       "    <tr>\n",
       "      <th>Kolkata</th>\n",
       "      <td>5.0</td>\n",
       "    </tr>\n",
       "    <tr>\n",
       "      <th>Lucknow</th>\n",
       "      <td>5.0</td>\n",
       "    </tr>\n",
       "    <tr>\n",
       "      <th>Ludhiana</th>\n",
       "      <td>5.0</td>\n",
       "    </tr>\n",
       "    <tr>\n",
       "      <th>M.Com</th>\n",
       "      <td>1.0</td>\n",
       "    </tr>\n",
       "    <tr>\n",
       "      <th>M.Tech</th>\n",
       "      <td>5.0</td>\n",
       "    </tr>\n",
       "    <tr>\n",
       "      <th>ME</th>\n",
       "      <td>2.0</td>\n",
       "    </tr>\n",
       "    <tr>\n",
       "      <th>Meerut</th>\n",
       "      <td>5.0</td>\n",
       "    </tr>\n",
       "    <tr>\n",
       "      <th>Mihir</th>\n",
       "      <td>1.0</td>\n",
       "    </tr>\n",
       "    <tr>\n",
       "      <th>Mira</th>\n",
       "      <td>1.0</td>\n",
       "    </tr>\n",
       "    <tr>\n",
       "      <th>Mumbai</th>\n",
       "      <td>5.0</td>\n",
       "    </tr>\n",
       "    <tr>\n",
       "      <th>Nagpur</th>\n",
       "      <td>5.0</td>\n",
       "    </tr>\n",
       "    <tr>\n",
       "      <th>Nalini</th>\n",
       "      <td>1.0</td>\n",
       "    </tr>\n",
       "    <tr>\n",
       "      <th>Nalyan</th>\n",
       "      <td>2.0</td>\n",
       "    </tr>\n",
       "    <tr>\n",
       "      <th>Nandini</th>\n",
       "      <td>2.0</td>\n",
       "    </tr>\n",
       "    <tr>\n",
       "      <th>Nashik</th>\n",
       "      <td>5.0</td>\n",
       "    </tr>\n",
       "    <tr>\n",
       "      <th>Patna</th>\n",
       "      <td>5.0</td>\n",
       "    </tr>\n",
       "    <tr>\n",
       "      <th>Pune</th>\n",
       "      <td>5.0</td>\n",
       "    </tr>\n",
       "    <tr>\n",
       "      <th>Rajkot</th>\n",
       "      <td>5.0</td>\n",
       "    </tr>\n",
       "    <tr>\n",
       "      <th>Rashi</th>\n",
       "      <td>2.0</td>\n",
       "    </tr>\n",
       "    <tr>\n",
       "      <th>Reyansh</th>\n",
       "      <td>3.0</td>\n",
       "    </tr>\n",
       "    <tr>\n",
       "      <th>Saanvi</th>\n",
       "      <td>2.0</td>\n",
       "    </tr>\n",
       "    <tr>\n",
       "      <th>Srinagar</th>\n",
       "      <td>5.0</td>\n",
       "    </tr>\n",
       "    <tr>\n",
       "      <th>Surat</th>\n",
       "      <td>5.0</td>\n",
       "    </tr>\n",
       "    <tr>\n",
       "      <th>Thane</th>\n",
       "      <td>5.0</td>\n",
       "    </tr>\n",
       "    <tr>\n",
       "      <th>Vaanya</th>\n",
       "      <td>5.0</td>\n",
       "    </tr>\n",
       "    <tr>\n",
       "      <th>Vadodara</th>\n",
       "      <td>5.0</td>\n",
       "    </tr>\n",
       "    <tr>\n",
       "      <th>Varanasi</th>\n",
       "      <td>5.0</td>\n",
       "    </tr>\n",
       "    <tr>\n",
       "      <th>Vasai-Virar</th>\n",
       "      <td>5.0</td>\n",
       "    </tr>\n",
       "    <tr>\n",
       "      <th>Visakhapatnam</th>\n",
       "      <td>5.0</td>\n",
       "    </tr>\n",
       "  </tbody>\n",
       "</table>\n",
       "</div>"
      ],
      "text/plain": [
       "                      Study Satisfaction\n",
       "City                                    \n",
       "'Less Delhi'                         3.0\n",
       "'Less than 5 Kalyan'                 1.0\n",
       "3.0                                  4.0\n",
       "Agra                                 5.0\n",
       "Ahmedabad                            5.0\n",
       "Bangalore                            5.0\n",
       "Bhavna                               5.0\n",
       "Bhopal                               5.0\n",
       "Chennai                              5.0\n",
       "City                                 3.0\n",
       "Delhi                                5.0\n",
       "Faridabad                            5.0\n",
       "Gaurav                               1.0\n",
       "Ghaziabad                            5.0\n",
       "Harsh                                4.0\n",
       "Harsha                               4.0\n",
       "Hyderabad                            5.0\n",
       "Indore                               5.0\n",
       "Jaipur                               5.0\n",
       "Kalyan                               5.0\n",
       "Kanpur                               5.0\n",
       "Khaziabad                            4.0\n",
       "Kibara                               2.0\n",
       "Kolkata                              5.0\n",
       "Lucknow                              5.0\n",
       "Ludhiana                             5.0\n",
       "M.Com                                1.0\n",
       "M.Tech                               5.0\n",
       "ME                                   2.0\n",
       "Meerut                               5.0\n",
       "Mihir                                1.0\n",
       "Mira                                 1.0\n",
       "Mumbai                               5.0\n",
       "Nagpur                               5.0\n",
       "Nalini                               1.0\n",
       "Nalyan                               2.0\n",
       "Nandini                              2.0\n",
       "Nashik                               5.0\n",
       "Patna                                5.0\n",
       "Pune                                 5.0\n",
       "Rajkot                               5.0\n",
       "Rashi                                2.0\n",
       "Reyansh                              3.0\n",
       "Saanvi                               2.0\n",
       "Srinagar                             5.0\n",
       "Surat                                5.0\n",
       "Thane                                5.0\n",
       "Vaanya                               5.0\n",
       "Vadodara                             5.0\n",
       "Varanasi                             5.0\n",
       "Vasai-Virar                          5.0\n",
       "Visakhapatnam                        5.0"
      ]
     },
     "execution_count": 8,
     "metadata": {},
     "output_type": "execute_result"
    }
   ],
   "source": [
    "# 6. What is the maximum satisfaction among students in the city of Srinagar? \n",
    "# Hint: ‘max’ denotes the maximum. \n",
    "\n",
    "(\n",
    "    df[df[\"Profession\"] == \"Student\"]\n",
    "    .groupby(by=\"City\")\n",
    "    .agg(\n",
    "        {\n",
    "            \"Study Satisfaction\": \"max\"\n",
    "        }\n",
    "    )\n",
    ")"
   ]
  },
  {
   "cell_type": "code",
   "execution_count": 9,
   "metadata": {},
   "outputs": [
    {
     "data": {
      "text/html": [
       "<div>\n",
       "<style scoped>\n",
       "    .dataframe tbody tr th:only-of-type {\n",
       "        vertical-align: middle;\n",
       "    }\n",
       "\n",
       "    .dataframe tbody tr th {\n",
       "        vertical-align: top;\n",
       "    }\n",
       "\n",
       "    .dataframe thead th {\n",
       "        text-align: right;\n",
       "    }\n",
       "</style>\n",
       "<table border=\"1\" class=\"dataframe\">\n",
       "  <thead>\n",
       "    <tr style=\"text-align: right;\">\n",
       "      <th></th>\n",
       "      <th></th>\n",
       "      <th>Depression</th>\n",
       "    </tr>\n",
       "    <tr>\n",
       "      <th>Sleep Duration</th>\n",
       "      <th>Dietary Habits</th>\n",
       "      <th></th>\n",
       "    </tr>\n",
       "  </thead>\n",
       "  <tbody>\n",
       "    <tr>\n",
       "      <th>'Less than 5 hours'</th>\n",
       "      <th>Unhealthy</th>\n",
       "      <td>0.760274</td>\n",
       "    </tr>\n",
       "    <tr>\n",
       "      <th>'7-8 hours'</th>\n",
       "      <th>Unhealthy</th>\n",
       "      <td>0.718495</td>\n",
       "    </tr>\n",
       "    <tr>\n",
       "      <th>'5-6 hours'</th>\n",
       "      <th>Unhealthy</th>\n",
       "      <td>0.680587</td>\n",
       "    </tr>\n",
       "    <tr>\n",
       "      <th>Others</th>\n",
       "      <th>Healthy</th>\n",
       "      <td>0.666667</td>\n",
       "    </tr>\n",
       "    <tr>\n",
       "      <th>'More than 8 hours'</th>\n",
       "      <th>Unhealthy</th>\n",
       "      <td>0.646271</td>\n",
       "    </tr>\n",
       "    <tr>\n",
       "      <th>'Less than 5 hours'</th>\n",
       "      <th>Moderate</th>\n",
       "      <td>0.632203</td>\n",
       "    </tr>\n",
       "    <tr>\n",
       "      <th>'7-8 hours'</th>\n",
       "      <th>Moderate</th>\n",
       "      <td>0.557149</td>\n",
       "    </tr>\n",
       "    <tr>\n",
       "      <th>'5-6 hours'</th>\n",
       "      <th>Moderate</th>\n",
       "      <td>0.546522</td>\n",
       "    </tr>\n",
       "    <tr>\n",
       "      <th>'Less than 5 hours'</th>\n",
       "      <th>Healthy</th>\n",
       "      <td>0.501595</td>\n",
       "    </tr>\n",
       "    <tr>\n",
       "      <th>Others</th>\n",
       "      <th>Unhealthy</th>\n",
       "      <td>0.500000</td>\n",
       "    </tr>\n",
       "    <tr>\n",
       "      <th>'More than 8 hours'</th>\n",
       "      <th>Moderate</th>\n",
       "      <td>0.474545</td>\n",
       "    </tr>\n",
       "    <tr>\n",
       "      <th>'7-8 hours'</th>\n",
       "      <th>Healthy</th>\n",
       "      <td>0.467099</td>\n",
       "    </tr>\n",
       "    <tr>\n",
       "      <th>'5-6 hours'</th>\n",
       "      <th>Healthy</th>\n",
       "      <td>0.458731</td>\n",
       "    </tr>\n",
       "    <tr>\n",
       "      <th>Others</th>\n",
       "      <th>Moderate</th>\n",
       "      <td>0.428571</td>\n",
       "    </tr>\n",
       "    <tr>\n",
       "      <th>'More than 8 hours'</th>\n",
       "      <th>Healthy</th>\n",
       "      <td>0.366385</td>\n",
       "    </tr>\n",
       "  </tbody>\n",
       "</table>\n",
       "</div>"
      ],
      "text/plain": [
       "                                    Depression\n",
       "Sleep Duration      Dietary Habits            \n",
       "'Less than 5 hours' Unhealthy         0.760274\n",
       "'7-8 hours'         Unhealthy         0.718495\n",
       "'5-6 hours'         Unhealthy         0.680587\n",
       "Others              Healthy           0.666667\n",
       "'More than 8 hours' Unhealthy         0.646271\n",
       "'Less than 5 hours' Moderate          0.632203\n",
       "'7-8 hours'         Moderate          0.557149\n",
       "'5-6 hours'         Moderate          0.546522\n",
       "'Less than 5 hours' Healthy           0.501595\n",
       "Others              Unhealthy         0.500000\n",
       "'More than 8 hours' Moderate          0.474545\n",
       "'7-8 hours'         Healthy           0.467099\n",
       "'5-6 hours'         Healthy           0.458731\n",
       "Others              Moderate          0.428571\n",
       "'More than 8 hours' Healthy           0.366385"
      ]
     },
     "execution_count": 9,
     "metadata": {},
     "output_type": "execute_result"
    }
   ],
   "source": [
    "# 7. Among students, which combinations of sleep duration and dietary habits were the most and least depressed on average? \n",
    "# Exclude the Others dietary habit. \n",
    "# Use the percentage depressed aggregation. \n",
    "# Are these results surprising to you?\n",
    "\n",
    "(\n",
    "    df[\n",
    "        (df[\"Dietary Habits\"] != \"Others\") &\n",
    "        (df[\"Profession\"] == \"Student\")\n",
    "    ]\n",
    "    .groupby([\"Sleep Duration\", \"Dietary Habits\"])\n",
    "    .agg(\n",
    "        {\n",
    "            \"Depression\": \"mean\"\n",
    "        }\n",
    "    )\n",
    "    .sort_values(\"Depression\", ascending=False)\n",
    ")"
   ]
  },
  {
   "cell_type": "markdown",
   "metadata": {},
   "source": [
    "# Part 3: Long Answer"
   ]
  },
  {
   "cell_type": "code",
   "execution_count": 10,
   "metadata": {},
   "outputs": [
    {
     "data": {
      "text/plain": [
       "date              object\n",
       "price            float64\n",
       "bedrooms         float64\n",
       "bathrooms        float64\n",
       "sqft_living        int64\n",
       "sqft_lot           int64\n",
       "floors           float64\n",
       "waterfront         int64\n",
       "view               int64\n",
       "condition          int64\n",
       "sqft_above         int64\n",
       "sqft_basement      int64\n",
       "yr_built           int64\n",
       "yr_renovated       int64\n",
       "street            object\n",
       "city              object\n",
       "statezip          object\n",
       "country           object\n",
       "dtype: object"
      ]
     },
     "execution_count": 10,
     "metadata": {},
     "output_type": "execute_result"
    }
   ],
   "source": [
    "import pandas as pd\n",
    "from great_tables import (\n",
    "    GT, md, google_font, style, loc\n",
    ")\n",
    "import plotly.express as px\n",
    "\n",
    "df = pd.read_csv(\"data/housing_data.csv\")\n",
    "\n",
    "df.dtypes\n"
   ]
  },
  {
   "cell_type": "code",
   "execution_count": 11,
   "metadata": {},
   "outputs": [
    {
     "data": {
      "text/html": [
       "<div id=\"wdmhbnbyip\" style=\"padding-left:0px;padding-right:0px;padding-top:10px;padding-bottom:10px;overflow-x:auto;overflow-y:auto;width:auto;height:auto;\">\n",
       "<style>\n",
       "@import url('https://fonts.googleapis.com/css2?family=Lora&display=swap');\n",
       "@import url('https://fonts.googleapis.com/css2?family=Sora&display=swap');\n",
       "#wdmhbnbyip table {\n",
       "          font-family: Sora, -apple-system, BlinkMacSystemFont, 'Segoe UI', Roboto, Oxygen, Ubuntu, Cantarell, 'Helvetica Neue', 'Fira Sans', 'Droid Sans', Arial, sans-serif;\n",
       "          -webkit-font-smoothing: antialiased;\n",
       "          -moz-osx-font-smoothing: grayscale;\n",
       "        }\n",
       "\n",
       "#wdmhbnbyip thead, tbody, tfoot, tr, td, th { border-style: none !important; }\n",
       " tr { background-color: transparent !important; }\n",
       "#wdmhbnbyip p { margin: 0 !important; padding: 0 !important; }\n",
       " #wdmhbnbyip .gt_table { display: table !important; border-collapse: collapse !important; line-height: normal !important; margin-left: auto !important; margin-right: auto !important; color: #333333 !important; font-size: 12px !important; font-weight: normal !important; font-style: normal !important; background-color: #FFFFFF !important; width: auto !important; border-top-style: solid !important; border-top-width: 2px !important; border-top-color: #A8A8A8 !important; border-right-style: none !important; border-right-width: 2px !important; border-right-color: #D3D3D3 !important; border-bottom-style: solid !important; border-bottom-width: 2px !important; border-bottom-color: #A8A8A8 !important; border-left-style: none !important; border-left-width: 2px !important; border-left-color: #D3D3D3 !important; }\n",
       " #wdmhbnbyip .gt_caption { padding-top: 4px !important; padding-bottom: 4px !important; }\n",
       " #wdmhbnbyip .gt_title { color: #333333 !important; font-size: 26px !important; font-weight: initial !important; padding-top: 4px !important; padding-bottom: 4px !important; padding-left: 5px !important; padding-right: 5px !important; border-bottom-color: #FFFFFF !important; border-bottom-width: 0 !important; }\n",
       " #wdmhbnbyip .gt_subtitle { color: #333333 !important; font-size: 16px !important; font-weight: initial !important; padding-top: 3px !important; padding-bottom: 5px !important; padding-left: 5px !important; padding-right: 5px !important; border-top-color: #FFFFFF !important; border-top-width: 0 !important; }\n",
       " #wdmhbnbyip .gt_heading { background-color: #FFFFFF !important; text-align: left !important; border-bottom-color: #FFFFFF !important; border-left-style: none !important; border-left-width: 1px !important; border-left-color: #D3D3D3 !important; border-right-style: none !important; border-right-width: 1px !important; border-right-color: #D3D3D3 !important; }\n",
       " #wdmhbnbyip .gt_bottom_border { border-bottom-style: solid !important; border-bottom-width: 2px !important; border-bottom-color: #D3D3D3 !important; }\n",
       " #wdmhbnbyip .gt_col_headings { border-top-style: solid !important; border-top-width: 2px !important; border-top-color: #D3D3D3 !important; border-bottom-style: solid !important; border-bottom-width: 2px !important; border-bottom-color: #D3D3D3 !important; border-left-style: none !important; border-left-width: 1px !important; border-left-color: #D3D3D3 !important; border-right-style: none !important; border-right-width: 1px !important; border-right-color: #D3D3D3 !important; }\n",
       " #wdmhbnbyip .gt_col_heading { color: #333333 !important; background-color: #FFFFFF !important; font-size: 14px !important; font-weight: normal !important; text-transform: inherit !important; border-left-style: none !important; border-left-width: 1px !important; border-left-color: #D3D3D3 !important; border-right-style: none !important; border-right-width: 1px !important; border-right-color: #D3D3D3 !important; vertical-align: bottom !important; padding-top: 5px !important; padding-bottom: 5px !important; padding-left: 5px !important; padding-right: 5px !important; overflow-x: hidden !important; }\n",
       " #wdmhbnbyip .gt_column_spanner_outer { color: #333333 !important; background-color: #FFFFFF !important; font-size: 14px !important; font-weight: normal !important; text-transform: inherit !important; padding-top: 0 !important; padding-bottom: 0 !important; padding-left: 4px !important; padding-right: 4px !important; }\n",
       " #wdmhbnbyip .gt_column_spanner_outer:first-child { padding-left: 0 !important; }\n",
       " #wdmhbnbyip .gt_column_spanner_outer:last-child { padding-right: 0 !important; }\n",
       " #wdmhbnbyip .gt_column_spanner { border-bottom-style: solid !important; border-bottom-width: 2px !important; border-bottom-color: #D3D3D3 !important; vertical-align: bottom !important; padding-top: 5px !important; padding-bottom: 5px !important; overflow-x: hidden !important; display: inline-block !important; width: 100% !important; }\n",
       " #wdmhbnbyip .gt_spanner_row { border-bottom-style: hidden !important; }\n",
       " #wdmhbnbyip .gt_group_heading { padding-top: 8px !important; padding-bottom: 8px !important; padding-left: 5px !important; padding-right: 5px !important; color: #333333 !important; background-color: #FFFFFF !important; font-size: 100% !important; font-weight: initial !important; text-transform: inherit !important; border-top-style: solid !important; border-top-width: 2px !important; border-top-color: #D3D3D3 !important; border-bottom-style: solid !important; border-bottom-width: 2px !important; border-bottom-color: #D3D3D3 !important; border-left-style: none !important; border-left-width: 1px !important; border-left-color: #D3D3D3 !important; border-right-style: none !important; border-right-width: 1px !important; border-right-color: #D3D3D3 !important; vertical-align: middle !important; text-align: left !important; }\n",
       " #wdmhbnbyip .gt_empty_group_heading { padding: 0.5px !important; color: #333333 !important; background-color: #FFFFFF !important; font-size: 100% !important; font-weight: initial !important; border-top-style: solid !important; border-top-width: 2px !important; border-top-color: #D3D3D3 !important; border-bottom-style: solid !important; border-bottom-width: 2px !important; border-bottom-color: #D3D3D3 !important; vertical-align: middle !important; }\n",
       " #wdmhbnbyip .gt_from_md> :first-child { margin-top: 0 !important; }\n",
       " #wdmhbnbyip .gt_from_md> :last-child { margin-bottom: 0 !important; }\n",
       " #wdmhbnbyip .gt_row { padding-top: 1 !important; padding-bottom: 1 !important; padding-left: 5px !important; padding-right: 5px !important; margin: 10px !important; border-top-style: solid !important; border-top-width: 1px !important; border-top-color: #D3D3D3 !important; border-left-style: none !important; border-left-width: 1px !important; border-left-color: #D3D3D3 !important; border-right-style: none !important; border-right-width: 1px !important; border-right-color: #D3D3D3 !important; vertical-align: middle !important; overflow-x: hidden !important; }\n",
       " #wdmhbnbyip .gt_stub { color: #333333 !important; background-color: #FFFFFF !important; font-size: 100% !important; font-weight: initial !important; text-transform: inherit !important; border-right-style: solid !important; border-right-width: 2px !important; border-right-color: #D3D3D3 !important; padding-left: 5px !important; padding-right: 5px !important; }\n",
       " #wdmhbnbyip .gt_stub_row_group { color: #333333 !important; background-color: #FFFFFF !important; font-size: 100% !important; font-weight: initial !important; text-transform: inherit !important; border-right-style: solid !important; border-right-width: 2px !important; border-right-color: #D3D3D3 !important; padding-left: 5px !important; padding-right: 5px !important; vertical-align: top !important; }\n",
       " #wdmhbnbyip .gt_row_group_first td { border-top-width: 2px !important; }\n",
       " #wdmhbnbyip .gt_row_group_first th { border-top-width: 2px !important; }\n",
       " #wdmhbnbyip .gt_striped { background-color: rgba(128,128,128,0.05) !important; }\n",
       " #wdmhbnbyip .gt_table_body { border-top-style: solid !important; border-top-width: 2px !important; border-top-color: #D3D3D3 !important; border-bottom-style: solid !important; border-bottom-width: 2px !important; border-bottom-color: #D3D3D3 !important; }\n",
       " #wdmhbnbyip .gt_sourcenotes { color: #333333 !important; background-color: #FFFFFF !important; border-bottom-style: none !important; border-bottom-width: 2px !important; border-bottom-color: #D3D3D3 !important; border-left-style: none !important; border-left-width: 2px !important; border-left-color: #D3D3D3 !important; border-right-style: none !important; border-right-width: 2px !important; border-right-color: #D3D3D3 !important; }\n",
       " #wdmhbnbyip .gt_sourcenote { font-size: 90% !important; padding-top: 4px !important; padding-bottom: 4px !important; padding-left: 5px !important; padding-right: 5px !important; text-align: left !important; }\n",
       " #wdmhbnbyip .gt_left { text-align: left !important; }\n",
       " #wdmhbnbyip .gt_center { text-align: center !important; }\n",
       " #wdmhbnbyip .gt_right { text-align: right !important; font-variant-numeric: tabular-nums !important; }\n",
       " #wdmhbnbyip .gt_font_normal { font-weight: normal !important; }\n",
       " #wdmhbnbyip .gt_font_bold { font-weight: bold !important; }\n",
       " #wdmhbnbyip .gt_font_italic { font-style: italic !important; }\n",
       " #wdmhbnbyip .gt_super { font-size: 65% !important; }\n",
       " #wdmhbnbyip .gt_footnote_marks { font-size: 75% !important; vertical-align: 0.4em !important; position: initial !important; }\n",
       " #wdmhbnbyip .gt_asterisk { font-size: 100% !important; vertical-align: 0 !important; }\n",
       " \n",
       "</style>\n",
       "<table class=\"gt_table\" data-quarto-disable-processing=\"false\" data-quarto-bootstrap=\"false\">\n",
       "<thead>\n",
       "\n",
       "  <tr class=\"gt_heading\">\n",
       "    <td colspan=\"2\" class=\"gt_heading gt_title gt_font_normal\" style=\"font-family: Lora;\"><strong>Prices per address in the city of Black Diamond</strong></td>\n",
       "  </tr>\n",
       "  <tr class=\"gt_heading\">\n",
       "    <td colspan=\"2\" class=\"gt_heading gt_subtitle gt_font_normal gt_bottom_border\">A comparison of the top home sales in the Black Diamond housing market.</td>\n",
       "  </tr>\n",
       "<tr class=\"gt_col_headings\">\n",
       "  <th class=\"gt_col_heading gt_columns_bottom_border gt_left\" rowspan=\"1\" colspan=\"1\" scope=\"col\" id=\"Address\">Address</th>\n",
       "  <th class=\"gt_col_heading gt_columns_bottom_border gt_right\" rowspan=\"1\" colspan=\"1\" scope=\"col\" id=\"Price\">Price</th>\n",
       "</tr>\n",
       "</thead>\n",
       "<tbody class=\"gt_table_body\">\n",
       "  <tr>\n",
       "    <td class=\"gt_row gt_left\">28815 237th Pl SE</td>\n",
       "    <td style=\"color: #FFFFFF; background-color: #084387;\" class=\"gt_row gt_right\">650000.0</td>\n",
       "  </tr>\n",
       "  <tr>\n",
       "    <td class=\"gt_row gt_left\">22426 SE 300th St</td>\n",
       "    <td style=\"color: #FFFFFF; background-color: #1f6fb3;\" class=\"gt_row gt_right\">531500.0</td>\n",
       "  </tr>\n",
       "  <tr>\n",
       "    <td class=\"gt_row gt_left\">30734 229th Pl SE</td>\n",
       "    <td style=\"color: #FFFFFF; background-color: #2777b8;\" class=\"gt_row gt_right\">510000.0</td>\n",
       "  </tr>\n",
       "  <tr>\n",
       "    <td class=\"gt_row gt_left\">29613-29615 232nd Ave SE</td>\n",
       "    <td style=\"color: #000000; background-color: #559fcd;\" class=\"gt_row gt_right\">398000.0</td>\n",
       "  </tr>\n",
       "  <tr>\n",
       "    <td class=\"gt_row gt_left\">22821 SE 288th St</td>\n",
       "    <td style=\"color: #000000; background-color: #a1cbe2;\" class=\"gt_row gt_right\">255000.0</td>\n",
       "  </tr>\n",
       "  <tr>\n",
       "    <td class=\"gt_row gt_left\">25502 Kanasket Dr</td>\n",
       "    <td style=\"color: #000000; background-color: #a2cce3;\" class=\"gt_row gt_right\">253000.0</td>\n",
       "  </tr>\n",
       "  <tr>\n",
       "    <td class=\"gt_row gt_left\">21612 SE 290th Ct</td>\n",
       "    <td style=\"color: #000000; background-color: #abcfe5;\" class=\"gt_row gt_right\">234950.0</td>\n",
       "  </tr>\n",
       "  <tr>\n",
       "    <td class=\"gt_row gt_left\">32428-32598 5th Ave</td>\n",
       "    <td style=\"color: #000000; background-color: #b0d1e7;\" class=\"gt_row gt_right\">224000.0</td>\n",
       "  </tr>\n",
       "</tbody>\n",
       "  <tfoot class=\"gt_sourcenotes\">\n",
       "  \n",
       "  <tr>\n",
       "    <td class=\"gt_sourcenote\" colspan=\"2\">Source: Adil Shamim</td>\n",
       "  </tr>\n",
       "\n",
       "</tfoot>\n",
       "\n",
       "</table>\n",
       "\n",
       "</div>\n",
       "        "
      ],
      "text/plain": [
       "GT(_tbl_data=                    Address     Price\n",
       "0         28815 237th Pl SE  650000.0\n",
       "1         22426 SE 300th St  531500.0\n",
       "2         30734 229th Pl SE  510000.0\n",
       "3  29613-29615 232nd Ave SE  398000.0\n",
       "4         22821 SE 288th St  255000.0\n",
       "5         25502 Kanasket Dr  253000.0\n",
       "6         21612 SE 290th Ct  234950.0\n",
       "7       32428-32598 5th Ave  224000.0, _body=<great_tables._gt_data.Body object at 0x1299eb7d0>, _boxhead=Boxhead([ColInfo(var='Address', type=<ColInfoTypeEnum.default: 1>, column_label='Address', column_align='left', column_width=None), ColInfo(var='Price', type=<ColInfoTypeEnum.default: 1>, column_label='Price', column_align='right', column_width=None)]), _stub=<great_tables._gt_data.Stub object at 0x129a19c70>, _spanners=Spanners([]), _heading=Heading(title=Md(text='**Prices per address in the city of Black Diamond**'), subtitle=Md(text='A comparison of the top home sales in the Black Diamond housing market.'), preheader=None), _stubhead=None, _source_notes=['Source: Adil Shamim'], _footnotes=[], _styles=[StyleInfo(locname=LocBody(columns='Price', rows=[0]), grpname=None, colname='Price', rownum=0, colnum=None, styles=[CellStyleText(color='#FFFFFF', font=None, size=None, align=None, v_align=None, style=None, weight=None, stretch=None, decorate=None, transform=None, whitespace=None), CellStyleFill(color='#084387')]), StyleInfo(locname=LocBody(columns='Price', rows=[1]), grpname=None, colname='Price', rownum=1, colnum=None, styles=[CellStyleText(color='#FFFFFF', font=None, size=None, align=None, v_align=None, style=None, weight=None, stretch=None, decorate=None, transform=None, whitespace=None), CellStyleFill(color='#1f6fb3')]), StyleInfo(locname=LocBody(columns='Price', rows=[2]), grpname=None, colname='Price', rownum=2, colnum=None, styles=[CellStyleText(color='#FFFFFF', font=None, size=None, align=None, v_align=None, style=None, weight=None, stretch=None, decorate=None, transform=None, whitespace=None), CellStyleFill(color='#2777b8')]), StyleInfo(locname=LocBody(columns='Price', rows=[3]), grpname=None, colname='Price', rownum=3, colnum=None, styles=[CellStyleText(color='#000000', font=None, size=None, align=None, v_align=None, style=None, weight=None, stretch=None, decorate=None, transform=None, whitespace=None), CellStyleFill(color='#559fcd')]), StyleInfo(locname=LocBody(columns='Price', rows=[4]), grpname=None, colname='Price', rownum=4, colnum=None, styles=[CellStyleText(color='#000000', font=None, size=None, align=None, v_align=None, style=None, weight=None, stretch=None, decorate=None, transform=None, whitespace=None), CellStyleFill(color='#a1cbe2')]), StyleInfo(locname=LocBody(columns='Price', rows=[5]), grpname=None, colname='Price', rownum=5, colnum=None, styles=[CellStyleText(color='#000000', font=None, size=None, align=None, v_align=None, style=None, weight=None, stretch=None, decorate=None, transform=None, whitespace=None), CellStyleFill(color='#a2cce3')]), StyleInfo(locname=LocBody(columns='Price', rows=[6]), grpname=None, colname='Price', rownum=6, colnum=None, styles=[CellStyleText(color='#000000', font=None, size=None, align=None, v_align=None, style=None, weight=None, stretch=None, decorate=None, transform=None, whitespace=None), CellStyleFill(color='#abcfe5')]), StyleInfo(locname=LocBody(columns='Price', rows=[7]), grpname=None, colname='Price', rownum=7, colnum=None, styles=[CellStyleText(color='#000000', font=None, size=None, align=None, v_align=None, style=None, weight=None, stretch=None, decorate=None, transform=None, whitespace=None), CellStyleFill(color='#b0d1e7')]), StyleInfo(locname=LocTitle(), grpname=None, colname=None, rownum=None, colnum=None, styles=[CellStyleText(color=None, font='Lora', size=None, align=None, v_align=None, style=None, weight=None, stretch=None, decorate=None, transform=None, whitespace=None)])], _locale=<great_tables._gt_data.Locale object at 0x12b6977d0>, _formats=[], _substitutions=[], _options=Options(table_id=OptionsInfo(scss=False, category='table', type='value', value=None), table_caption=OptionsInfo(scss=False, category='table', type='value', value=None), table_width=OptionsInfo(scss=True, category='table', type='px', value='auto'), table_layout=OptionsInfo(scss=True, category='table', type='value', value='fixed'), table_margin_left=OptionsInfo(scss=True, category='table', type='px', value='auto'), table_margin_right=OptionsInfo(scss=True, category='table', type='px', value='auto'), table_background_color=OptionsInfo(scss=True, category='table', type='value', value='#FFFFFF'), table_additional_css=OptionsInfo(scss=False, category='table', type='values', value=[\"@import url('https://fonts.googleapis.com/css2?family=Lora&display=swap');\", \"@import url('https://fonts.googleapis.com/css2?family=Sora&display=swap');\"]), table_font_names=OptionsInfo(scss=False, category='table', type='values', value=['Sora', '-apple-system', 'BlinkMacSystemFont', 'Segoe UI', 'Roboto', 'Oxygen', 'Ubuntu', 'Cantarell', 'Helvetica Neue', 'Fira Sans', 'Droid Sans', 'Arial', 'sans-serif']), table_font_size=OptionsInfo(scss=True, category='table', type='px', value='12px'), table_font_weight=OptionsInfo(scss=True, category='table', type='value', value='normal'), table_font_style=OptionsInfo(scss=True, category='table', type='value', value='normal'), table_font_color=OptionsInfo(scss=True, category='table', type='value', value='#333333'), table_font_color_light=OptionsInfo(scss=True, category='table', type='value', value='#FFFFFF'), table_border_top_include=OptionsInfo(scss=False, category='table', type='boolean', value=True), table_border_top_style=OptionsInfo(scss=True, category='table', type='value', value='solid'), table_border_top_width=OptionsInfo(scss=True, category='table', type='px', value='2px'), table_border_top_color=OptionsInfo(scss=True, category='table', type='value', value='#A8A8A8'), table_border_right_style=OptionsInfo(scss=True, category='table', type='value', value='none'), table_border_right_width=OptionsInfo(scss=True, category='table', type='px', value='2px'), table_border_right_color=OptionsInfo(scss=True, category='table', type='value', value='#D3D3D3'), table_border_bottom_include=OptionsInfo(scss=False, category='table', type='boolean', value=True), table_border_bottom_style=OptionsInfo(scss=True, category='table', type='value', value='solid'), table_border_bottom_width=OptionsInfo(scss=True, category='table', type='px', value='2px'), table_border_bottom_color=OptionsInfo(scss=True, category='table', type='value', value='#A8A8A8'), table_border_left_style=OptionsInfo(scss=True, category='table', type='value', value='none'), table_border_left_width=OptionsInfo(scss=True, category='table', type='px', value='2px'), table_border_left_color=OptionsInfo(scss=True, category='table', type='value', value='#D3D3D3'), heading_background_color=OptionsInfo(scss=True, category='heading', type='value', value=None), heading_align=OptionsInfo(scss=True, category='heading', type='value', value='left'), heading_title_font_size=OptionsInfo(scss=True, category='heading', type='px', value='26px'), heading_title_font_weight=OptionsInfo(scss=True, category='heading', type='value', value='initial'), heading_subtitle_font_size=OptionsInfo(scss=True, category='heading', type='px', value='16px'), heading_subtitle_font_weight=OptionsInfo(scss=True, category='heading', type='value', value='initial'), heading_padding=OptionsInfo(scss=True, category='heading', type='px', value='4px'), heading_padding_horizontal=OptionsInfo(scss=True, category='heading', type='px', value='5px'), heading_border_bottom_style=OptionsInfo(scss=True, category='heading', type='value', value='solid'), heading_border_bottom_width=OptionsInfo(scss=True, category='heading', type='px', value='2px'), heading_border_bottom_color=OptionsInfo(scss=True, category='heading', type='value', value='#D3D3D3'), heading_border_lr_style=OptionsInfo(scss=True, category='heading', type='value', value='none'), heading_border_lr_width=OptionsInfo(scss=True, category='heading', type='px', value='1px'), heading_border_lr_color=OptionsInfo(scss=True, category='heading', type='value', value='#D3D3D3'), column_labels_background_color=OptionsInfo(scss=True, category='column_labels', type='value', value=None), column_labels_font_size=OptionsInfo(scss=True, category='column_labels', type='px', value='14px'), column_labels_font_weight=OptionsInfo(scss=True, category='column_labels', type='value', value='normal'), column_labels_text_transform=OptionsInfo(scss=True, category='column_labels', type='value', value='inherit'), column_labels_padding=OptionsInfo(scss=True, category='column_labels', type='px', value='5px'), column_labels_padding_horizontal=OptionsInfo(scss=True, category='column_labels', type='px', value='5px'), column_labels_vlines_style=OptionsInfo(scss=True, category='table_body', type='value', value='none'), column_labels_vlines_width=OptionsInfo(scss=True, category='table_body', type='px', value='1px'), column_labels_vlines_color=OptionsInfo(scss=True, category='table_body', type='value', value='#D3D3D3'), column_labels_border_top_style=OptionsInfo(scss=True, category='column_labels', type='value', value='solid'), column_labels_border_top_width=OptionsInfo(scss=True, category='column_labels', type='px', value='2px'), column_labels_border_top_color=OptionsInfo(scss=True, category='column_labels', type='value', value='#D3D3D3'), column_labels_border_bottom_style=OptionsInfo(scss=True, category='column_labels', type='value', value='solid'), column_labels_border_bottom_width=OptionsInfo(scss=True, category='column_labels', type='px', value='2px'), column_labels_border_bottom_color=OptionsInfo(scss=True, category='column_labels', type='value', value='#D3D3D3'), column_labels_border_lr_style=OptionsInfo(scss=True, category='column_labels', type='value', value='none'), column_labels_border_lr_width=OptionsInfo(scss=True, category='column_labels', type='px', value='1px'), column_labels_border_lr_color=OptionsInfo(scss=True, category='column_labels', type='value', value='#D3D3D3'), column_labels_hidden=OptionsInfo(scss=False, category='column_labels', type='boolean', value=False), row_group_background_color=OptionsInfo(scss=True, category='row_group', type='value', value=None), row_group_font_size=OptionsInfo(scss=True, category='row_group', type='px', value='100%'), row_group_font_weight=OptionsInfo(scss=True, category='row_group', type='value', value='initial'), row_group_text_transform=OptionsInfo(scss=True, category='row_group', type='value', value='inherit'), row_group_padding=OptionsInfo(scss=True, category='row_group', type='px', value='8px'), row_group_padding_horizontal=OptionsInfo(scss=True, category='row_group', type='px', value='5px'), row_group_border_top_style=OptionsInfo(scss=True, category='row_group', type='value', value='solid'), row_group_border_top_width=OptionsInfo(scss=True, category='row_group', type='px', value='2px'), row_group_border_top_color=OptionsInfo(scss=True, category='row_group', type='value', value='#D3D3D3'), row_group_border_right_style=OptionsInfo(scss=True, category='row_group', type='value', value='none'), row_group_border_right_width=OptionsInfo(scss=True, category='row_group', type='px', value='1px'), row_group_border_right_color=OptionsInfo(scss=True, category='row_group', type='value', value='#D3D3D3'), row_group_border_bottom_style=OptionsInfo(scss=True, category='row_group', type='value', value='solid'), row_group_border_bottom_width=OptionsInfo(scss=True, category='row_group', type='px', value='2px'), row_group_border_bottom_color=OptionsInfo(scss=True, category='row_group', type='value', value='#D3D3D3'), row_group_border_left_style=OptionsInfo(scss=True, category='row_group', type='value', value='none'), row_group_border_left_width=OptionsInfo(scss=True, category='row_group', type='px', value='1px'), row_group_border_left_color=OptionsInfo(scss=True, category='row_group', type='value', value='#D3D3D3'), row_group_as_column=OptionsInfo(scss=False, category='row_group', type='boolean', value=False), table_body_hlines_style=OptionsInfo(scss=True, category='table_body', type='value', value='solid'), table_body_hlines_width=OptionsInfo(scss=True, category='table_body', type='px', value='1px'), table_body_hlines_color=OptionsInfo(scss=True, category='table_body', type='value', value='#D3D3D3'), table_body_vlines_style=OptionsInfo(scss=True, category='table_body', type='value', value='none'), table_body_vlines_width=OptionsInfo(scss=True, category='table_body', type='px', value='1px'), table_body_vlines_color=OptionsInfo(scss=True, category='table_body', type='value', value='#D3D3D3'), table_body_border_top_style=OptionsInfo(scss=True, category='table_body', type='value', value='solid'), table_body_border_top_width=OptionsInfo(scss=True, category='table_body', type='px', value='2px'), table_body_border_top_color=OptionsInfo(scss=True, category='table_body', type='value', value='#D3D3D3'), table_body_border_bottom_style=OptionsInfo(scss=True, category='table_body', type='value', value='solid'), table_body_border_bottom_width=OptionsInfo(scss=True, category='table_body', type='px', value='2px'), table_body_border_bottom_color=OptionsInfo(scss=True, category='table_body', type='value', value='#D3D3D3'), data_row_padding=OptionsInfo(scss=True, category='data_row', type='px', value=1), data_row_padding_horizontal=OptionsInfo(scss=True, category='data_row', type='px', value='5px'), stub_background_color=OptionsInfo(scss=True, category='stub', type='value', value=None), stub_font_size=OptionsInfo(scss=True, category='stub', type='px', value='100%'), stub_font_weight=OptionsInfo(scss=True, category='stub', type='value', value='initial'), stub_text_transform=OptionsInfo(scss=True, category='stub', type='value', value='inherit'), stub_border_style=OptionsInfo(scss=True, category='stub', type='value', value='solid'), stub_border_width=OptionsInfo(scss=True, category='stub', type='px', value='2px'), stub_border_color=OptionsInfo(scss=True, category='stub', type='value', value='#D3D3D3'), stub_row_group_background_color=OptionsInfo(scss=True, category='stub', type='value', value=None), stub_row_group_font_size=OptionsInfo(scss=True, category='stub', type='px', value='100%'), stub_row_group_font_weight=OptionsInfo(scss=True, category='stub', type='value', value='initial'), stub_row_group_text_transform=OptionsInfo(scss=True, category='stub', type='value', value='inherit'), stub_row_group_border_style=OptionsInfo(scss=True, category='stub', type='value', value='solid'), stub_row_group_border_width=OptionsInfo(scss=True, category='stub', type='px', value='2px'), stub_row_group_border_color=OptionsInfo(scss=True, category='stub', type='value', value='#D3D3D3'), source_notes_padding=OptionsInfo(scss=True, category='source_notes', type='px', value='4px'), source_notes_padding_horizontal=OptionsInfo(scss=True, category='source_notes', type='px', value='5px'), source_notes_background_color=OptionsInfo(scss=True, category='source_notes', type='value', value=None), source_notes_font_size=OptionsInfo(scss=True, category='source_notes', type='px', value='90%'), source_notes_border_bottom_style=OptionsInfo(scss=True, category='source_notes', type='value', value='none'), source_notes_border_bottom_width=OptionsInfo(scss=True, category='source_notes', type='px', value='2px'), source_notes_border_bottom_color=OptionsInfo(scss=True, category='source_notes', type='value', value='#D3D3D3'), source_notes_border_lr_style=OptionsInfo(scss=True, category='source_notes', type='value', value='none'), source_notes_border_lr_width=OptionsInfo(scss=True, category='source_notes', type='px', value='2px'), source_notes_border_lr_color=OptionsInfo(scss=True, category='source_notes', type='value', value='#D3D3D3'), source_notes_multiline=OptionsInfo(scss=False, category='source_notes', type='boolean', value=True), source_notes_sep=OptionsInfo(scss=False, category='source_notes', type='value', value=' '), row_striping_background_color=OptionsInfo(scss=True, category='row', type='value', value='rgba(128,128,128,0.05)'), row_striping_include_stub=OptionsInfo(scss=False, category='row', type='boolean', value=False), row_striping_include_table_body=OptionsInfo(scss=False, category='row', type='boolean', value=False), container_width=OptionsInfo(scss=False, category='container', type='px', value='auto'), container_height=OptionsInfo(scss=False, category='container', type='px', value='auto'), container_padding_x=OptionsInfo(scss=False, category='container', type='px', value='0px'), container_padding_y=OptionsInfo(scss=False, category='container', type='px', value='10px'), container_overflow_x=OptionsInfo(scss=False, category='container', type='overflow', value='auto'), container_overflow_y=OptionsInfo(scss=False, category='container', type='overflow', value='auto'), quarto_disable_processing=OptionsInfo(scss=False, category='quarto', type='logical', value=False), quarto_use_bootstrap=OptionsInfo(scss=False, category='quarto', type='logical', value=False)), _has_built=False)"
      ]
     },
     "metadata": {},
     "output_type": "display_data"
    }
   ],
   "source": [
    "# 8. Create a heatmap showing the prices per address in the city of Black Diamond.\n",
    "# Filter out houses with a price less than 100. \n",
    "\n",
    "df_8 = (\n",
    "    df[(df[\"price\"] >= 100) & (df[\"city\"] == \"Black Diamond\")]\n",
    "    .sort_values(\"price\", ascending=False)\n",
    "    .rename(\n",
    "        columns={\n",
    "            \"street\": \"Address\",\n",
    "            \"price\": \"Price\"\n",
    "        }\n",
    "    )\n",
    "    .reset_index()\n",
    ")\n",
    "\n",
    "heatmap = (\n",
    "    GT(\n",
    "        df_8[[\"Address\", \"Price\"]]\n",
    "    )\n",
    "\n",
    "    .data_color(\n",
    "        columns = 'Price',\n",
    "        palette = 'Blues',\n",
    "        domain = [0, 700000]\n",
    "    )\n",
    "    # .fmt_number(\n",
    "    #     columns='Median Price',\n",
    "    #     n_sigfig=3,\n",
    "    #     compact=True\n",
    "    # )\n",
    "\n",
    "    .tab_header(\n",
    "        title = md(\"**Prices per address in the city of Black Diamond**\"),\n",
    "        subtitle = md(\"A comparison of the top home sales in the Black Diamond housing market.\")\n",
    "    )\n",
    "    .opt_align_table_header('left')\n",
    "\n",
    "    .tab_style(\n",
    "        # custom font for heading\n",
    "        style=style.text(font=google_font('Lora')),\n",
    "        locations=loc.title()\n",
    "    )\n",
    "    .tab_options(\n",
    "        heading_title_font_size='26px',\n",
    "        heading_subtitle_font_size='16px',\n",
    "        column_labels_font_size='14px',\n",
    "        table_font_size = '12px',\n",
    "        data_row_padding = 1,\n",
    "    )\n",
    "    .opt_table_font(font=google_font('Sora'))\n",
    "    .tab_source_note(\n",
    "        source_note='Source: Adil Shamim'\n",
    "    )\n",
    ")\n",
    "\n",
    "display(heatmap)\n"
   ]
  },
  {
   "cell_type": "code",
   "execution_count": 12,
   "metadata": {},
   "outputs": [
    {
     "data": {
      "text/html": [
       "<div>\n",
       "<style scoped>\n",
       "    .dataframe tbody tr th:only-of-type {\n",
       "        vertical-align: middle;\n",
       "    }\n",
       "\n",
       "    .dataframe tbody tr th {\n",
       "        vertical-align: top;\n",
       "    }\n",
       "\n",
       "    .dataframe thead th {\n",
       "        text-align: right;\n",
       "    }\n",
       "</style>\n",
       "<table border=\"1\" class=\"dataframe\">\n",
       "  <thead>\n",
       "    <tr style=\"text-align: right;\">\n",
       "      <th></th>\n",
       "      <th>date</th>\n",
       "      <th>price</th>\n",
       "      <th>bedrooms</th>\n",
       "      <th>bathrooms</th>\n",
       "      <th>sqft_living</th>\n",
       "      <th>sqft_lot</th>\n",
       "      <th>floors</th>\n",
       "      <th>waterfront</th>\n",
       "      <th>view</th>\n",
       "      <th>condition</th>\n",
       "      <th>sqft_above</th>\n",
       "      <th>sqft_basement</th>\n",
       "      <th>yr_built</th>\n",
       "      <th>yr_renovated</th>\n",
       "      <th>street</th>\n",
       "      <th>city</th>\n",
       "      <th>statezip</th>\n",
       "      <th>country</th>\n",
       "    </tr>\n",
       "  </thead>\n",
       "  <tbody>\n",
       "    <tr>\n",
       "      <th>0</th>\n",
       "      <td>2014-05-02 00:00:00</td>\n",
       "      <td>313000.0</td>\n",
       "      <td>3.0</td>\n",
       "      <td>1.50</td>\n",
       "      <td>1340</td>\n",
       "      <td>7912</td>\n",
       "      <td>1.5</td>\n",
       "      <td>0</td>\n",
       "      <td>0</td>\n",
       "      <td>3</td>\n",
       "      <td>1340</td>\n",
       "      <td>0</td>\n",
       "      <td>1955</td>\n",
       "      <td>2005</td>\n",
       "      <td>18810 Densmore Ave N</td>\n",
       "      <td>Shoreline</td>\n",
       "      <td>WA 98133</td>\n",
       "      <td>USA</td>\n",
       "    </tr>\n",
       "    <tr>\n",
       "      <th>1</th>\n",
       "      <td>2014-05-02 00:00:00</td>\n",
       "      <td>2384000.0</td>\n",
       "      <td>5.0</td>\n",
       "      <td>2.50</td>\n",
       "      <td>3650</td>\n",
       "      <td>9050</td>\n",
       "      <td>2.0</td>\n",
       "      <td>0</td>\n",
       "      <td>4</td>\n",
       "      <td>5</td>\n",
       "      <td>3370</td>\n",
       "      <td>280</td>\n",
       "      <td>1921</td>\n",
       "      <td>0</td>\n",
       "      <td>709 W Blaine St</td>\n",
       "      <td>Seattle</td>\n",
       "      <td>WA 98119</td>\n",
       "      <td>USA</td>\n",
       "    </tr>\n",
       "    <tr>\n",
       "      <th>2</th>\n",
       "      <td>2014-05-02 00:00:00</td>\n",
       "      <td>342000.0</td>\n",
       "      <td>3.0</td>\n",
       "      <td>2.00</td>\n",
       "      <td>1930</td>\n",
       "      <td>11947</td>\n",
       "      <td>1.0</td>\n",
       "      <td>0</td>\n",
       "      <td>0</td>\n",
       "      <td>4</td>\n",
       "      <td>1930</td>\n",
       "      <td>0</td>\n",
       "      <td>1966</td>\n",
       "      <td>0</td>\n",
       "      <td>26206-26214 143rd Ave SE</td>\n",
       "      <td>Kent</td>\n",
       "      <td>WA 98042</td>\n",
       "      <td>USA</td>\n",
       "    </tr>\n",
       "    <tr>\n",
       "      <th>3</th>\n",
       "      <td>2014-05-02 00:00:00</td>\n",
       "      <td>420000.0</td>\n",
       "      <td>3.0</td>\n",
       "      <td>2.25</td>\n",
       "      <td>2000</td>\n",
       "      <td>8030</td>\n",
       "      <td>1.0</td>\n",
       "      <td>0</td>\n",
       "      <td>0</td>\n",
       "      <td>4</td>\n",
       "      <td>1000</td>\n",
       "      <td>1000</td>\n",
       "      <td>1963</td>\n",
       "      <td>0</td>\n",
       "      <td>857 170th Pl NE</td>\n",
       "      <td>Bellevue</td>\n",
       "      <td>WA 98008</td>\n",
       "      <td>USA</td>\n",
       "    </tr>\n",
       "    <tr>\n",
       "      <th>4</th>\n",
       "      <td>2014-05-02 00:00:00</td>\n",
       "      <td>550000.0</td>\n",
       "      <td>4.0</td>\n",
       "      <td>2.50</td>\n",
       "      <td>1940</td>\n",
       "      <td>10500</td>\n",
       "      <td>1.0</td>\n",
       "      <td>0</td>\n",
       "      <td>0</td>\n",
       "      <td>4</td>\n",
       "      <td>1140</td>\n",
       "      <td>800</td>\n",
       "      <td>1976</td>\n",
       "      <td>1992</td>\n",
       "      <td>9105 170th Ave NE</td>\n",
       "      <td>Redmond</td>\n",
       "      <td>WA 98052</td>\n",
       "      <td>USA</td>\n",
       "    </tr>\n",
       "  </tbody>\n",
       "</table>\n",
       "</div>"
      ],
      "text/plain": [
       "                  date      price  bedrooms  bathrooms  sqft_living  sqft_lot  \\\n",
       "0  2014-05-02 00:00:00   313000.0       3.0       1.50         1340      7912   \n",
       "1  2014-05-02 00:00:00  2384000.0       5.0       2.50         3650      9050   \n",
       "2  2014-05-02 00:00:00   342000.0       3.0       2.00         1930     11947   \n",
       "3  2014-05-02 00:00:00   420000.0       3.0       2.25         2000      8030   \n",
       "4  2014-05-02 00:00:00   550000.0       4.0       2.50         1940     10500   \n",
       "\n",
       "   floors  waterfront  view  condition  sqft_above  sqft_basement  yr_built  \\\n",
       "0     1.5           0     0          3        1340              0      1955   \n",
       "1     2.0           0     4          5        3370            280      1921   \n",
       "2     1.0           0     0          4        1930              0      1966   \n",
       "3     1.0           0     0          4        1000           1000      1963   \n",
       "4     1.0           0     0          4        1140            800      1976   \n",
       "\n",
       "   yr_renovated                    street       city  statezip country  \n",
       "0          2005      18810 Densmore Ave N  Shoreline  WA 98133     USA  \n",
       "1             0           709 W Blaine St    Seattle  WA 98119     USA  \n",
       "2             0  26206-26214 143rd Ave SE       Kent  WA 98042     USA  \n",
       "3             0           857 170th Pl NE   Bellevue  WA 98008     USA  \n",
       "4          1992         9105 170th Ave NE    Redmond  WA 98052     USA  "
      ]
     },
     "execution_count": 12,
     "metadata": {},
     "output_type": "execute_result"
    }
   ],
   "source": [
    "df.head()"
   ]
  },
  {
   "cell_type": "code",
   "execution_count": 13,
   "metadata": {},
   "outputs": [
    {
     "data": {
      "application/vnd.plotly.v1+json": {
       "config": {
        "plotlyServerURL": "https://plot.ly"
       },
       "data": [
        {
         "hovertemplate": "flag=False<br>Median Total Square Footage=%{x}<br>City=%{y}<extra></extra>",
         "legendgroup": "False",
         "marker": {
          "color": "lightgray",
          "pattern": {
           "shape": ""
          }
         },
         "name": "False",
         "orientation": "h",
         "showlegend": true,
         "textposition": "auto",
         "type": "bar",
         "x": {
          "bdata": "AAAAAAA+vEAAAAAAAGjBQAAAAADAh8FAAAAAAIBtwkAAAAAAgI/CQAAAAAAA8cJAAAAAAIArw0AAAAAAgHvDQAAAAACAjsNAAAAAAMDRw0AAAAAAAOvDQAAAAACAU8RAAAAAAMBnxEAAAAAAAJjEQAAAAAAAwcRAAAAAAIDfxEAAAAAAANbFQAAAAACA18VAAAAAAAA/xkAAAAAAgEbGQAAAAAAAvMZAAAAAAAD9xkAAAAAAgP3GQAAAAAAAfMdAAAAAAIDbyEAAAAAAAH7JQAAAAADAPMpAAAAAAIBCykAAAAAAQFzKQAAAAABAhcpAAAAAAACHykAAAAAAAEPMQAAAAABA9M1AAAAAACA20EAAAAAAgCfRQAAAAADA3dZAAAAAAICk10AAAAAAwJTgQAAAAADADeFAAAAAAMAJ40AAAAAAYLDjQAAAAADgPehAAAAAAOCk8UA=",
          "dtype": "f8"
         },
         "xaxis": "x",
         "y": [
          "Seattle",
          "Algona",
          "Maple Valley",
          "Covington",
          "Inglewood-Finn Hill",
          "Snoqualmie",
          "Shoreline",
          "Pacific",
          "Issaquah",
          "Des Moines",
          "Renton",
          "Kent",
          "Burien",
          "Federal Way",
          "Auburn",
          "Tukwila",
          "Kirkland",
          "Bothell",
          "SeaTac",
          "Milton",
          "Beaux Arts Village",
          "Black Diamond",
          "Redmond",
          "Enumclaw",
          "Kenmore",
          "Snoqualmie Pass",
          "Bellevue",
          "Newcastle",
          "Lake Forest Park",
          "North Bend",
          "Sammamish",
          "Normandy Park",
          "Duvall",
          "Mercer Island",
          "Yarrow Point",
          "Medina",
          "Clyde Hill",
          "Carnation",
          "Woodinville",
          "Skykomish",
          "Vashon",
          "Fall City",
          "Ravensdale"
         ],
         "yaxis": "y"
        },
        {
         "hovertemplate": "flag=True<br>Median Total Square Footage=%{x}<br>City=%{y}<extra></extra>",
         "legendgroup": "True",
         "marker": {
          "color": "skyblue",
          "pattern": {
           "shape": ""
          }
         },
         "name": "True",
         "orientation": "h",
         "showlegend": true,
         "textposition": "auto",
         "type": "bar",
         "x": {
          "bdata": "AAAAAFDt/EA=",
          "dtype": "f8"
         },
         "xaxis": "x",
         "y": [
          "Preston"
         ],
         "yaxis": "y"
        }
       ],
       "layout": {
        "barmode": "relative",
        "font": {
         "family": "Sora"
        },
        "height": 1000,
        "legend": {
         "title": {
          "text": "flag"
         },
         "tracegroupgap": 0
        },
        "showlegend": false,
        "template": {
         "data": {
          "bar": [
           {
            "error_x": {
             "color": "rgb(36,36,36)"
            },
            "error_y": {
             "color": "rgb(36,36,36)"
            },
            "marker": {
             "line": {
              "color": "white",
              "width": 0.5
             },
             "pattern": {
              "fillmode": "overlay",
              "size": 10,
              "solidity": 0.2
             }
            },
            "type": "bar"
           }
          ],
          "barpolar": [
           {
            "marker": {
             "line": {
              "color": "white",
              "width": 0.5
             },
             "pattern": {
              "fillmode": "overlay",
              "size": 10,
              "solidity": 0.2
             }
            },
            "type": "barpolar"
           }
          ],
          "carpet": [
           {
            "aaxis": {
             "endlinecolor": "rgb(36,36,36)",
             "gridcolor": "white",
             "linecolor": "white",
             "minorgridcolor": "white",
             "startlinecolor": "rgb(36,36,36)"
            },
            "baxis": {
             "endlinecolor": "rgb(36,36,36)",
             "gridcolor": "white",
             "linecolor": "white",
             "minorgridcolor": "white",
             "startlinecolor": "rgb(36,36,36)"
            },
            "type": "carpet"
           }
          ],
          "choropleth": [
           {
            "colorbar": {
             "outlinewidth": 1,
             "tickcolor": "rgb(36,36,36)",
             "ticks": "outside"
            },
            "type": "choropleth"
           }
          ],
          "contour": [
           {
            "colorbar": {
             "outlinewidth": 1,
             "tickcolor": "rgb(36,36,36)",
             "ticks": "outside"
            },
            "colorscale": [
             [
              0,
              "#440154"
             ],
             [
              0.1111111111111111,
              "#482878"
             ],
             [
              0.2222222222222222,
              "#3e4989"
             ],
             [
              0.3333333333333333,
              "#31688e"
             ],
             [
              0.4444444444444444,
              "#26828e"
             ],
             [
              0.5555555555555556,
              "#1f9e89"
             ],
             [
              0.6666666666666666,
              "#35b779"
             ],
             [
              0.7777777777777778,
              "#6ece58"
             ],
             [
              0.8888888888888888,
              "#b5de2b"
             ],
             [
              1,
              "#fde725"
             ]
            ],
            "type": "contour"
           }
          ],
          "contourcarpet": [
           {
            "colorbar": {
             "outlinewidth": 1,
             "tickcolor": "rgb(36,36,36)",
             "ticks": "outside"
            },
            "type": "contourcarpet"
           }
          ],
          "heatmap": [
           {
            "colorbar": {
             "outlinewidth": 1,
             "tickcolor": "rgb(36,36,36)",
             "ticks": "outside"
            },
            "colorscale": [
             [
              0,
              "#440154"
             ],
             [
              0.1111111111111111,
              "#482878"
             ],
             [
              0.2222222222222222,
              "#3e4989"
             ],
             [
              0.3333333333333333,
              "#31688e"
             ],
             [
              0.4444444444444444,
              "#26828e"
             ],
             [
              0.5555555555555556,
              "#1f9e89"
             ],
             [
              0.6666666666666666,
              "#35b779"
             ],
             [
              0.7777777777777778,
              "#6ece58"
             ],
             [
              0.8888888888888888,
              "#b5de2b"
             ],
             [
              1,
              "#fde725"
             ]
            ],
            "type": "heatmap"
           }
          ],
          "histogram": [
           {
            "marker": {
             "line": {
              "color": "white",
              "width": 0.6
             }
            },
            "type": "histogram"
           }
          ],
          "histogram2d": [
           {
            "colorbar": {
             "outlinewidth": 1,
             "tickcolor": "rgb(36,36,36)",
             "ticks": "outside"
            },
            "colorscale": [
             [
              0,
              "#440154"
             ],
             [
              0.1111111111111111,
              "#482878"
             ],
             [
              0.2222222222222222,
              "#3e4989"
             ],
             [
              0.3333333333333333,
              "#31688e"
             ],
             [
              0.4444444444444444,
              "#26828e"
             ],
             [
              0.5555555555555556,
              "#1f9e89"
             ],
             [
              0.6666666666666666,
              "#35b779"
             ],
             [
              0.7777777777777778,
              "#6ece58"
             ],
             [
              0.8888888888888888,
              "#b5de2b"
             ],
             [
              1,
              "#fde725"
             ]
            ],
            "type": "histogram2d"
           }
          ],
          "histogram2dcontour": [
           {
            "colorbar": {
             "outlinewidth": 1,
             "tickcolor": "rgb(36,36,36)",
             "ticks": "outside"
            },
            "colorscale": [
             [
              0,
              "#440154"
             ],
             [
              0.1111111111111111,
              "#482878"
             ],
             [
              0.2222222222222222,
              "#3e4989"
             ],
             [
              0.3333333333333333,
              "#31688e"
             ],
             [
              0.4444444444444444,
              "#26828e"
             ],
             [
              0.5555555555555556,
              "#1f9e89"
             ],
             [
              0.6666666666666666,
              "#35b779"
             ],
             [
              0.7777777777777778,
              "#6ece58"
             ],
             [
              0.8888888888888888,
              "#b5de2b"
             ],
             [
              1,
              "#fde725"
             ]
            ],
            "type": "histogram2dcontour"
           }
          ],
          "mesh3d": [
           {
            "colorbar": {
             "outlinewidth": 1,
             "tickcolor": "rgb(36,36,36)",
             "ticks": "outside"
            },
            "type": "mesh3d"
           }
          ],
          "parcoords": [
           {
            "line": {
             "colorbar": {
              "outlinewidth": 1,
              "tickcolor": "rgb(36,36,36)",
              "ticks": "outside"
             }
            },
            "type": "parcoords"
           }
          ],
          "pie": [
           {
            "automargin": true,
            "type": "pie"
           }
          ],
          "scatter": [
           {
            "fillpattern": {
             "fillmode": "overlay",
             "size": 10,
             "solidity": 0.2
            },
            "type": "scatter"
           }
          ],
          "scatter3d": [
           {
            "line": {
             "colorbar": {
              "outlinewidth": 1,
              "tickcolor": "rgb(36,36,36)",
              "ticks": "outside"
             }
            },
            "marker": {
             "colorbar": {
              "outlinewidth": 1,
              "tickcolor": "rgb(36,36,36)",
              "ticks": "outside"
             }
            },
            "type": "scatter3d"
           }
          ],
          "scattercarpet": [
           {
            "marker": {
             "colorbar": {
              "outlinewidth": 1,
              "tickcolor": "rgb(36,36,36)",
              "ticks": "outside"
             }
            },
            "type": "scattercarpet"
           }
          ],
          "scattergeo": [
           {
            "marker": {
             "colorbar": {
              "outlinewidth": 1,
              "tickcolor": "rgb(36,36,36)",
              "ticks": "outside"
             }
            },
            "type": "scattergeo"
           }
          ],
          "scattergl": [
           {
            "marker": {
             "colorbar": {
              "outlinewidth": 1,
              "tickcolor": "rgb(36,36,36)",
              "ticks": "outside"
             }
            },
            "type": "scattergl"
           }
          ],
          "scattermap": [
           {
            "marker": {
             "colorbar": {
              "outlinewidth": 1,
              "tickcolor": "rgb(36,36,36)",
              "ticks": "outside"
             }
            },
            "type": "scattermap"
           }
          ],
          "scattermapbox": [
           {
            "marker": {
             "colorbar": {
              "outlinewidth": 1,
              "tickcolor": "rgb(36,36,36)",
              "ticks": "outside"
             }
            },
            "type": "scattermapbox"
           }
          ],
          "scatterpolar": [
           {
            "marker": {
             "colorbar": {
              "outlinewidth": 1,
              "tickcolor": "rgb(36,36,36)",
              "ticks": "outside"
             }
            },
            "type": "scatterpolar"
           }
          ],
          "scatterpolargl": [
           {
            "marker": {
             "colorbar": {
              "outlinewidth": 1,
              "tickcolor": "rgb(36,36,36)",
              "ticks": "outside"
             }
            },
            "type": "scatterpolargl"
           }
          ],
          "scatterternary": [
           {
            "marker": {
             "colorbar": {
              "outlinewidth": 1,
              "tickcolor": "rgb(36,36,36)",
              "ticks": "outside"
             }
            },
            "type": "scatterternary"
           }
          ],
          "surface": [
           {
            "colorbar": {
             "outlinewidth": 1,
             "tickcolor": "rgb(36,36,36)",
             "ticks": "outside"
            },
            "colorscale": [
             [
              0,
              "#440154"
             ],
             [
              0.1111111111111111,
              "#482878"
             ],
             [
              0.2222222222222222,
              "#3e4989"
             ],
             [
              0.3333333333333333,
              "#31688e"
             ],
             [
              0.4444444444444444,
              "#26828e"
             ],
             [
              0.5555555555555556,
              "#1f9e89"
             ],
             [
              0.6666666666666666,
              "#35b779"
             ],
             [
              0.7777777777777778,
              "#6ece58"
             ],
             [
              0.8888888888888888,
              "#b5de2b"
             ],
             [
              1,
              "#fde725"
             ]
            ],
            "type": "surface"
           }
          ],
          "table": [
           {
            "cells": {
             "fill": {
              "color": "rgb(237,237,237)"
             },
             "line": {
              "color": "white"
             }
            },
            "header": {
             "fill": {
              "color": "rgb(217,217,217)"
             },
             "line": {
              "color": "white"
             }
            },
            "type": "table"
           }
          ]
         },
         "layout": {
          "annotationdefaults": {
           "arrowhead": 0,
           "arrowwidth": 1
          },
          "autotypenumbers": "strict",
          "coloraxis": {
           "colorbar": {
            "outlinewidth": 1,
            "tickcolor": "rgb(36,36,36)",
            "ticks": "outside"
           }
          },
          "colorscale": {
           "diverging": [
            [
             0,
             "rgb(103,0,31)"
            ],
            [
             0.1,
             "rgb(178,24,43)"
            ],
            [
             0.2,
             "rgb(214,96,77)"
            ],
            [
             0.3,
             "rgb(244,165,130)"
            ],
            [
             0.4,
             "rgb(253,219,199)"
            ],
            [
             0.5,
             "rgb(247,247,247)"
            ],
            [
             0.6,
             "rgb(209,229,240)"
            ],
            [
             0.7,
             "rgb(146,197,222)"
            ],
            [
             0.8,
             "rgb(67,147,195)"
            ],
            [
             0.9,
             "rgb(33,102,172)"
            ],
            [
             1,
             "rgb(5,48,97)"
            ]
           ],
           "sequential": [
            [
             0,
             "#440154"
            ],
            [
             0.1111111111111111,
             "#482878"
            ],
            [
             0.2222222222222222,
             "#3e4989"
            ],
            [
             0.3333333333333333,
             "#31688e"
            ],
            [
             0.4444444444444444,
             "#26828e"
            ],
            [
             0.5555555555555556,
             "#1f9e89"
            ],
            [
             0.6666666666666666,
             "#35b779"
            ],
            [
             0.7777777777777778,
             "#6ece58"
            ],
            [
             0.8888888888888888,
             "#b5de2b"
            ],
            [
             1,
             "#fde725"
            ]
           ],
           "sequentialminus": [
            [
             0,
             "#440154"
            ],
            [
             0.1111111111111111,
             "#482878"
            ],
            [
             0.2222222222222222,
             "#3e4989"
            ],
            [
             0.3333333333333333,
             "#31688e"
            ],
            [
             0.4444444444444444,
             "#26828e"
            ],
            [
             0.5555555555555556,
             "#1f9e89"
            ],
            [
             0.6666666666666666,
             "#35b779"
            ],
            [
             0.7777777777777778,
             "#6ece58"
            ],
            [
             0.8888888888888888,
             "#b5de2b"
            ],
            [
             1,
             "#fde725"
            ]
           ]
          },
          "colorway": [
           "#1F77B4",
           "#FF7F0E",
           "#2CA02C",
           "#D62728",
           "#9467BD",
           "#8C564B",
           "#E377C2",
           "#7F7F7F",
           "#BCBD22",
           "#17BECF"
          ],
          "font": {
           "color": "rgb(36,36,36)"
          },
          "geo": {
           "bgcolor": "white",
           "lakecolor": "white",
           "landcolor": "white",
           "showlakes": true,
           "showland": true,
           "subunitcolor": "white"
          },
          "hoverlabel": {
           "align": "left"
          },
          "hovermode": "closest",
          "mapbox": {
           "style": "light"
          },
          "paper_bgcolor": "white",
          "plot_bgcolor": "white",
          "polar": {
           "angularaxis": {
            "gridcolor": "rgb(232,232,232)",
            "linecolor": "rgb(36,36,36)",
            "showgrid": false,
            "showline": true,
            "ticks": "outside"
           },
           "bgcolor": "white",
           "radialaxis": {
            "gridcolor": "rgb(232,232,232)",
            "linecolor": "rgb(36,36,36)",
            "showgrid": false,
            "showline": true,
            "ticks": "outside"
           }
          },
          "scene": {
           "xaxis": {
            "backgroundcolor": "white",
            "gridcolor": "rgb(232,232,232)",
            "gridwidth": 2,
            "linecolor": "rgb(36,36,36)",
            "showbackground": true,
            "showgrid": false,
            "showline": true,
            "ticks": "outside",
            "zeroline": false,
            "zerolinecolor": "rgb(36,36,36)"
           },
           "yaxis": {
            "backgroundcolor": "white",
            "gridcolor": "rgb(232,232,232)",
            "gridwidth": 2,
            "linecolor": "rgb(36,36,36)",
            "showbackground": true,
            "showgrid": false,
            "showline": true,
            "ticks": "outside",
            "zeroline": false,
            "zerolinecolor": "rgb(36,36,36)"
           },
           "zaxis": {
            "backgroundcolor": "white",
            "gridcolor": "rgb(232,232,232)",
            "gridwidth": 2,
            "linecolor": "rgb(36,36,36)",
            "showbackground": true,
            "showgrid": false,
            "showline": true,
            "ticks": "outside",
            "zeroline": false,
            "zerolinecolor": "rgb(36,36,36)"
           }
          },
          "shapedefaults": {
           "fillcolor": "black",
           "line": {
            "width": 0
           },
           "opacity": 0.3
          },
          "ternary": {
           "aaxis": {
            "gridcolor": "rgb(232,232,232)",
            "linecolor": "rgb(36,36,36)",
            "showgrid": false,
            "showline": true,
            "ticks": "outside"
           },
           "baxis": {
            "gridcolor": "rgb(232,232,232)",
            "linecolor": "rgb(36,36,36)",
            "showgrid": false,
            "showline": true,
            "ticks": "outside"
           },
           "bgcolor": "white",
           "caxis": {
            "gridcolor": "rgb(232,232,232)",
            "linecolor": "rgb(36,36,36)",
            "showgrid": false,
            "showline": true,
            "ticks": "outside"
           }
          },
          "title": {
           "x": 0.05
          },
          "xaxis": {
           "automargin": true,
           "gridcolor": "rgb(232,232,232)",
           "linecolor": "rgb(36,36,36)",
           "showgrid": false,
           "showline": true,
           "ticks": "outside",
           "title": {
            "standoff": 15
           },
           "zeroline": false,
           "zerolinecolor": "rgb(36,36,36)"
          },
          "yaxis": {
           "automargin": true,
           "gridcolor": "rgb(232,232,232)",
           "linecolor": "rgb(36,36,36)",
           "showgrid": false,
           "showline": true,
           "ticks": "outside",
           "title": {
            "standoff": 15
           },
           "zeroline": false,
           "zerolinecolor": "rgb(36,36,36)"
          }
         }
        },
        "title": {
         "font": {
          "family": "Lora"
         },
         "subtitle": {
          "text": "Comparing the median total square footage by city in Washington state: Which cities have the most spacious homes?"
         },
         "text": "<b>Preston, WA Boasts Largest Home Size</b>"
        },
        "width": 1000,
        "xaxis": {
         "anchor": "y",
         "domain": [
          0,
          1
         ],
         "gridcolor": "lightgray",
         "gridwidth": 0.5,
         "showgrid": true,
         "showline": false,
         "ticks": "",
         "title": {
          "text": "Median Total Square Footage"
         }
        },
        "yaxis": {
         "anchor": "x",
         "domain": [
          0,
          1
         ],
         "ticks": "",
         "title": {
          "text": "City"
         }
        }
       }
      }
     },
     "metadata": {},
     "output_type": "display_data"
    }
   ],
   "source": [
    "# 9. Create a bar chart of the median total square footage by city.\n",
    "# Emphasize the city of Preston in your plot.\n",
    "# Total square footage is the sum of the basement, living, and lot square footage.\n",
    "\n",
    "df[\"Total square footage\"] = df[\"sqft_basement\"] + df[\"sqft_living\"] + df[\"sqft_lot\"]\n",
    "\n",
    "# df.head()\n",
    "\n",
    "df_9 = (\n",
    "    df\n",
    "    .groupby(\"city\")\n",
    "    .agg(\n",
    "        {\n",
    "            \"Total square footage\": \"median\"\n",
    "        }\n",
    "    )\n",
    "    .reset_index()\n",
    "    .rename(\n",
    "        columns={\n",
    "            \"city\": \"City\",\n",
    "            \"Total square footage\": \"Median Total Square Footage\",\n",
    "        }\n",
    "    )\n",
    "    .sort_values(by=\"Median Total Square Footage\", ascending=True)\n",
    ")\n",
    "\n",
    "df_9.loc[\n",
    "    df_9[\"City\"] == 'Preston',\n",
    "    'flag'\n",
    "] = True\n",
    "\n",
    "df_9.loc[\n",
    "    df_9[\"City\"] != 'Preston',\n",
    "    'flag'\n",
    "] = False\n",
    "\n",
    "fig_9 = px.bar(\n",
    "    df_9,\n",
    "    y = 'City',\n",
    "    x = 'Median Total Square Footage',\n",
    "    title = '<b>Preston, WA Boasts Largest Home Size</b>',\n",
    "    subtitle = 'Comparing the median total square footage by city in Washington state: Which cities have the most spacious homes?',\n",
    "    height = 1000,\n",
    "    width = 1000,\n",
    "    # Bar color\n",
    "    color_discrete_sequence=['lightgray', 'skyblue'],\n",
    "    color = 'flag',\n",
    "    # Template\n",
    "    template='simple_white',\n",
    "    # Range\n",
    "    # range_y = [0, 100]\n",
    ")\n",
    "\n",
    "fig_9.update_layout(\n",
    "    showlegend=False,\n",
    "    xaxis_ticks=\"\",\n",
    "    yaxis_ticks=\"\",\n",
    "    font_family = 'Sora',\n",
    "    title_font_family = 'Lora',\n",
    ")\n",
    "\n",
    "fig_9.update_xaxes(\n",
    "    showline=False,\n",
    "    showgrid=True,\n",
    "    gridcolor='lightgray',\n",
    "    gridwidth=0.5\n",
    ")\n",
    "\n",
    "fig_9.show()"
   ]
  },
  {
   "cell_type": "code",
   "execution_count": 14,
   "metadata": {},
   "outputs": [
    {
     "data": {
      "application/vnd.plotly.v1+json": {
       "config": {
        "plotlyServerURL": "https://plot.ly"
       },
       "data": [
        {
         "hovertemplate": "flag=True<br>waterfront=No Waterfront<br>City=%{x}<br>Mean Price=%{text}<extra></extra>",
         "legendgroup": "True",
         "marker": {
          "color": "lightskyblue",
          "pattern": {
           "shape": ""
          }
         },
         "name": "True",
         "orientation": "v",
         "showlegend": true,
         "text": {
          "bdata": "AAAAAKj8KEE=",
          "dtype": "f8"
         },
         "textposition": "outside",
         "type": "bar",
         "x": [
          "Bellevue"
         ],
         "xaxis": "x2",
         "y": {
          "bdata": "AAAAAKj8KEE=",
          "dtype": "f8"
         },
         "yaxis": "y2"
        },
        {
         "hovertemplate": "flag=True<br>waterfront=Waterfront<br>City=%{x}<br>Mean Price=%{text}<extra></extra>",
         "legendgroup": "True",
         "marker": {
          "color": "lightskyblue",
          "pattern": {
           "shape": ""
          }
         },
         "name": "True",
         "orientation": "v",
         "showlegend": false,
         "text": {
          "bdata": "AAAAgNieUkE=",
          "dtype": "f8"
         },
         "textposition": "outside",
         "type": "bar",
         "x": [
          "Bellevue"
         ],
         "xaxis": "x",
         "y": {
          "bdata": "AAAAgNieUkE=",
          "dtype": "f8"
         },
         "yaxis": "y"
        },
        {
         "hovertemplate": "flag=False<br>waterfront=No Waterfront<br>City=%{x}<br>Mean Price=%{text}<extra></extra>",
         "legendgroup": "False",
         "marker": {
          "color": "lightgray",
          "pattern": {
           "shape": ""
          }
         },
         "name": "False",
         "orientation": "v",
         "showlegend": true,
         "text": {
          "bdata": "AAAAAKitE0EAAAAAqFURQQAAAACZjTBBAAAAADotJEEAAAAASowkQQAAAADCnSFBAAAAAJjoGkE=",
          "dtype": "f8"
         },
         "textposition": "outside",
         "type": "bar",
         "x": [
          "Burien",
          "Des Moines",
          "Mercer Island",
          "Redmond",
          "Sammamish",
          "Seattle",
          "Vashon"
         ],
         "xaxis": "x2",
         "y": {
          "bdata": "AAAAAKitE0EAAAAAqFURQQAAAACZjTBBAAAAADotJEEAAAAASowkQQAAAADCnSFBAAAAAJjoGkE=",
          "dtype": "f8"
         },
         "yaxis": "y2"
        },
        {
         "hovertemplate": "flag=False<br>waterfront=Waterfront<br>City=%{x}<br>Mean Price=%{text}<extra></extra>",
         "legendgroup": "False",
         "marker": {
          "color": "lightgray",
          "pattern": {
           "shape": ""
          }
         },
         "name": "False",
         "orientation": "v",
         "showlegend": false,
         "text": {
          "bdata": "AAAAANDQLUEAAAAAqDwrQQAAAABsyTpBAAAAAGi+NUEAAAAAK2E2QQAAAAB4VjhBAAAAAN51IUE=",
          "dtype": "f8"
         },
         "textposition": "outside",
         "type": "bar",
         "x": [
          "Burien",
          "Des Moines",
          "Mercer Island",
          "Redmond",
          "Sammamish",
          "Seattle",
          "Vashon"
         ],
         "xaxis": "x",
         "y": {
          "bdata": "AAAAANDQLUEAAAAAqDwrQQAAAABsyTpBAAAAAGi+NUEAAAAAK2E2QQAAAAB4VjhBAAAAAN51IUE=",
          "dtype": "f8"
         },
         "yaxis": "y"
        }
       ],
       "layout": {
        "annotations": [
         {
          "font": {},
          "showarrow": false,
          "text": "waterfront=Waterfront",
          "x": 0.5,
          "xanchor": "center",
          "xref": "paper",
          "y": 0.46499999999999997,
          "yanchor": "bottom",
          "yref": "paper"
         },
         {
          "font": {},
          "showarrow": false,
          "text": "waterfront=No Waterfront",
          "x": 0.5,
          "xanchor": "center",
          "xref": "paper",
          "y": 0.9999999999999999,
          "yanchor": "bottom",
          "yref": "paper"
         }
        ],
        "barmode": "relative",
        "font": {
         "family": "Sora"
        },
        "height": 1000,
        "legend": {
         "title": {
          "text": "flag"
         },
         "tracegroupgap": 0
        },
        "margin": {
         "t": 180
        },
        "showlegend": false,
        "template": {
         "data": {
          "bar": [
           {
            "error_x": {
             "color": "rgb(36,36,36)"
            },
            "error_y": {
             "color": "rgb(36,36,36)"
            },
            "marker": {
             "line": {
              "color": "white",
              "width": 0.5
             },
             "pattern": {
              "fillmode": "overlay",
              "size": 10,
              "solidity": 0.2
             }
            },
            "type": "bar"
           }
          ],
          "barpolar": [
           {
            "marker": {
             "line": {
              "color": "white",
              "width": 0.5
             },
             "pattern": {
              "fillmode": "overlay",
              "size": 10,
              "solidity": 0.2
             }
            },
            "type": "barpolar"
           }
          ],
          "carpet": [
           {
            "aaxis": {
             "endlinecolor": "rgb(36,36,36)",
             "gridcolor": "white",
             "linecolor": "white",
             "minorgridcolor": "white",
             "startlinecolor": "rgb(36,36,36)"
            },
            "baxis": {
             "endlinecolor": "rgb(36,36,36)",
             "gridcolor": "white",
             "linecolor": "white",
             "minorgridcolor": "white",
             "startlinecolor": "rgb(36,36,36)"
            },
            "type": "carpet"
           }
          ],
          "choropleth": [
           {
            "colorbar": {
             "outlinewidth": 1,
             "tickcolor": "rgb(36,36,36)",
             "ticks": "outside"
            },
            "type": "choropleth"
           }
          ],
          "contour": [
           {
            "colorbar": {
             "outlinewidth": 1,
             "tickcolor": "rgb(36,36,36)",
             "ticks": "outside"
            },
            "colorscale": [
             [
              0,
              "#440154"
             ],
             [
              0.1111111111111111,
              "#482878"
             ],
             [
              0.2222222222222222,
              "#3e4989"
             ],
             [
              0.3333333333333333,
              "#31688e"
             ],
             [
              0.4444444444444444,
              "#26828e"
             ],
             [
              0.5555555555555556,
              "#1f9e89"
             ],
             [
              0.6666666666666666,
              "#35b779"
             ],
             [
              0.7777777777777778,
              "#6ece58"
             ],
             [
              0.8888888888888888,
              "#b5de2b"
             ],
             [
              1,
              "#fde725"
             ]
            ],
            "type": "contour"
           }
          ],
          "contourcarpet": [
           {
            "colorbar": {
             "outlinewidth": 1,
             "tickcolor": "rgb(36,36,36)",
             "ticks": "outside"
            },
            "type": "contourcarpet"
           }
          ],
          "heatmap": [
           {
            "colorbar": {
             "outlinewidth": 1,
             "tickcolor": "rgb(36,36,36)",
             "ticks": "outside"
            },
            "colorscale": [
             [
              0,
              "#440154"
             ],
             [
              0.1111111111111111,
              "#482878"
             ],
             [
              0.2222222222222222,
              "#3e4989"
             ],
             [
              0.3333333333333333,
              "#31688e"
             ],
             [
              0.4444444444444444,
              "#26828e"
             ],
             [
              0.5555555555555556,
              "#1f9e89"
             ],
             [
              0.6666666666666666,
              "#35b779"
             ],
             [
              0.7777777777777778,
              "#6ece58"
             ],
             [
              0.8888888888888888,
              "#b5de2b"
             ],
             [
              1,
              "#fde725"
             ]
            ],
            "type": "heatmap"
           }
          ],
          "histogram": [
           {
            "marker": {
             "line": {
              "color": "white",
              "width": 0.6
             }
            },
            "type": "histogram"
           }
          ],
          "histogram2d": [
           {
            "colorbar": {
             "outlinewidth": 1,
             "tickcolor": "rgb(36,36,36)",
             "ticks": "outside"
            },
            "colorscale": [
             [
              0,
              "#440154"
             ],
             [
              0.1111111111111111,
              "#482878"
             ],
             [
              0.2222222222222222,
              "#3e4989"
             ],
             [
              0.3333333333333333,
              "#31688e"
             ],
             [
              0.4444444444444444,
              "#26828e"
             ],
             [
              0.5555555555555556,
              "#1f9e89"
             ],
             [
              0.6666666666666666,
              "#35b779"
             ],
             [
              0.7777777777777778,
              "#6ece58"
             ],
             [
              0.8888888888888888,
              "#b5de2b"
             ],
             [
              1,
              "#fde725"
             ]
            ],
            "type": "histogram2d"
           }
          ],
          "histogram2dcontour": [
           {
            "colorbar": {
             "outlinewidth": 1,
             "tickcolor": "rgb(36,36,36)",
             "ticks": "outside"
            },
            "colorscale": [
             [
              0,
              "#440154"
             ],
             [
              0.1111111111111111,
              "#482878"
             ],
             [
              0.2222222222222222,
              "#3e4989"
             ],
             [
              0.3333333333333333,
              "#31688e"
             ],
             [
              0.4444444444444444,
              "#26828e"
             ],
             [
              0.5555555555555556,
              "#1f9e89"
             ],
             [
              0.6666666666666666,
              "#35b779"
             ],
             [
              0.7777777777777778,
              "#6ece58"
             ],
             [
              0.8888888888888888,
              "#b5de2b"
             ],
             [
              1,
              "#fde725"
             ]
            ],
            "type": "histogram2dcontour"
           }
          ],
          "mesh3d": [
           {
            "colorbar": {
             "outlinewidth": 1,
             "tickcolor": "rgb(36,36,36)",
             "ticks": "outside"
            },
            "type": "mesh3d"
           }
          ],
          "parcoords": [
           {
            "line": {
             "colorbar": {
              "outlinewidth": 1,
              "tickcolor": "rgb(36,36,36)",
              "ticks": "outside"
             }
            },
            "type": "parcoords"
           }
          ],
          "pie": [
           {
            "automargin": true,
            "type": "pie"
           }
          ],
          "scatter": [
           {
            "fillpattern": {
             "fillmode": "overlay",
             "size": 10,
             "solidity": 0.2
            },
            "type": "scatter"
           }
          ],
          "scatter3d": [
           {
            "line": {
             "colorbar": {
              "outlinewidth": 1,
              "tickcolor": "rgb(36,36,36)",
              "ticks": "outside"
             }
            },
            "marker": {
             "colorbar": {
              "outlinewidth": 1,
              "tickcolor": "rgb(36,36,36)",
              "ticks": "outside"
             }
            },
            "type": "scatter3d"
           }
          ],
          "scattercarpet": [
           {
            "marker": {
             "colorbar": {
              "outlinewidth": 1,
              "tickcolor": "rgb(36,36,36)",
              "ticks": "outside"
             }
            },
            "type": "scattercarpet"
           }
          ],
          "scattergeo": [
           {
            "marker": {
             "colorbar": {
              "outlinewidth": 1,
              "tickcolor": "rgb(36,36,36)",
              "ticks": "outside"
             }
            },
            "type": "scattergeo"
           }
          ],
          "scattergl": [
           {
            "marker": {
             "colorbar": {
              "outlinewidth": 1,
              "tickcolor": "rgb(36,36,36)",
              "ticks": "outside"
             }
            },
            "type": "scattergl"
           }
          ],
          "scattermap": [
           {
            "marker": {
             "colorbar": {
              "outlinewidth": 1,
              "tickcolor": "rgb(36,36,36)",
              "ticks": "outside"
             }
            },
            "type": "scattermap"
           }
          ],
          "scattermapbox": [
           {
            "marker": {
             "colorbar": {
              "outlinewidth": 1,
              "tickcolor": "rgb(36,36,36)",
              "ticks": "outside"
             }
            },
            "type": "scattermapbox"
           }
          ],
          "scatterpolar": [
           {
            "marker": {
             "colorbar": {
              "outlinewidth": 1,
              "tickcolor": "rgb(36,36,36)",
              "ticks": "outside"
             }
            },
            "type": "scatterpolar"
           }
          ],
          "scatterpolargl": [
           {
            "marker": {
             "colorbar": {
              "outlinewidth": 1,
              "tickcolor": "rgb(36,36,36)",
              "ticks": "outside"
             }
            },
            "type": "scatterpolargl"
           }
          ],
          "scatterternary": [
           {
            "marker": {
             "colorbar": {
              "outlinewidth": 1,
              "tickcolor": "rgb(36,36,36)",
              "ticks": "outside"
             }
            },
            "type": "scatterternary"
           }
          ],
          "surface": [
           {
            "colorbar": {
             "outlinewidth": 1,
             "tickcolor": "rgb(36,36,36)",
             "ticks": "outside"
            },
            "colorscale": [
             [
              0,
              "#440154"
             ],
             [
              0.1111111111111111,
              "#482878"
             ],
             [
              0.2222222222222222,
              "#3e4989"
             ],
             [
              0.3333333333333333,
              "#31688e"
             ],
             [
              0.4444444444444444,
              "#26828e"
             ],
             [
              0.5555555555555556,
              "#1f9e89"
             ],
             [
              0.6666666666666666,
              "#35b779"
             ],
             [
              0.7777777777777778,
              "#6ece58"
             ],
             [
              0.8888888888888888,
              "#b5de2b"
             ],
             [
              1,
              "#fde725"
             ]
            ],
            "type": "surface"
           }
          ],
          "table": [
           {
            "cells": {
             "fill": {
              "color": "rgb(237,237,237)"
             },
             "line": {
              "color": "white"
             }
            },
            "header": {
             "fill": {
              "color": "rgb(217,217,217)"
             },
             "line": {
              "color": "white"
             }
            },
            "type": "table"
           }
          ]
         },
         "layout": {
          "annotationdefaults": {
           "arrowhead": 0,
           "arrowwidth": 1
          },
          "autotypenumbers": "strict",
          "coloraxis": {
           "colorbar": {
            "outlinewidth": 1,
            "tickcolor": "rgb(36,36,36)",
            "ticks": "outside"
           }
          },
          "colorscale": {
           "diverging": [
            [
             0,
             "rgb(103,0,31)"
            ],
            [
             0.1,
             "rgb(178,24,43)"
            ],
            [
             0.2,
             "rgb(214,96,77)"
            ],
            [
             0.3,
             "rgb(244,165,130)"
            ],
            [
             0.4,
             "rgb(253,219,199)"
            ],
            [
             0.5,
             "rgb(247,247,247)"
            ],
            [
             0.6,
             "rgb(209,229,240)"
            ],
            [
             0.7,
             "rgb(146,197,222)"
            ],
            [
             0.8,
             "rgb(67,147,195)"
            ],
            [
             0.9,
             "rgb(33,102,172)"
            ],
            [
             1,
             "rgb(5,48,97)"
            ]
           ],
           "sequential": [
            [
             0,
             "#440154"
            ],
            [
             0.1111111111111111,
             "#482878"
            ],
            [
             0.2222222222222222,
             "#3e4989"
            ],
            [
             0.3333333333333333,
             "#31688e"
            ],
            [
             0.4444444444444444,
             "#26828e"
            ],
            [
             0.5555555555555556,
             "#1f9e89"
            ],
            [
             0.6666666666666666,
             "#35b779"
            ],
            [
             0.7777777777777778,
             "#6ece58"
            ],
            [
             0.8888888888888888,
             "#b5de2b"
            ],
            [
             1,
             "#fde725"
            ]
           ],
           "sequentialminus": [
            [
             0,
             "#440154"
            ],
            [
             0.1111111111111111,
             "#482878"
            ],
            [
             0.2222222222222222,
             "#3e4989"
            ],
            [
             0.3333333333333333,
             "#31688e"
            ],
            [
             0.4444444444444444,
             "#26828e"
            ],
            [
             0.5555555555555556,
             "#1f9e89"
            ],
            [
             0.6666666666666666,
             "#35b779"
            ],
            [
             0.7777777777777778,
             "#6ece58"
            ],
            [
             0.8888888888888888,
             "#b5de2b"
            ],
            [
             1,
             "#fde725"
            ]
           ]
          },
          "colorway": [
           "#1F77B4",
           "#FF7F0E",
           "#2CA02C",
           "#D62728",
           "#9467BD",
           "#8C564B",
           "#E377C2",
           "#7F7F7F",
           "#BCBD22",
           "#17BECF"
          ],
          "font": {
           "color": "rgb(36,36,36)"
          },
          "geo": {
           "bgcolor": "white",
           "lakecolor": "white",
           "landcolor": "white",
           "showlakes": true,
           "showland": true,
           "subunitcolor": "white"
          },
          "hoverlabel": {
           "align": "left"
          },
          "hovermode": "closest",
          "mapbox": {
           "style": "light"
          },
          "paper_bgcolor": "white",
          "plot_bgcolor": "white",
          "polar": {
           "angularaxis": {
            "gridcolor": "rgb(232,232,232)",
            "linecolor": "rgb(36,36,36)",
            "showgrid": false,
            "showline": true,
            "ticks": "outside"
           },
           "bgcolor": "white",
           "radialaxis": {
            "gridcolor": "rgb(232,232,232)",
            "linecolor": "rgb(36,36,36)",
            "showgrid": false,
            "showline": true,
            "ticks": "outside"
           }
          },
          "scene": {
           "xaxis": {
            "backgroundcolor": "white",
            "gridcolor": "rgb(232,232,232)",
            "gridwidth": 2,
            "linecolor": "rgb(36,36,36)",
            "showbackground": true,
            "showgrid": false,
            "showline": true,
            "ticks": "outside",
            "zeroline": false,
            "zerolinecolor": "rgb(36,36,36)"
           },
           "yaxis": {
            "backgroundcolor": "white",
            "gridcolor": "rgb(232,232,232)",
            "gridwidth": 2,
            "linecolor": "rgb(36,36,36)",
            "showbackground": true,
            "showgrid": false,
            "showline": true,
            "ticks": "outside",
            "zeroline": false,
            "zerolinecolor": "rgb(36,36,36)"
           },
           "zaxis": {
            "backgroundcolor": "white",
            "gridcolor": "rgb(232,232,232)",
            "gridwidth": 2,
            "linecolor": "rgb(36,36,36)",
            "showbackground": true,
            "showgrid": false,
            "showline": true,
            "ticks": "outside",
            "zeroline": false,
            "zerolinecolor": "rgb(36,36,36)"
           }
          },
          "shapedefaults": {
           "fillcolor": "black",
           "line": {
            "width": 0
           },
           "opacity": 0.3
          },
          "ternary": {
           "aaxis": {
            "gridcolor": "rgb(232,232,232)",
            "linecolor": "rgb(36,36,36)",
            "showgrid": false,
            "showline": true,
            "ticks": "outside"
           },
           "baxis": {
            "gridcolor": "rgb(232,232,232)",
            "linecolor": "rgb(36,36,36)",
            "showgrid": false,
            "showline": true,
            "ticks": "outside"
           },
           "bgcolor": "white",
           "caxis": {
            "gridcolor": "rgb(232,232,232)",
            "linecolor": "rgb(36,36,36)",
            "showgrid": false,
            "showline": true,
            "ticks": "outside"
           }
          },
          "title": {
           "x": 0.05
          },
          "xaxis": {
           "automargin": true,
           "gridcolor": "rgb(232,232,232)",
           "linecolor": "rgb(36,36,36)",
           "showgrid": false,
           "showline": true,
           "ticks": "outside",
           "title": {
            "standoff": 15
           },
           "zeroline": false,
           "zerolinecolor": "rgb(36,36,36)"
          },
          "yaxis": {
           "automargin": true,
           "gridcolor": "rgb(232,232,232)",
           "linecolor": "rgb(36,36,36)",
           "showgrid": false,
           "showline": true,
           "ticks": "outside",
           "title": {
            "standoff": 15
           },
           "zeroline": false,
           "zerolinecolor": "rgb(36,36,36)"
          }
         }
        },
        "title": {
         "font": {
          "family": "Lora",
          "size": 22
         },
         "subtitle": {
          "text": "Waterfront properties regularly sell for much higher prices than inland<br>properties, notably in Bellevue, WA."
         },
         "text": "<b>Where Are Properties Most Expensive?</b>",
         "x": 0.1
        },
        "width": 800,
        "xaxis": {
         "anchor": "y",
         "domain": [
          0,
          1
         ],
         "showticklabels": true,
         "title": {
          "text": "City"
         }
        },
        "xaxis2": {
         "anchor": "y2",
         "domain": [
          0,
          1
         ],
         "matches": "x",
         "showticklabels": true
        },
        "yaxis": {
         "anchor": "x",
         "domain": [
          0,
          0.46499999999999997
         ],
         "ticks": "",
         "title": {
          "text": "Mean Price"
         },
         "visible": false
        },
        "yaxis2": {
         "anchor": "x2",
         "domain": [
          0.5349999999999999,
          0.9999999999999999
         ],
         "matches": "y",
         "title": {
          "text": "Mean Price"
         },
         "visible": false
        }
       }
      }
     },
     "metadata": {},
     "output_type": "display_data"
    }
   ],
   "source": [
    "# 10. Create a faceted bar plot of the mean prices for cities with at least 2 waterfront properties. \n",
    "# Use waterfront as the facet variable. \n",
    "# Make sure your plot has two columns (one per waterfront value). \n",
    "# Recode the waterfront values to be ‘No Waterfront’ and ‘Waterfront’. \n",
    "# Hint: First create a list of cities with at least 2 waterfront properties. \n",
    "# Extra Credit (+5): Emphasize the city of Bellevue in your plot.\n",
    "\n",
    "df.head()\n",
    "\n",
    "target_cities_df = (\n",
    "    df\n",
    "    .groupby(\"city\")\n",
    "    .agg(\n",
    "        {\n",
    "            \"waterfront\": \"sum\"\n",
    "        }\n",
    "    )\n",
    "    .reset_index()\n",
    ")\n",
    "\n",
    "target_cities = target_cities_df[target_cities_df[\"waterfront\"] >= 2][\"city\"]\n",
    "df_cities = (\n",
    "    df[\n",
    "        df[\"city\"].isin(target_cities)\n",
    "    ]\n",
    "    .assign(waterfront=lambda x: x['waterfront'].replace({\n",
    "        0: \"No Waterfront\",\n",
    "        1: \"Waterfront\"\n",
    "    }))\n",
    ")\n",
    "\n",
    "df_cities\n",
    "\n",
    "df_10 = (\n",
    "    df_cities\n",
    "    .groupby([\"city\", \"waterfront\"])\n",
    "    .agg(\n",
    "        {\n",
    "            \"price\": \"mean\"\n",
    "        }\n",
    "    )\n",
    "    .reset_index()\n",
    "\n",
    ")\n",
    "\n",
    "# display(df_10)\n",
    "df_10.loc[\n",
    "    df_10[\"city\"] == \"Bellevue\",\n",
    "    \"flag\"\n",
    "] = True\n",
    "\n",
    "df_10.loc[\n",
    "    df_10[\"city\"] != \"Bellevue\",\n",
    "    \"flag\"\n",
    "] = False\n",
    "\n",
    "df_10[\"price\"] = df_10[\"price\"].round(0)\n",
    "\n",
    "fig = px.bar(\n",
    "    df_10,\n",
    "    x = 'city',\n",
    "    y = 'price',\n",
    "    color=\"flag\",\n",
    "    facet_col = 'waterfront',\n",
    "    facet_col_wrap=1,\n",
    "    title = '<b>Where Are Properties Most Expensive?</b>',\n",
    "    labels={'price': 'Mean Price', 'city': 'City'},\n",
    "    subtitle = 'Waterfront properties regularly sell for much higher prices than inland<br>properties, notably in Bellevue, WA.',\n",
    "    height = 1000,\n",
    "    width = 800,\n",
    "    # Bar color\n",
    "    color_discrete_sequence=['lightskyblue', \"lightgray\"],\n",
    "    # Template\n",
    "    template='simple_white',\n",
    "    # Range\n",
    "    # range_x = [0, 7000000],\n",
    "    text='price',\n",
    ")\n",
    "\n",
    "fig.update_layout(\n",
    "    showlegend = False,\n",
    "    title_x=0.1,\n",
    "    margin={'t': 180},\n",
    "    title_font_size=22,\n",
    "    yaxis_ticks=\"\",\n",
    "    font_family = 'Sora',\n",
    "    title_font_family = 'Lora',\n",
    ")\n",
    "\n",
    "fig.update_traces(textposition = 'outside')\n",
    "fig.update_yaxes(visible = False)\n",
    "\n",
    "fig.for_each_xaxis(lambda xaxis: xaxis.update(showticklabels=True))\n",
    "\n",
    "fig.show()"
   ]
  }
 ],
 "metadata": {
  "kernelspec": {
   "display_name": "data502",
   "language": "python",
   "name": "python3"
  },
  "language_info": {
   "codemirror_mode": {
    "name": "ipython",
    "version": 3
   },
   "file_extension": ".py",
   "mimetype": "text/x-python",
   "name": "python",
   "nbconvert_exporter": "python",
   "pygments_lexer": "ipython3",
   "version": "3.12.8"
  }
 },
 "nbformat": 4,
 "nbformat_minor": 2
}
