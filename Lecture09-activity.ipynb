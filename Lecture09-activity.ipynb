{
 "cells": [
  {
   "cell_type": "code",
   "execution_count": 3,
   "id": "582aa4bb",
   "metadata": {},
   "outputs": [],
   "source": [
    "import pandas as pd\n",
    "\n",
    "df = pd.read_csv(\n",
    "    './data/2023-2024 NBA Player Stats - Regular.csv', \n",
    "    index_col=None,\n",
    "    encoding='ISO-8859-1',\n",
    "    sep = ';'\n",
    ")"
   ]
  },
  {
   "cell_type": "markdown",
   "id": "1d65ef33",
   "metadata": {},
   "source": [
    "# Part 1: Data manipulation\n"
   ]
  },
  {
   "cell_type": "code",
   "execution_count": 11,
   "id": "767e39b3",
   "metadata": {},
   "outputs": [
    {
     "data": {
      "text/html": [
       "<div>\n",
       "<style scoped>\n",
       "    .dataframe tbody tr th:only-of-type {\n",
       "        vertical-align: middle;\n",
       "    }\n",
       "\n",
       "    .dataframe tbody tr th {\n",
       "        vertical-align: top;\n",
       "    }\n",
       "\n",
       "    .dataframe thead th {\n",
       "        text-align: right;\n",
       "    }\n",
       "</style>\n",
       "<table border=\"1\" class=\"dataframe\">\n",
       "  <thead>\n",
       "    <tr style=\"text-align: right;\">\n",
       "      <th></th>\n",
       "      <th>Rk</th>\n",
       "      <th>Player</th>\n",
       "      <th>Pos</th>\n",
       "      <th>Age</th>\n",
       "      <th>Tm</th>\n",
       "      <th>G</th>\n",
       "      <th>GS</th>\n",
       "      <th>MP</th>\n",
       "      <th>FG</th>\n",
       "      <th>FGA</th>\n",
       "      <th>...</th>\n",
       "      <th>FT%</th>\n",
       "      <th>ORB</th>\n",
       "      <th>DRB</th>\n",
       "      <th>TRB</th>\n",
       "      <th>AST</th>\n",
       "      <th>STL</th>\n",
       "      <th>BLK</th>\n",
       "      <th>TOV</th>\n",
       "      <th>PF</th>\n",
       "      <th>PTS</th>\n",
       "    </tr>\n",
       "  </thead>\n",
       "  <tbody>\n",
       "    <tr>\n",
       "      <th>577</th>\n",
       "      <td>444</td>\n",
       "      <td>Domantas Sabonis</td>\n",
       "      <td>C</td>\n",
       "      <td>27</td>\n",
       "      <td>SAC</td>\n",
       "      <td>82</td>\n",
       "      <td>82</td>\n",
       "      <td>35.7</td>\n",
       "      <td>7.7</td>\n",
       "      <td>13.0</td>\n",
       "      <td>...</td>\n",
       "      <td>0.704</td>\n",
       "      <td>3.6</td>\n",
       "      <td>10.1</td>\n",
       "      <td>13.7</td>\n",
       "      <td>8.2</td>\n",
       "      <td>0.9</td>\n",
       "      <td>0.6</td>\n",
       "      <td>3.3</td>\n",
       "      <td>3.0</td>\n",
       "      <td>19.4</td>\n",
       "    </tr>\n",
       "    <tr>\n",
       "      <th>554</th>\n",
       "      <td>427</td>\n",
       "      <td>Paul Reed</td>\n",
       "      <td>C</td>\n",
       "      <td>24</td>\n",
       "      <td>PHI</td>\n",
       "      <td>82</td>\n",
       "      <td>24</td>\n",
       "      <td>19.4</td>\n",
       "      <td>3.2</td>\n",
       "      <td>5.9</td>\n",
       "      <td>...</td>\n",
       "      <td>0.718</td>\n",
       "      <td>2.4</td>\n",
       "      <td>3.6</td>\n",
       "      <td>6.0</td>\n",
       "      <td>1.3</td>\n",
       "      <td>0.8</td>\n",
       "      <td>1.0</td>\n",
       "      <td>0.8</td>\n",
       "      <td>2.4</td>\n",
       "      <td>7.3</td>\n",
       "    </tr>\n",
       "    <tr>\n",
       "      <th>300</th>\n",
       "      <td>225</td>\n",
       "      <td>Chet Holmgren</td>\n",
       "      <td>C</td>\n",
       "      <td>21</td>\n",
       "      <td>OKC</td>\n",
       "      <td>82</td>\n",
       "      <td>82</td>\n",
       "      <td>29.4</td>\n",
       "      <td>6.2</td>\n",
       "      <td>11.6</td>\n",
       "      <td>...</td>\n",
       "      <td>0.793</td>\n",
       "      <td>1.6</td>\n",
       "      <td>6.3</td>\n",
       "      <td>7.9</td>\n",
       "      <td>2.4</td>\n",
       "      <td>0.6</td>\n",
       "      <td>2.3</td>\n",
       "      <td>1.6</td>\n",
       "      <td>2.4</td>\n",
       "      <td>16.5</td>\n",
       "    </tr>\n",
       "    <tr>\n",
       "      <th>253</th>\n",
       "      <td>186</td>\n",
       "      <td>Jalen Green</td>\n",
       "      <td>SG</td>\n",
       "      <td>21</td>\n",
       "      <td>HOU</td>\n",
       "      <td>82</td>\n",
       "      <td>82</td>\n",
       "      <td>31.7</td>\n",
       "      <td>6.9</td>\n",
       "      <td>16.2</td>\n",
       "      <td>...</td>\n",
       "      <td>0.804</td>\n",
       "      <td>0.5</td>\n",
       "      <td>4.7</td>\n",
       "      <td>5.2</td>\n",
       "      <td>3.5</td>\n",
       "      <td>0.8</td>\n",
       "      <td>0.3</td>\n",
       "      <td>2.3</td>\n",
       "      <td>1.4</td>\n",
       "      <td>19.6</td>\n",
       "    </tr>\n",
       "    <tr>\n",
       "      <th>484</th>\n",
       "      <td>373</td>\n",
       "      <td>Georges Niang</td>\n",
       "      <td>PF</td>\n",
       "      <td>30</td>\n",
       "      <td>CLE</td>\n",
       "      <td>82</td>\n",
       "      <td>10</td>\n",
       "      <td>22.3</td>\n",
       "      <td>3.5</td>\n",
       "      <td>7.7</td>\n",
       "      <td>...</td>\n",
       "      <td>0.850</td>\n",
       "      <td>0.3</td>\n",
       "      <td>3.1</td>\n",
       "      <td>3.4</td>\n",
       "      <td>1.2</td>\n",
       "      <td>0.4</td>\n",
       "      <td>0.2</td>\n",
       "      <td>0.9</td>\n",
       "      <td>2.3</td>\n",
       "      <td>9.4</td>\n",
       "    </tr>\n",
       "    <tr>\n",
       "      <th>...</th>\n",
       "      <td>...</td>\n",
       "      <td>...</td>\n",
       "      <td>...</td>\n",
       "      <td>...</td>\n",
       "      <td>...</td>\n",
       "      <td>...</td>\n",
       "      <td>...</td>\n",
       "      <td>...</td>\n",
       "      <td>...</td>\n",
       "      <td>...</td>\n",
       "      <td>...</td>\n",
       "      <td>...</td>\n",
       "      <td>...</td>\n",
       "      <td>...</td>\n",
       "      <td>...</td>\n",
       "      <td>...</td>\n",
       "      <td>...</td>\n",
       "      <td>...</td>\n",
       "      <td>...</td>\n",
       "      <td>...</td>\n",
       "      <td>...</td>\n",
       "    </tr>\n",
       "    <tr>\n",
       "      <th>270</th>\n",
       "      <td>201</td>\n",
       "      <td>Ron Harper Jr.</td>\n",
       "      <td>PF</td>\n",
       "      <td>23</td>\n",
       "      <td>TOR</td>\n",
       "      <td>1</td>\n",
       "      <td>0</td>\n",
       "      <td>4.0</td>\n",
       "      <td>0.0</td>\n",
       "      <td>0.0</td>\n",
       "      <td>...</td>\n",
       "      <td>0.000</td>\n",
       "      <td>0.0</td>\n",
       "      <td>0.0</td>\n",
       "      <td>0.0</td>\n",
       "      <td>1.0</td>\n",
       "      <td>0.0</td>\n",
       "      <td>0.0</td>\n",
       "      <td>0.0</td>\n",
       "      <td>2.0</td>\n",
       "      <td>0.0</td>\n",
       "    </tr>\n",
       "    <tr>\n",
       "      <th>225</th>\n",
       "      <td>166</td>\n",
       "      <td>Kaiser Gates</td>\n",
       "      <td>SF</td>\n",
       "      <td>27</td>\n",
       "      <td>NOP</td>\n",
       "      <td>1</td>\n",
       "      <td>0</td>\n",
       "      <td>7.0</td>\n",
       "      <td>0.0</td>\n",
       "      <td>4.0</td>\n",
       "      <td>...</td>\n",
       "      <td>0.000</td>\n",
       "      <td>0.0</td>\n",
       "      <td>1.0</td>\n",
       "      <td>1.0</td>\n",
       "      <td>0.0</td>\n",
       "      <td>0.0</td>\n",
       "      <td>0.0</td>\n",
       "      <td>0.0</td>\n",
       "      <td>0.0</td>\n",
       "      <td>0.0</td>\n",
       "    </tr>\n",
       "    <tr>\n",
       "      <th>517</th>\n",
       "      <td>395</td>\n",
       "      <td>Filip Petruev</td>\n",
       "      <td>C</td>\n",
       "      <td>23</td>\n",
       "      <td>PHI</td>\n",
       "      <td>1</td>\n",
       "      <td>0</td>\n",
       "      <td>3.0</td>\n",
       "      <td>0.0</td>\n",
       "      <td>0.0</td>\n",
       "      <td>...</td>\n",
       "      <td>0.000</td>\n",
       "      <td>0.0</td>\n",
       "      <td>1.0</td>\n",
       "      <td>1.0</td>\n",
       "      <td>0.0</td>\n",
       "      <td>0.0</td>\n",
       "      <td>0.0</td>\n",
       "      <td>0.0</td>\n",
       "      <td>0.0</td>\n",
       "      <td>0.0</td>\n",
       "    </tr>\n",
       "    <tr>\n",
       "      <th>127</th>\n",
       "      <td>92</td>\n",
       "      <td>Malcolm Cazalon</td>\n",
       "      <td>SG</td>\n",
       "      <td>22</td>\n",
       "      <td>DET</td>\n",
       "      <td>1</td>\n",
       "      <td>0</td>\n",
       "      <td>3.0</td>\n",
       "      <td>0.0</td>\n",
       "      <td>0.0</td>\n",
       "      <td>...</td>\n",
       "      <td>0.000</td>\n",
       "      <td>0.0</td>\n",
       "      <td>0.0</td>\n",
       "      <td>0.0</td>\n",
       "      <td>0.0</td>\n",
       "      <td>0.0</td>\n",
       "      <td>0.0</td>\n",
       "      <td>0.0</td>\n",
       "      <td>0.0</td>\n",
       "      <td>0.0</td>\n",
       "    </tr>\n",
       "    <tr>\n",
       "      <th>607</th>\n",
       "      <td>470</td>\n",
       "      <td>Javonte Smart</td>\n",
       "      <td>PG</td>\n",
       "      <td>24</td>\n",
       "      <td>PHI</td>\n",
       "      <td>1</td>\n",
       "      <td>0</td>\n",
       "      <td>1.0</td>\n",
       "      <td>0.0</td>\n",
       "      <td>0.0</td>\n",
       "      <td>...</td>\n",
       "      <td>0.000</td>\n",
       "      <td>0.0</td>\n",
       "      <td>0.0</td>\n",
       "      <td>0.0</td>\n",
       "      <td>0.0</td>\n",
       "      <td>0.0</td>\n",
       "      <td>0.0</td>\n",
       "      <td>0.0</td>\n",
       "      <td>0.0</td>\n",
       "      <td>0.0</td>\n",
       "    </tr>\n",
       "  </tbody>\n",
       "</table>\n",
       "<p>657 rows × 30 columns</p>\n",
       "</div>"
      ],
      "text/plain": [
       "      Rk            Player Pos  Age   Tm   G  GS    MP   FG   FGA  ...    FT%  \\\n",
       "577  444  Domantas Sabonis   C   27  SAC  82  82  35.7  7.7  13.0  ...  0.704   \n",
       "554  427         Paul Reed   C   24  PHI  82  24  19.4  3.2   5.9  ...  0.718   \n",
       "300  225     Chet Holmgren   C   21  OKC  82  82  29.4  6.2  11.6  ...  0.793   \n",
       "253  186       Jalen Green  SG   21  HOU  82  82  31.7  6.9  16.2  ...  0.804   \n",
       "484  373     Georges Niang  PF   30  CLE  82  10  22.3  3.5   7.7  ...  0.850   \n",
       "..   ...               ...  ..  ...  ...  ..  ..   ...  ...   ...  ...    ...   \n",
       "270  201    Ron Harper Jr.  PF   23  TOR   1   0   4.0  0.0   0.0  ...  0.000   \n",
       "225  166      Kaiser Gates  SF   27  NOP   1   0   7.0  0.0   4.0  ...  0.000   \n",
       "517  395    Filip Petruev   C   23  PHI   1   0   3.0  0.0   0.0  ...  0.000   \n",
       "127   92   Malcolm Cazalon  SG   22  DET   1   0   3.0  0.0   0.0  ...  0.000   \n",
       "607  470     Javonte Smart  PG   24  PHI   1   0   1.0  0.0   0.0  ...  0.000   \n",
       "\n",
       "     ORB   DRB   TRB  AST  STL  BLK  TOV   PF   PTS  \n",
       "577  3.6  10.1  13.7  8.2  0.9  0.6  3.3  3.0  19.4  \n",
       "554  2.4   3.6   6.0  1.3  0.8  1.0  0.8  2.4   7.3  \n",
       "300  1.6   6.3   7.9  2.4  0.6  2.3  1.6  2.4  16.5  \n",
       "253  0.5   4.7   5.2  3.5  0.8  0.3  2.3  1.4  19.6  \n",
       "484  0.3   3.1   3.4  1.2  0.4  0.2  0.9  2.3   9.4  \n",
       "..   ...   ...   ...  ...  ...  ...  ...  ...   ...  \n",
       "270  0.0   0.0   0.0  1.0  0.0  0.0  0.0  2.0   0.0  \n",
       "225  0.0   1.0   1.0  0.0  0.0  0.0  0.0  0.0   0.0  \n",
       "517  0.0   1.0   1.0  0.0  0.0  0.0  0.0  0.0   0.0  \n",
       "127  0.0   0.0   0.0  0.0  0.0  0.0  0.0  0.0   0.0  \n",
       "607  0.0   0.0   0.0  0.0  0.0  0.0  0.0  0.0   0.0  \n",
       "\n",
       "[657 rows x 30 columns]"
      ]
     },
     "execution_count": 11,
     "metadata": {},
     "output_type": "execute_result"
    }
   ],
   "source": [
    "df = (\n",
    "    df[df['Tm'] != 'TOT']\n",
    "    .sort_values(by='G', ascending=False)\n",
    ")\n",
    "\n",
    "df"
   ]
  },
  {
   "cell_type": "code",
   "execution_count": 15,
   "id": "42b74d7b",
   "metadata": {},
   "outputs": [
    {
     "data": {
      "text/html": [
       "<div>\n",
       "<style scoped>\n",
       "    .dataframe tbody tr th:only-of-type {\n",
       "        vertical-align: middle;\n",
       "    }\n",
       "\n",
       "    .dataframe tbody tr th {\n",
       "        vertical-align: top;\n",
       "    }\n",
       "\n",
       "    .dataframe thead th {\n",
       "        text-align: right;\n",
       "    }\n",
       "</style>\n",
       "<table border=\"1\" class=\"dataframe\">\n",
       "  <thead>\n",
       "    <tr style=\"text-align: right;\">\n",
       "      <th></th>\n",
       "      <th>Rk</th>\n",
       "      <th>Player</th>\n",
       "      <th>Pos</th>\n",
       "      <th>Age</th>\n",
       "      <th>Tm</th>\n",
       "      <th>G</th>\n",
       "      <th>GS</th>\n",
       "      <th>MP</th>\n",
       "      <th>FG</th>\n",
       "      <th>FGA</th>\n",
       "      <th>...</th>\n",
       "      <th>STL</th>\n",
       "      <th>BLK</th>\n",
       "      <th>TOV</th>\n",
       "      <th>PF</th>\n",
       "      <th>PTS</th>\n",
       "      <th>total_points</th>\n",
       "      <th>total_field_goals_made</th>\n",
       "      <th>total_field_goals_att</th>\n",
       "      <th>total_three_pointers_made</th>\n",
       "      <th>total_three_pointers_att</th>\n",
       "    </tr>\n",
       "  </thead>\n",
       "  <tbody>\n",
       "    <tr>\n",
       "      <th>577</th>\n",
       "      <td>444</td>\n",
       "      <td>Domantas Sabonis</td>\n",
       "      <td>C</td>\n",
       "      <td>27</td>\n",
       "      <td>SAC</td>\n",
       "      <td>82</td>\n",
       "      <td>82</td>\n",
       "      <td>35.7</td>\n",
       "      <td>7.7</td>\n",
       "      <td>13.0</td>\n",
       "      <td>...</td>\n",
       "      <td>0.9</td>\n",
       "      <td>0.6</td>\n",
       "      <td>3.3</td>\n",
       "      <td>3.0</td>\n",
       "      <td>19.4</td>\n",
       "      <td>1590.8</td>\n",
       "      <td>631.4</td>\n",
       "      <td>1066.0</td>\n",
       "      <td>32.8</td>\n",
       "      <td>90.2</td>\n",
       "    </tr>\n",
       "    <tr>\n",
       "      <th>554</th>\n",
       "      <td>427</td>\n",
       "      <td>Paul Reed</td>\n",
       "      <td>C</td>\n",
       "      <td>24</td>\n",
       "      <td>PHI</td>\n",
       "      <td>82</td>\n",
       "      <td>24</td>\n",
       "      <td>19.4</td>\n",
       "      <td>3.2</td>\n",
       "      <td>5.9</td>\n",
       "      <td>...</td>\n",
       "      <td>0.8</td>\n",
       "      <td>1.0</td>\n",
       "      <td>0.8</td>\n",
       "      <td>2.4</td>\n",
       "      <td>7.3</td>\n",
       "      <td>598.6</td>\n",
       "      <td>262.4</td>\n",
       "      <td>483.8</td>\n",
       "      <td>24.6</td>\n",
       "      <td>57.4</td>\n",
       "    </tr>\n",
       "    <tr>\n",
       "      <th>300</th>\n",
       "      <td>225</td>\n",
       "      <td>Chet Holmgren</td>\n",
       "      <td>C</td>\n",
       "      <td>21</td>\n",
       "      <td>OKC</td>\n",
       "      <td>82</td>\n",
       "      <td>82</td>\n",
       "      <td>29.4</td>\n",
       "      <td>6.2</td>\n",
       "      <td>11.6</td>\n",
       "      <td>...</td>\n",
       "      <td>0.6</td>\n",
       "      <td>2.3</td>\n",
       "      <td>1.6</td>\n",
       "      <td>2.4</td>\n",
       "      <td>16.5</td>\n",
       "      <td>1353.0</td>\n",
       "      <td>508.4</td>\n",
       "      <td>951.2</td>\n",
       "      <td>131.2</td>\n",
       "      <td>352.6</td>\n",
       "    </tr>\n",
       "    <tr>\n",
       "      <th>253</th>\n",
       "      <td>186</td>\n",
       "      <td>Jalen Green</td>\n",
       "      <td>SG</td>\n",
       "      <td>21</td>\n",
       "      <td>HOU</td>\n",
       "      <td>82</td>\n",
       "      <td>82</td>\n",
       "      <td>31.7</td>\n",
       "      <td>6.9</td>\n",
       "      <td>16.2</td>\n",
       "      <td>...</td>\n",
       "      <td>0.8</td>\n",
       "      <td>0.3</td>\n",
       "      <td>2.3</td>\n",
       "      <td>1.4</td>\n",
       "      <td>19.6</td>\n",
       "      <td>1607.2</td>\n",
       "      <td>565.8</td>\n",
       "      <td>1328.4</td>\n",
       "      <td>205.0</td>\n",
       "      <td>606.8</td>\n",
       "    </tr>\n",
       "    <tr>\n",
       "      <th>484</th>\n",
       "      <td>373</td>\n",
       "      <td>Georges Niang</td>\n",
       "      <td>PF</td>\n",
       "      <td>30</td>\n",
       "      <td>CLE</td>\n",
       "      <td>82</td>\n",
       "      <td>10</td>\n",
       "      <td>22.3</td>\n",
       "      <td>3.5</td>\n",
       "      <td>7.7</td>\n",
       "      <td>...</td>\n",
       "      <td>0.4</td>\n",
       "      <td>0.2</td>\n",
       "      <td>0.9</td>\n",
       "      <td>2.3</td>\n",
       "      <td>9.4</td>\n",
       "      <td>770.8</td>\n",
       "      <td>287.0</td>\n",
       "      <td>631.4</td>\n",
       "      <td>147.6</td>\n",
       "      <td>393.6</td>\n",
       "    </tr>\n",
       "    <tr>\n",
       "      <th>...</th>\n",
       "      <td>...</td>\n",
       "      <td>...</td>\n",
       "      <td>...</td>\n",
       "      <td>...</td>\n",
       "      <td>...</td>\n",
       "      <td>...</td>\n",
       "      <td>...</td>\n",
       "      <td>...</td>\n",
       "      <td>...</td>\n",
       "      <td>...</td>\n",
       "      <td>...</td>\n",
       "      <td>...</td>\n",
       "      <td>...</td>\n",
       "      <td>...</td>\n",
       "      <td>...</td>\n",
       "      <td>...</td>\n",
       "      <td>...</td>\n",
       "      <td>...</td>\n",
       "      <td>...</td>\n",
       "      <td>...</td>\n",
       "      <td>...</td>\n",
       "    </tr>\n",
       "    <tr>\n",
       "      <th>270</th>\n",
       "      <td>201</td>\n",
       "      <td>Ron Harper Jr.</td>\n",
       "      <td>PF</td>\n",
       "      <td>23</td>\n",
       "      <td>TOR</td>\n",
       "      <td>1</td>\n",
       "      <td>0</td>\n",
       "      <td>4.0</td>\n",
       "      <td>0.0</td>\n",
       "      <td>0.0</td>\n",
       "      <td>...</td>\n",
       "      <td>0.0</td>\n",
       "      <td>0.0</td>\n",
       "      <td>0.0</td>\n",
       "      <td>2.0</td>\n",
       "      <td>0.0</td>\n",
       "      <td>0.0</td>\n",
       "      <td>0.0</td>\n",
       "      <td>0.0</td>\n",
       "      <td>0.0</td>\n",
       "      <td>0.0</td>\n",
       "    </tr>\n",
       "    <tr>\n",
       "      <th>225</th>\n",
       "      <td>166</td>\n",
       "      <td>Kaiser Gates</td>\n",
       "      <td>SF</td>\n",
       "      <td>27</td>\n",
       "      <td>NOP</td>\n",
       "      <td>1</td>\n",
       "      <td>0</td>\n",
       "      <td>7.0</td>\n",
       "      <td>0.0</td>\n",
       "      <td>4.0</td>\n",
       "      <td>...</td>\n",
       "      <td>0.0</td>\n",
       "      <td>0.0</td>\n",
       "      <td>0.0</td>\n",
       "      <td>0.0</td>\n",
       "      <td>0.0</td>\n",
       "      <td>0.0</td>\n",
       "      <td>0.0</td>\n",
       "      <td>4.0</td>\n",
       "      <td>0.0</td>\n",
       "      <td>2.0</td>\n",
       "    </tr>\n",
       "    <tr>\n",
       "      <th>517</th>\n",
       "      <td>395</td>\n",
       "      <td>Filip Petruev</td>\n",
       "      <td>C</td>\n",
       "      <td>23</td>\n",
       "      <td>PHI</td>\n",
       "      <td>1</td>\n",
       "      <td>0</td>\n",
       "      <td>3.0</td>\n",
       "      <td>0.0</td>\n",
       "      <td>0.0</td>\n",
       "      <td>...</td>\n",
       "      <td>0.0</td>\n",
       "      <td>0.0</td>\n",
       "      <td>0.0</td>\n",
       "      <td>0.0</td>\n",
       "      <td>0.0</td>\n",
       "      <td>0.0</td>\n",
       "      <td>0.0</td>\n",
       "      <td>0.0</td>\n",
       "      <td>0.0</td>\n",
       "      <td>0.0</td>\n",
       "    </tr>\n",
       "    <tr>\n",
       "      <th>127</th>\n",
       "      <td>92</td>\n",
       "      <td>Malcolm Cazalon</td>\n",
       "      <td>SG</td>\n",
       "      <td>22</td>\n",
       "      <td>DET</td>\n",
       "      <td>1</td>\n",
       "      <td>0</td>\n",
       "      <td>3.0</td>\n",
       "      <td>0.0</td>\n",
       "      <td>0.0</td>\n",
       "      <td>...</td>\n",
       "      <td>0.0</td>\n",
       "      <td>0.0</td>\n",
       "      <td>0.0</td>\n",
       "      <td>0.0</td>\n",
       "      <td>0.0</td>\n",
       "      <td>0.0</td>\n",
       "      <td>0.0</td>\n",
       "      <td>0.0</td>\n",
       "      <td>0.0</td>\n",
       "      <td>0.0</td>\n",
       "    </tr>\n",
       "    <tr>\n",
       "      <th>607</th>\n",
       "      <td>470</td>\n",
       "      <td>Javonte Smart</td>\n",
       "      <td>PG</td>\n",
       "      <td>24</td>\n",
       "      <td>PHI</td>\n",
       "      <td>1</td>\n",
       "      <td>0</td>\n",
       "      <td>1.0</td>\n",
       "      <td>0.0</td>\n",
       "      <td>0.0</td>\n",
       "      <td>...</td>\n",
       "      <td>0.0</td>\n",
       "      <td>0.0</td>\n",
       "      <td>0.0</td>\n",
       "      <td>0.0</td>\n",
       "      <td>0.0</td>\n",
       "      <td>0.0</td>\n",
       "      <td>0.0</td>\n",
       "      <td>0.0</td>\n",
       "      <td>0.0</td>\n",
       "      <td>0.0</td>\n",
       "    </tr>\n",
       "  </tbody>\n",
       "</table>\n",
       "<p>657 rows × 35 columns</p>\n",
       "</div>"
      ],
      "text/plain": [
       "      Rk            Player Pos  Age   Tm   G  GS    MP   FG   FGA  ...  STL  \\\n",
       "577  444  Domantas Sabonis   C   27  SAC  82  82  35.7  7.7  13.0  ...  0.9   \n",
       "554  427         Paul Reed   C   24  PHI  82  24  19.4  3.2   5.9  ...  0.8   \n",
       "300  225     Chet Holmgren   C   21  OKC  82  82  29.4  6.2  11.6  ...  0.6   \n",
       "253  186       Jalen Green  SG   21  HOU  82  82  31.7  6.9  16.2  ...  0.8   \n",
       "484  373     Georges Niang  PF   30  CLE  82  10  22.3  3.5   7.7  ...  0.4   \n",
       "..   ...               ...  ..  ...  ...  ..  ..   ...  ...   ...  ...  ...   \n",
       "270  201    Ron Harper Jr.  PF   23  TOR   1   0   4.0  0.0   0.0  ...  0.0   \n",
       "225  166      Kaiser Gates  SF   27  NOP   1   0   7.0  0.0   4.0  ...  0.0   \n",
       "517  395    Filip Petruev   C   23  PHI   1   0   3.0  0.0   0.0  ...  0.0   \n",
       "127   92   Malcolm Cazalon  SG   22  DET   1   0   3.0  0.0   0.0  ...  0.0   \n",
       "607  470     Javonte Smart  PG   24  PHI   1   0   1.0  0.0   0.0  ...  0.0   \n",
       "\n",
       "     BLK  TOV   PF   PTS  total_points  total_field_goals_made  \\\n",
       "577  0.6  3.3  3.0  19.4        1590.8                   631.4   \n",
       "554  1.0  0.8  2.4   7.3         598.6                   262.4   \n",
       "300  2.3  1.6  2.4  16.5        1353.0                   508.4   \n",
       "253  0.3  2.3  1.4  19.6        1607.2                   565.8   \n",
       "484  0.2  0.9  2.3   9.4         770.8                   287.0   \n",
       "..   ...  ...  ...   ...           ...                     ...   \n",
       "270  0.0  0.0  2.0   0.0           0.0                     0.0   \n",
       "225  0.0  0.0  0.0   0.0           0.0                     0.0   \n",
       "517  0.0  0.0  0.0   0.0           0.0                     0.0   \n",
       "127  0.0  0.0  0.0   0.0           0.0                     0.0   \n",
       "607  0.0  0.0  0.0   0.0           0.0                     0.0   \n",
       "\n",
       "     total_field_goals_att  total_three_pointers_made  \\\n",
       "577                 1066.0                       32.8   \n",
       "554                  483.8                       24.6   \n",
       "300                  951.2                      131.2   \n",
       "253                 1328.4                      205.0   \n",
       "484                  631.4                      147.6   \n",
       "..                     ...                        ...   \n",
       "270                    0.0                        0.0   \n",
       "225                    4.0                        0.0   \n",
       "517                    0.0                        0.0   \n",
       "127                    0.0                        0.0   \n",
       "607                    0.0                        0.0   \n",
       "\n",
       "     total_three_pointers_att  \n",
       "577                      90.2  \n",
       "554                      57.4  \n",
       "300                     352.6  \n",
       "253                     606.8  \n",
       "484                     393.6  \n",
       "..                        ...  \n",
       "270                       0.0  \n",
       "225                       2.0  \n",
       "517                       0.0  \n",
       "127                       0.0  \n",
       "607                       0.0  \n",
       "\n",
       "[657 rows x 35 columns]"
      ]
     },
     "execution_count": 15,
     "metadata": {},
     "output_type": "execute_result"
    }
   ],
   "source": [
    "df['total_points'] = df['PTS'] * df['G']\n",
    "df['total_field_goals_made'] = df['FG'] * df['G']\n",
    "df['total_field_goals_att'] = df['FGA'] * df['G']\n",
    "df['total_three_pointers_made'] = df['3P'] * df['G']\n",
    "df['total_three_pointers_att'] = df['3PA'] * df['G']\n",
    "\n",
    "df"
   ]
  },
  {
   "cell_type": "code",
   "execution_count": null,
   "id": "3ef7096a",
   "metadata": {},
   "outputs": [
    {
     "data": {
      "text/html": [
       "<div>\n",
       "<style scoped>\n",
       "    .dataframe tbody tr th:only-of-type {\n",
       "        vertical-align: middle;\n",
       "    }\n",
       "\n",
       "    .dataframe tbody tr th {\n",
       "        vertical-align: top;\n",
       "    }\n",
       "\n",
       "    .dataframe thead th {\n",
       "        text-align: right;\n",
       "    }\n",
       "</style>\n",
       "<table border=\"1\" class=\"dataframe\">\n",
       "  <thead>\n",
       "    <tr style=\"text-align: right;\">\n",
       "      <th></th>\n",
       "      <th>Player</th>\n",
       "      <th>Age</th>\n",
       "      <th>total_points</th>\n",
       "      <th>G</th>\n",
       "      <th>Pos</th>\n",
       "      <th>total_field_goals_made</th>\n",
       "      <th>total_field_goals_att</th>\n",
       "      <th>total_three_pointers_made</th>\n",
       "      <th>total_three_pointers_att</th>\n",
       "    </tr>\n",
       "  </thead>\n",
       "  <tbody>\n",
       "    <tr>\n",
       "      <th>0</th>\n",
       "      <td>A.J. Green</td>\n",
       "      <td>24</td>\n",
       "      <td>252.0</td>\n",
       "      <td>56</td>\n",
       "      <td>SG</td>\n",
       "      <td>84.0</td>\n",
       "      <td>196.0</td>\n",
       "      <td>67.2</td>\n",
       "      <td>168.0</td>\n",
       "    </tr>\n",
       "    <tr>\n",
       "      <th>1</th>\n",
       "      <td>A.J. Lawson</td>\n",
       "      <td>23</td>\n",
       "      <td>134.4</td>\n",
       "      <td>42</td>\n",
       "      <td>SG</td>\n",
       "      <td>54.6</td>\n",
       "      <td>121.8</td>\n",
       "      <td>12.6</td>\n",
       "      <td>50.4</td>\n",
       "    </tr>\n",
       "    <tr>\n",
       "      <th>2</th>\n",
       "      <td>AJ Griffin</td>\n",
       "      <td>20</td>\n",
       "      <td>48.0</td>\n",
       "      <td>20</td>\n",
       "      <td>SF</td>\n",
       "      <td>18.0</td>\n",
       "      <td>62.0</td>\n",
       "      <td>10.0</td>\n",
       "      <td>40.0</td>\n",
       "    </tr>\n",
       "    <tr>\n",
       "      <th>3</th>\n",
       "      <td>Aaron Gordon</td>\n",
       "      <td>28</td>\n",
       "      <td>1014.7</td>\n",
       "      <td>73</td>\n",
       "      <td>PF</td>\n",
       "      <td>401.5</td>\n",
       "      <td>715.4</td>\n",
       "      <td>36.5</td>\n",
       "      <td>138.7</td>\n",
       "    </tr>\n",
       "    <tr>\n",
       "      <th>4</th>\n",
       "      <td>Aaron Holiday</td>\n",
       "      <td>27</td>\n",
       "      <td>514.8</td>\n",
       "      <td>78</td>\n",
       "      <td>PG</td>\n",
       "      <td>187.2</td>\n",
       "      <td>413.4</td>\n",
       "      <td>85.8</td>\n",
       "      <td>218.4</td>\n",
       "    </tr>\n",
       "    <tr>\n",
       "      <th>...</th>\n",
       "      <td>...</td>\n",
       "      <td>...</td>\n",
       "      <td>...</td>\n",
       "      <td>...</td>\n",
       "      <td>...</td>\n",
       "      <td>...</td>\n",
       "      <td>...</td>\n",
       "      <td>...</td>\n",
       "      <td>...</td>\n",
       "    </tr>\n",
       "    <tr>\n",
       "      <th>567</th>\n",
       "      <td>Zach LaVine</td>\n",
       "      <td>28</td>\n",
       "      <td>487.5</td>\n",
       "      <td>25</td>\n",
       "      <td>SG</td>\n",
       "      <td>170.0</td>\n",
       "      <td>375.0</td>\n",
       "      <td>60.0</td>\n",
       "      <td>170.0</td>\n",
       "    </tr>\n",
       "    <tr>\n",
       "      <th>568</th>\n",
       "      <td>Zavier Simpson</td>\n",
       "      <td>26</td>\n",
       "      <td>42.0</td>\n",
       "      <td>7</td>\n",
       "      <td>PG</td>\n",
       "      <td>16.8</td>\n",
       "      <td>53.9</td>\n",
       "      <td>4.9</td>\n",
       "      <td>16.8</td>\n",
       "    </tr>\n",
       "    <tr>\n",
       "      <th>569</th>\n",
       "      <td>Zeke Nnaji</td>\n",
       "      <td>23</td>\n",
       "      <td>185.6</td>\n",
       "      <td>58</td>\n",
       "      <td>PF</td>\n",
       "      <td>69.6</td>\n",
       "      <td>150.8</td>\n",
       "      <td>5.8</td>\n",
       "      <td>23.2</td>\n",
       "    </tr>\n",
       "    <tr>\n",
       "      <th>570</th>\n",
       "      <td>Ziaire Williams</td>\n",
       "      <td>22</td>\n",
       "      <td>418.2</td>\n",
       "      <td>51</td>\n",
       "      <td>SF</td>\n",
       "      <td>147.9</td>\n",
       "      <td>377.4</td>\n",
       "      <td>56.1</td>\n",
       "      <td>188.7</td>\n",
       "    </tr>\n",
       "    <tr>\n",
       "      <th>571</th>\n",
       "      <td>Zion Williamson</td>\n",
       "      <td>23</td>\n",
       "      <td>1603.0</td>\n",
       "      <td>70</td>\n",
       "      <td>PF</td>\n",
       "      <td>623.0</td>\n",
       "      <td>1092.0</td>\n",
       "      <td>7.0</td>\n",
       "      <td>21.0</td>\n",
       "    </tr>\n",
       "  </tbody>\n",
       "</table>\n",
       "<p>572 rows × 9 columns</p>\n",
       "</div>"
      ],
      "text/plain": [
       "              Player  Age  total_points   G Pos  total_field_goals_made  \\\n",
       "0         A.J. Green   24         252.0  56  SG                    84.0   \n",
       "1        A.J. Lawson   23         134.4  42  SG                    54.6   \n",
       "2         AJ Griffin   20          48.0  20  SF                    18.0   \n",
       "3       Aaron Gordon   28        1014.7  73  PF                   401.5   \n",
       "4      Aaron Holiday   27         514.8  78  PG                   187.2   \n",
       "..               ...  ...           ...  ..  ..                     ...   \n",
       "567      Zach LaVine   28         487.5  25  SG                   170.0   \n",
       "568   Zavier Simpson   26          42.0   7  PG                    16.8   \n",
       "569       Zeke Nnaji   23         185.6  58  PF                    69.6   \n",
       "570  Ziaire Williams   22         418.2  51  SF                   147.9   \n",
       "571  Zion Williamson   23        1603.0  70  PF                   623.0   \n",
       "\n",
       "     total_field_goals_att  total_three_pointers_made  \\\n",
       "0                    196.0                       67.2   \n",
       "1                    121.8                       12.6   \n",
       "2                     62.0                       10.0   \n",
       "3                    715.4                       36.5   \n",
       "4                    413.4                       85.8   \n",
       "..                     ...                        ...   \n",
       "567                  375.0                       60.0   \n",
       "568                   53.9                        4.9   \n",
       "569                  150.8                        5.8   \n",
       "570                  377.4                       56.1   \n",
       "571                 1092.0                        7.0   \n",
       "\n",
       "     total_three_pointers_att  \n",
       "0                       168.0  \n",
       "1                        50.4  \n",
       "2                        40.0  \n",
       "3                       138.7  \n",
       "4                       218.4  \n",
       "..                        ...  \n",
       "567                     170.0  \n",
       "568                      16.8  \n",
       "569                      23.2  \n",
       "570                     188.7  \n",
       "571                      21.0  \n",
       "\n",
       "[572 rows x 9 columns]"
      ]
     },
     "execution_count": 19,
     "metadata": {},
     "output_type": "execute_result"
    }
   ],
   "source": [
    "# Group by the player and their age\n",
    "df_grouped = (\n",
    "    df.\n",
    "    groupby(['Player', 'Age'])\n",
    "    .agg({\n",
    "        'total_points': 'sum',\n",
    "        'G': 'sum',\n",
    "        'Pos': 'first', # keep the position they’ve played the most given sort\n",
    "        'total_field_goals_made': 'sum',\n",
    "        'total_field_goals_att': 'sum',\n",
    "        'total_three_pointers_made': 'sum',\n",
    "        'total_three_pointers_att': 'sum'\n",
    "    })\n",
    "    .reset_index()\n",
    ")\n",
    "\n",
    "df_grouped"
   ]
  },
  {
   "cell_type": "code",
   "execution_count": 23,
   "id": "7ac83a08",
   "metadata": {},
   "outputs": [
    {
     "data": {
      "text/html": [
       "<div>\n",
       "<style scoped>\n",
       "    .dataframe tbody tr th:only-of-type {\n",
       "        vertical-align: middle;\n",
       "    }\n",
       "\n",
       "    .dataframe tbody tr th {\n",
       "        vertical-align: top;\n",
       "    }\n",
       "\n",
       "    .dataframe thead th {\n",
       "        text-align: right;\n",
       "    }\n",
       "</style>\n",
       "<table border=\"1\" class=\"dataframe\">\n",
       "  <thead>\n",
       "    <tr style=\"text-align: right;\">\n",
       "      <th></th>\n",
       "      <th>Player</th>\n",
       "      <th>Age</th>\n",
       "      <th>total_points</th>\n",
       "      <th>G</th>\n",
       "      <th>Pos</th>\n",
       "      <th>total_field_goals_made</th>\n",
       "      <th>total_field_goals_att</th>\n",
       "      <th>total_three_pointers_made</th>\n",
       "      <th>total_three_pointers_att</th>\n",
       "      <th>points_per_game</th>\n",
       "      <th>field_goal_pct</th>\n",
       "      <th>three_point_pct</th>\n",
       "    </tr>\n",
       "  </thead>\n",
       "  <tbody>\n",
       "    <tr>\n",
       "      <th>0</th>\n",
       "      <td>A.J. Green</td>\n",
       "      <td>24</td>\n",
       "      <td>252.0</td>\n",
       "      <td>56</td>\n",
       "      <td>SG</td>\n",
       "      <td>84.0</td>\n",
       "      <td>196.0</td>\n",
       "      <td>67.2</td>\n",
       "      <td>168.0</td>\n",
       "      <td>4.500000</td>\n",
       "      <td>42.857143</td>\n",
       "      <td>0.400000</td>\n",
       "    </tr>\n",
       "    <tr>\n",
       "      <th>3</th>\n",
       "      <td>Aaron Gordon</td>\n",
       "      <td>28</td>\n",
       "      <td>1014.7</td>\n",
       "      <td>73</td>\n",
       "      <td>PF</td>\n",
       "      <td>401.5</td>\n",
       "      <td>715.4</td>\n",
       "      <td>36.5</td>\n",
       "      <td>138.7</td>\n",
       "      <td>13.900000</td>\n",
       "      <td>56.122449</td>\n",
       "      <td>0.263158</td>\n",
       "    </tr>\n",
       "    <tr>\n",
       "      <th>4</th>\n",
       "      <td>Aaron Holiday</td>\n",
       "      <td>27</td>\n",
       "      <td>514.8</td>\n",
       "      <td>78</td>\n",
       "      <td>PG</td>\n",
       "      <td>187.2</td>\n",
       "      <td>413.4</td>\n",
       "      <td>85.8</td>\n",
       "      <td>218.4</td>\n",
       "      <td>6.600000</td>\n",
       "      <td>45.283019</td>\n",
       "      <td>0.392857</td>\n",
       "    </tr>\n",
       "    <tr>\n",
       "      <th>5</th>\n",
       "      <td>Aaron Nesmith</td>\n",
       "      <td>24</td>\n",
       "      <td>878.4</td>\n",
       "      <td>72</td>\n",
       "      <td>SF</td>\n",
       "      <td>316.8</td>\n",
       "      <td>633.6</td>\n",
       "      <td>136.8</td>\n",
       "      <td>331.2</td>\n",
       "      <td>12.200000</td>\n",
       "      <td>50.000000</td>\n",
       "      <td>0.413043</td>\n",
       "    </tr>\n",
       "    <tr>\n",
       "      <th>6</th>\n",
       "      <td>Aaron Wiggins</td>\n",
       "      <td>25</td>\n",
       "      <td>538.2</td>\n",
       "      <td>78</td>\n",
       "      <td>SG</td>\n",
       "      <td>210.6</td>\n",
       "      <td>374.4</td>\n",
       "      <td>62.4</td>\n",
       "      <td>124.8</td>\n",
       "      <td>6.900000</td>\n",
       "      <td>56.250000</td>\n",
       "      <td>0.500000</td>\n",
       "    </tr>\n",
       "    <tr>\n",
       "      <th>...</th>\n",
       "      <td>...</td>\n",
       "      <td>...</td>\n",
       "      <td>...</td>\n",
       "      <td>...</td>\n",
       "      <td>...</td>\n",
       "      <td>...</td>\n",
       "      <td>...</td>\n",
       "      <td>...</td>\n",
       "      <td>...</td>\n",
       "      <td>...</td>\n",
       "      <td>...</td>\n",
       "      <td>...</td>\n",
       "    </tr>\n",
       "    <tr>\n",
       "      <th>564</th>\n",
       "      <td>Xavier Tillman Sr.</td>\n",
       "      <td>25</td>\n",
       "      <td>284.0</td>\n",
       "      <td>54</td>\n",
       "      <td>C</td>\n",
       "      <td>122.4</td>\n",
       "      <td>280.2</td>\n",
       "      <td>21.6</td>\n",
       "      <td>82.4</td>\n",
       "      <td>5.259259</td>\n",
       "      <td>43.683084</td>\n",
       "      <td>0.262136</td>\n",
       "    </tr>\n",
       "    <tr>\n",
       "      <th>566</th>\n",
       "      <td>Zach Collins</td>\n",
       "      <td>26</td>\n",
       "      <td>772.8</td>\n",
       "      <td>69</td>\n",
       "      <td>C</td>\n",
       "      <td>296.7</td>\n",
       "      <td>614.1</td>\n",
       "      <td>55.2</td>\n",
       "      <td>179.4</td>\n",
       "      <td>11.200000</td>\n",
       "      <td>48.314607</td>\n",
       "      <td>0.307692</td>\n",
       "    </tr>\n",
       "    <tr>\n",
       "      <th>569</th>\n",
       "      <td>Zeke Nnaji</td>\n",
       "      <td>23</td>\n",
       "      <td>185.6</td>\n",
       "      <td>58</td>\n",
       "      <td>PF</td>\n",
       "      <td>69.6</td>\n",
       "      <td>150.8</td>\n",
       "      <td>5.8</td>\n",
       "      <td>23.2</td>\n",
       "      <td>3.200000</td>\n",
       "      <td>46.153846</td>\n",
       "      <td>0.250000</td>\n",
       "    </tr>\n",
       "    <tr>\n",
       "      <th>570</th>\n",
       "      <td>Ziaire Williams</td>\n",
       "      <td>22</td>\n",
       "      <td>418.2</td>\n",
       "      <td>51</td>\n",
       "      <td>SF</td>\n",
       "      <td>147.9</td>\n",
       "      <td>377.4</td>\n",
       "      <td>56.1</td>\n",
       "      <td>188.7</td>\n",
       "      <td>8.200000</td>\n",
       "      <td>39.189189</td>\n",
       "      <td>0.297297</td>\n",
       "    </tr>\n",
       "    <tr>\n",
       "      <th>571</th>\n",
       "      <td>Zion Williamson</td>\n",
       "      <td>23</td>\n",
       "      <td>1603.0</td>\n",
       "      <td>70</td>\n",
       "      <td>PF</td>\n",
       "      <td>623.0</td>\n",
       "      <td>1092.0</td>\n",
       "      <td>7.0</td>\n",
       "      <td>21.0</td>\n",
       "      <td>22.900000</td>\n",
       "      <td>57.051282</td>\n",
       "      <td>0.333333</td>\n",
       "    </tr>\n",
       "  </tbody>\n",
       "</table>\n",
       "<p>301 rows × 12 columns</p>\n",
       "</div>"
      ],
      "text/plain": [
       "                 Player  Age  total_points   G Pos  total_field_goals_made  \\\n",
       "0            A.J. Green   24         252.0  56  SG                    84.0   \n",
       "3          Aaron Gordon   28        1014.7  73  PF                   401.5   \n",
       "4         Aaron Holiday   27         514.8  78  PG                   187.2   \n",
       "5         Aaron Nesmith   24         878.4  72  SF                   316.8   \n",
       "6         Aaron Wiggins   25         538.2  78  SG                   210.6   \n",
       "..                  ...  ...           ...  ..  ..                     ...   \n",
       "564  Xavier Tillman Sr.   25         284.0  54   C                   122.4   \n",
       "566        Zach Collins   26         772.8  69   C                   296.7   \n",
       "569          Zeke Nnaji   23         185.6  58  PF                    69.6   \n",
       "570     Ziaire Williams   22         418.2  51  SF                   147.9   \n",
       "571     Zion Williamson   23        1603.0  70  PF                   623.0   \n",
       "\n",
       "     total_field_goals_att  total_three_pointers_made  \\\n",
       "0                    196.0                       67.2   \n",
       "3                    715.4                       36.5   \n",
       "4                    413.4                       85.8   \n",
       "5                    633.6                      136.8   \n",
       "6                    374.4                       62.4   \n",
       "..                     ...                        ...   \n",
       "564                  280.2                       21.6   \n",
       "566                  614.1                       55.2   \n",
       "569                  150.8                        5.8   \n",
       "570                  377.4                       56.1   \n",
       "571                 1092.0                        7.0   \n",
       "\n",
       "     total_three_pointers_att  points_per_game  field_goal_pct  \\\n",
       "0                       168.0         4.500000       42.857143   \n",
       "3                       138.7        13.900000       56.122449   \n",
       "4                       218.4         6.600000       45.283019   \n",
       "5                       331.2        12.200000       50.000000   \n",
       "6                       124.8         6.900000       56.250000   \n",
       "..                        ...              ...             ...   \n",
       "564                      82.4         5.259259       43.683084   \n",
       "566                     179.4        11.200000       48.314607   \n",
       "569                      23.2         3.200000       46.153846   \n",
       "570                     188.7         8.200000       39.189189   \n",
       "571                      21.0        22.900000       57.051282   \n",
       "\n",
       "     three_point_pct  \n",
       "0           0.400000  \n",
       "3           0.263158  \n",
       "4           0.392857  \n",
       "5           0.413043  \n",
       "6           0.500000  \n",
       "..               ...  \n",
       "564         0.262136  \n",
       "566         0.307692  \n",
       "569         0.250000  \n",
       "570         0.297297  \n",
       "571         0.333333  \n",
       "\n",
       "[301 rows x 12 columns]"
      ]
     },
     "execution_count": 23,
     "metadata": {},
     "output_type": "execute_result"
    }
   ],
   "source": [
    "df_grouped = df_grouped.assign(\n",
    "    points_per_game = lambda x: x['total_points'] / x['G'],\n",
    "    field_goal_pct = lambda x: 100*x['total_field_goals_made'] / x['total_field_goals_att'],\n",
    "    three_point_pct = lambda x: x['total_three_pointers_made'] / x['total_three_pointers_att']\n",
    ")\n",
    "\n",
    "# Filter to only players who’ve played in at least 50 games\n",
    "df_filtered = df_grouped[df_grouped['G'] >= 50]\n",
    "\n",
    "df_filtered"
   ]
  },
  {
   "cell_type": "code",
   "execution_count": 26,
   "id": "83897d42",
   "metadata": {},
   "outputs": [
    {
     "name": "stdout",
     "output_type": "stream",
     "text": [
      "Channels:\n",
      " - defaults\n",
      " - conda-forge\n",
      "Platform: osx-arm64\n",
      "Collecting package metadata (repodata.json): done\n",
      "Solving environment: done\n",
      "\n",
      "# All requested packages already installed.\n",
      "\n"
     ]
    }
   ],
   "source": [
    "! conda install -y polars"
   ]
  },
  {
   "cell_type": "code",
   "execution_count": 27,
   "id": "a18ee687",
   "metadata": {},
   "outputs": [],
   "source": [
    "import polars as pl\n",
    "from great_tables import (\n",
    "    GT, md, google_font, style, loc\n",
    ")"
   ]
  },
  {
   "cell_type": "code",
   "execution_count": 34,
   "id": "81fe8b38",
   "metadata": {},
   "outputs": [],
   "source": [
    "TITLE_FONT = 'Georgia'\n",
    "OTHER_FONT = 'Helvetica'\n",
    "COLOR_PALETTE = {\n",
    "    'Blue': '#17408B', \n",
    "    'Red': '#C9082A'\n",
    "}\n",
    "TITLE_FONT_SIZE = 24"
   ]
  },
  {
   "cell_type": "code",
   "execution_count": 131,
   "id": "76605af1",
   "metadata": {},
   "outputs": [
    {
     "data": {
      "text/html": [
       "<div>\n",
       "<style scoped>\n",
       "    .dataframe tbody tr th:only-of-type {\n",
       "        vertical-align: middle;\n",
       "    }\n",
       "\n",
       "    .dataframe tbody tr th {\n",
       "        vertical-align: top;\n",
       "    }\n",
       "\n",
       "    .dataframe thead th {\n",
       "        text-align: right;\n",
       "    }\n",
       "</style>\n",
       "<table border=\"1\" class=\"dataframe\">\n",
       "  <thead>\n",
       "    <tr style=\"text-align: right;\">\n",
       "      <th></th>\n",
       "      <th>index</th>\n",
       "      <th>Player</th>\n",
       "      <th>Age</th>\n",
       "      <th>Points Per Game</th>\n",
       "      <th>Three Point %</th>\n",
       "    </tr>\n",
       "  </thead>\n",
       "  <tbody>\n",
       "    <tr>\n",
       "      <th>0</th>\n",
       "      <td>373</td>\n",
       "      <td>Luka Dončić</td>\n",
       "      <td>24</td>\n",
       "      <td>33.9</td>\n",
       "      <td>38.7</td>\n",
       "    </tr>\n",
       "    <tr>\n",
       "      <th>1</th>\n",
       "      <td>184</td>\n",
       "      <td>Giannis Antetokounmpo</td>\n",
       "      <td>29</td>\n",
       "      <td>30.4</td>\n",
       "      <td>29.4</td>\n",
       "    </tr>\n",
       "    <tr>\n",
       "      <th>2</th>\n",
       "      <td>501</td>\n",
       "      <td>Shai Gilgeous-Alexander</td>\n",
       "      <td>25</td>\n",
       "      <td>30.1</td>\n",
       "      <td>36.1</td>\n",
       "    </tr>\n",
       "    <tr>\n",
       "      <th>3</th>\n",
       "      <td>233</td>\n",
       "      <td>Jalen Brunson</td>\n",
       "      <td>27</td>\n",
       "      <td>28.7</td>\n",
       "      <td>39.7</td>\n",
       "    </tr>\n",
       "    <tr>\n",
       "      <th>4</th>\n",
       "      <td>338</td>\n",
       "      <td>Kevin Durant</td>\n",
       "      <td>35</td>\n",
       "      <td>27.1</td>\n",
       "      <td>40.7</td>\n",
       "    </tr>\n",
       "    <tr>\n",
       "      <th>5</th>\n",
       "      <td>144</td>\n",
       "      <td>Devin Booker</td>\n",
       "      <td>27</td>\n",
       "      <td>27.1</td>\n",
       "      <td>36.1</td>\n",
       "    </tr>\n",
       "    <tr>\n",
       "      <th>6</th>\n",
       "      <td>268</td>\n",
       "      <td>Jayson Tatum</td>\n",
       "      <td>25</td>\n",
       "      <td>26.9</td>\n",
       "      <td>37.8</td>\n",
       "    </tr>\n",
       "    <tr>\n",
       "      <th>7</th>\n",
       "      <td>125</td>\n",
       "      <td>De'Aaron Fox</td>\n",
       "      <td>26</td>\n",
       "      <td>26.6</td>\n",
       "      <td>37.2</td>\n",
       "    </tr>\n",
       "    <tr>\n",
       "      <th>8</th>\n",
       "      <td>152</td>\n",
       "      <td>Donovan Mitchell</td>\n",
       "      <td>27</td>\n",
       "      <td>26.6</td>\n",
       "      <td>36.7</td>\n",
       "    </tr>\n",
       "    <tr>\n",
       "      <th>9</th>\n",
       "      <td>434</td>\n",
       "      <td>Nikola Jokić</td>\n",
       "      <td>28</td>\n",
       "      <td>26.4</td>\n",
       "      <td>37.9</td>\n",
       "    </tr>\n",
       "  </tbody>\n",
       "</table>\n",
       "</div>"
      ],
      "text/plain": [
       "   index                   Player  Age  Points Per Game  Three Point %\n",
       "0    373              Luka Dončić   24             33.9           38.7\n",
       "1    184    Giannis Antetokounmpo   29             30.4           29.4\n",
       "2    501  Shai Gilgeous-Alexander   25             30.1           36.1\n",
       "3    233            Jalen Brunson   27             28.7           39.7\n",
       "4    338             Kevin Durant   35             27.1           40.7\n",
       "5    144             Devin Booker   27             27.1           36.1\n",
       "6    268             Jayson Tatum   25             26.9           37.8\n",
       "7    125             De'Aaron Fox   26             26.6           37.2\n",
       "8    152         Donovan Mitchell   27             26.6           36.7\n",
       "9    434             Nikola Jokić   28             26.4           37.9"
      ]
     },
     "execution_count": 131,
     "metadata": {},
     "output_type": "execute_result"
    }
   ],
   "source": [
    "df_top_10_points = (\n",
    "    df_filtered[[\"Player\", \"Age\", \"points_per_game\", \"three_point_pct\"]]\n",
    "    .sort_values(\"points_per_game\", ascending=False)\n",
    "    .head(10)\n",
    "    .rename(\n",
    "        columns={\n",
    "            \"points_per_game\": \"Points Per Game\",\n",
    "            \"three_point_pct\": \"Three Point %\"\n",
    "        }\n",
    "    )\n",
    "    .reset_index()\n",
    ")\n",
    "df_top_10_points['Three Point %'] = (df_top_10_points['Three Point %'] * 100).round(1)\n",
    "df_top_10_points['Points Per Game'] = df_top_10_points['Points Per Game'].round(1)\n",
    "df_top_10_points['Player'] = df_top_10_points['Player'].replace({\n",
    "    'Luka Don?i?': 'Luka Dončić',\n",
    "    'Nikola Joki?': 'Nikola Jokić'\n",
    "})\n",
    "df_top_10_points"
   ]
  },
  {
   "cell_type": "code",
   "execution_count": 136,
   "id": "3d6ab6f6",
   "metadata": {},
   "outputs": [
    {
     "data": {
      "text/html": [
       "<div id=\"bkkphuwgmb\" style=\"padding-left:0px;padding-right:0px;padding-top:10px;padding-bottom:10px;overflow-x:auto;overflow-y:auto;width:auto;height:auto;\">\n",
       "<style>\n",
       "@import url('https://fonts.googleapis.com/css2?family=Helvetica&display=swap');\n",
       "@import url('https://fonts.googleapis.com/css2?family=Georgia&display=swap');\n",
       "#bkkphuwgmb table {\n",
       "          font-family: Helvetica, -apple-system, BlinkMacSystemFont, 'Segoe UI', Roboto, Oxygen, Ubuntu, Cantarell, 'Helvetica Neue', 'Fira Sans', 'Droid Sans', Arial, sans-serif;\n",
       "          -webkit-font-smoothing: antialiased;\n",
       "          -moz-osx-font-smoothing: grayscale;\n",
       "        }\n",
       "\n",
       "#bkkphuwgmb thead, tbody, tfoot, tr, td, th { border-style: none !important; }\n",
       " tr { background-color: transparent !important; }\n",
       "#bkkphuwgmb p { margin: 0 !important; padding: 0 !important; }\n",
       " #bkkphuwgmb .gt_table { display: table !important; border-collapse: collapse !important; line-height: normal !important; margin-left: auto !important; margin-right: auto !important; color: #000000 !important; font-size: 16px !important; font-weight: normal !important; font-style: normal !important; background-color: #FFFFFF !important; width: auto !important; border-top-style: solid !important; border-top-width: 2px !important; border-top-color: #A8A8A8 !important; border-right-style: none !important; border-right-width: 2px !important; border-right-color: #D3D3D3 !important; border-bottom-style: solid !important; border-bottom-width: 2px !important; border-bottom-color: #A8A8A8 !important; border-left-style: none !important; border-left-width: 2px !important; border-left-color: #D3D3D3 !important; }\n",
       " #bkkphuwgmb .gt_caption { padding-top: 4px !important; padding-bottom: 4px !important; }\n",
       " #bkkphuwgmb .gt_title { color: #000000 !important; font-size: 24px !important; font-weight: initial !important; padding-top: 4px !important; padding-bottom: 4px !important; padding-left: 5px !important; padding-right: 5px !important; border-bottom-color: #FFFFFF !important; border-bottom-width: 0 !important; }\n",
       " #bkkphuwgmb .gt_subtitle { color: #000000 !important; font-size: 16px !important; font-weight: initial !important; padding-top: 3px !important; padding-bottom: 5px !important; padding-left: 5px !important; padding-right: 5px !important; border-top-color: #FFFFFF !important; border-top-width: 0 !important; }\n",
       " #bkkphuwgmb .gt_heading { background-color: #FFFFFF !important; text-align: left !important; border-bottom-color: #FFFFFF !important; border-left-style: none !important; border-left-width: 1px !important; border-left-color: #D3D3D3 !important; border-right-style: none !important; border-right-width: 1px !important; border-right-color: #D3D3D3 !important; }\n",
       " #bkkphuwgmb .gt_bottom_border { border-bottom-style: solid !important; border-bottom-width: 2px !important; border-bottom-color: #D3D3D3 !important; }\n",
       " #bkkphuwgmb .gt_col_headings { border-top-style: solid !important; border-top-width: 2px !important; border-top-color: #D3D3D3 !important; border-bottom-style: solid !important; border-bottom-width: 2px !important; border-bottom-color: #D3D3D3 !important; border-left-style: none !important; border-left-width: 1px !important; border-left-color: #D3D3D3 !important; border-right-style: none !important; border-right-width: 1px !important; border-right-color: #D3D3D3 !important; }\n",
       " #bkkphuwgmb .gt_col_heading { color: #000000 !important; background-color: #FFFFFF !important; font-size: 14px !important; font-weight: normal !important; text-transform: inherit !important; border-left-style: none !important; border-left-width: 1px !important; border-left-color: #D3D3D3 !important; border-right-style: none !important; border-right-width: 1px !important; border-right-color: #D3D3D3 !important; vertical-align: bottom !important; padding-top: 5px !important; padding-bottom: 5px !important; padding-left: 5px !important; padding-right: 5px !important; overflow-x: hidden !important; }\n",
       " #bkkphuwgmb .gt_column_spanner_outer { color: #000000 !important; background-color: #FFFFFF !important; font-size: 14px !important; font-weight: normal !important; text-transform: inherit !important; padding-top: 0 !important; padding-bottom: 0 !important; padding-left: 4px !important; padding-right: 4px !important; }\n",
       " #bkkphuwgmb .gt_column_spanner_outer:first-child { padding-left: 0 !important; }\n",
       " #bkkphuwgmb .gt_column_spanner_outer:last-child { padding-right: 0 !important; }\n",
       " #bkkphuwgmb .gt_column_spanner { border-bottom-style: solid !important; border-bottom-width: 2px !important; border-bottom-color: #D3D3D3 !important; vertical-align: bottom !important; padding-top: 5px !important; padding-bottom: 5px !important; overflow-x: hidden !important; display: inline-block !important; width: 100% !important; }\n",
       " #bkkphuwgmb .gt_spanner_row { border-bottom-style: hidden !important; }\n",
       " #bkkphuwgmb .gt_group_heading { padding-top: 8px !important; padding-bottom: 8px !important; padding-left: 5px !important; padding-right: 5px !important; color: #000000 !important; background-color: #FFFFFF !important; font-size: 100% !important; font-weight: initial !important; text-transform: inherit !important; border-top-style: solid !important; border-top-width: 2px !important; border-top-color: #D3D3D3 !important; border-bottom-style: solid !important; border-bottom-width: 2px !important; border-bottom-color: #D3D3D3 !important; border-left-style: none !important; border-left-width: 1px !important; border-left-color: #D3D3D3 !important; border-right-style: none !important; border-right-width: 1px !important; border-right-color: #D3D3D3 !important; vertical-align: middle !important; text-align: left !important; }\n",
       " #bkkphuwgmb .gt_empty_group_heading { padding: 0.5px !important; color: #000000 !important; background-color: #FFFFFF !important; font-size: 100% !important; font-weight: initial !important; border-top-style: solid !important; border-top-width: 2px !important; border-top-color: #D3D3D3 !important; border-bottom-style: solid !important; border-bottom-width: 2px !important; border-bottom-color: #D3D3D3 !important; vertical-align: middle !important; }\n",
       " #bkkphuwgmb .gt_from_md> :first-child { margin-top: 0 !important; }\n",
       " #bkkphuwgmb .gt_from_md> :last-child { margin-bottom: 0 !important; }\n",
       " #bkkphuwgmb .gt_row { padding-top: 0.75 !important; padding-bottom: 0.75 !important; padding-left: 5px !important; padding-right: 5px !important; margin: 10px !important; border-top-style: solid !important; border-top-width: 1px !important; border-top-color: #D3D3D3 !important; border-left-style: none !important; border-left-width: 1px !important; border-left-color: #D3D3D3 !important; border-right-style: none !important; border-right-width: 1px !important; border-right-color: #D3D3D3 !important; vertical-align: middle !important; overflow-x: hidden !important; }\n",
       " #bkkphuwgmb .gt_stub { color: #000000 !important; background-color: #FFFFFF !important; font-size: 100% !important; font-weight: initial !important; text-transform: inherit !important; border-right-style: solid !important; border-right-width: 2px !important; border-right-color: #D3D3D3 !important; padding-left: 5px !important; padding-right: 5px !important; }\n",
       " #bkkphuwgmb .gt_stub_row_group { color: #000000 !important; background-color: #FFFFFF !important; font-size: 100% !important; font-weight: initial !important; text-transform: inherit !important; border-right-style: solid !important; border-right-width: 2px !important; border-right-color: #D3D3D3 !important; padding-left: 5px !important; padding-right: 5px !important; vertical-align: top !important; }\n",
       " #bkkphuwgmb .gt_row_group_first td { border-top-width: 2px !important; }\n",
       " #bkkphuwgmb .gt_row_group_first th { border-top-width: 2px !important; }\n",
       " #bkkphuwgmb .gt_striped { background-color: rgba(128,128,128,0.05) !important; }\n",
       " #bkkphuwgmb .gt_table_body { border-top-style: solid !important; border-top-width: 2px !important; border-top-color: #D3D3D3 !important; border-bottom-style: solid !important; border-bottom-width: 2px !important; border-bottom-color: #D3D3D3 !important; }\n",
       " #bkkphuwgmb .gt_sourcenotes { color: #000000 !important; background-color: #FFFFFF !important; border-bottom-style: none !important; border-bottom-width: 2px !important; border-bottom-color: #D3D3D3 !important; border-left-style: none !important; border-left-width: 2px !important; border-left-color: #D3D3D3 !important; border-right-style: none !important; border-right-width: 2px !important; border-right-color: #D3D3D3 !important; }\n",
       " #bkkphuwgmb .gt_sourcenote { font-size: 90% !important; padding-top: 4px !important; padding-bottom: 4px !important; padding-left: 5px !important; padding-right: 5px !important; text-align: left !important; }\n",
       " #bkkphuwgmb .gt_left { text-align: left !important; }\n",
       " #bkkphuwgmb .gt_center { text-align: center !important; }\n",
       " #bkkphuwgmb .gt_right { text-align: right !important; font-variant-numeric: tabular-nums !important; }\n",
       " #bkkphuwgmb .gt_font_normal { font-weight: normal !important; }\n",
       " #bkkphuwgmb .gt_font_bold { font-weight: bold !important; }\n",
       " #bkkphuwgmb .gt_font_italic { font-style: italic !important; }\n",
       " #bkkphuwgmb .gt_super { font-size: 65% !important; }\n",
       " #bkkphuwgmb .gt_footnote_marks { font-size: 75% !important; vertical-align: 0.4em !important; position: initial !important; }\n",
       " #bkkphuwgmb .gt_asterisk { font-size: 100% !important; vertical-align: 0 !important; }\n",
       " \n",
       "</style>\n",
       "<table class=\"gt_table\" data-quarto-disable-processing=\"false\" data-quarto-bootstrap=\"false\">\n",
       "<thead>\n",
       "\n",
       "  <tr class=\"gt_heading\">\n",
       "    <td colspan=\"4\" class=\"gt_heading gt_title gt_font_normal\" style=\"font-family: Georgia;\"><strong>KD: Oldest player in Top 10 scorers</strong></td>\n",
       "  </tr>\n",
       "  <tr class=\"gt_heading\">\n",
       "    <td colspan=\"4\" class=\"gt_heading gt_subtitle gt_font_normal gt_bottom_border\">Kevin Durant ranked #5 in points per game among NBA players with at least<br>50 games played. At the age of 35, he was the only player in his 30s. He also had<br>the highest 3-Point % as well.</td>\n",
       "  </tr>\n",
       "<tr class=\"gt_col_headings\">\n",
       "  <th class=\"gt_col_heading gt_columns_bottom_border gt_left\" rowspan=\"1\" colspan=\"1\" scope=\"col\" id=\"Player\">Player</th>\n",
       "  <th class=\"gt_col_heading gt_columns_bottom_border gt_right\" rowspan=\"1\" colspan=\"1\" scope=\"col\" id=\"Age\">Age</th>\n",
       "  <th class=\"gt_col_heading gt_columns_bottom_border gt_right\" rowspan=\"1\" colspan=\"1\" scope=\"col\" id=\"Points Per Game\">Points Per Game</th>\n",
       "  <th class=\"gt_col_heading gt_columns_bottom_border gt_right\" rowspan=\"1\" colspan=\"1\" scope=\"col\" id=\"Three Point %\">Three Point %</th>\n",
       "</tr>\n",
       "</thead>\n",
       "<tbody class=\"gt_table_body\">\n",
       "  <tr>\n",
       "    <td class=\"gt_row gt_left\">Luka Dončić</td>\n",
       "    <td class=\"gt_row gt_right\">24</td>\n",
       "    <td class=\"gt_row gt_right\">33.9</td>\n",
       "    <td style=\"color: #FFFFFF; background-color: #125ea6;\" class=\"gt_row gt_right\">38.7%</td>\n",
       "  </tr>\n",
       "  <tr>\n",
       "    <td class=\"gt_row gt_left\">Giannis Antetokounmpo</td>\n",
       "    <td class=\"gt_row gt_right\">29</td>\n",
       "    <td class=\"gt_row gt_right\">30.4</td>\n",
       "    <td style=\"color: #000000; background-color: #f7fbff;\" class=\"gt_row gt_right\">29.4%</td>\n",
       "  </tr>\n",
       "  <tr>\n",
       "    <td class=\"gt_row gt_left\">Shai Gilgeous-Alexander</td>\n",
       "    <td class=\"gt_row gt_right\">25</td>\n",
       "    <td class=\"gt_row gt_right\">30.1</td>\n",
       "    <td style=\"color: #000000; background-color: #4d99ca;\" class=\"gt_row gt_right\">36.1%</td>\n",
       "  </tr>\n",
       "  <tr>\n",
       "    <td class=\"gt_row gt_left\">Jalen Brunson</td>\n",
       "    <td class=\"gt_row gt_right\">27</td>\n",
       "    <td class=\"gt_row gt_right\">28.7</td>\n",
       "    <td style=\"color: #FFFFFF; background-color: #08478e;\" class=\"gt_row gt_right\">39.7%</td>\n",
       "  </tr>\n",
       "  <tr>\n",
       "    <td style=\"color: #C9082A;font-weight: bold;\" class=\"gt_row gt_left\">Kevin Durant</td>\n",
       "    <td style=\"color: #C9082A;font-weight: bold;\" class=\"gt_row gt_right\">35</td>\n",
       "    <td style=\"color: #C9082A;font-weight: bold;\" class=\"gt_row gt_right\">27.1</td>\n",
       "    <td style=\"color: #C9082A;font-weight: bold; color: #FFFFFF; background-color: #08306b;\" class=\"gt_row gt_right\">40.7%</td>\n",
       "  </tr>\n",
       "  <tr>\n",
       "    <td class=\"gt_row gt_left\">Devin Booker</td>\n",
       "    <td class=\"gt_row gt_right\">27</td>\n",
       "    <td class=\"gt_row gt_right\">27.1</td>\n",
       "    <td style=\"color: #000000; background-color: #4d99ca;\" class=\"gt_row gt_right\">36.1%</td>\n",
       "  </tr>\n",
       "  <tr>\n",
       "    <td class=\"gt_row gt_left\">Jayson Tatum</td>\n",
       "    <td class=\"gt_row gt_right\">25</td>\n",
       "    <td class=\"gt_row gt_right\">26.9</td>\n",
       "    <td style=\"color: #FFFFFF; background-color: #2373b6;\" class=\"gt_row gt_right\">37.8%</td>\n",
       "  </tr>\n",
       "  <tr>\n",
       "    <td class=\"gt_row gt_left\">De'Aaron Fox</td>\n",
       "    <td class=\"gt_row gt_right\">26</td>\n",
       "    <td class=\"gt_row gt_right\">26.6</td>\n",
       "    <td style=\"color: #000000; background-color: #3181bd;\" class=\"gt_row gt_right\">37.2%</td>\n",
       "  </tr>\n",
       "  <tr>\n",
       "    <td class=\"gt_row gt_left\">Donovan Mitchell</td>\n",
       "    <td class=\"gt_row gt_right\">27</td>\n",
       "    <td class=\"gt_row gt_right\">26.6</td>\n",
       "    <td style=\"color: #000000; background-color: #3c8cc3;\" class=\"gt_row gt_right\">36.7%</td>\n",
       "  </tr>\n",
       "  <tr>\n",
       "    <td class=\"gt_row gt_left\">Nikola Jokić</td>\n",
       "    <td class=\"gt_row gt_right\">28</td>\n",
       "    <td class=\"gt_row gt_right\">26.4</td>\n",
       "    <td style=\"color: #FFFFFF; background-color: #2170b5;\" class=\"gt_row gt_right\">37.9%</td>\n",
       "  </tr>\n",
       "</tbody>\n",
       "\n",
       "\n",
       "</table>\n",
       "\n",
       "</div>\n",
       "        "
      ],
      "text/plain": [
       "GT(_tbl_data=shape: (10, 4)\n",
       "┌─────────────────────────┬─────┬─────────────────┬───────────────┐\n",
       "│ Player                  ┆ Age ┆ Points Per Game ┆ Three Point % │\n",
       "│ ---                     ┆ --- ┆ ---             ┆ ---           │\n",
       "│ str                     ┆ i64 ┆ f64             ┆ f64           │\n",
       "╞═════════════════════════╪═════╪═════════════════╪═══════════════╡\n",
       "│ Luka Dončić             ┆ 24  ┆ 33.9            ┆ 38.7          │\n",
       "│ Giannis Antetokounmpo   ┆ 29  ┆ 30.4            ┆ 29.4          │\n",
       "│ Shai Gilgeous-Alexander ┆ 25  ┆ 30.1            ┆ 36.1          │\n",
       "│ Jalen Brunson           ┆ 27  ┆ 28.7            ┆ 39.7          │\n",
       "│ Kevin Durant            ┆ 35  ┆ 27.1            ┆ 40.7          │\n",
       "│ Devin Booker            ┆ 27  ┆ 27.1            ┆ 36.1          │\n",
       "│ Jayson Tatum            ┆ 25  ┆ 26.9            ┆ 37.8          │\n",
       "│ De'Aaron Fox            ┆ 26  ┆ 26.6            ┆ 37.2          │\n",
       "│ Donovan Mitchell        ┆ 27  ┆ 26.6            ┆ 36.7          │\n",
       "│ Nikola Jokić            ┆ 28  ┆ 26.4            ┆ 37.9          │\n",
       "└─────────────────────────┴─────┴─────────────────┴───────────────┘, _body=<great_tables._gt_data.Body object at 0x1587e3470>, _boxhead=Boxhead([ColInfo(var='Player', type=<ColInfoTypeEnum.default: 1>, column_label='Player', column_align='left', column_width=None), ColInfo(var='Age', type=<ColInfoTypeEnum.default: 1>, column_label='Age', column_align='right', column_width=None), ColInfo(var='Points Per Game', type=<ColInfoTypeEnum.default: 1>, column_label='Points Per Game', column_align='right', column_width=None), ColInfo(var='Three Point %', type=<ColInfoTypeEnum.default: 1>, column_label='Three Point %', column_align='right', column_width=None)]), _stub=<great_tables._gt_data.Stub object at 0x15cbeac90>, _spanners=Spanners([]), _heading=Heading(title=Md(text='**KD: Oldest player in Top 10 scorers**'), subtitle=Md(text='Kevin Durant ranked #5 in points per game among NBA players with at least<br>50 games played. At the age of 35, he was the only player in his 30s. He also had<br>the highest 3-Point % as well.'), preheader=None), _stubhead=None, _source_notes=[], _footnotes=[], _styles=[StyleInfo(locname=LocTitle(), grpname=None, colname=None, rownum=None, colnum=None, styles=[CellStyleText(color=None, font='Georgia', size=None, align=None, v_align=None, style=None, weight=None, stretch=None, decorate=None, transform=None, whitespace=None)]), StyleInfo(locname=LocBody(columns=None, rows=<Expr ['[(col(\"Player\")) == (\"Kevin Du…'] at 0x15CEEB8F0>), grpname=None, colname='Player', rownum=4, colnum=None, styles=[CellStyleText(color='#C9082A', font=None, size=None, align=None, v_align=None, style=None, weight='bold', stretch=None, decorate=None, transform=None, whitespace=None)]), StyleInfo(locname=LocBody(columns=None, rows=<Expr ['[(col(\"Player\")) == (\"Kevin Du…'] at 0x15CEEB8F0>), grpname=None, colname='Age', rownum=4, colnum=None, styles=[CellStyleText(color='#C9082A', font=None, size=None, align=None, v_align=None, style=None, weight='bold', stretch=None, decorate=None, transform=None, whitespace=None)]), StyleInfo(locname=LocBody(columns=None, rows=<Expr ['[(col(\"Player\")) == (\"Kevin Du…'] at 0x15CEEB8F0>), grpname=None, colname='Points Per Game', rownum=4, colnum=None, styles=[CellStyleText(color='#C9082A', font=None, size=None, align=None, v_align=None, style=None, weight='bold', stretch=None, decorate=None, transform=None, whitespace=None)]), StyleInfo(locname=LocBody(columns=None, rows=<Expr ['[(col(\"Player\")) == (\"Kevin Du…'] at 0x15CEEB8F0>), grpname=None, colname='Three Point %', rownum=4, colnum=None, styles=[CellStyleText(color='#C9082A', font=None, size=None, align=None, v_align=None, style=None, weight='bold', stretch=None, decorate=None, transform=None, whitespace=None)]), StyleInfo(locname=LocBody(columns='Three Point %', rows=[0]), grpname=None, colname='Three Point %', rownum=0, colnum=None, styles=[CellStyleText(color='#FFFFFF', font=None, size=None, align=None, v_align=None, style=None, weight=None, stretch=None, decorate=None, transform=None, whitespace=None), CellStyleFill(color='#125ea6')]), StyleInfo(locname=LocBody(columns='Three Point %', rows=[1]), grpname=None, colname='Three Point %', rownum=1, colnum=None, styles=[CellStyleText(color='#000000', font=None, size=None, align=None, v_align=None, style=None, weight=None, stretch=None, decorate=None, transform=None, whitespace=None), CellStyleFill(color='#f7fbff')]), StyleInfo(locname=LocBody(columns='Three Point %', rows=[2]), grpname=None, colname='Three Point %', rownum=2, colnum=None, styles=[CellStyleText(color='#000000', font=None, size=None, align=None, v_align=None, style=None, weight=None, stretch=None, decorate=None, transform=None, whitespace=None), CellStyleFill(color='#4d99ca')]), StyleInfo(locname=LocBody(columns='Three Point %', rows=[3]), grpname=None, colname='Three Point %', rownum=3, colnum=None, styles=[CellStyleText(color='#FFFFFF', font=None, size=None, align=None, v_align=None, style=None, weight=None, stretch=None, decorate=None, transform=None, whitespace=None), CellStyleFill(color='#08478e')]), StyleInfo(locname=LocBody(columns='Three Point %', rows=[4]), grpname=None, colname='Three Point %', rownum=4, colnum=None, styles=[CellStyleText(color='#FFFFFF', font=None, size=None, align=None, v_align=None, style=None, weight=None, stretch=None, decorate=None, transform=None, whitespace=None), CellStyleFill(color='#08306b')]), StyleInfo(locname=LocBody(columns='Three Point %', rows=[5]), grpname=None, colname='Three Point %', rownum=5, colnum=None, styles=[CellStyleText(color='#000000', font=None, size=None, align=None, v_align=None, style=None, weight=None, stretch=None, decorate=None, transform=None, whitespace=None), CellStyleFill(color='#4d99ca')]), StyleInfo(locname=LocBody(columns='Three Point %', rows=[6]), grpname=None, colname='Three Point %', rownum=6, colnum=None, styles=[CellStyleText(color='#FFFFFF', font=None, size=None, align=None, v_align=None, style=None, weight=None, stretch=None, decorate=None, transform=None, whitespace=None), CellStyleFill(color='#2373b6')]), StyleInfo(locname=LocBody(columns='Three Point %', rows=[7]), grpname=None, colname='Three Point %', rownum=7, colnum=None, styles=[CellStyleText(color='#000000', font=None, size=None, align=None, v_align=None, style=None, weight=None, stretch=None, decorate=None, transform=None, whitespace=None), CellStyleFill(color='#3181bd')]), StyleInfo(locname=LocBody(columns='Three Point %', rows=[8]), grpname=None, colname='Three Point %', rownum=8, colnum=None, styles=[CellStyleText(color='#000000', font=None, size=None, align=None, v_align=None, style=None, weight=None, stretch=None, decorate=None, transform=None, whitespace=None), CellStyleFill(color='#3c8cc3')]), StyleInfo(locname=LocBody(columns='Three Point %', rows=[9]), grpname=None, colname='Three Point %', rownum=9, colnum=None, styles=[CellStyleText(color='#FFFFFF', font=None, size=None, align=None, v_align=None, style=None, weight=None, stretch=None, decorate=None, transform=None, whitespace=None), CellStyleFill(color='#2170b5')])], _locale=<great_tables._gt_data.Locale object at 0x15ce459a0>, _formats=[<great_tables._gt_data.FormatInfo object at 0x15ce4b830>], _substitutions=[], _options=Options(table_id=OptionsInfo(scss=False, category='table', type='value', value=None), table_caption=OptionsInfo(scss=False, category='table', type='value', value=None), table_width=OptionsInfo(scss=True, category='table', type='px', value='auto'), table_layout=OptionsInfo(scss=True, category='table', type='value', value='fixed'), table_margin_left=OptionsInfo(scss=True, category='table', type='px', value='auto'), table_margin_right=OptionsInfo(scss=True, category='table', type='px', value='auto'), table_background_color=OptionsInfo(scss=True, category='table', type='value', value='#FFFFFF'), table_additional_css=OptionsInfo(scss=False, category='table', type='values', value=[\"@import url('https://fonts.googleapis.com/css2?family=Helvetica&display=swap');\", \"@import url('https://fonts.googleapis.com/css2?family=Georgia&display=swap');\"]), table_font_names=OptionsInfo(scss=False, category='table', type='values', value=['Helvetica', '-apple-system', 'BlinkMacSystemFont', 'Segoe UI', 'Roboto', 'Oxygen', 'Ubuntu', 'Cantarell', 'Helvetica Neue', 'Fira Sans', 'Droid Sans', 'Arial', 'sans-serif']), table_font_size=OptionsInfo(scss=True, category='table', type='px', value='16px'), table_font_weight=OptionsInfo(scss=True, category='table', type='value', value='normal'), table_font_style=OptionsInfo(scss=True, category='table', type='value', value='normal'), table_font_color=OptionsInfo(scss=True, category='table', type='value', value='black'), table_font_color_light=OptionsInfo(scss=True, category='table', type='value', value='#FFFFFF'), table_border_top_include=OptionsInfo(scss=False, category='table', type='boolean', value=True), table_border_top_style=OptionsInfo(scss=True, category='table', type='value', value='solid'), table_border_top_width=OptionsInfo(scss=True, category='table', type='px', value='2px'), table_border_top_color=OptionsInfo(scss=True, category='table', type='value', value='#A8A8A8'), table_border_right_style=OptionsInfo(scss=True, category='table', type='value', value='none'), table_border_right_width=OptionsInfo(scss=True, category='table', type='px', value='2px'), table_border_right_color=OptionsInfo(scss=True, category='table', type='value', value='#D3D3D3'), table_border_bottom_include=OptionsInfo(scss=False, category='table', type='boolean', value=True), table_border_bottom_style=OptionsInfo(scss=True, category='table', type='value', value='solid'), table_border_bottom_width=OptionsInfo(scss=True, category='table', type='px', value='2px'), table_border_bottom_color=OptionsInfo(scss=True, category='table', type='value', value='#A8A8A8'), table_border_left_style=OptionsInfo(scss=True, category='table', type='value', value='none'), table_border_left_width=OptionsInfo(scss=True, category='table', type='px', value='2px'), table_border_left_color=OptionsInfo(scss=True, category='table', type='value', value='#D3D3D3'), heading_background_color=OptionsInfo(scss=True, category='heading', type='value', value=None), heading_align=OptionsInfo(scss=True, category='heading', type='value', value='left'), heading_title_font_size=OptionsInfo(scss=True, category='heading', type='px', value='24px'), heading_title_font_weight=OptionsInfo(scss=True, category='heading', type='value', value='initial'), heading_subtitle_font_size=OptionsInfo(scss=True, category='heading', type='px', value='16px'), heading_subtitle_font_weight=OptionsInfo(scss=True, category='heading', type='value', value='initial'), heading_padding=OptionsInfo(scss=True, category='heading', type='px', value='4px'), heading_padding_horizontal=OptionsInfo(scss=True, category='heading', type='px', value='5px'), heading_border_bottom_style=OptionsInfo(scss=True, category='heading', type='value', value='solid'), heading_border_bottom_width=OptionsInfo(scss=True, category='heading', type='px', value='2px'), heading_border_bottom_color=OptionsInfo(scss=True, category='heading', type='value', value='#D3D3D3'), heading_border_lr_style=OptionsInfo(scss=True, category='heading', type='value', value='none'), heading_border_lr_width=OptionsInfo(scss=True, category='heading', type='px', value='1px'), heading_border_lr_color=OptionsInfo(scss=True, category='heading', type='value', value='#D3D3D3'), column_labels_background_color=OptionsInfo(scss=True, category='column_labels', type='value', value=None), column_labels_font_size=OptionsInfo(scss=True, category='column_labels', type='px', value='14px'), column_labels_font_weight=OptionsInfo(scss=True, category='column_labels', type='value', value='normal'), column_labels_text_transform=OptionsInfo(scss=True, category='column_labels', type='value', value='inherit'), column_labels_padding=OptionsInfo(scss=True, category='column_labels', type='px', value='5px'), column_labels_padding_horizontal=OptionsInfo(scss=True, category='column_labels', type='px', value='5px'), column_labels_vlines_style=OptionsInfo(scss=True, category='table_body', type='value', value='none'), column_labels_vlines_width=OptionsInfo(scss=True, category='table_body', type='px', value='1px'), column_labels_vlines_color=OptionsInfo(scss=True, category='table_body', type='value', value='#D3D3D3'), column_labels_border_top_style=OptionsInfo(scss=True, category='column_labels', type='value', value='solid'), column_labels_border_top_width=OptionsInfo(scss=True, category='column_labels', type='px', value='2px'), column_labels_border_top_color=OptionsInfo(scss=True, category='column_labels', type='value', value='#D3D3D3'), column_labels_border_bottom_style=OptionsInfo(scss=True, category='column_labels', type='value', value='solid'), column_labels_border_bottom_width=OptionsInfo(scss=True, category='column_labels', type='px', value='2px'), column_labels_border_bottom_color=OptionsInfo(scss=True, category='column_labels', type='value', value='#D3D3D3'), column_labels_border_lr_style=OptionsInfo(scss=True, category='column_labels', type='value', value='none'), column_labels_border_lr_width=OptionsInfo(scss=True, category='column_labels', type='px', value='1px'), column_labels_border_lr_color=OptionsInfo(scss=True, category='column_labels', type='value', value='#D3D3D3'), column_labels_hidden=OptionsInfo(scss=False, category='column_labels', type='boolean', value=False), row_group_background_color=OptionsInfo(scss=True, category='row_group', type='value', value=None), row_group_font_size=OptionsInfo(scss=True, category='row_group', type='px', value='100%'), row_group_font_weight=OptionsInfo(scss=True, category='row_group', type='value', value='initial'), row_group_text_transform=OptionsInfo(scss=True, category='row_group', type='value', value='inherit'), row_group_padding=OptionsInfo(scss=True, category='row_group', type='px', value='8px'), row_group_padding_horizontal=OptionsInfo(scss=True, category='row_group', type='px', value='5px'), row_group_border_top_style=OptionsInfo(scss=True, category='row_group', type='value', value='solid'), row_group_border_top_width=OptionsInfo(scss=True, category='row_group', type='px', value='2px'), row_group_border_top_color=OptionsInfo(scss=True, category='row_group', type='value', value='#D3D3D3'), row_group_border_right_style=OptionsInfo(scss=True, category='row_group', type='value', value='none'), row_group_border_right_width=OptionsInfo(scss=True, category='row_group', type='px', value='1px'), row_group_border_right_color=OptionsInfo(scss=True, category='row_group', type='value', value='#D3D3D3'), row_group_border_bottom_style=OptionsInfo(scss=True, category='row_group', type='value', value='solid'), row_group_border_bottom_width=OptionsInfo(scss=True, category='row_group', type='px', value='2px'), row_group_border_bottom_color=OptionsInfo(scss=True, category='row_group', type='value', value='#D3D3D3'), row_group_border_left_style=OptionsInfo(scss=True, category='row_group', type='value', value='none'), row_group_border_left_width=OptionsInfo(scss=True, category='row_group', type='px', value='1px'), row_group_border_left_color=OptionsInfo(scss=True, category='row_group', type='value', value='#D3D3D3'), row_group_as_column=OptionsInfo(scss=False, category='row_group', type='boolean', value=False), table_body_hlines_style=OptionsInfo(scss=True, category='table_body', type='value', value='solid'), table_body_hlines_width=OptionsInfo(scss=True, category='table_body', type='px', value='1px'), table_body_hlines_color=OptionsInfo(scss=True, category='table_body', type='value', value='#D3D3D3'), table_body_vlines_style=OptionsInfo(scss=True, category='table_body', type='value', value='none'), table_body_vlines_width=OptionsInfo(scss=True, category='table_body', type='px', value='1px'), table_body_vlines_color=OptionsInfo(scss=True, category='table_body', type='value', value='#D3D3D3'), table_body_border_top_style=OptionsInfo(scss=True, category='table_body', type='value', value='solid'), table_body_border_top_width=OptionsInfo(scss=True, category='table_body', type='px', value='2px'), table_body_border_top_color=OptionsInfo(scss=True, category='table_body', type='value', value='#D3D3D3'), table_body_border_bottom_style=OptionsInfo(scss=True, category='table_body', type='value', value='solid'), table_body_border_bottom_width=OptionsInfo(scss=True, category='table_body', type='px', value='2px'), table_body_border_bottom_color=OptionsInfo(scss=True, category='table_body', type='value', value='#D3D3D3'), data_row_padding=OptionsInfo(scss=True, category='data_row', type='px', value=0.75), data_row_padding_horizontal=OptionsInfo(scss=True, category='data_row', type='px', value='5px'), stub_background_color=OptionsInfo(scss=True, category='stub', type='value', value=None), stub_font_size=OptionsInfo(scss=True, category='stub', type='px', value='100%'), stub_font_weight=OptionsInfo(scss=True, category='stub', type='value', value='initial'), stub_text_transform=OptionsInfo(scss=True, category='stub', type='value', value='inherit'), stub_border_style=OptionsInfo(scss=True, category='stub', type='value', value='solid'), stub_border_width=OptionsInfo(scss=True, category='stub', type='px', value='2px'), stub_border_color=OptionsInfo(scss=True, category='stub', type='value', value='#D3D3D3'), stub_row_group_background_color=OptionsInfo(scss=True, category='stub', type='value', value=None), stub_row_group_font_size=OptionsInfo(scss=True, category='stub', type='px', value='100%'), stub_row_group_font_weight=OptionsInfo(scss=True, category='stub', type='value', value='initial'), stub_row_group_text_transform=OptionsInfo(scss=True, category='stub', type='value', value='inherit'), stub_row_group_border_style=OptionsInfo(scss=True, category='stub', type='value', value='solid'), stub_row_group_border_width=OptionsInfo(scss=True, category='stub', type='px', value='2px'), stub_row_group_border_color=OptionsInfo(scss=True, category='stub', type='value', value='#D3D3D3'), source_notes_padding=OptionsInfo(scss=True, category='source_notes', type='px', value='4px'), source_notes_padding_horizontal=OptionsInfo(scss=True, category='source_notes', type='px', value='5px'), source_notes_background_color=OptionsInfo(scss=True, category='source_notes', type='value', value=None), source_notes_font_size=OptionsInfo(scss=True, category='source_notes', type='px', value='90%'), source_notes_border_bottom_style=OptionsInfo(scss=True, category='source_notes', type='value', value='none'), source_notes_border_bottom_width=OptionsInfo(scss=True, category='source_notes', type='px', value='2px'), source_notes_border_bottom_color=OptionsInfo(scss=True, category='source_notes', type='value', value='#D3D3D3'), source_notes_border_lr_style=OptionsInfo(scss=True, category='source_notes', type='value', value='none'), source_notes_border_lr_width=OptionsInfo(scss=True, category='source_notes', type='px', value='2px'), source_notes_border_lr_color=OptionsInfo(scss=True, category='source_notes', type='value', value='#D3D3D3'), source_notes_multiline=OptionsInfo(scss=False, category='source_notes', type='boolean', value=True), source_notes_sep=OptionsInfo(scss=False, category='source_notes', type='value', value=' '), row_striping_background_color=OptionsInfo(scss=True, category='row', type='value', value='rgba(128,128,128,0.05)'), row_striping_include_stub=OptionsInfo(scss=False, category='row', type='boolean', value=False), row_striping_include_table_body=OptionsInfo(scss=False, category='row', type='boolean', value=False), container_width=OptionsInfo(scss=False, category='container', type='px', value='auto'), container_height=OptionsInfo(scss=False, category='container', type='px', value='auto'), container_padding_x=OptionsInfo(scss=False, category='container', type='px', value='0px'), container_padding_y=OptionsInfo(scss=False, category='container', type='px', value='10px'), container_overflow_x=OptionsInfo(scss=False, category='container', type='overflow', value='auto'), container_overflow_y=OptionsInfo(scss=False, category='container', type='overflow', value='auto'), quarto_disable_processing=OptionsInfo(scss=False, category='quarto', type='logical', value=False), quarto_use_bootstrap=OptionsInfo(scss=False, category='quarto', type='logical', value=False)), _has_built=False)"
      ]
     },
     "metadata": {},
     "output_type": "display_data"
    }
   ],
   "source": [
    "fig = (\n",
    "    GT(pl.DataFrame(df_top_10_points[[\"Player\", \"Age\", \"Points Per Game\", \"Three Point %\"]]))\n",
    "    .tab_header(\n",
    "        title = md(\n",
    "            \"**KD: Oldest player in Top 10 scorers**\"\n",
    "        ),\n",
    "        subtitle = md(\n",
    "            'Kevin Durant ranked #5 in points per game among NBA players with at least<br>50 games played. At the age of 35, he was the only player in his 30s. He also had<br>the highest 3-Point % as well.'\n",
    "        )\n",
    "    )\n",
    "    .opt_align_table_header('left')\n",
    "    .opt_table_font(google_font(OTHER_FONT))\n",
    "    .tab_style(\n",
    "        style = style.text(font=google_font(TITLE_FONT)),\n",
    "        locations=loc.title()\n",
    "    )\n",
    "    .tab_style(\n",
    "        style = style.text(color=COLOR_PALETTE['Red'], weight = 'bold'),\n",
    "        locations=loc.body(\n",
    "            rows=pl.col(\"Player\") == \"Kevin Durant\"\n",
    "        )\n",
    "    )\n",
    "    .tab_options(\n",
    "        heading_title_font_size=f'{TITLE_FONT_SIZE}px', \n",
    "        heading_subtitle_font_size='16px', \n",
    "        column_labels_font_size='14px', \n",
    "        table_font_size='16px',\n",
    "        table_font_color=\"black\",\n",
    "        data_row_padding=0.75\n",
    "    )\n",
    "    .data_color(\n",
    "        columns = 'Three Point %',\n",
    "        palette = 'Blues',\n",
    "        # domain=[0, 2800000]\n",
    "    )\n",
    "    .fmt_percent(\n",
    "        columns='Three Point %',\n",
    "        decimals=1,\n",
    "        scale_values=False\n",
    "    )\n",
    ")\n",
    "\n",
    "display(fig)"
   ]
  },
  {
   "cell_type": "code",
   "execution_count": 71,
   "id": "636bab2d",
   "metadata": {},
   "outputs": [
    {
     "data": {
      "text/html": [
       "<div>\n",
       "<style scoped>\n",
       "    .dataframe tbody tr th:only-of-type {\n",
       "        vertical-align: middle;\n",
       "    }\n",
       "\n",
       "    .dataframe tbody tr th {\n",
       "        vertical-align: top;\n",
       "    }\n",
       "\n",
       "    .dataframe thead th {\n",
       "        text-align: right;\n",
       "    }\n",
       "</style>\n",
       "<table border=\"1\" class=\"dataframe\">\n",
       "  <thead>\n",
       "    <tr style=\"text-align: right;\">\n",
       "      <th></th>\n",
       "      <th>Player</th>\n",
       "      <th>Age</th>\n",
       "      <th>total_points</th>\n",
       "      <th>G</th>\n",
       "      <th>Pos</th>\n",
       "      <th>total_field_goals_made</th>\n",
       "      <th>total_field_goals_att</th>\n",
       "      <th>total_three_pointers_made</th>\n",
       "      <th>total_three_pointers_att</th>\n",
       "      <th>points_per_game</th>\n",
       "      <th>field_goal_pct</th>\n",
       "      <th>three_point_pct</th>\n",
       "    </tr>\n",
       "  </thead>\n",
       "  <tbody>\n",
       "    <tr>\n",
       "      <th>10</th>\n",
       "      <td>Al Horford</td>\n",
       "      <td>37</td>\n",
       "      <td>559.0</td>\n",
       "      <td>65</td>\n",
       "      <td>C</td>\n",
       "      <td>214.5</td>\n",
       "      <td>416.0</td>\n",
       "      <td>110.5</td>\n",
       "      <td>260.0</td>\n",
       "      <td>8.600000</td>\n",
       "      <td>51.562500</td>\n",
       "      <td>0.425000</td>\n",
       "    </tr>\n",
       "    <tr>\n",
       "      <th>58</th>\n",
       "      <td>Brook Lopez</td>\n",
       "      <td>35</td>\n",
       "      <td>987.5</td>\n",
       "      <td>79</td>\n",
       "      <td>C</td>\n",
       "      <td>363.4</td>\n",
       "      <td>758.4</td>\n",
       "      <td>150.1</td>\n",
       "      <td>402.9</td>\n",
       "      <td>12.500000</td>\n",
       "      <td>47.916667</td>\n",
       "      <td>0.372549</td>\n",
       "    </tr>\n",
       "    <tr>\n",
       "      <th>83</th>\n",
       "      <td>Chris Paul</td>\n",
       "      <td>38</td>\n",
       "      <td>533.6</td>\n",
       "      <td>58</td>\n",
       "      <td>PG</td>\n",
       "      <td>208.8</td>\n",
       "      <td>469.8</td>\n",
       "      <td>75.4</td>\n",
       "      <td>208.8</td>\n",
       "      <td>9.200000</td>\n",
       "      <td>44.444444</td>\n",
       "      <td>0.361111</td>\n",
       "    </tr>\n",
       "    <tr>\n",
       "      <th>167</th>\n",
       "      <td>Eric Gordon</td>\n",
       "      <td>35</td>\n",
       "      <td>748.0</td>\n",
       "      <td>68</td>\n",
       "      <td>SG</td>\n",
       "      <td>272.0</td>\n",
       "      <td>618.8</td>\n",
       "      <td>149.6</td>\n",
       "      <td>394.4</td>\n",
       "      <td>11.000000</td>\n",
       "      <td>43.956044</td>\n",
       "      <td>0.379310</td>\n",
       "    </tr>\n",
       "    <tr>\n",
       "      <th>271</th>\n",
       "      <td>Jeff Green</td>\n",
       "      <td>37</td>\n",
       "      <td>507.0</td>\n",
       "      <td>78</td>\n",
       "      <td>PF</td>\n",
       "      <td>163.8</td>\n",
       "      <td>366.6</td>\n",
       "      <td>54.6</td>\n",
       "      <td>163.8</td>\n",
       "      <td>6.500000</td>\n",
       "      <td>44.680851</td>\n",
       "      <td>0.333333</td>\n",
       "    </tr>\n",
       "    <tr>\n",
       "      <th>283</th>\n",
       "      <td>Joe Ingles</td>\n",
       "      <td>36</td>\n",
       "      <td>299.2</td>\n",
       "      <td>68</td>\n",
       "      <td>SF</td>\n",
       "      <td>102.0</td>\n",
       "      <td>224.4</td>\n",
       "      <td>68.0</td>\n",
       "      <td>163.2</td>\n",
       "      <td>4.400000</td>\n",
       "      <td>45.454545</td>\n",
       "      <td>0.416667</td>\n",
       "    </tr>\n",
       "    <tr>\n",
       "      <th>338</th>\n",
       "      <td>Kevin Durant</td>\n",
       "      <td>35</td>\n",
       "      <td>2032.5</td>\n",
       "      <td>75</td>\n",
       "      <td>PF</td>\n",
       "      <td>750.0</td>\n",
       "      <td>1432.5</td>\n",
       "      <td>165.0</td>\n",
       "      <td>405.0</td>\n",
       "      <td>27.100000</td>\n",
       "      <td>52.356021</td>\n",
       "      <td>0.407407</td>\n",
       "    </tr>\n",
       "    <tr>\n",
       "      <th>341</th>\n",
       "      <td>Kevin Love</td>\n",
       "      <td>35</td>\n",
       "      <td>484.0</td>\n",
       "      <td>55</td>\n",
       "      <td>PF</td>\n",
       "      <td>159.5</td>\n",
       "      <td>357.5</td>\n",
       "      <td>82.5</td>\n",
       "      <td>242.0</td>\n",
       "      <td>8.800000</td>\n",
       "      <td>44.615385</td>\n",
       "      <td>0.340909</td>\n",
       "    </tr>\n",
       "    <tr>\n",
       "      <th>358</th>\n",
       "      <td>Kyle Lowry</td>\n",
       "      <td>37</td>\n",
       "      <td>487.4</td>\n",
       "      <td>60</td>\n",
       "      <td>PG</td>\n",
       "      <td>163.4</td>\n",
       "      <td>376.2</td>\n",
       "      <td>99.7</td>\n",
       "      <td>252.5</td>\n",
       "      <td>8.123333</td>\n",
       "      <td>43.434343</td>\n",
       "      <td>0.394851</td>\n",
       "    </tr>\n",
       "    <tr>\n",
       "      <th>365</th>\n",
       "      <td>LeBron James</td>\n",
       "      <td>39</td>\n",
       "      <td>1824.7</td>\n",
       "      <td>71</td>\n",
       "      <td>PF</td>\n",
       "      <td>681.6</td>\n",
       "      <td>1270.9</td>\n",
       "      <td>149.1</td>\n",
       "      <td>362.1</td>\n",
       "      <td>25.700000</td>\n",
       "      <td>53.631285</td>\n",
       "      <td>0.411765</td>\n",
       "    </tr>\n",
       "    <tr>\n",
       "      <th>408</th>\n",
       "      <td>Mike Conley</td>\n",
       "      <td>36</td>\n",
       "      <td>866.4</td>\n",
       "      <td>76</td>\n",
       "      <td>PG</td>\n",
       "      <td>296.4</td>\n",
       "      <td>646.0</td>\n",
       "      <td>182.4</td>\n",
       "      <td>402.8</td>\n",
       "      <td>11.400000</td>\n",
       "      <td>45.882353</td>\n",
       "      <td>0.452830</td>\n",
       "    </tr>\n",
       "    <tr>\n",
       "      <th>433</th>\n",
       "      <td>Nicolas Batum</td>\n",
       "      <td>35</td>\n",
       "      <td>321.6</td>\n",
       "      <td>60</td>\n",
       "      <td>PF</td>\n",
       "      <td>117.0</td>\n",
       "      <td>258.9</td>\n",
       "      <td>70.5</td>\n",
       "      <td>183.6</td>\n",
       "      <td>5.360000</td>\n",
       "      <td>45.191194</td>\n",
       "      <td>0.383987</td>\n",
       "    </tr>\n",
       "    <tr>\n",
       "      <th>459</th>\n",
       "      <td>Patrick Beverley</td>\n",
       "      <td>35</td>\n",
       "      <td>452.1</td>\n",
       "      <td>73</td>\n",
       "      <td>PG</td>\n",
       "      <td>158.0</td>\n",
       "      <td>377.5</td>\n",
       "      <td>58.9</td>\n",
       "      <td>180.9</td>\n",
       "      <td>6.193151</td>\n",
       "      <td>41.854305</td>\n",
       "      <td>0.325594</td>\n",
       "    </tr>\n",
       "    <tr>\n",
       "      <th>485</th>\n",
       "      <td>Russell Westbrook</td>\n",
       "      <td>35</td>\n",
       "      <td>754.8</td>\n",
       "      <td>68</td>\n",
       "      <td>PG</td>\n",
       "      <td>299.2</td>\n",
       "      <td>666.4</td>\n",
       "      <td>40.8</td>\n",
       "      <td>156.4</td>\n",
       "      <td>11.100000</td>\n",
       "      <td>44.897959</td>\n",
       "      <td>0.260870</td>\n",
       "    </tr>\n",
       "    <tr>\n",
       "      <th>509</th>\n",
       "      <td>Stephen Curry</td>\n",
       "      <td>35</td>\n",
       "      <td>1953.6</td>\n",
       "      <td>74</td>\n",
       "      <td>PG</td>\n",
       "      <td>651.2</td>\n",
       "      <td>1443.0</td>\n",
       "      <td>355.2</td>\n",
       "      <td>873.2</td>\n",
       "      <td>26.400000</td>\n",
       "      <td>45.128205</td>\n",
       "      <td>0.406780</td>\n",
       "    </tr>\n",
       "  </tbody>\n",
       "</table>\n",
       "</div>"
      ],
      "text/plain": [
       "                Player  Age  total_points   G Pos  total_field_goals_made  \\\n",
       "10          Al Horford   37         559.0  65   C                   214.5   \n",
       "58         Brook Lopez   35         987.5  79   C                   363.4   \n",
       "83          Chris Paul   38         533.6  58  PG                   208.8   \n",
       "167        Eric Gordon   35         748.0  68  SG                   272.0   \n",
       "271         Jeff Green   37         507.0  78  PF                   163.8   \n",
       "283         Joe Ingles   36         299.2  68  SF                   102.0   \n",
       "338       Kevin Durant   35        2032.5  75  PF                   750.0   \n",
       "341         Kevin Love   35         484.0  55  PF                   159.5   \n",
       "358         Kyle Lowry   37         487.4  60  PG                   163.4   \n",
       "365       LeBron James   39        1824.7  71  PF                   681.6   \n",
       "408        Mike Conley   36         866.4  76  PG                   296.4   \n",
       "433      Nicolas Batum   35         321.6  60  PF                   117.0   \n",
       "459   Patrick Beverley   35         452.1  73  PG                   158.0   \n",
       "485  Russell Westbrook   35         754.8  68  PG                   299.2   \n",
       "509      Stephen Curry   35        1953.6  74  PG                   651.2   \n",
       "\n",
       "     total_field_goals_att  total_three_pointers_made  \\\n",
       "10                   416.0                      110.5   \n",
       "58                   758.4                      150.1   \n",
       "83                   469.8                       75.4   \n",
       "167                  618.8                      149.6   \n",
       "271                  366.6                       54.6   \n",
       "283                  224.4                       68.0   \n",
       "338                 1432.5                      165.0   \n",
       "341                  357.5                       82.5   \n",
       "358                  376.2                       99.7   \n",
       "365                 1270.9                      149.1   \n",
       "408                  646.0                      182.4   \n",
       "433                  258.9                       70.5   \n",
       "459                  377.5                       58.9   \n",
       "485                  666.4                       40.8   \n",
       "509                 1443.0                      355.2   \n",
       "\n",
       "     total_three_pointers_att  points_per_game  field_goal_pct  \\\n",
       "10                      260.0         8.600000       51.562500   \n",
       "58                      402.9        12.500000       47.916667   \n",
       "83                      208.8         9.200000       44.444444   \n",
       "167                     394.4        11.000000       43.956044   \n",
       "271                     163.8         6.500000       44.680851   \n",
       "283                     163.2         4.400000       45.454545   \n",
       "338                     405.0        27.100000       52.356021   \n",
       "341                     242.0         8.800000       44.615385   \n",
       "358                     252.5         8.123333       43.434343   \n",
       "365                     362.1        25.700000       53.631285   \n",
       "408                     402.8        11.400000       45.882353   \n",
       "433                     183.6         5.360000       45.191194   \n",
       "459                     180.9         6.193151       41.854305   \n",
       "485                     156.4        11.100000       44.897959   \n",
       "509                     873.2        26.400000       45.128205   \n",
       "\n",
       "     three_point_pct  \n",
       "10          0.425000  \n",
       "58          0.372549  \n",
       "83          0.361111  \n",
       "167         0.379310  \n",
       "271         0.333333  \n",
       "283         0.416667  \n",
       "338         0.407407  \n",
       "341         0.340909  \n",
       "358         0.394851  \n",
       "365         0.411765  \n",
       "408         0.452830  \n",
       "433         0.383987  \n",
       "459         0.325594  \n",
       "485         0.260870  \n",
       "509         0.406780  "
      ]
     },
     "execution_count": 71,
     "metadata": {},
     "output_type": "execute_result"
    }
   ],
   "source": [
    "df_35plus = df_filtered[df_filtered['Age'] >= 35]\n",
    "df_35plus"
   ]
  },
  {
   "cell_type": "code",
   "execution_count": 95,
   "id": "dccbc677",
   "metadata": {},
   "outputs": [
    {
     "data": {
      "application/vnd.plotly.v1+json": {
       "config": {
        "plotlyServerURL": "https://plot.ly"
       },
       "data": [
        {
         "alignmentgroup": "True",
         "boxpoints": "outliers",
         "hovertemplate": "total_points=%{x}<extra></extra>",
         "legendgroup": "",
         "marker": {
          "color": "#C9082A"
         },
         "name": "",
         "notched": false,
         "offsetgroup": "",
         "orientation": "h",
         "showlegend": false,
         "type": "box",
         "x": {
          "bdata": "AAAAAAB4gUAAAAAAANyOQMzMzMzMrIBAAAAAAABgh0AAAAAAALB/QDQzMzMzs3JAAAAAAADCn0ABAAAAAEB+QGZmZmZmdn5AzczMzMyCnEAzMzMzMxOLQJqZmZmZGXRAmZmZmZlBfEBmZmZmZpaHQGZmZmZmhp5A",
          "dtype": "f8"
         },
         "x0": " ",
         "xaxis": "x",
         "y0": " ",
         "yaxis": "y"
        }
       ],
       "layout": {
        "boxmode": "group",
        "font": {
         "color": "black",
         "family": "Helvetica"
        },
        "height": 400,
        "legend": {
         "tracegroupgap": 0
        },
        "showlegend": false,
        "template": {
         "data": {
          "bar": [
           {
            "error_x": {
             "color": "#2a3f5f"
            },
            "error_y": {
             "color": "#2a3f5f"
            },
            "marker": {
             "line": {
              "color": "white",
              "width": 0.5
             },
             "pattern": {
              "fillmode": "overlay",
              "size": 10,
              "solidity": 0.2
             }
            },
            "type": "bar"
           }
          ],
          "barpolar": [
           {
            "marker": {
             "line": {
              "color": "white",
              "width": 0.5
             },
             "pattern": {
              "fillmode": "overlay",
              "size": 10,
              "solidity": 0.2
             }
            },
            "type": "barpolar"
           }
          ],
          "carpet": [
           {
            "aaxis": {
             "endlinecolor": "#2a3f5f",
             "gridcolor": "#C8D4E3",
             "linecolor": "#C8D4E3",
             "minorgridcolor": "#C8D4E3",
             "startlinecolor": "#2a3f5f"
            },
            "baxis": {
             "endlinecolor": "#2a3f5f",
             "gridcolor": "#C8D4E3",
             "linecolor": "#C8D4E3",
             "minorgridcolor": "#C8D4E3",
             "startlinecolor": "#2a3f5f"
            },
            "type": "carpet"
           }
          ],
          "choropleth": [
           {
            "colorbar": {
             "outlinewidth": 0,
             "ticks": ""
            },
            "type": "choropleth"
           }
          ],
          "contour": [
           {
            "colorbar": {
             "outlinewidth": 0,
             "ticks": ""
            },
            "colorscale": [
             [
              0,
              "#0d0887"
             ],
             [
              0.1111111111111111,
              "#46039f"
             ],
             [
              0.2222222222222222,
              "#7201a8"
             ],
             [
              0.3333333333333333,
              "#9c179e"
             ],
             [
              0.4444444444444444,
              "#bd3786"
             ],
             [
              0.5555555555555556,
              "#d8576b"
             ],
             [
              0.6666666666666666,
              "#ed7953"
             ],
             [
              0.7777777777777778,
              "#fb9f3a"
             ],
             [
              0.8888888888888888,
              "#fdca26"
             ],
             [
              1,
              "#f0f921"
             ]
            ],
            "type": "contour"
           }
          ],
          "contourcarpet": [
           {
            "colorbar": {
             "outlinewidth": 0,
             "ticks": ""
            },
            "type": "contourcarpet"
           }
          ],
          "heatmap": [
           {
            "colorbar": {
             "outlinewidth": 0,
             "ticks": ""
            },
            "colorscale": [
             [
              0,
              "#0d0887"
             ],
             [
              0.1111111111111111,
              "#46039f"
             ],
             [
              0.2222222222222222,
              "#7201a8"
             ],
             [
              0.3333333333333333,
              "#9c179e"
             ],
             [
              0.4444444444444444,
              "#bd3786"
             ],
             [
              0.5555555555555556,
              "#d8576b"
             ],
             [
              0.6666666666666666,
              "#ed7953"
             ],
             [
              0.7777777777777778,
              "#fb9f3a"
             ],
             [
              0.8888888888888888,
              "#fdca26"
             ],
             [
              1,
              "#f0f921"
             ]
            ],
            "type": "heatmap"
           }
          ],
          "histogram": [
           {
            "marker": {
             "pattern": {
              "fillmode": "overlay",
              "size": 10,
              "solidity": 0.2
             }
            },
            "type": "histogram"
           }
          ],
          "histogram2d": [
           {
            "colorbar": {
             "outlinewidth": 0,
             "ticks": ""
            },
            "colorscale": [
             [
              0,
              "#0d0887"
             ],
             [
              0.1111111111111111,
              "#46039f"
             ],
             [
              0.2222222222222222,
              "#7201a8"
             ],
             [
              0.3333333333333333,
              "#9c179e"
             ],
             [
              0.4444444444444444,
              "#bd3786"
             ],
             [
              0.5555555555555556,
              "#d8576b"
             ],
             [
              0.6666666666666666,
              "#ed7953"
             ],
             [
              0.7777777777777778,
              "#fb9f3a"
             ],
             [
              0.8888888888888888,
              "#fdca26"
             ],
             [
              1,
              "#f0f921"
             ]
            ],
            "type": "histogram2d"
           }
          ],
          "histogram2dcontour": [
           {
            "colorbar": {
             "outlinewidth": 0,
             "ticks": ""
            },
            "colorscale": [
             [
              0,
              "#0d0887"
             ],
             [
              0.1111111111111111,
              "#46039f"
             ],
             [
              0.2222222222222222,
              "#7201a8"
             ],
             [
              0.3333333333333333,
              "#9c179e"
             ],
             [
              0.4444444444444444,
              "#bd3786"
             ],
             [
              0.5555555555555556,
              "#d8576b"
             ],
             [
              0.6666666666666666,
              "#ed7953"
             ],
             [
              0.7777777777777778,
              "#fb9f3a"
             ],
             [
              0.8888888888888888,
              "#fdca26"
             ],
             [
              1,
              "#f0f921"
             ]
            ],
            "type": "histogram2dcontour"
           }
          ],
          "mesh3d": [
           {
            "colorbar": {
             "outlinewidth": 0,
             "ticks": ""
            },
            "type": "mesh3d"
           }
          ],
          "parcoords": [
           {
            "line": {
             "colorbar": {
              "outlinewidth": 0,
              "ticks": ""
             }
            },
            "type": "parcoords"
           }
          ],
          "pie": [
           {
            "automargin": true,
            "type": "pie"
           }
          ],
          "scatter": [
           {
            "fillpattern": {
             "fillmode": "overlay",
             "size": 10,
             "solidity": 0.2
            },
            "type": "scatter"
           }
          ],
          "scatter3d": [
           {
            "line": {
             "colorbar": {
              "outlinewidth": 0,
              "ticks": ""
             }
            },
            "marker": {
             "colorbar": {
              "outlinewidth": 0,
              "ticks": ""
             }
            },
            "type": "scatter3d"
           }
          ],
          "scattercarpet": [
           {
            "marker": {
             "colorbar": {
              "outlinewidth": 0,
              "ticks": ""
             }
            },
            "type": "scattercarpet"
           }
          ],
          "scattergeo": [
           {
            "marker": {
             "colorbar": {
              "outlinewidth": 0,
              "ticks": ""
             }
            },
            "type": "scattergeo"
           }
          ],
          "scattergl": [
           {
            "marker": {
             "colorbar": {
              "outlinewidth": 0,
              "ticks": ""
             }
            },
            "type": "scattergl"
           }
          ],
          "scattermap": [
           {
            "marker": {
             "colorbar": {
              "outlinewidth": 0,
              "ticks": ""
             }
            },
            "type": "scattermap"
           }
          ],
          "scattermapbox": [
           {
            "marker": {
             "colorbar": {
              "outlinewidth": 0,
              "ticks": ""
             }
            },
            "type": "scattermapbox"
           }
          ],
          "scatterpolar": [
           {
            "marker": {
             "colorbar": {
              "outlinewidth": 0,
              "ticks": ""
             }
            },
            "type": "scatterpolar"
           }
          ],
          "scatterpolargl": [
           {
            "marker": {
             "colorbar": {
              "outlinewidth": 0,
              "ticks": ""
             }
            },
            "type": "scatterpolargl"
           }
          ],
          "scatterternary": [
           {
            "marker": {
             "colorbar": {
              "outlinewidth": 0,
              "ticks": ""
             }
            },
            "type": "scatterternary"
           }
          ],
          "surface": [
           {
            "colorbar": {
             "outlinewidth": 0,
             "ticks": ""
            },
            "colorscale": [
             [
              0,
              "#0d0887"
             ],
             [
              0.1111111111111111,
              "#46039f"
             ],
             [
              0.2222222222222222,
              "#7201a8"
             ],
             [
              0.3333333333333333,
              "#9c179e"
             ],
             [
              0.4444444444444444,
              "#bd3786"
             ],
             [
              0.5555555555555556,
              "#d8576b"
             ],
             [
              0.6666666666666666,
              "#ed7953"
             ],
             [
              0.7777777777777778,
              "#fb9f3a"
             ],
             [
              0.8888888888888888,
              "#fdca26"
             ],
             [
              1,
              "#f0f921"
             ]
            ],
            "type": "surface"
           }
          ],
          "table": [
           {
            "cells": {
             "fill": {
              "color": "#EBF0F8"
             },
             "line": {
              "color": "white"
             }
            },
            "header": {
             "fill": {
              "color": "#C8D4E3"
             },
             "line": {
              "color": "white"
             }
            },
            "type": "table"
           }
          ]
         },
         "layout": {
          "annotationdefaults": {
           "arrowcolor": "#2a3f5f",
           "arrowhead": 0,
           "arrowwidth": 1
          },
          "autotypenumbers": "strict",
          "coloraxis": {
           "colorbar": {
            "outlinewidth": 0,
            "ticks": ""
           }
          },
          "colorscale": {
           "diverging": [
            [
             0,
             "#8e0152"
            ],
            [
             0.1,
             "#c51b7d"
            ],
            [
             0.2,
             "#de77ae"
            ],
            [
             0.3,
             "#f1b6da"
            ],
            [
             0.4,
             "#fde0ef"
            ],
            [
             0.5,
             "#f7f7f7"
            ],
            [
             0.6,
             "#e6f5d0"
            ],
            [
             0.7,
             "#b8e186"
            ],
            [
             0.8,
             "#7fbc41"
            ],
            [
             0.9,
             "#4d9221"
            ],
            [
             1,
             "#276419"
            ]
           ],
           "sequential": [
            [
             0,
             "#0d0887"
            ],
            [
             0.1111111111111111,
             "#46039f"
            ],
            [
             0.2222222222222222,
             "#7201a8"
            ],
            [
             0.3333333333333333,
             "#9c179e"
            ],
            [
             0.4444444444444444,
             "#bd3786"
            ],
            [
             0.5555555555555556,
             "#d8576b"
            ],
            [
             0.6666666666666666,
             "#ed7953"
            ],
            [
             0.7777777777777778,
             "#fb9f3a"
            ],
            [
             0.8888888888888888,
             "#fdca26"
            ],
            [
             1,
             "#f0f921"
            ]
           ],
           "sequentialminus": [
            [
             0,
             "#0d0887"
            ],
            [
             0.1111111111111111,
             "#46039f"
            ],
            [
             0.2222222222222222,
             "#7201a8"
            ],
            [
             0.3333333333333333,
             "#9c179e"
            ],
            [
             0.4444444444444444,
             "#bd3786"
            ],
            [
             0.5555555555555556,
             "#d8576b"
            ],
            [
             0.6666666666666666,
             "#ed7953"
            ],
            [
             0.7777777777777778,
             "#fb9f3a"
            ],
            [
             0.8888888888888888,
             "#fdca26"
            ],
            [
             1,
             "#f0f921"
            ]
           ]
          },
          "colorway": [
           "#636efa",
           "#EF553B",
           "#00cc96",
           "#ab63fa",
           "#FFA15A",
           "#19d3f3",
           "#FF6692",
           "#B6E880",
           "#FF97FF",
           "#FECB52"
          ],
          "font": {
           "color": "#2a3f5f"
          },
          "geo": {
           "bgcolor": "white",
           "lakecolor": "white",
           "landcolor": "white",
           "showlakes": true,
           "showland": true,
           "subunitcolor": "#C8D4E3"
          },
          "hoverlabel": {
           "align": "left"
          },
          "hovermode": "closest",
          "mapbox": {
           "style": "light"
          },
          "paper_bgcolor": "white",
          "plot_bgcolor": "white",
          "polar": {
           "angularaxis": {
            "gridcolor": "#EBF0F8",
            "linecolor": "#EBF0F8",
            "ticks": ""
           },
           "bgcolor": "white",
           "radialaxis": {
            "gridcolor": "#EBF0F8",
            "linecolor": "#EBF0F8",
            "ticks": ""
           }
          },
          "scene": {
           "xaxis": {
            "backgroundcolor": "white",
            "gridcolor": "#DFE8F3",
            "gridwidth": 2,
            "linecolor": "#EBF0F8",
            "showbackground": true,
            "ticks": "",
            "zerolinecolor": "#EBF0F8"
           },
           "yaxis": {
            "backgroundcolor": "white",
            "gridcolor": "#DFE8F3",
            "gridwidth": 2,
            "linecolor": "#EBF0F8",
            "showbackground": true,
            "ticks": "",
            "zerolinecolor": "#EBF0F8"
           },
           "zaxis": {
            "backgroundcolor": "white",
            "gridcolor": "#DFE8F3",
            "gridwidth": 2,
            "linecolor": "#EBF0F8",
            "showbackground": true,
            "ticks": "",
            "zerolinecolor": "#EBF0F8"
           }
          },
          "shapedefaults": {
           "line": {
            "color": "#2a3f5f"
           }
          },
          "ternary": {
           "aaxis": {
            "gridcolor": "#DFE8F3",
            "linecolor": "#A2B1C6",
            "ticks": ""
           },
           "baxis": {
            "gridcolor": "#DFE8F3",
            "linecolor": "#A2B1C6",
            "ticks": ""
           },
           "bgcolor": "white",
           "caxis": {
            "gridcolor": "#DFE8F3",
            "linecolor": "#A2B1C6",
            "ticks": ""
           }
          },
          "title": {
           "x": 0.05
          },
          "xaxis": {
           "automargin": true,
           "gridcolor": "#EBF0F8",
           "linecolor": "#EBF0F8",
           "ticks": "",
           "title": {
            "standoff": 15
           },
           "zerolinecolor": "#EBF0F8",
           "zerolinewidth": 2
          },
          "yaxis": {
           "automargin": true,
           "gridcolor": "#EBF0F8",
           "linecolor": "#EBF0F8",
           "ticks": "",
           "title": {
            "standoff": 15
           },
           "zerolinecolor": "#EBF0F8",
           "zerolinewidth": 2
          }
         }
        },
        "title": {
         "font": {
          "family": "Georgia",
          "size": 24
         },
         "subtitle": {
          "text": "Among all players 35 years of age or older, Kevin Durant scored the most points and is considered an outlier. 50%<br> of these older players scored between 485 and 988 points, while KD scored 2,303. The remaining two outliers are<br>Stephen Curry and LeBron James, respectively."
         },
         "text": "<b>KD: Most points among players 35+ at over 2.3K</b>"
        },
        "width": 1100,
        "xaxis": {
         "anchor": "y",
         "domain": [
          0,
          1
         ],
         "title": {
          "text": "total_points"
         }
        },
        "yaxis": {
         "anchor": "x",
         "domain": [
          0,
          1
         ]
        }
       }
      }
     },
     "metadata": {},
     "output_type": "display_data"
    }
   ],
   "source": [
    "import plotly.express as px\n",
    "\n",
    "fig = px.box(\n",
    "    df_35plus,\n",
    "    x=\"total_points\",\n",
    "    points=\"outliers\",  # Show individual outliers\n",
    "    title=\"<b>KD: Most points among players 35+ at over 2.3K</b>\",\n",
    "    subtitle=\"Among all players 35 years of age or older, Kevin Durant scored the most points and is considered an outlier. 50%<br> of these older players scored between 485 and 988 points, while KD scored 2,303. The remaining two outliers are<br>Stephen Curry and LeBron James, respectively.\",\n",
    "    template=\"plotly_white\",\n",
    "    height=400,\n",
    "    width=1100,\n",
    "    color_discrete_sequence=[COLOR_PALETTE[\"Red\"]]\n",
    ")\n",
    "\n",
    "fig.update_layout(\n",
    "    font_color=\"black\",\n",
    "    title_font_family=TITLE_FONT,\n",
    "    title_font_size=TITLE_FONT_SIZE,\n",
    "    font_family=OTHER_FONT,\n",
    "    showlegend=False\n",
    ")\n",
    "\n",
    "display(fig)"
   ]
  },
  {
   "cell_type": "code",
   "execution_count": 118,
   "id": "60c4b54e",
   "metadata": {},
   "outputs": [
    {
     "data": {
      "application/vnd.plotly.v1+json": {
       "config": {
        "plotlyServerURL": "https://plot.ly"
       },
       "data": [
        {
         "hovertemplate": "flag_kd=False<br>Total Field Goal Attempts=%{x}<br>Field Goal %=%{y}<extra></extra>",
         "legendgroup": "False",
         "marker": {
          "color": "#17408B",
          "symbol": "circle"
         },
         "mode": "markers",
         "name": "False",
         "orientation": "v",
         "showlegend": true,
         "type": "scatter",
         "x": {
          "bdata": "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",
          "dtype": "f8"
         },
         "xaxis": "x",
         "y": {
          "bdata": "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",
          "dtype": "f8"
         },
         "yaxis": "y"
        },
        {
         "hovertemplate": "flag_kd=True<br>Total Field Goal Attempts=%{x}<br>Field Goal %=%{y}<extra></extra>",
         "legendgroup": "True",
         "marker": {
          "color": "#C9082A",
          "symbol": "circle"
         },
         "mode": "markers",
         "name": "True",
         "orientation": "v",
         "showlegend": true,
         "type": "scatter",
         "x": {
          "bdata": "AAAAAABilkA=",
          "dtype": "f8"
         },
         "xaxis": "x",
         "y": {
          "bdata": "5CogGJItSkA=",
          "dtype": "f8"
         },
         "yaxis": "y"
        }
       ],
       "layout": {
        "font": {
         "color": "black",
         "family": "Helvetica"
        },
        "height": 700,
        "legend": {
         "title": {
          "text": "flag_kd"
         },
         "tracegroupgap": 0
        },
        "margin": {
         "t": 175
        },
        "showlegend": false,
        "template": {
         "data": {
          "bar": [
           {
            "error_x": {
             "color": "#2a3f5f"
            },
            "error_y": {
             "color": "#2a3f5f"
            },
            "marker": {
             "line": {
              "color": "white",
              "width": 0.5
             },
             "pattern": {
              "fillmode": "overlay",
              "size": 10,
              "solidity": 0.2
             }
            },
            "type": "bar"
           }
          ],
          "barpolar": [
           {
            "marker": {
             "line": {
              "color": "white",
              "width": 0.5
             },
             "pattern": {
              "fillmode": "overlay",
              "size": 10,
              "solidity": 0.2
             }
            },
            "type": "barpolar"
           }
          ],
          "carpet": [
           {
            "aaxis": {
             "endlinecolor": "#2a3f5f",
             "gridcolor": "#C8D4E3",
             "linecolor": "#C8D4E3",
             "minorgridcolor": "#C8D4E3",
             "startlinecolor": "#2a3f5f"
            },
            "baxis": {
             "endlinecolor": "#2a3f5f",
             "gridcolor": "#C8D4E3",
             "linecolor": "#C8D4E3",
             "minorgridcolor": "#C8D4E3",
             "startlinecolor": "#2a3f5f"
            },
            "type": "carpet"
           }
          ],
          "choropleth": [
           {
            "colorbar": {
             "outlinewidth": 0,
             "ticks": ""
            },
            "type": "choropleth"
           }
          ],
          "contour": [
           {
            "colorbar": {
             "outlinewidth": 0,
             "ticks": ""
            },
            "colorscale": [
             [
              0,
              "#0d0887"
             ],
             [
              0.1111111111111111,
              "#46039f"
             ],
             [
              0.2222222222222222,
              "#7201a8"
             ],
             [
              0.3333333333333333,
              "#9c179e"
             ],
             [
              0.4444444444444444,
              "#bd3786"
             ],
             [
              0.5555555555555556,
              "#d8576b"
             ],
             [
              0.6666666666666666,
              "#ed7953"
             ],
             [
              0.7777777777777778,
              "#fb9f3a"
             ],
             [
              0.8888888888888888,
              "#fdca26"
             ],
             [
              1,
              "#f0f921"
             ]
            ],
            "type": "contour"
           }
          ],
          "contourcarpet": [
           {
            "colorbar": {
             "outlinewidth": 0,
             "ticks": ""
            },
            "type": "contourcarpet"
           }
          ],
          "heatmap": [
           {
            "colorbar": {
             "outlinewidth": 0,
             "ticks": ""
            },
            "colorscale": [
             [
              0,
              "#0d0887"
             ],
             [
              0.1111111111111111,
              "#46039f"
             ],
             [
              0.2222222222222222,
              "#7201a8"
             ],
             [
              0.3333333333333333,
              "#9c179e"
             ],
             [
              0.4444444444444444,
              "#bd3786"
             ],
             [
              0.5555555555555556,
              "#d8576b"
             ],
             [
              0.6666666666666666,
              "#ed7953"
             ],
             [
              0.7777777777777778,
              "#fb9f3a"
             ],
             [
              0.8888888888888888,
              "#fdca26"
             ],
             [
              1,
              "#f0f921"
             ]
            ],
            "type": "heatmap"
           }
          ],
          "histogram": [
           {
            "marker": {
             "pattern": {
              "fillmode": "overlay",
              "size": 10,
              "solidity": 0.2
             }
            },
            "type": "histogram"
           }
          ],
          "histogram2d": [
           {
            "colorbar": {
             "outlinewidth": 0,
             "ticks": ""
            },
            "colorscale": [
             [
              0,
              "#0d0887"
             ],
             [
              0.1111111111111111,
              "#46039f"
             ],
             [
              0.2222222222222222,
              "#7201a8"
             ],
             [
              0.3333333333333333,
              "#9c179e"
             ],
             [
              0.4444444444444444,
              "#bd3786"
             ],
             [
              0.5555555555555556,
              "#d8576b"
             ],
             [
              0.6666666666666666,
              "#ed7953"
             ],
             [
              0.7777777777777778,
              "#fb9f3a"
             ],
             [
              0.8888888888888888,
              "#fdca26"
             ],
             [
              1,
              "#f0f921"
             ]
            ],
            "type": "histogram2d"
           }
          ],
          "histogram2dcontour": [
           {
            "colorbar": {
             "outlinewidth": 0,
             "ticks": ""
            },
            "colorscale": [
             [
              0,
              "#0d0887"
             ],
             [
              0.1111111111111111,
              "#46039f"
             ],
             [
              0.2222222222222222,
              "#7201a8"
             ],
             [
              0.3333333333333333,
              "#9c179e"
             ],
             [
              0.4444444444444444,
              "#bd3786"
             ],
             [
              0.5555555555555556,
              "#d8576b"
             ],
             [
              0.6666666666666666,
              "#ed7953"
             ],
             [
              0.7777777777777778,
              "#fb9f3a"
             ],
             [
              0.8888888888888888,
              "#fdca26"
             ],
             [
              1,
              "#f0f921"
             ]
            ],
            "type": "histogram2dcontour"
           }
          ],
          "mesh3d": [
           {
            "colorbar": {
             "outlinewidth": 0,
             "ticks": ""
            },
            "type": "mesh3d"
           }
          ],
          "parcoords": [
           {
            "line": {
             "colorbar": {
              "outlinewidth": 0,
              "ticks": ""
             }
            },
            "type": "parcoords"
           }
          ],
          "pie": [
           {
            "automargin": true,
            "type": "pie"
           }
          ],
          "scatter": [
           {
            "fillpattern": {
             "fillmode": "overlay",
             "size": 10,
             "solidity": 0.2
            },
            "type": "scatter"
           }
          ],
          "scatter3d": [
           {
            "line": {
             "colorbar": {
              "outlinewidth": 0,
              "ticks": ""
             }
            },
            "marker": {
             "colorbar": {
              "outlinewidth": 0,
              "ticks": ""
             }
            },
            "type": "scatter3d"
           }
          ],
          "scattercarpet": [
           {
            "marker": {
             "colorbar": {
              "outlinewidth": 0,
              "ticks": ""
             }
            },
            "type": "scattercarpet"
           }
          ],
          "scattergeo": [
           {
            "marker": {
             "colorbar": {
              "outlinewidth": 0,
              "ticks": ""
             }
            },
            "type": "scattergeo"
           }
          ],
          "scattergl": [
           {
            "marker": {
             "colorbar": {
              "outlinewidth": 0,
              "ticks": ""
             }
            },
            "type": "scattergl"
           }
          ],
          "scattermap": [
           {
            "marker": {
             "colorbar": {
              "outlinewidth": 0,
              "ticks": ""
             }
            },
            "type": "scattermap"
           }
          ],
          "scattermapbox": [
           {
            "marker": {
             "colorbar": {
              "outlinewidth": 0,
              "ticks": ""
             }
            },
            "type": "scattermapbox"
           }
          ],
          "scatterpolar": [
           {
            "marker": {
             "colorbar": {
              "outlinewidth": 0,
              "ticks": ""
             }
            },
            "type": "scatterpolar"
           }
          ],
          "scatterpolargl": [
           {
            "marker": {
             "colorbar": {
              "outlinewidth": 0,
              "ticks": ""
             }
            },
            "type": "scatterpolargl"
           }
          ],
          "scatterternary": [
           {
            "marker": {
             "colorbar": {
              "outlinewidth": 0,
              "ticks": ""
             }
            },
            "type": "scatterternary"
           }
          ],
          "surface": [
           {
            "colorbar": {
             "outlinewidth": 0,
             "ticks": ""
            },
            "colorscale": [
             [
              0,
              "#0d0887"
             ],
             [
              0.1111111111111111,
              "#46039f"
             ],
             [
              0.2222222222222222,
              "#7201a8"
             ],
             [
              0.3333333333333333,
              "#9c179e"
             ],
             [
              0.4444444444444444,
              "#bd3786"
             ],
             [
              0.5555555555555556,
              "#d8576b"
             ],
             [
              0.6666666666666666,
              "#ed7953"
             ],
             [
              0.7777777777777778,
              "#fb9f3a"
             ],
             [
              0.8888888888888888,
              "#fdca26"
             ],
             [
              1,
              "#f0f921"
             ]
            ],
            "type": "surface"
           }
          ],
          "table": [
           {
            "cells": {
             "fill": {
              "color": "#EBF0F8"
             },
             "line": {
              "color": "white"
             }
            },
            "header": {
             "fill": {
              "color": "#C8D4E3"
             },
             "line": {
              "color": "white"
             }
            },
            "type": "table"
           }
          ]
         },
         "layout": {
          "annotationdefaults": {
           "arrowcolor": "#2a3f5f",
           "arrowhead": 0,
           "arrowwidth": 1
          },
          "autotypenumbers": "strict",
          "coloraxis": {
           "colorbar": {
            "outlinewidth": 0,
            "ticks": ""
           }
          },
          "colorscale": {
           "diverging": [
            [
             0,
             "#8e0152"
            ],
            [
             0.1,
             "#c51b7d"
            ],
            [
             0.2,
             "#de77ae"
            ],
            [
             0.3,
             "#f1b6da"
            ],
            [
             0.4,
             "#fde0ef"
            ],
            [
             0.5,
             "#f7f7f7"
            ],
            [
             0.6,
             "#e6f5d0"
            ],
            [
             0.7,
             "#b8e186"
            ],
            [
             0.8,
             "#7fbc41"
            ],
            [
             0.9,
             "#4d9221"
            ],
            [
             1,
             "#276419"
            ]
           ],
           "sequential": [
            [
             0,
             "#0d0887"
            ],
            [
             0.1111111111111111,
             "#46039f"
            ],
            [
             0.2222222222222222,
             "#7201a8"
            ],
            [
             0.3333333333333333,
             "#9c179e"
            ],
            [
             0.4444444444444444,
             "#bd3786"
            ],
            [
             0.5555555555555556,
             "#d8576b"
            ],
            [
             0.6666666666666666,
             "#ed7953"
            ],
            [
             0.7777777777777778,
             "#fb9f3a"
            ],
            [
             0.8888888888888888,
             "#fdca26"
            ],
            [
             1,
             "#f0f921"
            ]
           ],
           "sequentialminus": [
            [
             0,
             "#0d0887"
            ],
            [
             0.1111111111111111,
             "#46039f"
            ],
            [
             0.2222222222222222,
             "#7201a8"
            ],
            [
             0.3333333333333333,
             "#9c179e"
            ],
            [
             0.4444444444444444,
             "#bd3786"
            ],
            [
             0.5555555555555556,
             "#d8576b"
            ],
            [
             0.6666666666666666,
             "#ed7953"
            ],
            [
             0.7777777777777778,
             "#fb9f3a"
            ],
            [
             0.8888888888888888,
             "#fdca26"
            ],
            [
             1,
             "#f0f921"
            ]
           ]
          },
          "colorway": [
           "#636efa",
           "#EF553B",
           "#00cc96",
           "#ab63fa",
           "#FFA15A",
           "#19d3f3",
           "#FF6692",
           "#B6E880",
           "#FF97FF",
           "#FECB52"
          ],
          "font": {
           "color": "#2a3f5f"
          },
          "geo": {
           "bgcolor": "white",
           "lakecolor": "white",
           "landcolor": "white",
           "showlakes": true,
           "showland": true,
           "subunitcolor": "#C8D4E3"
          },
          "hoverlabel": {
           "align": "left"
          },
          "hovermode": "closest",
          "mapbox": {
           "style": "light"
          },
          "paper_bgcolor": "white",
          "plot_bgcolor": "white",
          "polar": {
           "angularaxis": {
            "gridcolor": "#EBF0F8",
            "linecolor": "#EBF0F8",
            "ticks": ""
           },
           "bgcolor": "white",
           "radialaxis": {
            "gridcolor": "#EBF0F8",
            "linecolor": "#EBF0F8",
            "ticks": ""
           }
          },
          "scene": {
           "xaxis": {
            "backgroundcolor": "white",
            "gridcolor": "#DFE8F3",
            "gridwidth": 2,
            "linecolor": "#EBF0F8",
            "showbackground": true,
            "ticks": "",
            "zerolinecolor": "#EBF0F8"
           },
           "yaxis": {
            "backgroundcolor": "white",
            "gridcolor": "#DFE8F3",
            "gridwidth": 2,
            "linecolor": "#EBF0F8",
            "showbackground": true,
            "ticks": "",
            "zerolinecolor": "#EBF0F8"
           },
           "zaxis": {
            "backgroundcolor": "white",
            "gridcolor": "#DFE8F3",
            "gridwidth": 2,
            "linecolor": "#EBF0F8",
            "showbackground": true,
            "ticks": "",
            "zerolinecolor": "#EBF0F8"
           }
          },
          "shapedefaults": {
           "line": {
            "color": "#2a3f5f"
           }
          },
          "ternary": {
           "aaxis": {
            "gridcolor": "#DFE8F3",
            "linecolor": "#A2B1C6",
            "ticks": ""
           },
           "baxis": {
            "gridcolor": "#DFE8F3",
            "linecolor": "#A2B1C6",
            "ticks": ""
           },
           "bgcolor": "white",
           "caxis": {
            "gridcolor": "#DFE8F3",
            "linecolor": "#A2B1C6",
            "ticks": ""
           }
          },
          "title": {
           "x": 0.05
          },
          "xaxis": {
           "automargin": true,
           "gridcolor": "#EBF0F8",
           "linecolor": "#EBF0F8",
           "ticks": "",
           "title": {
            "standoff": 15
           },
           "zerolinecolor": "#EBF0F8",
           "zerolinewidth": 2
          },
          "yaxis": {
           "automargin": true,
           "gridcolor": "#EBF0F8",
           "linecolor": "#EBF0F8",
           "ticks": "",
           "title": {
            "standoff": 15
           },
           "zerolinecolor": "#EBF0F8",
           "zerolinewidth": 2
          }
         }
        },
        "title": {
         "font": {
          "family": "Georgia",
          "size": 24
         },
         "subtitle": {
          "text": "Kevin Durant's field goal percentage of 52.3% was high given his large number<br>of attempts. He shoots a large number of three-pointers as well, which lowers<br>his field goal percentage relative to those who primarily shoot two-pointers."
         },
         "text": "<b>KD: Efficient scorer given high shooting volume</b>"
        },
        "width": 700,
        "xaxis": {
         "anchor": "y",
         "domain": [
          0,
          1
         ],
         "tickfont": {
          "size": 16
         },
         "title": {
          "font": {
           "size": 18
          },
          "text": "Total Field Goal Attempts"
         }
        },
        "yaxis": {
         "anchor": "x",
         "domain": [
          0,
          1
         ],
         "tickfont": {
          "size": 16
         },
         "title": {
          "font": {
           "size": 18
          },
          "text": "Field Goal %"
         }
        }
       }
      }
     },
     "metadata": {},
     "output_type": "display_data"
    }
   ],
   "source": [
    "df_filtered.loc[df_filtered['Player'] == 'Kevin Durant', 'flag_kd'] = True\n",
    "df_filtered.loc[df_filtered['Player'] != 'Kevin Durant', 'flag_kd'] = False\n",
    "\n",
    "df_filtered = df_filtered.rename(\n",
    "    columns={\n",
    "        \"field_goal_pct\": \"Field Goal %\",\n",
    "        \"total_field_goals_att\": \"Total Field Goal Attempts\"\n",
    "    }\n",
    ")\n",
    "\n",
    "fig = px.scatter(\n",
    "    df_filtered,\n",
    "    x='Total Field Goal Attempts',\n",
    "    y='Field Goal %',\n",
    "    color=\"flag_kd\",\n",
    "    color_discrete_sequence=[COLOR_PALETTE['Blue'],COLOR_PALETTE['Red']],\n",
    "    title=\"<b>KD: Efficient scorer given high shooting volume</b>\",\n",
    "    subtitle=\"Kevin Durant's field goal percentage of 52.3% was high given his large number<br>of attempts. He shoots a large number of three-pointers as well, which lowers<br>his field goal percentage relative to those who primarily shoot two-pointers.\",\n",
    "    template='plotly_white',\n",
    "    width=700,\n",
    "    height=700\n",
    "\n",
    ")\n",
    "fig.update_layout(\n",
    "    showlegend=False,\n",
    "    font_color=\"black\",\n",
    "    font_family = OTHER_FONT,\n",
    "    title_font_family = TITLE_FONT,\n",
    "    title_font_size = TITLE_FONT_SIZE,\n",
    "    margin = {'t': 175},\n",
    "    # Axis title font size\n",
    "    yaxis_title_font_size = 18,\n",
    "    xaxis_title_font_size = 18,\n",
    "    # Axis tick font size\n",
    "    yaxis_tickfont_size = 16,\n",
    "    xaxis_tickfont_size = 16,\n",
    ")\n",
    "\n",
    "display(fig)"
   ]
  }
 ],
 "metadata": {
  "kernelspec": {
   "display_name": "data502",
   "language": "python",
   "name": "python3"
  },
  "language_info": {
   "codemirror_mode": {
    "name": "ipython",
    "version": 3
   },
   "file_extension": ".py",
   "mimetype": "text/x-python",
   "name": "python",
   "nbconvert_exporter": "python",
   "pygments_lexer": "ipython3",
   "version": "3.12.2"
  }
 },
 "nbformat": 4,
 "nbformat_minor": 5
}
